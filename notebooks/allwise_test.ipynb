{
 "cells": [
  {
   "cell_type": "markdown",
   "metadata": {},
   "source": [
    "# WISE2MBH Tutorial"
   ]
  },
  {
   "cell_type": "code",
   "execution_count": 1,
   "metadata": {},
   "outputs": [],
   "source": [
    "import wise2mbh as wm\n",
    "from astropy.table import Table\n",
    "import numpy as np\n",
    "import matplotlib.pyplot as plt\n",
    "import random\n",
    "no_data = 9876543"
   ]
  },
  {
   "cell_type": "code",
   "execution_count": 2,
   "metadata": {},
   "outputs": [
    {
     "data": {
      "text/html": [
       "<div><i>Table length=77712</i>\n",
       "<table id=\"table140525177158048\" class=\"table-striped table-bordered table-condensed\">\n",
       "<thead><tr><th>ONAME</th><th>RA</th><th>DEC</th><th>Z</th><th>T</th><th>NED_TYPE</th><th>AllWISE</th><th>RAJ2000</th><th>DEJ2000</th><th>eeMaj</th><th>eeMin</th><th>eePA</th><th>W1mag</th><th>W2mag</th><th>W3mag</th><th>W4mag</th><th>Jmag</th><th>Hmag</th><th>Kmag</th><th>e_W1mag</th><th>e_W2mag</th><th>e_W3mag</th><th>e_W4mag</th><th>e_Jmag</th><th>e_Hmag</th><th>e_Kmag</th><th>ID</th><th>ccf</th><th>ex</th><th>var</th><th>qph</th><th>pmRA</th><th>e_pmRA</th><th>pmDE</th><th>e_pmDE</th><th>d2M</th><th>angDist</th></tr></thead>\n",
       "<thead><tr><th>bytes107</th><th>float64</th><th>float64</th><th>float64</th><th>float64</th><th>bytes7</th><th>bytes19</th><th>float64</th><th>float64</th><th>float32</th><th>float32</th><th>float32</th><th>float32</th><th>float32</th><th>float32</th><th>float32</th><th>float32</th><th>float32</th><th>float32</th><th>float32</th><th>float32</th><th>float32</th><th>float32</th><th>float32</th><th>float32</th><th>float32</th><th>int64</th><th>bytes4</th><th>bytes1</th><th>bytes4</th><th>bytes4</th><th>int32</th><th>int32</th><th>int32</th><th>int32</th><th>float32</th><th>float64</th></tr></thead>\n",
       "<tr><td>WISEAJ112428.14-363548.5</td><td>171.1172539</td><td>-36.5968225</td><td>0.2</td><td>9876543.0</td><td>Unknown</td><td>J112428.14-363548.5</td><td>171.1172539</td><td>-36.5968225</td><td>0.0427</td><td>0.0415</td><td>130.3</td><td>13.449</td><td>12.486</td><td>9.394</td><td>6.977</td><td>15.185</td><td>14.474</td><td>14.293</td><td>0.025</td><td>0.024</td><td>0.033</td><td>0.084</td><td>0.056</td><td>0.061</td><td>0.075</td><td>1716036401351015875</td><td>0000</td><td>0</td><td>1122</td><td>AAAA</td><td>160</td><td>54</td><td>42</td><td>55</td><td>2.073</td><td>1e-06</td></tr>\n",
       "<tr><td>WISEAJ144229.68-435343.2</td><td>220.6236974</td><td>-43.8953408</td><td>0.3</td><td>9876543.0</td><td>Unknown</td><td>J144229.68-435343.2</td><td>220.6236974</td><td>-43.8953408</td><td>0.1285</td><td>0.1177</td><td>11.9</td><td>15.975</td><td>14.663</td><td>10.911</td><td>7.801</td><td>--</td><td>--</td><td>--</td><td>0.055</td><td>0.06</td><td>0.118</td><td>0.195</td><td>--</td><td>--</td><td>--</td><td>2205044001351034712</td><td>0000</td><td>0</td><td>011n</td><td>AABB</td><td>412</td><td>466</td><td>-34</td><td>505</td><td>--</td><td>1e-06</td></tr>\n",
       "<tr><td>WISEAJ163728.75+290335.9</td><td>249.3698107</td><td>29.0599733</td><td>0.2</td><td>9876543.0</td><td>Unknown</td><td>J163728.75+290335.9</td><td>249.3698107</td><td>29.0599733</td><td>0.0692</td><td>0.0643</td><td>4.9</td><td>15.637</td><td>13.775</td><td>9.703</td><td>7.347</td><td>--</td><td>--</td><td>--</td><td>0.04</td><td>0.034</td><td>0.038</td><td>0.124</td><td>--</td><td>--</td><td>--</td><td>2485128701351042160</td><td>0000</td><td>0</td><td>0011</td><td>AAAB</td><td>-116</td><td>295</td><td>-250</td><td>278</td><td>--</td><td>2e-06</td></tr>\n",
       "<tr><td>WISEAJ184321.55-621724.8</td><td>280.8398056</td><td>-62.2902233</td><td>0.2</td><td>9876543.0</td><td>Unknown</td><td>J184321.55-621724.8</td><td>280.8398056</td><td>-62.2902233</td><td>0.0722</td><td>0.0689</td><td>38.8</td><td>14.624</td><td>13.762</td><td>11.04</td><td>8.519</td><td>--</td><td>--</td><td>--</td><td>0.036</td><td>0.035</td><td>0.106</td><td>--</td><td>--</td><td>--</td><td>--</td><td>2810062101351018362</td><td>0000</td><td>0</td><td>nnnn</td><td>AAAU</td><td>--</td><td>--</td><td>--</td><td>--</td><td>--</td><td>5e-06</td></tr>\n",
       "<tr><td>WISEAJ183203.33+633041.5</td><td>278.0139066</td><td>63.5115391</td><td>0.3</td><td>9876543.0</td><td>Unknown</td><td>J183203.33+633041.5</td><td>278.0139066</td><td>63.5115391</td><td>0.0662</td><td>0.0627</td><td>129.3</td><td>15.811</td><td>14.794</td><td>11.508</td><td>8.357</td><td>--</td><td>--</td><td>--</td><td>0.032</td><td>0.035</td><td>0.086</td><td>0.118</td><td>--</td><td>--</td><td>--</td><td>2774163601351028837</td><td>0000</td><td>0</td><td>11nn</td><td>AAAB</td><td>155</td><td>233</td><td>-229</td><td>248</td><td>--</td><td>7e-06</td></tr>\n",
       "<tr><td>WISEAJ000517.26-341452.8</td><td>1.321926</td><td>-34.2480098</td><td>0.3</td><td>9876543.0</td><td>Unknown</td><td>J000517.26-341452.8</td><td>1.321926</td><td>-34.2480098</td><td>0.0752</td><td>0.0713</td><td>141.6</td><td>15.1</td><td>14.143</td><td>10.839</td><td>7.887</td><td>--</td><td>--</td><td>--</td><td>0.035</td><td>0.04</td><td>0.114</td><td>0.189</td><td>--</td><td>--</td><td>--</td><td>18034901351061482</td><td>0000</td><td>0</td><td>110n</td><td>AABB</td><td>289</td><td>256</td><td>-282</td><td>261</td><td>--</td><td>7e-06</td></tr>\n",
       "<tr><td>WISEAJ041514.13-810745.9</td><td>63.8088863</td><td>-81.1294387</td><td>0.2</td><td>9876543.0</td><td>Unknown</td><td>J041514.13-810745.9</td><td>63.8088863</td><td>-81.1294387</td><td>0.0457</td><td>0.0449</td><td>162.3</td><td>14.499</td><td>13.543</td><td>10.429</td><td>7.558</td><td>--</td><td>--</td><td>--</td><td>0.025</td><td>0.026</td><td>0.048</td><td>0.099</td><td>--</td><td>--</td><td>--</td><td>681081801351062155</td><td>0000</td><td>0</td><td>110n</td><td>AAAA</td><td>260</td><td>66</td><td>92</td><td>69</td><td>--</td><td>8e-06</td></tr>\n",
       "<tr><td>WISEAJ150206.92+781622.6</td><td>225.5288639</td><td>78.2729584</td><td>0.3</td><td>9876543.0</td><td>Unknown</td><td>J150206.92+781622.6</td><td>225.5288639</td><td>78.2729584</td><td>0.0886</td><td>0.0831</td><td>95.1</td><td>15.959</td><td>15.085</td><td>12.15</td><td>9.497</td><td>--</td><td>--</td><td>--</td><td>0.037</td><td>0.05</td><td>0.202</td><td>0.512</td><td>--</td><td>--</td><td>--</td><td>2232178701351000385</td><td>0000</td><td>0</td><td>11nn</td><td>AABC</td><td>-761</td><td>305</td><td>100</td><td>285</td><td>--</td><td>9e-06</td></tr>\n",
       "<tr><td>WISEAJ050357.41-282633.0</td><td>75.989223</td><td>-28.4425115</td><td>0.2</td><td>9876543.0</td><td>Unknown</td><td>J050357.41-282633.0</td><td>75.989223</td><td>-28.4425115</td><td>0.1182</td><td>0.0847</td><td>153.4</td><td>15.102</td><td>14.292</td><td>11.284</td><td>8.529</td><td>--</td><td>--</td><td>--</td><td>0.045</td><td>0.045</td><td>0.125</td><td>0.332</td><td>--</td><td>--</td><td>--</td><td>754028801351050034</td><td>0000</td><td>0</td><td>nnnn</td><td>AABB</td><td>--</td><td>--</td><td>--</td><td>--</td><td>--</td><td>1.1e-05</td></tr>\n",
       "<tr><td>WISEAJ214758.54-635335.8</td><td>326.9939375</td><td>-63.8932904</td><td>0.5</td><td>9876543.0</td><td>Unknown</td><td>J214758.54-635335.8</td><td>326.9939375</td><td>-63.8932904</td><td>0.0681</td><td>0.0645</td><td>140.5</td><td>14.776</td><td>13.758</td><td>9.822</td><td>6.779</td><td>16.941</td><td>15.845</td><td>15.509</td><td>0.033</td><td>0.039</td><td>0.057</td><td>0.101</td><td>0.22</td><td>0.209</td><td>0.24</td><td>3269063701351018994</td><td>0000</td><td>0</td><td>1000</td><td>AAAA</td><td>113</td><td>133</td><td>-80</td><td>136</td><td>0.301</td><td>1.2e-05</td></tr>\n",
       "<tr><td>...</td><td>...</td><td>...</td><td>...</td><td>...</td><td>...</td><td>...</td><td>...</td><td>...</td><td>...</td><td>...</td><td>...</td><td>...</td><td>...</td><td>...</td><td>...</td><td>...</td><td>...</td><td>...</td><td>...</td><td>...</td><td>...</td><td>...</td><td>...</td><td>...</td><td>...</td><td>...</td><td>...</td><td>...</td><td>...</td><td>...</td><td>...</td><td>...</td><td>...</td><td>...</td><td>...</td><td>...</td></tr>\n",
       "<tr><td>LAMOST399605218</td><td>131.95832</td><td>51.15924</td><td>0.13803734</td><td>9876543.0</td><td>Galaxy</td><td>J084750.00+510933.2</td><td>131.9583412</td><td>51.1592361</td><td>0.0542</td><td>0.0525</td><td>143.4</td><td>14.025</td><td>13.764</td><td>11.113</td><td>9.1</td><td>15.964</td><td>15.274</td><td>14.563</td><td>0.025</td><td>0.034</td><td>0.153</td><td>--</td><td>0.087</td><td>0.094</td><td>0.085</td><td>1311151401351023860</td><td>0000</td><td>0</td><td>01nn</td><td>AABU</td><td>-22</td><td>141</td><td>50</td><td>143</td><td>0.347</td><td>0.049997</td></tr>\n",
       "<tr><td>SDSSJ115205.18+382928.0</td><td>178.021614</td><td>38.4911345</td><td>0.40462333</td><td>9876543.0</td><td>Unknown</td><td>J115205.18+382928.0</td><td>178.0215991</td><td>38.491127</td><td>0.0979</td><td>0.0928</td><td>17.3</td><td>15.365</td><td>15.172</td><td>12.824</td><td>8.849</td><td>--</td><td>--</td><td>--</td><td>0.038</td><td>0.078</td><td>--</td><td>--</td><td>--</td><td>--</td><td>--</td><td>1781137801351058128</td><td>0000</td><td>0</td><td>00nn</td><td>AAUU</td><td>62</td><td>270</td><td>-54</td><td>290</td><td>--</td><td>0.049997</td></tr>\n",
       "<tr><td>SDSS1504239155469641728</td><td>243.77024</td><td>39.31195</td><td>0.14051065</td><td>9876543.0</td><td>Galaxy</td><td>J161504.85+391843.0</td><td>243.770246</td><td>39.3119631</td><td>0.0486</td><td>0.048</td><td>135.0</td><td>13.708</td><td>13.451</td><td>12.888</td><td>9.59</td><td>15.632</td><td>14.88</td><td>14.284</td><td>0.025</td><td>0.029</td><td>0.407</td><td>--</td><td>0.08</td><td>0.083</td><td>0.073</td><td>2438139301351031839</td><td>0000</td><td>0</td><td>00nn</td><td>AACU</td><td>0</td><td>71</td><td>0</td><td>76</td><td>0.164</td><td>0.049997</td></tr>\n",
       "<tr><td>SDSS994312869900216320</td><td>183.59372</td><td>53.64215</td><td>0.1756268</td><td>9876543.0</td><td>Galaxy</td><td>J121422.48+533831.7</td><td>183.593698</td><td>53.6421548</td><td>0.0541</td><td>0.053</td><td>175.1</td><td>14.199</td><td>13.949</td><td>12.669</td><td>8.811</td><td>16.142</td><td>15.352</td><td>14.873</td><td>0.026</td><td>0.033</td><td>0.429</td><td>--</td><td>0.094</td><td>0.107</td><td>0.106</td><td>1824153001351053170</td><td>0000</td><td>0</td><td>00nn</td><td>AACU</td><td>-13</td><td>99</td><td>24</td><td>105</td><td>0.06</td><td>0.049997</td></tr>\n",
       "<tr><td>SDSSJ145532.69+580519.7</td><td>223.8862155</td><td>58.0888205</td><td>0.35417667</td><td>9876543.0</td><td>Unknown</td><td>J145532.69+580519.7</td><td>223.8862407</td><td>58.0888244</td><td>0.0742</td><td>0.0712</td><td>11.5</td><td>15.261</td><td>15.077</td><td>12.889</td><td>9.481</td><td>--</td><td>--</td><td>--</td><td>0.031</td><td>0.054</td><td>--</td><td>--</td><td>--</td><td>--</td><td>--</td><td>2243157501351060214</td><td>0000</td><td>0</td><td>00nn</td><td>AAUU</td><td>415</td><td>181</td><td>220</td><td>188</td><td>--</td><td>0.049997</td></tr>\n",
       "<tr><td>WISEAJ113538.25+315012.5</td><td>173.9094019222</td><td>31.836811624</td><td>0.45649</td><td>9876543.0</td><td>Unknown</td><td>J113538.25+315012.5</td><td>173.9094028</td><td>31.8368255</td><td>0.0865</td><td>0.0832</td><td>15.6</td><td>14.964</td><td>14.744</td><td>12.322</td><td>9.066</td><td>--</td><td>--</td><td>--</td><td>0.035</td><td>0.065</td><td>--</td><td>--</td><td>--</td><td>--</td><td>--</td><td>1747131801351038143</td><td>0000</td><td>0</td><td>11nn</td><td>AAUU</td><td>-348</td><td>220</td><td>-167</td><td>237</td><td>--</td><td>0.049998</td></tr>\n",
       "<tr><td>WISEAJ115816.26+302142.1</td><td>179.5678</td><td>30.36171</td><td>0.146</td><td>9876543.0</td><td>Galaxy</td><td>J115816.26+302142.1</td><td>179.5677894</td><td>30.3616995</td><td>0.0475</td><td>0.0465</td><td>153.1</td><td>13.783</td><td>13.064</td><td>10.4</td><td>7.741</td><td>15.904</td><td>15.35</td><td>14.722</td><td>0.025</td><td>0.027</td><td>0.072</td><td>0.143</td><td>0.083</td><td>0.102</td><td>0.09</td><td>1791130201351029659</td><td>0000</td><td>0</td><td>000n</td><td>AAAB</td><td>77</td><td>118</td><td>31</td><td>119</td><td>0.089</td><td>0.049999</td></tr>\n",
       "<tr><td>SDSSJ095103.03+142941.6</td><td>147.76265</td><td>14.49491</td><td>0.233</td><td>-9.0</td><td>QSO</td><td>J095103.03+142941.6</td><td>147.7626379</td><td>14.4949026</td><td>0.0396</td><td>0.0381</td><td>137.0</td><td>13.057</td><td>12.077</td><td>8.594</td><td>6.04</td><td>15.977</td><td>15.02</td><td>14.229</td><td>0.024</td><td>0.022</td><td>0.03</td><td>0.066</td><td>0.083</td><td>0.092</td><td>0.07</td><td>1471115101351000018</td><td>0000</td><td>0</td><td>1100</td><td>AAAA</td><td>96</td><td>53</td><td>98</td><td>56</td><td>0.056</td><td>0.049999</td></tr>\n",
       "<tr><td>SDSSJ150436.89+270600.0</td><td>226.153743</td><td>27.1000244</td><td>0.41787</td><td>9876543.0</td><td>Unknown</td><td>J150436.90+270600.0</td><td>226.1537509</td><td>27.1000124</td><td>0.0643</td><td>0.0619</td><td>179.3</td><td>14.647</td><td>14.393</td><td>12.908</td><td>9.506</td><td>17.011</td><td>15.719</td><td>14.972</td><td>0.029</td><td>0.042</td><td>--</td><td>--</td><td>0.211</td><td>--</td><td>0.169</td><td>2264127201351015796</td><td>h000</td><td>0</td><td>01nn</td><td>AAUU</td><td>-31</td><td>86</td><td>-134</td><td>95</td><td>0.277</td><td>0.049999</td></tr>\n",
       "<tr><td>LAMOST504013208</td><td>170.00596</td><td>48.08189</td><td>0.12572007</td><td>9876543.0</td><td>Galaxy</td><td>J112001.42+480454.7</td><td>170.0059408</td><td>48.0818847</td><td>0.0553</td><td>0.053</td><td>4.8</td><td>14.014</td><td>13.852</td><td>12.403</td><td>9.121</td><td>15.576</td><td>14.948</td><td>14.399</td><td>0.026</td><td>0.034</td><td>--</td><td>--</td><td>0.08</td><td>0.083</td><td>0.075</td><td>1709148401351013591</td><td>0000</td><td>0</td><td>11nn</td><td>AAUU</td><td>94</td><td>96</td><td>-102</td><td>105</td><td>0.109</td><td>0.049999</td></tr>\n",
       "</table></div>"
      ],
      "text/plain": [
       "<Table length=77712>\n",
       "         ONAME                 RA           DEC      ... e_pmDE   d2M   angDist \n",
       "        bytes107            float64       float64    ... int32  float32 float64 \n",
       "------------------------ -------------- ------------ ... ------ ------- --------\n",
       "WISEAJ112428.14-363548.5    171.1172539  -36.5968225 ...     55   2.073    1e-06\n",
       "WISEAJ144229.68-435343.2    220.6236974  -43.8953408 ...    505      --    1e-06\n",
       "WISEAJ163728.75+290335.9    249.3698107   29.0599733 ...    278      --    2e-06\n",
       "WISEAJ184321.55-621724.8    280.8398056  -62.2902233 ...     --      --    5e-06\n",
       "WISEAJ183203.33+633041.5    278.0139066   63.5115391 ...    248      --    7e-06\n",
       "WISEAJ000517.26-341452.8       1.321926  -34.2480098 ...    261      --    7e-06\n",
       "WISEAJ041514.13-810745.9     63.8088863  -81.1294387 ...     69      --    8e-06\n",
       "WISEAJ150206.92+781622.6    225.5288639   78.2729584 ...    285      --    9e-06\n",
       "WISEAJ050357.41-282633.0      75.989223  -28.4425115 ...     --      --  1.1e-05\n",
       "WISEAJ214758.54-635335.8    326.9939375  -63.8932904 ...    136   0.301  1.2e-05\n",
       "                     ...            ...          ... ...    ...     ...      ...\n",
       "         LAMOST399605218      131.95832     51.15924 ...    143   0.347 0.049997\n",
       " SDSSJ115205.18+382928.0     178.021614   38.4911345 ...    290      -- 0.049997\n",
       " SDSS1504239155469641728      243.77024     39.31195 ...     76   0.164 0.049997\n",
       "  SDSS994312869900216320      183.59372     53.64215 ...    105    0.06 0.049997\n",
       " SDSSJ145532.69+580519.7    223.8862155   58.0888205 ...    188      -- 0.049997\n",
       "WISEAJ113538.25+315012.5 173.9094019222 31.836811624 ...    237      -- 0.049998\n",
       "WISEAJ115816.26+302142.1       179.5678     30.36171 ...    119   0.089 0.049999\n",
       " SDSSJ095103.03+142941.6      147.76265     14.49491 ...     56   0.056 0.049999\n",
       " SDSSJ150436.89+270600.0     226.153743   27.1000244 ...     95   0.277 0.049999\n",
       "         LAMOST504013208      170.00596     48.08189 ...    105   0.109 0.049999"
      ]
     },
     "execution_count": 2,
     "metadata": {},
     "output_type": "execute_result"
    }
   ],
   "source": [
    "allwise = Table.read('../samples/AllWISE_sample.fits')\n",
    "allwise"
   ]
  },
  {
   "cell_type": "markdown",
   "metadata": {},
   "source": [
    "Clening process of the sample from AllWISE"
   ]
  },
  {
   "cell_type": "code",
   "execution_count": 3,
   "metadata": {},
   "outputs": [
    {
     "name": "stdout",
     "output_type": "stream",
     "text": [
      "Size before depure: 77712\n",
      "Size after depure: 77687\n"
     ]
    }
   ],
   "source": [
    "size_before_depure = len(allwise)\n",
    "print(f'Size before depure: {size_before_depure}')\n",
    "\n",
    "allowed_z = allwise[allwise['Z']!=0]                                                            #Masking of null redshifts\n",
    "qph_list = allwise['qph'].tolist()                                                              #Extract quality flags\n",
    "null_phot = ['X', 'Z']                                                                          #Null and uplim values in W bands\n",
    "not_null_quality = [not any(letter in qph[:-1] for letter in null_phot) for qph in qph_list]    #Test quality flags\n",
    "\n",
    "allwise = allowed_z[not_null_quality].copy()                                                    #Keep non-null values in quality\n",
    "\n",
    "size_after_depure = len(allwise)\n",
    "print(f'Size after depure: {size_after_depure}')"
   ]
  },
  {
   "cell_type": "markdown",
   "metadata": {},
   "source": [
    "Detections with 'U' flag in qph do not contain errors on the WISE bands, so better to set them to a single value, in this case we'll set them to 0"
   ]
  },
  {
   "cell_type": "code",
   "execution_count": 4,
   "metadata": {},
   "outputs": [],
   "source": [
    "allwise['e_W1mag'] = allwise['e_W1mag'].filled(0)                 #Replace null errors in WISE bands\n",
    "allwise['e_W2mag'] = allwise['e_W2mag'].filled(0)\n",
    "allwise['e_W3mag'] = allwise['e_W3mag'].filled(0)"
   ]
  },
  {
   "cell_type": "markdown",
   "metadata": {},
   "source": [
    "Since this algorithm have a Monte Carlo implementation for error propagation, we recommend to take slices for big sample (rows>200), so for this tutorial, we'll use a random slice from the AllWISE sample."
   ]
  },
  {
   "cell_type": "code",
   "execution_count": 5,
   "metadata": {},
   "outputs": [
    {
     "data": {
      "text/html": [
       "<div><i>Table length=1000</i>\n",
       "<table id=\"table140526613079680\" class=\"table-striped table-bordered table-condensed\">\n",
       "<thead><tr><th>ONAME</th><th>RA</th><th>DEC</th><th>Z</th><th>T</th><th>NED_TYPE</th><th>AllWISE</th><th>RAJ2000</th><th>DEJ2000</th><th>eeMaj</th><th>eeMin</th><th>eePA</th><th>W1mag</th><th>W2mag</th><th>W3mag</th><th>W4mag</th><th>Jmag</th><th>Hmag</th><th>Kmag</th><th>e_W1mag</th><th>e_W2mag</th><th>e_W3mag</th><th>e_W4mag</th><th>e_Jmag</th><th>e_Hmag</th><th>e_Kmag</th><th>ID</th><th>ccf</th><th>ex</th><th>var</th><th>qph</th><th>pmRA</th><th>e_pmRA</th><th>pmDE</th><th>e_pmDE</th><th>d2M</th><th>angDist</th></tr></thead>\n",
       "<thead><tr><th>bytes107</th><th>float64</th><th>float64</th><th>float64</th><th>float64</th><th>bytes7</th><th>bytes19</th><th>float64</th><th>float64</th><th>float32</th><th>float32</th><th>float32</th><th>float32</th><th>float32</th><th>float32</th><th>float32</th><th>float32</th><th>float32</th><th>float32</th><th>float32</th><th>float32</th><th>float32</th><th>float32</th><th>float32</th><th>float32</th><th>float32</th><th>int64</th><th>bytes4</th><th>bytes1</th><th>bytes4</th><th>bytes4</th><th>int32</th><th>int32</th><th>int32</th><th>int32</th><th>float32</th><th>float64</th></tr></thead>\n",
       "<tr><td>SDSS2406118265353955328</td><td>218.70867</td><td>26.71809</td><td>0.1611791</td><td>9876543.0</td><td>Galaxy</td><td>J143450.08+264305.1</td><td>218.7086755</td><td>26.7180885</td><td>0.0524</td><td>0.0504</td><td>150.4</td><td>13.984</td><td>13.733</td><td>11.698</td><td>8.914</td><td>15.74</td><td>15.123</td><td>14.323</td><td>0.025</td><td>0.032</td><td>0.165</td><td>0.332</td><td>0.067</td><td>0.086</td><td>0.073</td><td>2180127201351000033</td><td>0000</td><td>0</td><td>00nn</td><td>AABB</td><td>102</td><td>65</td><td>43</td><td>68</td><td>0.218</td><td>0.018495</td></tr>\n",
       "<tr><td>SDSS2794583969264330752</td><td>162.59104</td><td>19.72218</td><td>0.16946661</td><td>9876543.0</td><td>Galaxy</td><td>J105021.85+194319.8</td><td>162.5910418</td><td>19.7221844</td><td>0.0616</td><td>0.0601</td><td>167.4</td><td>14.164</td><td>13.819</td><td>11.623</td><td>8.308</td><td>16.023</td><td>15.46</td><td>14.919</td><td>0.028</td><td>0.039</td><td>0.0</td><td>--</td><td>0.086</td><td>0.124</td><td>0.104</td><td>1632119601351033611</td><td>0000</td><td>0</td><td>11nn</td><td>AAUU</td><td>-169</td><td>120</td><td>-97</td><td>130</td><td>0.149</td><td>0.017044</td></tr>\n",
       "<tr><td>SDSSJ093445.99+255954.3</td><td>143.6916555</td><td>25.9984307</td><td>0.263425</td><td>9876543.0</td><td>Unknown</td><td>J093445.99+255954.3</td><td>143.6916466</td><td>25.9984244</td><td>0.0674</td><td>0.0651</td><td>6.2</td><td>14.467</td><td>14.204</td><td>12.639</td><td>8.63</td><td>16.291</td><td>15.632</td><td>14.835</td><td>0.03</td><td>0.043</td><td>0.0</td><td>--</td><td>0.124</td><td>0.157</td><td>0.122</td><td>1433125701351048121</td><td>0000</td><td>0</td><td>00nn</td><td>AAUU</td><td>-111</td><td>153</td><td>398</td><td>168</td><td>0.374</td><td>0.036694</td></tr>\n",
       "<tr><td>SDSSJ004436.20+212750.8</td><td>11.150844</td><td>21.4641137</td><td>0.38501</td><td>9876543.0</td><td>Unknown</td><td>J004436.20+212750.8</td><td>11.1508567</td><td>21.4641143</td><td>0.0815</td><td>0.0777</td><td>131.3</td><td>14.988</td><td>14.737</td><td>12.138</td><td>8.929</td><td>--</td><td>--</td><td>--</td><td>0.033</td><td>0.057</td><td>0.0</td><td>--</td><td>--</td><td>--</td><td>--</td><td>113121201351044540</td><td>0000</td><td>0</td><td>01nn</td><td>AAUU</td><td>173</td><td>139</td><td>-249</td><td>144</td><td>--</td><td>0.042717</td></tr>\n",
       "<tr><td>SDSS1318545935088773120</td><td>243.62323</td><td>41.58074</td><td>0.13750392</td><td>-5.0</td><td>Galaxy</td><td>J161429.57+413450.6</td><td>243.623237</td><td>41.5807426</td><td>0.0459</td><td>0.0441</td><td>130.2</td><td>13.522</td><td>13.363</td><td>12.439</td><td>9.768</td><td>15.523</td><td>15.04</td><td>14.465</td><td>0.024</td><td>0.027</td><td>0.217</td><td>--</td><td>0.079</td><td>0.126</td><td>0.101</td><td>2432140801351055455</td><td>0000</td><td>5</td><td>00nn</td><td>AABU</td><td>-58</td><td>57</td><td>-58</td><td>61</td><td>0.197</td><td>0.021076</td></tr>\n",
       "<tr><td>WISEAJ235351.53+002222.8</td><td>358.4647251721</td><td>0.373002826</td><td>0.14100733</td><td>9876543.0</td><td>Unknown</td><td>J235351.53+002222.8</td><td>358.4647385</td><td>0.3730054</td><td>0.0868</td><td>0.0819</td><td>136.2</td><td>14.839</td><td>14.759</td><td>12.268</td><td>8.544</td><td>16.454</td><td>15.618</td><td>15.437</td><td>0.034</td><td>0.073</td><td>0.0</td><td>--</td><td>0.117</td><td>0.14</td><td>0.168</td><td>3584100001351042759</td><td>0000</td><td>0</td><td>00nn</td><td>AAUU</td><td>457</td><td>241</td><td>-186</td><td>249</td><td>0.197</td><td>0.048818</td></tr>\n",
       "<tr><td>SDSSJ111441.74+213219.3</td><td>168.673935</td><td>21.5387098</td><td>0.47053</td><td>9876543.0</td><td>Unknown</td><td>J111441.74+213219.3</td><td>168.6739367</td><td>21.5387033</td><td>0.1183</td><td>0.109</td><td>14.6</td><td>15.486</td><td>15.707</td><td>12.656</td><td>9.089</td><td>--</td><td>--</td><td>--</td><td>0.042</td><td>0.132</td><td>0.0</td><td>--</td><td>--</td><td>--</td><td>--</td><td>1678121201351050347</td><td>0000</td><td>0</td><td>0nnn</td><td>ABUU</td><td>235</td><td>340</td><td>-80</td><td>376</td><td>--</td><td>0.024024</td></tr>\n",
       "<tr><td>SDSS2198976307767830528</td><td>151.22329</td><td>31.35643</td><td>0.2289271</td><td>9876543.0</td><td>Galaxy</td><td>J100453.58+312123.1</td><td>151.2232893</td><td>31.3564355</td><td>0.0594</td><td>0.0564</td><td>2.3</td><td>14.03</td><td>13.73</td><td>12.376</td><td>9.059</td><td>16.074</td><td>15.202</td><td>14.687</td><td>0.028</td><td>0.035</td><td>0.0</td><td>--</td><td>0.102</td><td>0.107</td><td>0.096</td><td>1517131801351015801</td><td>0000</td><td>0</td><td>00nn</td><td>AAUU</td><td>15</td><td>114</td><td>137</td><td>125</td><td>0.204</td><td>0.019854</td></tr>\n",
       "<tr><td>PGC2578794</td><td>193.668579</td><td>58.4453641</td><td>0.14934534</td><td>-5.0</td><td>Unknown</td><td>J125440.45+582643.3</td><td>193.6685766</td><td>58.4453738</td><td>0.0456</td><td>0.044</td><td>142.6</td><td>13.569</td><td>13.389</td><td>12.433</td><td>9.53</td><td>15.381</td><td>14.889</td><td>14.13</td><td>0.024</td><td>0.026</td><td>0.0</td><td>--</td><td>0.071</td><td>0.114</td><td>0.071</td><td>1929159001351002899</td><td>0000</td><td>1</td><td>11nn</td><td>AAUU</td><td>-72</td><td>56</td><td>-117</td><td>57</td><td>0.05</td><td>0.035118</td></tr>\n",
       "<tr><td>SDSS2031208159535720448</td><td>205.33851</td><td>8.06097</td><td>0.13444224</td><td>9876543.0</td><td>Galaxy</td><td>J134121.23+080339.4</td><td>205.3384999</td><td>8.0609694</td><td>0.07</td><td>0.0676</td><td>179.8</td><td>14.753</td><td>14.562</td><td>12.308</td><td>9.128</td><td>16.364</td><td>15.659</td><td>14.848</td><td>0.03</td><td>0.05</td><td>0.0</td><td>--</td><td>0.136</td><td>0.143</td><td>--</td><td>2059107501351064542</td><td>0000</td><td>0</td><td>00nn</td><td>AAUU</td><td>110</td><td>105</td><td>192</td><td>114</td><td>0.361</td><td>0.03605</td></tr>\n",
       "<tr><td>...</td><td>...</td><td>...</td><td>...</td><td>...</td><td>...</td><td>...</td><td>...</td><td>...</td><td>...</td><td>...</td><td>...</td><td>...</td><td>...</td><td>...</td><td>...</td><td>...</td><td>...</td><td>...</td><td>...</td><td>...</td><td>...</td><td>...</td><td>...</td><td>...</td><td>...</td><td>...</td><td>...</td><td>...</td><td>...</td><td>...</td><td>...</td><td>...</td><td>...</td><td>...</td><td>...</td><td>...</td></tr>\n",
       "<tr><td>SDSS1973733654655952896</td><td>171.58834</td><td>14.42396</td><td>0.16972642</td><td>9876543.0</td><td>Galaxy</td><td>J112621.20+142526.2</td><td>171.5883349</td><td>14.4239605</td><td>0.0614</td><td>0.0593</td><td>174.4</td><td>14.188</td><td>13.907</td><td>11.412</td><td>8.722</td><td>15.975</td><td>15.132</td><td>14.538</td><td>0.028</td><td>0.039</td><td>0.19</td><td>0.401</td><td>0.074</td><td>0.093</td><td>0.073</td><td>1721115101351010665</td><td>0000</td><td>0</td><td>00nn</td><td>AABC</td><td>-34</td><td>137</td><td>134</td><td>148</td><td>0.189</td><td>0.017812</td></tr>\n",
       "<tr><td>SDSSJ214539.78+284018.7</td><td>326.4157785</td><td>28.6718757</td><td>0.29398233</td><td>9876543.0</td><td>Unknown</td><td>J214539.79+284018.7</td><td>326.4157927</td><td>28.6718728</td><td>0.069</td><td>0.0657</td><td>121.7</td><td>14.658</td><td>14.345</td><td>12.076</td><td>8.731</td><td>16.182</td><td>15.977</td><td>15.051</td><td>0.03</td><td>0.043</td><td>0.0</td><td>--</td><td>--</td><td>0.202</td><td>0.152</td><td>3257128701351025645</td><td>0000</td><td>0</td><td>00nn</td><td>AAUU</td><td>360</td><td>178</td><td>166</td><td>178</td><td>0.841</td><td>0.046066</td></tr>\n",
       "<tr><td>SDSSJ210952.32-002251.3</td><td>317.46804</td><td>-0.3809219</td><td>0.47355667</td><td>9876543.0</td><td>Unknown</td><td>J210952.32-002251.3</td><td>317.4680414</td><td>-0.3809271</td><td>0.0984</td><td>0.0906</td><td>135.4</td><td>15.095</td><td>15.036</td><td>12.223</td><td>8.895</td><td>--</td><td>--</td><td>--</td><td>0.037</td><td>0.08</td><td>0.0</td><td>--</td><td>--</td><td>--</td><td>--</td><td>3176100001351011790</td><td>0000</td><td>0</td><td>00nn</td><td>AAUU</td><td>140</td><td>294</td><td>88</td><td>301</td><td>--</td><td>0.019356</td></tr>\n",
       "<tr><td>SDSSJ080529.25+355548.6</td><td>121.3719015</td><td>35.9301836</td><td>0.37410334</td><td>9876543.0</td><td>Unknown</td><td>J080529.25+355548.6</td><td>121.3718979</td><td>35.9301932</td><td>0.1007</td><td>0.0944</td><td>168.4</td><td>15.2</td><td>15.368</td><td>12.419</td><td>8.929</td><td>--</td><td>--</td><td>--</td><td>0.037</td><td>0.098</td><td>0.0</td><td>--</td><td>--</td><td>--</td><td>--</td><td>1212136301351018508</td><td>0000</td><td>0</td><td>1nnn</td><td>AAUU</td><td>-220</td><td>275</td><td>115</td><td>301</td><td>--</td><td>0.036039</td></tr>\n",
       "<tr><td>SDSSJ000821.05+142541.0</td><td>2.0877315</td><td>14.4280571</td><td>0.30788967</td><td>9876543.0</td><td>Unknown</td><td>J000821.05+142541.0</td><td>2.0877413</td><td>14.4280573</td><td>0.1077</td><td>0.1013</td><td>137.2</td><td>15.332</td><td>15.033</td><td>12.412</td><td>8.827</td><td>17.203</td><td>16.113</td><td>15.446</td><td>0.039</td><td>0.085</td><td>0.0</td><td>--</td><td>--</td><td>0.165</td><td>0.218</td><td>15115101351000126</td><td>0000</td><td>0</td><td>00nn</td><td>AAUU</td><td>209</td><td>360</td><td>181</td><td>365</td><td>0.46</td><td>0.034022</td></tr>\n",
       "<tr><td>GAMA386453</td><td>132.264102</td><td>2.2344106</td><td>0.20883533</td><td>9876543.0</td><td>Unknown</td><td>J084903.38+021403.8</td><td>132.2640907</td><td>2.2344102</td><td>0.0861</td><td>0.0805</td><td>175.4</td><td>14.822</td><td>14.723</td><td>12.448</td><td>8.984</td><td>16.673</td><td>15.888</td><td>14.938</td><td>0.034</td><td>0.065</td><td>0.0</td><td>--</td><td>0.192</td><td>0.19</td><td>0.143</td><td>1315101501351051288</td><td>0000</td><td>0</td><td>00nn</td><td>AAUU</td><td>-523</td><td>206</td><td>-38</td><td>225</td><td>0.273</td><td>0.040825</td></tr>\n",
       "<tr><td>SDSSJ102707.41+343337.1</td><td>156.780897</td><td>34.5603253</td><td>0.24982667</td><td>9876543.0</td><td>Unknown</td><td>J102707.41+343337.1</td><td>156.7808887</td><td>34.5603264</td><td>0.0777</td><td>0.0725</td><td>2.1</td><td>14.73</td><td>14.386</td><td>12.542</td><td>8.77</td><td>16.526</td><td>15.519</td><td>14.486</td><td>0.032</td><td>0.05</td><td>0.0</td><td>--</td><td>0.166</td><td>0.156</td><td>--</td><td>1571134801351016060</td><td>0000</td><td>0</td><td>11nn</td><td>AAUU</td><td>135</td><td>179</td><td>300</td><td>199</td><td>0.158</td><td>0.024991</td></tr>\n",
       "<tr><td>SDSS949230693265729536</td><td>181.79579</td><td>5.272</td><td>0.12538105</td><td>-5.0</td><td>Galaxy</td><td>J120710.99+051619.2</td><td>181.7958022</td><td>5.2720056</td><td>0.0484</td><td>0.0475</td><td>168.4</td><td>13.173</td><td>12.998</td><td>11.662</td><td>8.585</td><td>15.081</td><td>14.401</td><td>13.864</td><td>0.024</td><td>0.029</td><td>0.0</td><td>--</td><td>0.075</td><td>0.085</td><td>0.076</td><td>1822104501351059043</td><td>0000</td><td>5</td><td>11nn</td><td>AAUU</td><td>-72</td><td>78</td><td>118</td><td>83</td><td>0.241</td><td>0.0483</td></tr>\n",
       "<tr><td>SDSS3133403431021078528</td><td>208.38275</td><td>22.65588</td><td>0.16304149</td><td>-5.0</td><td>Galaxy</td><td>J135331.86+223921.1</td><td>208.3827525</td><td>22.6558814</td><td>0.0477</td><td>0.0471</td><td>125.3</td><td>13.389</td><td>13.156</td><td>12.535</td><td>9.143</td><td>15.178</td><td>14.666</td><td>14.02</td><td>0.025</td><td>0.028</td><td>0.47</td><td>--</td><td>0.079</td><td>0.095</td><td>0.084</td><td>2085122701351026115</td><td>0000</td><td>1</td><td>11nn</td><td>AACU</td><td>25</td><td>62</td><td>79</td><td>65</td><td>0.171</td><td>0.009831</td></tr>\n",
       "<tr><td>SDSS921070826374064128</td><td>250.39685</td><td>37.36713</td><td>0.17753771</td><td>9876543.0</td><td>Galaxy</td><td>J164135.24+372201.6</td><td>250.3968565</td><td>37.3671211</td><td>0.052</td><td>0.0506</td><td>135.0</td><td>14.306</td><td>14.07</td><td>12.314</td><td>8.746</td><td>15.89</td><td>15.228</td><td>14.8</td><td>0.119</td><td>0.033</td><td>0.0</td><td>--</td><td>0.079</td><td>0.096</td><td>0.116</td><td>2501137801351002314</td><td>0000</td><td>0</td><td>00nn</td><td>BAUU</td><td>-134</td><td>91</td><td>34</td><td>100</td><td>0.144</td><td>0.037112</td></tr>\n",
       "</table></div>"
      ],
      "text/plain": [
       "<Table length=1000>\n",
       "         ONAME                 RA           DEC     ... e_pmDE   d2M   angDist \n",
       "        bytes107            float64       float64   ... int32  float32 float64 \n",
       "------------------------ -------------- ----------- ... ------ ------- --------\n",
       " SDSS2406118265353955328      218.70867    26.71809 ...     68   0.218 0.018495\n",
       " SDSS2794583969264330752      162.59104    19.72218 ...    130   0.149 0.017044\n",
       " SDSSJ093445.99+255954.3    143.6916555  25.9984307 ...    168   0.374 0.036694\n",
       " SDSSJ004436.20+212750.8      11.150844  21.4641137 ...    144      -- 0.042717\n",
       " SDSS1318545935088773120      243.62323    41.58074 ...     61   0.197 0.021076\n",
       "WISEAJ235351.53+002222.8 358.4647251721 0.373002826 ...    249   0.197 0.048818\n",
       " SDSSJ111441.74+213219.3     168.673935  21.5387098 ...    376      -- 0.024024\n",
       " SDSS2198976307767830528      151.22329    31.35643 ...    125   0.204 0.019854\n",
       "              PGC2578794     193.668579  58.4453641 ...     57    0.05 0.035118\n",
       " SDSS2031208159535720448      205.33851     8.06097 ...    114   0.361  0.03605\n",
       "                     ...            ...         ... ...    ...     ...      ...\n",
       " SDSS1973733654655952896      171.58834    14.42396 ...    148   0.189 0.017812\n",
       " SDSSJ214539.78+284018.7    326.4157785  28.6718757 ...    178   0.841 0.046066\n",
       " SDSSJ210952.32-002251.3      317.46804  -0.3809219 ...    301      -- 0.019356\n",
       " SDSSJ080529.25+355548.6    121.3719015  35.9301836 ...    301      -- 0.036039\n",
       " SDSSJ000821.05+142541.0      2.0877315  14.4280571 ...    365    0.46 0.034022\n",
       "              GAMA386453     132.264102   2.2344106 ...    225   0.273 0.040825\n",
       " SDSSJ102707.41+343337.1     156.780897  34.5603253 ...    199   0.158 0.024991\n",
       "  SDSS949230693265729536      181.79579       5.272 ...     83   0.241   0.0483\n",
       " SDSS3133403431021078528      208.38275    22.65588 ...     65   0.171 0.009831\n",
       "  SDSS921070826374064128      250.39685    37.36713 ...    100   0.144 0.037112"
      ]
     },
     "execution_count": 5,
     "metadata": {},
     "output_type": "execute_result"
    }
   ],
   "source": [
    "random_indices = random.sample(range(len(allwise)), 1000)\n",
    "new_allwise = allwise[random_indices]\n",
    "new_allwise"
   ]
  },
  {
   "cell_type": "markdown",
   "metadata": {},
   "source": [
    "First, store the observed colors and then define the Monte Carlo arrays for W1, W2 and W3, with the same colors but now for Monte Carlo arrays"
   ]
  },
  {
   "cell_type": "code",
   "execution_count": 6,
   "metadata": {},
   "outputs": [],
   "source": [
    "new_allwise['W1-W2_obs'] = new_allwise['W1mag'] - new_allwise['W2mag']\n",
    "new_allwise['W2-W3_obs'] = new_allwise['W2mag'] - new_allwise['W3mag']"
   ]
  },
  {
   "cell_type": "code",
   "execution_count": 7,
   "metadata": {},
   "outputs": [],
   "source": [
    "w1 = wm.array_montecarlo(new_allwise['W1mag'],new_allwise['e_W1mag'])\n",
    "w2 = wm.array_montecarlo(new_allwise['W2mag'],new_allwise['e_W2mag'])\n",
    "w3 = wm.array_montecarlo(new_allwise['W3mag'],new_allwise['e_W3mag'])\n",
    "\n",
    "w1w2_obs = w1-w2\n",
    "w2w3_obs = w2-w3"
   ]
  },
  {
   "cell_type": "markdown",
   "metadata": {},
   "source": [
    "# K-corrections for the defined sample\n",
    "\n",
    "Now that all initial colors are created, one can start by the first masking of the reject zone by deleting all sources with a W2-W3>4.4"
   ]
  },
  {
   "cell_type": "code",
   "execution_count": 8,
   "metadata": {},
   "outputs": [],
   "source": [
    "first_reject_zone = new_allwise['W2-W3_obs']<=4.4"
   ]
  },
  {
   "cell_type": "code",
   "execution_count": 9,
   "metadata": {},
   "outputs": [],
   "source": [
    "w1 = w1[first_reject_zone]\n",
    "w2 = w2[first_reject_zone]\n",
    "w3 = w3[first_reject_zone]\n",
    "\n",
    "w1w2_obs = w1w2_obs[first_reject_zone]\n",
    "w2w3_obs = w2w3_obs[first_reject_zone]\n",
    "\n",
    "new_allwise = new_allwise[first_reject_zone]"
   ]
  },
  {
   "cell_type": "markdown",
   "metadata": {},
   "source": [
    "It is necessary to create new arrays to store K-corrected W1abs and the K-correction factor of W1-W2 and W2-W3"
   ]
  },
  {
   "cell_type": "code",
   "execution_count": 11,
   "metadata": {},
   "outputs": [],
   "source": [
    "w1w2_kcors = np.zeros(np.shape(w1w2_obs)[0])                                                \n",
    "w2w3_kcors = np.zeros(np.shape(w2w3_obs)[0])\n",
    "w1abs = np.zeros(np.shape(w1))"
   ]
  },
  {
   "cell_type": "code",
   "execution_count": 33,
   "metadata": {},
   "outputs": [],
   "source": [
    "object_condition = (new_allwise['NED_TYPE']=='RadioS') | (new_allwise['NED_TYPE']=='QSO')\n",
    "color_condition_1 = (new_allwise['W1-W2_obs']>0.8) & (new_allwise['W2-W3_obs']<2.2)\n",
    "color_condition_2 = (new_allwise['W1-W2_obs']>wm.w1w2_treshold_qso(new_allwise['W2-W3_obs'])) & (new_allwise['W2-W3_obs']>=2.2) & (new_allwise['W2-W3_obs']<=4.4)\n",
    "\n",
    "suboptimal_cond = (new_allwise['Z']>=0.5) & (new_allwise['Z']<=3) & ~object_condition & ~(color_condition_1 | color_condition_2)\n",
    "nok_cond = (new_allwise['Z']>3) | object_condition | color_condition_1 | color_condition_2\n",
    "\n",
    "optimal_sample = new_allwise[(new_allwise['Z']<0.5) & ~object_condition & ~(color_condition_1 | color_condition_2)]\n",
    "suboptimal_sample = new_allwise[suboptimal_cond]                                                                            #Samples for k-correcion                \n",
    "nok_sample = new_allwise[nok_cond]"
   ]
  },
  {
   "cell_type": "markdown",
   "metadata": {},
   "source": [
    "To create the final quality tag, here we store the K-correction tag"
   ]
  },
  {
   "cell_type": "code",
   "execution_count": 34,
   "metadata": {},
   "outputs": [],
   "source": [
    "new_allwise['K_QUALITY'] = int(0)\n",
    "\n",
    "new_allwise['K_QUALITY'] = np.where(suboptimal_cond, int(1), new_allwise['K_QUALITY'])\n",
    "new_allwise['K_QUALITY'] = np.where(nok_cond, int(2), new_allwise['K_QUALITY'])"
   ]
  },
  {
   "cell_type": "markdown",
   "metadata": {},
   "source": [
    "Now we import the look-up tables from Jarrett+2023 to use"
   ]
  },
  {
   "cell_type": "code",
   "execution_count": 37,
   "metadata": {},
   "outputs": [],
   "source": [
    "e_table = wm.kcorr_table('E')\n",
    "l_table = wm.kcorr_table('L')\n",
    "s_table = wm.kcorr_table('S')"
   ]
  },
  {
   "cell_type": "code",
   "execution_count": 40,
   "metadata": {},
   "outputs": [
    {
     "ename": "AttributeError",
     "evalue": "'Table' object has no attribute 'index'",
     "output_type": "error",
     "traceback": [
      "\u001b[0;31m---------------------------------------------------------------------------\u001b[0m",
      "\u001b[0;31mAttributeError\u001b[0m                            Traceback (most recent call last)",
      "\u001b[1;32m/home/joacoh/OneDrive/wise2mbh/notebooks/allwise_test.ipynb Cell 23\u001b[0m line \u001b[0;36m1\n\u001b[1;32m     <a href='vscode-notebook-cell:/home/joacoh/OneDrive/wise2mbh/notebooks/allwise_test.ipynb#X60sZmlsZQ%3D%3D?line=12'>13</a>\u001b[0m w2w3_no_type \u001b[39m=\u001b[39m no_type_sources[\u001b[39m'\u001b[39m\u001b[39mW2mag\u001b[39m\u001b[39m'\u001b[39m] \u001b[39m-\u001b[39m no_type_sources[\u001b[39m'\u001b[39m\u001b[39mW3mag\u001b[39m\u001b[39m'\u001b[39m]\n\u001b[1;32m     <a href='vscode-notebook-cell:/home/joacoh/OneDrive/wise2mbh/notebooks/allwise_test.ipynb#X60sZmlsZQ%3D%3D?line=13'>14</a>\u001b[0m z_no_type \u001b[39m=\u001b[39m no_type_sources[\u001b[39m'\u001b[39m\u001b[39mZ\u001b[39m\u001b[39m'\u001b[39m]                                                    \n\u001b[0;32m---> <a href='vscode-notebook-cell:/home/joacoh/OneDrive/wise2mbh/notebooks/allwise_test.ipynb#X60sZmlsZQ%3D%3D?line=15'>16</a>\u001b[0m e_w1_kcorrected \u001b[39m=\u001b[39m wm\u001b[39m.\u001b[39mw1_k_corrected(lookup_table\u001b[39m=\u001b[39me_table,w1\u001b[39m=\u001b[39mw1[e_sources\u001b[39m.\u001b[39;49mindex],z\u001b[39m=\u001b[39mz[e_sources\u001b[39m.\u001b[39mindex])\n\u001b[1;32m     <a href='vscode-notebook-cell:/home/joacoh/OneDrive/wise2mbh/notebooks/allwise_test.ipynb#X60sZmlsZQ%3D%3D?line=16'>17</a>\u001b[0m l_w1_kcorrected \u001b[39m=\u001b[39m wm\u001b[39m.\u001b[39mw1_k_corrected(lookup_table\u001b[39m=\u001b[39ml_table,w1\u001b[39m=\u001b[39mw1[l_sources\u001b[39m.\u001b[39mindex],z\u001b[39m=\u001b[39mz[l_sources\u001b[39m.\u001b[39mindex])               \u001b[39m#W1 k-corrected \u001b[39;00m\n\u001b[1;32m     <a href='vscode-notebook-cell:/home/joacoh/OneDrive/wise2mbh/notebooks/allwise_test.ipynb#X60sZmlsZQ%3D%3D?line=17'>18</a>\u001b[0m s_w1_kcorrected \u001b[39m=\u001b[39m wm\u001b[39m.\u001b[39mw1_k_corrected(lookup_table\u001b[39m=\u001b[39ms_table,w1\u001b[39m=\u001b[39mw1[s_sources\u001b[39m.\u001b[39mindex],z\u001b[39m=\u001b[39mz[s_sources\u001b[39m.\u001b[39mindex])\n",
      "\u001b[0;31mAttributeError\u001b[0m: 'Table' object has no attribute 'index'"
     ]
    }
   ],
   "source": [
    "identifier = np.random.choice(np.arange(10), size=3, replace=False)\n",
    "for idn, sample in zip(identifier,[optimal_sample, suboptimal_sample, nok_sample]):\n",
    "    if len(sample)!=0:\n",
    "        if idn!=identifier[2]:                                                                  #Color k-correction for sample with z<0.5\n",
    "            object_condition = (sample['NED_TYPE']=='RadioS') | (sample['NED_TYPE']=='QSO')\n",
    "\n",
    "            e_sources = sample[(sample['T']<=-3) & ~object_condition]\n",
    "            l_sources = sample[(sample['T']>-3) & (sample['T']<=0) & ~object_condition]         #Divide samples in Elliptical, Lenticular and Spiral by T value\n",
    "            s_sources = sample[(sample['T']>0) & (sample['T']!=no_data) & ~object_condition]\n",
    "\n",
    "            no_type_sources = sample[(sample['T']==no_data) & ~object_condition]                #Sample without T values\n",
    "            w1w2_no_type = no_type_sources['W1mag'] - no_type_sources['W2mag']                  #Mean value of colors for previous sample\n",
    "            w2w3_no_type = no_type_sources['W2mag'] - no_type_sources['W3mag']\n",
    "            z_no_type = no_type_sources['Z']                                                    \n",
    "\n",
    "            e_w1_kcorrected = wm.w1_k_corrected(lookup_table=e_table,w1=w1[e_sources.index],z=z[e_sources.index])\n",
    "            l_w1_kcorrected = wm.w1_k_corrected(lookup_table=l_table,w1=w1[l_sources.index],z=z[l_sources.index])               #W1 k-corrected \n",
    "            s_w1_kcorrected = wm.w1_k_corrected(lookup_table=s_table,w1=w1[s_sources.index],z=z[s_sources.index])\n",
    "\n",
    "            e_w2w3_kcor = wm.get_correction_factor(lookup_table=e_table, redshift=e_sources['Z'], correction_factor='W2-W3')\n",
    "            l_w2w3_kcor = wm.get_correction_factor(lookup_table=l_table, redshift=l_sources['Z'], correction_factor='W2-W3')     #W2-W3 k-correction factor\n",
    "            s_w2w3_kcor = wm.get_correction_factor(lookup_table=s_table, redshift=s_sources['Z'], correction_factor='W2-W3')\n",
    "\n",
    "            e_w1w2_kcor = wm.get_correction_factor(lookup_table=e_table, redshift=e_sources['Z'], correction_factor='W1-W2')\n",
    "            l_w1w2_kcor = wm.get_correction_factor(lookup_table=l_table, redshift=l_sources['Z'], correction_factor='W1-W2')     #W1-W2 k-correction factor\n",
    "            s_w1w2_kcor = wm.get_correction_factor(lookup_table=s_table, redshift=s_sources['Z'], correction_factor='W1-W2')\n",
    "\n",
    "            #Both k-correction factors for no type sample, using division by observed W2-W3 color\n",
    "            factor_w2 = 171.787\n",
    "            factor_w3 = 31.674\n",
    "\n",
    "            w2w3_limit = -2.5*(np.log10(factor_w3/factor_w2) + 0.1)                             #Last value is the flux limit from Mateos et al. (2012)\n",
    "\n",
    "            no_type_w1w2_kcor = [\n",
    "                f.get_correction_factor(lookup_table=e_table, redshift=z, correction_factor='W1-W2') if (color_x<=w2w3_limit)\n",
    "                else f.get_correction_factor(lookup_table=s_table, redshift=z, correction_factor='W1-W2') if (color_x>w2w3_limit) else 0\n",
    "                for color_x,color_y,z in zip(w2w3_no_type,w1w2_no_type, z_no_type)\n",
    "                ]\n",
    "            no_type_w2w3_kcor = [\n",
    "                f.get_correction_factor(lookup_table=e_table, redshift=z, correction_factor='W2-W3') if (color_x<=w2w3_limit)\n",
    "                else f.get_correction_factor(lookup_table=s_table, redshift=z, correction_factor='W2-W3') if (color_x>w2w3_limit)  else 0\n",
    "                for color_x,color_y,z in zip(w2w3_no_type,w1w2_no_type, z_no_type)\n",
    "                ]\n",
    "\n",
    "            no_type_w1_kcorrected = [\n",
    "                f.w1_k_corrected(lookup_table=e_table,w1=w1[no_type_index],z=np.array([z]))[0] if (color_x<=w2w3_limit)\n",
    "                else f.w1_k_corrected(lookup_table=s_table,w1=w1[no_type_index],z=np.array([z]))[0] if (color_x>w2w3_limit) else w1[no_type_index]\n",
    "                for color_x,color_y,z,no_type_index in zip(w2w3_no_type,w1w2_no_type, z_no_type, no_type_sources.index)\n",
    "                ]   \n",
    "\n",
    "            e_w1abs_kcorrected = e_w1_kcorrected - f.distance_modulus_dist(dist[e_sources.index])[:,None]                     #W1 k-correction for e_sources\n",
    "            l_w1abs_kcorrected = l_w1_kcorrected - f.distance_modulus_dist(dist[l_sources.index])[:,None]                     #W1 k-correction for l_sources\n",
    "            s_w1abs_kcorrected = s_w1_kcorrected - f.distance_modulus_dist(dist[s_sources.index])[:,None]                     #W1 k-correction for s_sources\n",
    "            no_type_w1abs_kcorrected = no_type_w1_kcorrected - f.distance_modulus_dist(dist[no_type_sources.index])[:,None]   #W1 k-correction for no_type_sources\n",
    "\n",
    "            if np.shape(no_type_w1abs_kcorrected)==(0,0):\n",
    "                no_type_w1abs_kcorrected = no_type_w1abs_kcorrected.reshape(0,number)\n",
    "\n",
    "            w1w2_kcors[e_sources.index] = e_w1w2_kcor\n",
    "            w1w2_kcors[l_sources.index] = l_w1w2_kcor                   #W1-W2 k-correctrion factors filled\n",
    "            w1w2_kcors[s_sources.index] = s_w1w2_kcor\n",
    "            w1w2_kcors[no_type_sources.index] = no_type_w1w2_kcor\n",
    "\n",
    "            w2w3_kcors[e_sources.index] = e_w2w3_kcor\n",
    "            w2w3_kcors[l_sources.index] = l_w2w3_kcor                   #W2-W3 k-correctrion factors filled\n",
    "            w2w3_kcors[s_sources.index] = s_w2w3_kcor\n",
    "            w2w3_kcors[no_type_sources.index] = no_type_w2w3_kcor\n",
    "\n",
    "            w1abs[e_sources.index] = e_w1abs_kcorrected\n",
    "            w1abs[l_sources.index] = l_w1abs_kcorrected                 #W1abs k-corrected filled\n",
    "            w1abs[s_sources.index] = s_w1abs_kcorrected\n",
    "            w1abs[no_type_sources.index] = no_type_w1abs_kcorrected\n",
    "            \n",
    "        else:\n",
    "            w1abs_kcorrected = w1[sample.index] - f.distance_modulus_dist(dist[sample.index])[:,None]\n",
    "            w1abs[sample.index] = w1abs_kcorrected\n",
    "\n",
    "            w1w2_kcors[sample.index] = 0\n",
    "            w2w3_kcors[sample.index] = 0                                        #For sources with z>3, no k-correction is applied\n",
    "    else:\n",
    "        continue"
   ]
  },
  {
   "cell_type": "code",
   "execution_count": null,
   "metadata": {},
   "outputs": [],
   "source": []
  }
 ],
 "metadata": {
  "kernelspec": {
   "display_name": "base",
   "language": "python",
   "name": "python3"
  },
  "language_info": {
   "codemirror_mode": {
    "name": "ipython",
    "version": 3
   },
   "file_extension": ".py",
   "mimetype": "text/x-python",
   "name": "python",
   "nbconvert_exporter": "python",
   "pygments_lexer": "ipython3",
   "version": "3.10.8"
  },
  "orig_nbformat": 4
 },
 "nbformat": 4,
 "nbformat_minor": 2
}
