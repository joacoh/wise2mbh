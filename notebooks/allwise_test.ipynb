{
 "cells": [
  {
   "cell_type": "markdown",
   "metadata": {},
   "source": [
    "# WISE2MBH Tutorial"
   ]
  },
  {
   "cell_type": "code",
   "execution_count": 6,
   "metadata": {},
   "outputs": [],
   "source": [
    "import wise2mbh as wm\n",
    "from astropy.table import Table"
   ]
  },
  {
   "cell_type": "code",
   "execution_count": 8,
   "metadata": {},
   "outputs": [],
   "source": [
    "allwise = Table.read('../samples/AllWISE_sample.fits')"
   ]
  },
  {
   "cell_type": "code",
   "execution_count": 10,
   "metadata": {},
   "outputs": [
    {
     "ename": "NameError",
     "evalue": "name 'number' is not defined",
     "output_type": "error",
     "traceback": [
      "\u001b[0;31m---------------------------------------------------------------------------\u001b[0m",
      "\u001b[0;31mNameError\u001b[0m                                 Traceback (most recent call last)",
      "\u001b[1;32m/home/joacoh/OneDrive/wise2mbh/notebooks/allwise_test.ipynb Cell 4\u001b[0m line \u001b[0;36m1\n\u001b[0;32m----> <a href='vscode-notebook-cell:/home/joacoh/OneDrive/wise2mbh/notebooks/allwise_test.ipynb#W4sZmlsZQ%3D%3D?line=0'>1</a>\u001b[0m wm\u001b[39m.\u001b[39;49mparam_montecarlo(\u001b[39m10\u001b[39;49m,\u001b[39m0.1\u001b[39;49m)\n",
      "File \u001b[0;32m~/miniconda3/lib/python3.10/site-packages/wise2mbh/wise2mbh.py:35\u001b[0m, in \u001b[0;36mparam_montecarlo\u001b[0;34m(nominal, std, n)\u001b[0m\n\u001b[1;32m     34\u001b[0m \u001b[39mdef\u001b[39;00m \u001b[39mparam_montecarlo\u001b[39m(nominal\u001b[39m=\u001b[39m\u001b[39m0\u001b[39m, std\u001b[39m=\u001b[39m\u001b[39m1\u001b[39m, n\u001b[39m=\u001b[39m\u001b[39m1000\u001b[39m):\n\u001b[0;32m---> 35\u001b[0m     param \u001b[39m=\u001b[39m nominal \u001b[39m+\u001b[39m std\u001b[39m*\u001b[39mrng\u001b[39m.\u001b[39mstandard_normal(number)\n\u001b[1;32m     36\u001b[0m     \u001b[39mreturn\u001b[39;00m param\n",
      "\u001b[0;31mNameError\u001b[0m: name 'number' is not defined"
     ]
    }
   ],
   "source": [
    "wm.param_montecarlo(10,0.1)"
   ]
  },
  {
   "cell_type": "code",
   "execution_count": null,
   "metadata": {},
   "outputs": [],
   "source": []
  }
 ],
 "metadata": {
  "kernelspec": {
   "display_name": "base",
   "language": "python",
   "name": "python3"
  },
  "language_info": {
   "codemirror_mode": {
    "name": "ipython",
    "version": 3
   },
   "file_extension": ".py",
   "mimetype": "text/x-python",
   "name": "python",
   "nbconvert_exporter": "python",
   "pygments_lexer": "ipython3",
   "version": "3.10.8"
  },
  "orig_nbformat": 4
 },
 "nbformat": 4,
 "nbformat_minor": 2
}
