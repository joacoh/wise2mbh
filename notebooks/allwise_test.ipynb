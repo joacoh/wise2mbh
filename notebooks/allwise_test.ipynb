{
 "cells": [
  {
   "cell_type": "markdown",
   "metadata": {},
   "source": [
    "# WISE2MBH Tutorial"
   ]
  },
  {
   "cell_type": "code",
   "execution_count": 1,
   "metadata": {},
   "outputs": [],
   "source": [
    "import wise2mbh as wm\n",
    "from astropy.table import Table\n",
    "import numpy as np\n",
    "import matplotlib.pyplot as plt\n",
    "import random\n",
    "no_data = 9876543"
   ]
  },
  {
   "cell_type": "code",
   "execution_count": 2,
   "metadata": {},
   "outputs": [
    {
     "data": {
      "text/html": [
       "<div><i>Table length=77712</i>\n",
       "<table id=\"table140218174314272\" class=\"table-striped table-bordered table-condensed\">\n",
       "<thead><tr><th>ONAME</th><th>RA</th><th>DEC</th><th>Z</th><th>T</th><th>NED_TYPE</th><th>AllWISE</th><th>RAJ2000</th><th>DEJ2000</th><th>eeMaj</th><th>eeMin</th><th>eePA</th><th>W1mag</th><th>W2mag</th><th>W3mag</th><th>W4mag</th><th>Jmag</th><th>Hmag</th><th>Kmag</th><th>e_W1mag</th><th>e_W2mag</th><th>e_W3mag</th><th>e_W4mag</th><th>e_Jmag</th><th>e_Hmag</th><th>e_Kmag</th><th>ID</th><th>ccf</th><th>ex</th><th>var</th><th>qph</th><th>pmRA</th><th>e_pmRA</th><th>pmDE</th><th>e_pmDE</th><th>d2M</th><th>angDist</th></tr></thead>\n",
       "<thead><tr><th>bytes107</th><th>float64</th><th>float64</th><th>float64</th><th>float64</th><th>bytes7</th><th>bytes19</th><th>float64</th><th>float64</th><th>float32</th><th>float32</th><th>float32</th><th>float32</th><th>float32</th><th>float32</th><th>float32</th><th>float32</th><th>float32</th><th>float32</th><th>float32</th><th>float32</th><th>float32</th><th>float32</th><th>float32</th><th>float32</th><th>float32</th><th>int64</th><th>bytes4</th><th>bytes1</th><th>bytes4</th><th>bytes4</th><th>int32</th><th>int32</th><th>int32</th><th>int32</th><th>float32</th><th>float64</th></tr></thead>\n",
       "<tr><td>WISEAJ112428.14-363548.5</td><td>171.1172539</td><td>-36.5968225</td><td>0.2</td><td>9876543.0</td><td>Unknown</td><td>J112428.14-363548.5</td><td>171.1172539</td><td>-36.5968225</td><td>0.0427</td><td>0.0415</td><td>130.3</td><td>13.449</td><td>12.486</td><td>9.394</td><td>6.977</td><td>15.185</td><td>14.474</td><td>14.293</td><td>0.025</td><td>0.024</td><td>0.033</td><td>0.084</td><td>0.056</td><td>0.061</td><td>0.075</td><td>1716036401351015875</td><td>0000</td><td>0</td><td>1122</td><td>AAAA</td><td>160</td><td>54</td><td>42</td><td>55</td><td>2.073</td><td>1e-06</td></tr>\n",
       "<tr><td>WISEAJ144229.68-435343.2</td><td>220.6236974</td><td>-43.8953408</td><td>0.3</td><td>9876543.0</td><td>Unknown</td><td>J144229.68-435343.2</td><td>220.6236974</td><td>-43.8953408</td><td>0.1285</td><td>0.1177</td><td>11.9</td><td>15.975</td><td>14.663</td><td>10.911</td><td>7.801</td><td>--</td><td>--</td><td>--</td><td>0.055</td><td>0.06</td><td>0.118</td><td>0.195</td><td>--</td><td>--</td><td>--</td><td>2205044001351034712</td><td>0000</td><td>0</td><td>011n</td><td>AABB</td><td>412</td><td>466</td><td>-34</td><td>505</td><td>--</td><td>1e-06</td></tr>\n",
       "<tr><td>WISEAJ163728.75+290335.9</td><td>249.3698107</td><td>29.0599733</td><td>0.2</td><td>9876543.0</td><td>Unknown</td><td>J163728.75+290335.9</td><td>249.3698107</td><td>29.0599733</td><td>0.0692</td><td>0.0643</td><td>4.9</td><td>15.637</td><td>13.775</td><td>9.703</td><td>7.347</td><td>--</td><td>--</td><td>--</td><td>0.04</td><td>0.034</td><td>0.038</td><td>0.124</td><td>--</td><td>--</td><td>--</td><td>2485128701351042160</td><td>0000</td><td>0</td><td>0011</td><td>AAAB</td><td>-116</td><td>295</td><td>-250</td><td>278</td><td>--</td><td>2e-06</td></tr>\n",
       "<tr><td>WISEAJ184321.55-621724.8</td><td>280.8398056</td><td>-62.2902233</td><td>0.2</td><td>9876543.0</td><td>Unknown</td><td>J184321.55-621724.8</td><td>280.8398056</td><td>-62.2902233</td><td>0.0722</td><td>0.0689</td><td>38.8</td><td>14.624</td><td>13.762</td><td>11.04</td><td>8.519</td><td>--</td><td>--</td><td>--</td><td>0.036</td><td>0.035</td><td>0.106</td><td>--</td><td>--</td><td>--</td><td>--</td><td>2810062101351018362</td><td>0000</td><td>0</td><td>nnnn</td><td>AAAU</td><td>--</td><td>--</td><td>--</td><td>--</td><td>--</td><td>5e-06</td></tr>\n",
       "<tr><td>WISEAJ183203.33+633041.5</td><td>278.0139066</td><td>63.5115391</td><td>0.3</td><td>9876543.0</td><td>Unknown</td><td>J183203.33+633041.5</td><td>278.0139066</td><td>63.5115391</td><td>0.0662</td><td>0.0627</td><td>129.3</td><td>15.811</td><td>14.794</td><td>11.508</td><td>8.357</td><td>--</td><td>--</td><td>--</td><td>0.032</td><td>0.035</td><td>0.086</td><td>0.118</td><td>--</td><td>--</td><td>--</td><td>2774163601351028837</td><td>0000</td><td>0</td><td>11nn</td><td>AAAB</td><td>155</td><td>233</td><td>-229</td><td>248</td><td>--</td><td>7e-06</td></tr>\n",
       "<tr><td>WISEAJ000517.26-341452.8</td><td>1.321926</td><td>-34.2480098</td><td>0.3</td><td>9876543.0</td><td>Unknown</td><td>J000517.26-341452.8</td><td>1.321926</td><td>-34.2480098</td><td>0.0752</td><td>0.0713</td><td>141.6</td><td>15.1</td><td>14.143</td><td>10.839</td><td>7.887</td><td>--</td><td>--</td><td>--</td><td>0.035</td><td>0.04</td><td>0.114</td><td>0.189</td><td>--</td><td>--</td><td>--</td><td>18034901351061482</td><td>0000</td><td>0</td><td>110n</td><td>AABB</td><td>289</td><td>256</td><td>-282</td><td>261</td><td>--</td><td>7e-06</td></tr>\n",
       "<tr><td>WISEAJ041514.13-810745.9</td><td>63.8088863</td><td>-81.1294387</td><td>0.2</td><td>9876543.0</td><td>Unknown</td><td>J041514.13-810745.9</td><td>63.8088863</td><td>-81.1294387</td><td>0.0457</td><td>0.0449</td><td>162.3</td><td>14.499</td><td>13.543</td><td>10.429</td><td>7.558</td><td>--</td><td>--</td><td>--</td><td>0.025</td><td>0.026</td><td>0.048</td><td>0.099</td><td>--</td><td>--</td><td>--</td><td>681081801351062155</td><td>0000</td><td>0</td><td>110n</td><td>AAAA</td><td>260</td><td>66</td><td>92</td><td>69</td><td>--</td><td>8e-06</td></tr>\n",
       "<tr><td>WISEAJ150206.92+781622.6</td><td>225.5288639</td><td>78.2729584</td><td>0.3</td><td>9876543.0</td><td>Unknown</td><td>J150206.92+781622.6</td><td>225.5288639</td><td>78.2729584</td><td>0.0886</td><td>0.0831</td><td>95.1</td><td>15.959</td><td>15.085</td><td>12.15</td><td>9.497</td><td>--</td><td>--</td><td>--</td><td>0.037</td><td>0.05</td><td>0.202</td><td>0.512</td><td>--</td><td>--</td><td>--</td><td>2232178701351000385</td><td>0000</td><td>0</td><td>11nn</td><td>AABC</td><td>-761</td><td>305</td><td>100</td><td>285</td><td>--</td><td>9e-06</td></tr>\n",
       "<tr><td>WISEAJ050357.41-282633.0</td><td>75.989223</td><td>-28.4425115</td><td>0.2</td><td>9876543.0</td><td>Unknown</td><td>J050357.41-282633.0</td><td>75.989223</td><td>-28.4425115</td><td>0.1182</td><td>0.0847</td><td>153.4</td><td>15.102</td><td>14.292</td><td>11.284</td><td>8.529</td><td>--</td><td>--</td><td>--</td><td>0.045</td><td>0.045</td><td>0.125</td><td>0.332</td><td>--</td><td>--</td><td>--</td><td>754028801351050034</td><td>0000</td><td>0</td><td>nnnn</td><td>AABB</td><td>--</td><td>--</td><td>--</td><td>--</td><td>--</td><td>1.1e-05</td></tr>\n",
       "<tr><td>WISEAJ214758.54-635335.8</td><td>326.9939375</td><td>-63.8932904</td><td>0.5</td><td>9876543.0</td><td>Unknown</td><td>J214758.54-635335.8</td><td>326.9939375</td><td>-63.8932904</td><td>0.0681</td><td>0.0645</td><td>140.5</td><td>14.776</td><td>13.758</td><td>9.822</td><td>6.779</td><td>16.941</td><td>15.845</td><td>15.509</td><td>0.033</td><td>0.039</td><td>0.057</td><td>0.101</td><td>0.22</td><td>0.209</td><td>0.24</td><td>3269063701351018994</td><td>0000</td><td>0</td><td>1000</td><td>AAAA</td><td>113</td><td>133</td><td>-80</td><td>136</td><td>0.301</td><td>1.2e-05</td></tr>\n",
       "<tr><td>...</td><td>...</td><td>...</td><td>...</td><td>...</td><td>...</td><td>...</td><td>...</td><td>...</td><td>...</td><td>...</td><td>...</td><td>...</td><td>...</td><td>...</td><td>...</td><td>...</td><td>...</td><td>...</td><td>...</td><td>...</td><td>...</td><td>...</td><td>...</td><td>...</td><td>...</td><td>...</td><td>...</td><td>...</td><td>...</td><td>...</td><td>...</td><td>...</td><td>...</td><td>...</td><td>...</td><td>...</td></tr>\n",
       "<tr><td>LAMOST399605218</td><td>131.95832</td><td>51.15924</td><td>0.13803734</td><td>9876543.0</td><td>Galaxy</td><td>J084750.00+510933.2</td><td>131.9583412</td><td>51.1592361</td><td>0.0542</td><td>0.0525</td><td>143.4</td><td>14.025</td><td>13.764</td><td>11.113</td><td>9.1</td><td>15.964</td><td>15.274</td><td>14.563</td><td>0.025</td><td>0.034</td><td>0.153</td><td>--</td><td>0.087</td><td>0.094</td><td>0.085</td><td>1311151401351023860</td><td>0000</td><td>0</td><td>01nn</td><td>AABU</td><td>-22</td><td>141</td><td>50</td><td>143</td><td>0.347</td><td>0.049997</td></tr>\n",
       "<tr><td>SDSSJ115205.18+382928.0</td><td>178.021614</td><td>38.4911345</td><td>0.40462333</td><td>9876543.0</td><td>Unknown</td><td>J115205.18+382928.0</td><td>178.0215991</td><td>38.491127</td><td>0.0979</td><td>0.0928</td><td>17.3</td><td>15.365</td><td>15.172</td><td>12.824</td><td>8.849</td><td>--</td><td>--</td><td>--</td><td>0.038</td><td>0.078</td><td>--</td><td>--</td><td>--</td><td>--</td><td>--</td><td>1781137801351058128</td><td>0000</td><td>0</td><td>00nn</td><td>AAUU</td><td>62</td><td>270</td><td>-54</td><td>290</td><td>--</td><td>0.049997</td></tr>\n",
       "<tr><td>SDSS1504239155469641728</td><td>243.77024</td><td>39.31195</td><td>0.14051065</td><td>9876543.0</td><td>Galaxy</td><td>J161504.85+391843.0</td><td>243.770246</td><td>39.3119631</td><td>0.0486</td><td>0.048</td><td>135.0</td><td>13.708</td><td>13.451</td><td>12.888</td><td>9.59</td><td>15.632</td><td>14.88</td><td>14.284</td><td>0.025</td><td>0.029</td><td>0.407</td><td>--</td><td>0.08</td><td>0.083</td><td>0.073</td><td>2438139301351031839</td><td>0000</td><td>0</td><td>00nn</td><td>AACU</td><td>0</td><td>71</td><td>0</td><td>76</td><td>0.164</td><td>0.049997</td></tr>\n",
       "<tr><td>SDSS994312869900216320</td><td>183.59372</td><td>53.64215</td><td>0.1756268</td><td>9876543.0</td><td>Galaxy</td><td>J121422.48+533831.7</td><td>183.593698</td><td>53.6421548</td><td>0.0541</td><td>0.053</td><td>175.1</td><td>14.199</td><td>13.949</td><td>12.669</td><td>8.811</td><td>16.142</td><td>15.352</td><td>14.873</td><td>0.026</td><td>0.033</td><td>0.429</td><td>--</td><td>0.094</td><td>0.107</td><td>0.106</td><td>1824153001351053170</td><td>0000</td><td>0</td><td>00nn</td><td>AACU</td><td>-13</td><td>99</td><td>24</td><td>105</td><td>0.06</td><td>0.049997</td></tr>\n",
       "<tr><td>SDSSJ145532.69+580519.7</td><td>223.8862155</td><td>58.0888205</td><td>0.35417667</td><td>9876543.0</td><td>Unknown</td><td>J145532.69+580519.7</td><td>223.8862407</td><td>58.0888244</td><td>0.0742</td><td>0.0712</td><td>11.5</td><td>15.261</td><td>15.077</td><td>12.889</td><td>9.481</td><td>--</td><td>--</td><td>--</td><td>0.031</td><td>0.054</td><td>--</td><td>--</td><td>--</td><td>--</td><td>--</td><td>2243157501351060214</td><td>0000</td><td>0</td><td>00nn</td><td>AAUU</td><td>415</td><td>181</td><td>220</td><td>188</td><td>--</td><td>0.049997</td></tr>\n",
       "<tr><td>WISEAJ113538.25+315012.5</td><td>173.9094019222</td><td>31.836811624</td><td>0.45649</td><td>9876543.0</td><td>Unknown</td><td>J113538.25+315012.5</td><td>173.9094028</td><td>31.8368255</td><td>0.0865</td><td>0.0832</td><td>15.6</td><td>14.964</td><td>14.744</td><td>12.322</td><td>9.066</td><td>--</td><td>--</td><td>--</td><td>0.035</td><td>0.065</td><td>--</td><td>--</td><td>--</td><td>--</td><td>--</td><td>1747131801351038143</td><td>0000</td><td>0</td><td>11nn</td><td>AAUU</td><td>-348</td><td>220</td><td>-167</td><td>237</td><td>--</td><td>0.049998</td></tr>\n",
       "<tr><td>WISEAJ115816.26+302142.1</td><td>179.5678</td><td>30.36171</td><td>0.146</td><td>9876543.0</td><td>Galaxy</td><td>J115816.26+302142.1</td><td>179.5677894</td><td>30.3616995</td><td>0.0475</td><td>0.0465</td><td>153.1</td><td>13.783</td><td>13.064</td><td>10.4</td><td>7.741</td><td>15.904</td><td>15.35</td><td>14.722</td><td>0.025</td><td>0.027</td><td>0.072</td><td>0.143</td><td>0.083</td><td>0.102</td><td>0.09</td><td>1791130201351029659</td><td>0000</td><td>0</td><td>000n</td><td>AAAB</td><td>77</td><td>118</td><td>31</td><td>119</td><td>0.089</td><td>0.049999</td></tr>\n",
       "<tr><td>SDSSJ095103.03+142941.6</td><td>147.76265</td><td>14.49491</td><td>0.233</td><td>-9.0</td><td>QSO</td><td>J095103.03+142941.6</td><td>147.7626379</td><td>14.4949026</td><td>0.0396</td><td>0.0381</td><td>137.0</td><td>13.057</td><td>12.077</td><td>8.594</td><td>6.04</td><td>15.977</td><td>15.02</td><td>14.229</td><td>0.024</td><td>0.022</td><td>0.03</td><td>0.066</td><td>0.083</td><td>0.092</td><td>0.07</td><td>1471115101351000018</td><td>0000</td><td>0</td><td>1100</td><td>AAAA</td><td>96</td><td>53</td><td>98</td><td>56</td><td>0.056</td><td>0.049999</td></tr>\n",
       "<tr><td>SDSSJ150436.89+270600.0</td><td>226.153743</td><td>27.1000244</td><td>0.41787</td><td>9876543.0</td><td>Unknown</td><td>J150436.90+270600.0</td><td>226.1537509</td><td>27.1000124</td><td>0.0643</td><td>0.0619</td><td>179.3</td><td>14.647</td><td>14.393</td><td>12.908</td><td>9.506</td><td>17.011</td><td>15.719</td><td>14.972</td><td>0.029</td><td>0.042</td><td>--</td><td>--</td><td>0.211</td><td>--</td><td>0.169</td><td>2264127201351015796</td><td>h000</td><td>0</td><td>01nn</td><td>AAUU</td><td>-31</td><td>86</td><td>-134</td><td>95</td><td>0.277</td><td>0.049999</td></tr>\n",
       "<tr><td>LAMOST504013208</td><td>170.00596</td><td>48.08189</td><td>0.12572007</td><td>9876543.0</td><td>Galaxy</td><td>J112001.42+480454.7</td><td>170.0059408</td><td>48.0818847</td><td>0.0553</td><td>0.053</td><td>4.8</td><td>14.014</td><td>13.852</td><td>12.403</td><td>9.121</td><td>15.576</td><td>14.948</td><td>14.399</td><td>0.026</td><td>0.034</td><td>--</td><td>--</td><td>0.08</td><td>0.083</td><td>0.075</td><td>1709148401351013591</td><td>0000</td><td>0</td><td>11nn</td><td>AAUU</td><td>94</td><td>96</td><td>-102</td><td>105</td><td>0.109</td><td>0.049999</td></tr>\n",
       "</table></div>"
      ],
      "text/plain": [
       "<Table length=77712>\n",
       "         ONAME                 RA           DEC      ... e_pmDE   d2M   angDist \n",
       "        bytes107            float64       float64    ... int32  float32 float64 \n",
       "------------------------ -------------- ------------ ... ------ ------- --------\n",
       "WISEAJ112428.14-363548.5    171.1172539  -36.5968225 ...     55   2.073    1e-06\n",
       "WISEAJ144229.68-435343.2    220.6236974  -43.8953408 ...    505      --    1e-06\n",
       "WISEAJ163728.75+290335.9    249.3698107   29.0599733 ...    278      --    2e-06\n",
       "WISEAJ184321.55-621724.8    280.8398056  -62.2902233 ...     --      --    5e-06\n",
       "WISEAJ183203.33+633041.5    278.0139066   63.5115391 ...    248      --    7e-06\n",
       "WISEAJ000517.26-341452.8       1.321926  -34.2480098 ...    261      --    7e-06\n",
       "WISEAJ041514.13-810745.9     63.8088863  -81.1294387 ...     69      --    8e-06\n",
       "WISEAJ150206.92+781622.6    225.5288639   78.2729584 ...    285      --    9e-06\n",
       "WISEAJ050357.41-282633.0      75.989223  -28.4425115 ...     --      --  1.1e-05\n",
       "WISEAJ214758.54-635335.8    326.9939375  -63.8932904 ...    136   0.301  1.2e-05\n",
       "                     ...            ...          ... ...    ...     ...      ...\n",
       "         LAMOST399605218      131.95832     51.15924 ...    143   0.347 0.049997\n",
       " SDSSJ115205.18+382928.0     178.021614   38.4911345 ...    290      -- 0.049997\n",
       " SDSS1504239155469641728      243.77024     39.31195 ...     76   0.164 0.049997\n",
       "  SDSS994312869900216320      183.59372     53.64215 ...    105    0.06 0.049997\n",
       " SDSSJ145532.69+580519.7    223.8862155   58.0888205 ...    188      -- 0.049997\n",
       "WISEAJ113538.25+315012.5 173.9094019222 31.836811624 ...    237      -- 0.049998\n",
       "WISEAJ115816.26+302142.1       179.5678     30.36171 ...    119   0.089 0.049999\n",
       " SDSSJ095103.03+142941.6      147.76265     14.49491 ...     56   0.056 0.049999\n",
       " SDSSJ150436.89+270600.0     226.153743   27.1000244 ...     95   0.277 0.049999\n",
       "         LAMOST504013208      170.00596     48.08189 ...    105   0.109 0.049999"
      ]
     },
     "execution_count": 2,
     "metadata": {},
     "output_type": "execute_result"
    }
   ],
   "source": [
    "allwise = Table.read('../samples/AllWISE_sample.fits')\n",
    "allwise"
   ]
  },
  {
   "cell_type": "markdown",
   "metadata": {},
   "source": [
    "Clening process of the sample from AllWISE"
   ]
  },
  {
   "cell_type": "code",
   "execution_count": 3,
   "metadata": {},
   "outputs": [
    {
     "name": "stdout",
     "output_type": "stream",
     "text": [
      "Size before depure: 77712\n",
      "Size after depure: 77687\n"
     ]
    }
   ],
   "source": [
    "size_before_depure = len(allwise)\n",
    "print(f'Size before depure: {size_before_depure}')\n",
    "\n",
    "allowed_z = allwise[allwise['Z']!=0]                                                            #Masking of null redshifts\n",
    "qph_list = allwise['qph'].tolist()                                                              #Extract quality flags\n",
    "null_phot = ['X', 'Z']                                                                          #Null and uplim values in W bands\n",
    "not_null_quality = [not any(letter in qph[:-1] for letter in null_phot) for qph in qph_list]    #Test quality flags\n",
    "\n",
    "allwise = allowed_z[not_null_quality].copy()                                                    #Keep non-null values in quality\n",
    "\n",
    "size_after_depure = len(allwise)\n",
    "print(f'Size after depure: {size_after_depure}')"
   ]
  },
  {
   "cell_type": "markdown",
   "metadata": {},
   "source": [
    "Detections with 'U' flag in qph do not contain errors on the WISE bands, so better to set them to a single value, in this case we'll set them to 0"
   ]
  },
  {
   "cell_type": "code",
   "execution_count": 4,
   "metadata": {},
   "outputs": [],
   "source": [
    "allwise['e_W1mag'] = allwise['e_W1mag'].filled(0)                 #Replace null errors in WISE bands\n",
    "allwise['e_W2mag'] = allwise['e_W2mag'].filled(0)\n",
    "allwise['e_W3mag'] = allwise['e_W3mag'].filled(0)"
   ]
  },
  {
   "cell_type": "markdown",
   "metadata": {},
   "source": [
    "Since this algorithm have a Monte Carlo implementation for error propagation, we recommend to take slices for big sample (rows>200), so for this tutorial, we'll use a random slice from the AllWISE sample."
   ]
  },
  {
   "cell_type": "code",
   "execution_count": 5,
   "metadata": {},
   "outputs": [
    {
     "data": {
      "text/html": [
       "<div><i>Table length=1000</i>\n",
       "<table id=\"table140217160249840\" class=\"table-striped table-bordered table-condensed\">\n",
       "<thead><tr><th>ONAME</th><th>RA</th><th>DEC</th><th>Z</th><th>T</th><th>NED_TYPE</th><th>AllWISE</th><th>RAJ2000</th><th>DEJ2000</th><th>eeMaj</th><th>eeMin</th><th>eePA</th><th>W1mag</th><th>W2mag</th><th>W3mag</th><th>W4mag</th><th>Jmag</th><th>Hmag</th><th>Kmag</th><th>e_W1mag</th><th>e_W2mag</th><th>e_W3mag</th><th>e_W4mag</th><th>e_Jmag</th><th>e_Hmag</th><th>e_Kmag</th><th>ID</th><th>ccf</th><th>ex</th><th>var</th><th>qph</th><th>pmRA</th><th>e_pmRA</th><th>pmDE</th><th>e_pmDE</th><th>d2M</th><th>angDist</th></tr></thead>\n",
       "<thead><tr><th>bytes107</th><th>float64</th><th>float64</th><th>float64</th><th>float64</th><th>bytes7</th><th>bytes19</th><th>float64</th><th>float64</th><th>float32</th><th>float32</th><th>float32</th><th>float32</th><th>float32</th><th>float32</th><th>float32</th><th>float32</th><th>float32</th><th>float32</th><th>float32</th><th>float32</th><th>float32</th><th>float32</th><th>float32</th><th>float32</th><th>float32</th><th>int64</th><th>bytes4</th><th>bytes1</th><th>bytes4</th><th>bytes4</th><th>int32</th><th>int32</th><th>int32</th><th>int32</th><th>float32</th><th>float64</th></tr></thead>\n",
       "<tr><td>SDSS856884946675984384</td><td>125.68094</td><td>41.66647</td><td>0.2110126</td><td>-5.0</td><td>Galaxy</td><td>J082243.42+413959.2</td><td>125.680938</td><td>41.6664696</td><td>0.0509</td><td>0.0497</td><td>145.6</td><td>13.517</td><td>13.242</td><td>12.498</td><td>9.128</td><td>15.739</td><td>15.079</td><td>14.318</td><td>0.026</td><td>0.029</td><td>0.0</td><td>--</td><td>0.096</td><td>0.105</td><td>0.084</td><td>1253142401351002519</td><td>0000</td><td>1</td><td>11nn</td><td>AAUU</td><td>258</td><td>78</td><td>355</td><td>88</td><td>0.153</td><td>0.005579</td></tr>\n",
       "<tr><td>SDSSJ083232.71+463155.6</td><td>128.1363</td><td>46.5321314</td><td>0.28457433</td><td>9876543.0</td><td>Unknown</td><td>J083232.71+463155.7</td><td>128.1363009</td><td>46.5321447</td><td>0.0788</td><td>0.075</td><td>167.4</td><td>14.877</td><td>14.634</td><td>12.184</td><td>8.933</td><td>16.904</td><td>15.901</td><td>15.248</td><td>0.032</td><td>0.056</td><td>0.0</td><td>--</td><td>0.204</td><td>0.218</td><td>0.159</td><td>1287146901351015768</td><td>0000</td><td>0</td><td>00nn</td><td>AAUU</td><td>-206</td><td>200</td><td>-322</td><td>212</td><td>0.553</td><td>0.048025</td></tr>\n",
       "<tr><td>SDSSJ090924.39+232526.1</td><td>137.351631</td><td>23.4239195</td><td>0.49248335</td><td>9876543.0</td><td>Unknown</td><td>J090924.39+232526.1</td><td>137.3516259</td><td>23.4239264</td><td>0.1053</td><td>0.098</td><td>176.4</td><td>15.269</td><td>15.102</td><td>12.284</td><td>8.6</td><td>--</td><td>--</td><td>--</td><td>0.039</td><td>0.083</td><td>0.0</td><td>--</td><td>--</td><td>--</td><td>--</td><td>1368122701351051635</td><td>0000</td><td>0</td><td>11nn</td><td>AAUU</td><td>218</td><td>298</td><td>-31</td><td>331</td><td>--</td><td>0.030017</td></tr>\n",
       "<tr><td>SDSS1074265506761959424</td><td>182.87904</td><td>61.14136</td><td>0.123154365</td><td>-5.0</td><td>Galaxy</td><td>J121130.96+610828.9</td><td>182.8790289</td><td>61.1413703</td><td>0.0485</td><td>0.0472</td><td>146.5</td><td>13.432</td><td>13.257</td><td>11.884</td><td>8.853</td><td>15.198</td><td>14.48</td><td>14.005</td><td>0.025</td><td>0.028</td><td>0.205</td><td>--</td><td>0.063</td><td>0.076</td><td>0.078</td><td>1830160501351058102</td><td>0000</td><td>1</td><td>00nn</td><td>AABU</td><td>-83</td><td>70</td><td>-4</td><td>73</td><td>0.091</td><td>0.041772</td></tr>\n",
       "<tr><td>SDSS2674067867338565632</td><td>156.33562</td><td>19.27336</td><td>0.13611469</td><td>9876543.0</td><td>Galaxy</td><td>J102520.54+191624.0</td><td>156.3356222</td><td>19.2733542</td><td>0.0585</td><td>0.0572</td><td>155.6</td><td>14.046</td><td>13.846</td><td>12.513</td><td>9.06</td><td>15.706</td><td>15.074</td><td>14.542</td><td>0.028</td><td>0.036</td><td>0.469</td><td>--</td><td>0.061</td><td>0.072</td><td>0.086</td><td>1568119601351015425</td><td>0000</td><td>0</td><td>00nn</td><td>AACU</td><td>-29</td><td>108</td><td>106</td><td>117</td><td>0.103</td><td>0.022261</td></tr>\n",
       "<tr><td>SDSS3100819674045114368</td><td>232.13924</td><td>12.45095</td><td>0.13263583</td><td>9876543.0</td><td>Galaxy</td><td>J152833.42+122703.4</td><td>232.1392514</td><td>12.4509581</td><td>0.0582</td><td>0.0568</td><td>168.2</td><td>14.091</td><td>13.951</td><td>12.413</td><td>9.304</td><td>15.737</td><td>15.118</td><td>14.42</td><td>0.027</td><td>0.038</td><td>0.341</td><td>0.482</td><td>0.064</td><td>0.089</td><td>0.061</td><td>2317112101351045404</td><td>0000</td><td>0</td><td>00nn</td><td>AABC</td><td>55</td><td>105</td><td>-2</td><td>112</td><td>0.127</td><td>0.049366</td></tr>\n",
       "<tr><td>J114600.84-260823.3</td><td>176.5035356</td><td>-26.1398166</td><td>0.3</td><td>9876543.0</td><td>Unknown</td><td>J114600.84-260823.3</td><td>176.5035225</td><td>-26.1398177</td><td>0.0618</td><td>0.0594</td><td>173.0</td><td>14.481</td><td>13.59</td><td>11.586</td><td>8.426</td><td>--</td><td>--</td><td>--</td><td>0.029</td><td>0.034</td><td>0.215</td><td>--</td><td>--</td><td>--</td><td>--</td><td>1766025801351019227</td><td>0000</td><td>0</td><td>53nn</td><td>AABU</td><td>0</td><td>164</td><td>0</td><td>177</td><td>--</td><td>0.042477</td></tr>\n",
       "<tr><td>SDSSJ161532.79+070000.2</td><td>243.886665</td><td>7.0000598</td><td>0.29856867</td><td>9876543.0</td><td>Unknown</td><td>J161532.79+070000.1</td><td>243.8866662</td><td>7.0000555</td><td>0.0903</td><td>0.0843</td><td>7.3</td><td>15.089</td><td>14.928</td><td>12.061</td><td>8.965</td><td>17.425</td><td>16.05</td><td>15.293</td><td>0.035</td><td>0.074</td><td>0.0</td><td>0.487</td><td>0.265</td><td>0.187</td><td>0.181</td><td>2440107501351007619</td><td>0000</td><td>0</td><td>01nn</td><td>AAUC</td><td>321</td><td>245</td><td>580</td><td>272</td><td>0.45</td><td>0.016071</td></tr>\n",
       "<tr><td>SDSS1774528812755740672</td><td>244.38408</td><td>27.19927</td><td>0.1279412</td><td>-5.0</td><td>Galaxy</td><td>J161732.18+271157.4</td><td>244.384086</td><td>27.1992779</td><td>0.0457</td><td>0.0445</td><td>135.0</td><td>13.145</td><td>12.956</td><td>10.904</td><td>8.562</td><td>15.143</td><td>14.369</td><td>13.894</td><td>0.024</td><td>0.027</td><td>0.102</td><td>--</td><td>0.069</td><td>0.071</td><td>0.063</td><td>2450127201351035617</td><td>dd00</td><td>1</td><td>110n</td><td>AAAU</td><td>87</td><td>76</td><td>-107</td><td>76</td><td>0.125</td><td>0.034278</td></tr>\n",
       "<tr><td>SDSS2255290271094827008</td><td>185.51575</td><td>37.66089</td><td>0.14722429</td><td>9876543.0</td><td>Galaxy</td><td>J122203.78+373939.2</td><td>185.5157516</td><td>37.6608943</td><td>0.0565</td><td>0.055</td><td>169.0</td><td>14.01</td><td>13.808</td><td>12.148</td><td>8.834</td><td>15.761</td><td>14.939</td><td>14.504</td><td>0.027</td><td>0.035</td><td>0.0</td><td>--</td><td>0.071</td><td>0.071</td><td>0.075</td><td>1856137801351019049</td><td>0000</td><td>0</td><td>00nn</td><td>AAUU</td><td>-193</td><td>100</td><td>-37</td><td>109</td><td>0.19</td><td>0.016051</td></tr>\n",
       "<tr><td>...</td><td>...</td><td>...</td><td>...</td><td>...</td><td>...</td><td>...</td><td>...</td><td>...</td><td>...</td><td>...</td><td>...</td><td>...</td><td>...</td><td>...</td><td>...</td><td>...</td><td>...</td><td>...</td><td>...</td><td>...</td><td>...</td><td>...</td><td>...</td><td>...</td><td>...</td><td>...</td><td>...</td><td>...</td><td>...</td><td>...</td><td>...</td><td>...</td><td>...</td><td>...</td><td>...</td><td>...</td></tr>\n",
       "<tr><td>WISEAJ104123.23+264733.7</td><td>160.3468</td><td>26.79273</td><td>0.4</td><td>9876543.0</td><td>Galaxy</td><td>J104123.23+264733.7</td><td>160.3468018</td><td>26.792721</td><td>0.0639</td><td>0.0618</td><td>13.5</td><td>14.654</td><td>13.631</td><td>11.014</td><td>8.364</td><td>--</td><td>--</td><td>--</td><td>0.031</td><td>0.035</td><td>0.131</td><td>0.25</td><td>--</td><td>--</td><td>--</td><td>1605127201351015947</td><td>0000</td><td>0</td><td>00nn</td><td>AABB</td><td>159</td><td>163</td><td>46</td><td>172</td><td>--</td><td>0.032983</td></tr>\n",
       "<tr><td>WISEAJ161537.64-133925.2</td><td>243.9068626</td><td>-13.6570054</td><td>0.5</td><td>9876543.0</td><td>Unknown</td><td>J161537.64-133925.2</td><td>243.9068626</td><td>-13.6570054</td><td>0.1073</td><td>0.099</td><td>175.3</td><td>15.512</td><td>14.23</td><td>11.089</td><td>8.472</td><td>--</td><td>--</td><td>--</td><td>0.048</td><td>0.051</td><td>0.163</td><td>--</td><td>--</td><td>--</td><td>--</td><td>2436013701351026721</td><td>0000</td><td>0</td><td>00nn</td><td>AABU</td><td>-91</td><td>372</td><td>389</td><td>399</td><td>--</td><td>0.00012</td></tr>\n",
       "<tr><td>WISEAJ162523.48+440430.8</td><td>246.3478369881</td><td>44.075227626</td><td>0.13248433</td><td>9876543.0</td><td>Unknown</td><td>J162523.48+440430.8</td><td>246.347836</td><td>44.0752337</td><td>0.0608</td><td>0.0597</td><td>171.9</td><td>14.576</td><td>14.405</td><td>12.453</td><td>9.707</td><td>16.103</td><td>15.459</td><td>15.109</td><td>0.028</td><td>0.039</td><td>0.0</td><td>--</td><td>0.098</td><td>0.132</td><td>0.164</td><td>2455143901351050582</td><td>0000</td><td>0</td><td>00nn</td><td>AAUU</td><td>-92</td><td>116</td><td>-201</td><td>125</td><td>0.289</td><td>0.022002</td></tr>\n",
       "<tr><td>SDSSJ090613.91+033319.9</td><td>136.557978</td><td>3.5555408</td><td>0.45496666</td><td>9876543.0</td><td>Unknown</td><td>J090613.91+033319.9</td><td>136.5579888</td><td>3.5555489</td><td>0.1143</td><td>0.1049</td><td>2.7</td><td>15.482</td><td>15.272</td><td>12.663</td><td>8.697</td><td>--</td><td>--</td><td>--</td><td>0.042</td><td>0.088</td><td>0.0</td><td>--</td><td>--</td><td>--</td><td>--</td><td>1361103001351054397</td><td>0000</td><td>0</td><td>00nn</td><td>AAUU</td><td>90</td><td>325</td><td>105</td><td>364</td><td>--</td><td>0.048447</td></tr>\n",
       "<tr><td>WISEAJ124312.68+170309.8</td><td>190.8028267</td><td>17.0527309</td><td>0.4</td><td>9876543.0</td><td>Unknown</td><td>J124312.68+170309.8</td><td>190.8028389</td><td>17.052736</td><td>0.0909</td><td>0.0858</td><td>13.4</td><td>15.374</td><td>14.549</td><td>11.906</td><td>9.191</td><td>--</td><td>--</td><td>--</td><td>0.038</td><td>0.052</td><td>0.212</td><td>--</td><td>--</td><td>--</td><td>--</td><td>1902116601351048373</td><td>0000</td><td>0</td><td>00nn</td><td>AABU</td><td>-279</td><td>273</td><td>-268</td><td>294</td><td>--</td><td>0.045873</td></tr>\n",
       "<tr><td>SDSSJ220613.54-015507.1</td><td>331.5564465</td><td>-1.9186665</td><td>0.39162</td><td>9876543.0</td><td>Unknown</td><td>J220613.54-015507.1</td><td>331.5564435</td><td>-1.9186547</td><td>0.1884</td><td>0.1673</td><td>148.7</td><td>16.037</td><td>16.059</td><td>12.058</td><td>8.335</td><td>--</td><td>--</td><td>--</td><td>0.062</td><td>0.187</td><td>0.0</td><td>--</td><td>--</td><td>--</td><td>--</td><td>3312001601351020621</td><td>0000</td><td>0</td><td>0nnn</td><td>ABUU</td><td>485</td><td>641</td><td>692</td><td>678</td><td>--</td><td>0.043941</td></tr>\n",
       "<tr><td>SDSS917644747789592576</td><td>246.04267</td><td>42.03967</td><td>0.13351524</td><td>9876543.0</td><td>Galaxy</td><td>J162410.23+420222.7</td><td>246.0426635</td><td>42.0396623</td><td>0.0505</td><td>0.0489</td><td>150.6</td><td>13.925</td><td>13.679</td><td>11.78</td><td>9.173</td><td>15.721</td><td>14.944</td><td>14.348</td><td>0.025</td><td>0.031</td><td>0.163</td><td>--</td><td>0.071</td><td>0.085</td><td>0.076</td><td>2467142401351012039</td><td>0000</td><td>0</td><td>00nn</td><td>AABU</td><td>77</td><td>89</td><td>78</td><td>90</td><td>0.112</td><td>0.032777</td></tr>\n",
       "<tr><td>SDSSJ224739.45+315208.6</td><td>341.914398</td><td>31.8690654</td><td>0.17738767</td><td>9876543.0</td><td>Unknown</td><td>J224739.45+315208.6</td><td>341.9144013</td><td>31.8690631</td><td>0.0583</td><td>0.0563</td><td>113.0</td><td>14.195</td><td>13.867</td><td>12.245</td><td>8.647</td><td>15.936</td><td>15.242</td><td>14.495</td><td>0.027</td><td>0.038</td><td>0.0</td><td>--</td><td>0.085</td><td>0.109</td><td>0.084</td><td>3423131801351033480</td><td>0000</td><td>0</td><td>11nn</td><td>AAUU</td><td>-62</td><td>115</td><td>-55</td><td>117</td><td>0.129</td><td>0.013082</td></tr>\n",
       "<tr><td>WISEAJ145713.35-015307.6</td><td>224.3056504528</td><td>-1.8854517922</td><td>0.14326967</td><td>9876543.0</td><td>Unknown</td><td>J145713.35-015307.6</td><td>224.3056403</td><td>-1.8854537</td><td>0.0594</td><td>0.057</td><td>175.3</td><td>14.178</td><td>13.88</td><td>10.427</td><td>8.2</td><td>16.18</td><td>15.675</td><td>14.858</td><td>0.028</td><td>0.039</td><td>0.061</td><td>0.223</td><td>0.106</td><td>0.158</td><td>0.18</td><td>2238001601351020610</td><td>0h00</td><td>0</td><td>000n</td><td>AAAB</td><td>100</td><td>127</td><td>47</td><td>139</td><td>0.212</td><td>0.03703</td></tr>\n",
       "<tr><td>WISEAJ155843.17+305353.7</td><td>239.67989</td><td>30.89824</td><td>0.152</td><td>3.7</td><td>Galaxy</td><td>J155843.17+305353.7</td><td>239.6798981</td><td>30.8982504</td><td>0.0503</td><td>0.0449</td><td>158.2</td><td>13.529</td><td>13.159</td><td>9.728</td><td>8.027</td><td>15.635</td><td>14.879</td><td>14.402</td><td>0.027</td><td>0.028</td><td>0.035</td><td>0.165</td><td>0.094</td><td>0.117</td><td>0.086</td><td>2400130201351059918</td><td>0000</td><td>1</td><td>110n</td><td>AAAB</td><td>-29</td><td>67</td><td>-135</td><td>72</td><td>0.308</td><td>0.045108</td></tr>\n",
       "</table></div>"
      ],
      "text/plain": [
       "<Table length=1000>\n",
       "         ONAME                 RA            DEC      ...   d2M   angDist \n",
       "        bytes107            float64        float64    ... float32 float64 \n",
       "------------------------ -------------- ------------- ... ------- --------\n",
       "  SDSS856884946675984384      125.68094      41.66647 ...   0.153 0.005579\n",
       " SDSSJ083232.71+463155.6       128.1363    46.5321314 ...   0.553 0.048025\n",
       " SDSSJ090924.39+232526.1     137.351631    23.4239195 ...      -- 0.030017\n",
       " SDSS1074265506761959424      182.87904      61.14136 ...   0.091 0.041772\n",
       " SDSS2674067867338565632      156.33562      19.27336 ...   0.103 0.022261\n",
       " SDSS3100819674045114368      232.13924      12.45095 ...   0.127 0.049366\n",
       "     J114600.84-260823.3    176.5035356   -26.1398166 ...      -- 0.042477\n",
       " SDSSJ161532.79+070000.2     243.886665     7.0000598 ...    0.45 0.016071\n",
       " SDSS1774528812755740672      244.38408      27.19927 ...   0.125 0.034278\n",
       " SDSS2255290271094827008      185.51575      37.66089 ...    0.19 0.016051\n",
       "                     ...            ...           ... ...     ...      ...\n",
       "WISEAJ104123.23+264733.7       160.3468      26.79273 ...      -- 0.032983\n",
       "WISEAJ161537.64-133925.2    243.9068626   -13.6570054 ...      --  0.00012\n",
       "WISEAJ162523.48+440430.8 246.3478369881  44.075227626 ...   0.289 0.022002\n",
       " SDSSJ090613.91+033319.9     136.557978     3.5555408 ...      -- 0.048447\n",
       "WISEAJ124312.68+170309.8    190.8028267    17.0527309 ...      -- 0.045873\n",
       " SDSSJ220613.54-015507.1    331.5564465    -1.9186665 ...      -- 0.043941\n",
       "  SDSS917644747789592576      246.04267      42.03967 ...   0.112 0.032777\n",
       " SDSSJ224739.45+315208.6     341.914398    31.8690654 ...   0.129 0.013082\n",
       "WISEAJ145713.35-015307.6 224.3056504528 -1.8854517922 ...   0.212  0.03703\n",
       "WISEAJ155843.17+305353.7      239.67989      30.89824 ...   0.308 0.045108"
      ]
     },
     "execution_count": 5,
     "metadata": {},
     "output_type": "execute_result"
    }
   ],
   "source": [
    "random_indices = random.sample(range(len(allwise)), 1000)\n",
    "new_allwise = allwise[random_indices]\n",
    "new_allwise"
   ]
  },
  {
   "cell_type": "markdown",
   "metadata": {},
   "source": [
    "First, store the observed colors and then define the Monte Carlo arrays for W1, W2 and W3, with the same colors but now for Monte Carlo arrays"
   ]
  },
  {
   "cell_type": "code",
   "execution_count": 6,
   "metadata": {},
   "outputs": [],
   "source": [
    "new_allwise['W1-W2_obs'] = new_allwise['W1mag'] - new_allwise['W2mag']\n",
    "new_allwise['W2-W3_obs'] = new_allwise['W2mag'] - new_allwise['W3mag']"
   ]
  },
  {
   "cell_type": "code",
   "execution_count": 7,
   "metadata": {},
   "outputs": [],
   "source": [
    "w1 = wm.array_montecarlo(new_allwise['W1mag'],new_allwise['e_W1mag'])\n",
    "w2 = wm.array_montecarlo(new_allwise['W2mag'],new_allwise['e_W2mag'])\n",
    "w3 = wm.array_montecarlo(new_allwise['W3mag'],new_allwise['e_W3mag'])\n",
    "z = np.array(new_allwise['Z'])\n",
    "\n",
    "w1w2_obs = w1-w2\n",
    "w2w3_obs = w2-w3"
   ]
  },
  {
   "cell_type": "markdown",
   "metadata": {},
   "source": [
    "# K-corrections for the defined sample\n",
    "\n",
    "Now that all initial colors are created, one can start by the first masking of the reject zone by deleting all sources with a W2-W3>4.4"
   ]
  },
  {
   "cell_type": "code",
   "execution_count": 8,
   "metadata": {},
   "outputs": [],
   "source": [
    "first_reject_zone = new_allwise['W2-W3_obs']<=4.4"
   ]
  },
  {
   "cell_type": "code",
   "execution_count": 9,
   "metadata": {},
   "outputs": [],
   "source": [
    "w1 = w1[first_reject_zone]\n",
    "w2 = w2[first_reject_zone]\n",
    "w3 = w3[first_reject_zone]\n",
    "z = z[first_reject_zone]\n",
    "\n",
    "w1w2_obs = w1w2_obs[first_reject_zone]\n",
    "w2w3_obs = w2w3_obs[first_reject_zone]\n",
    "\n",
    "new_allwise = new_allwise[first_reject_zone]"
   ]
  },
  {
   "cell_type": "markdown",
   "metadata": {},
   "source": [
    "It is necessary to create new arrays to store K-corrected W1abs and the K-correction factor of W1-W2 and W2-W3"
   ]
  },
  {
   "cell_type": "code",
   "execution_count": 10,
   "metadata": {},
   "outputs": [],
   "source": [
    "w1w2_kcors = np.zeros(np.shape(w1w2_obs)[0])                                                \n",
    "w2w3_kcors = np.zeros(np.shape(w2w3_obs)[0])\n",
    "w1abs = np.zeros(np.shape(w1))"
   ]
  },
  {
   "cell_type": "code",
   "execution_count": 11,
   "metadata": {},
   "outputs": [],
   "source": [
    "object_condition = (new_allwise['NED_TYPE']=='RadioS') | (new_allwise['NED_TYPE']=='QSO')\n",
    "color_condition_1 = (new_allwise['W1-W2_obs']>0.8) & (new_allwise['W2-W3_obs']<2.2)\n",
    "color_condition_2 = (new_allwise['W1-W2_obs']>wm.w1w2_treshold_qso(new_allwise['W2-W3_obs'])) & (new_allwise['W2-W3_obs']>=2.2) & (new_allwise['W2-W3_obs']<=4.4)\n",
    "\n",
    "suboptimal_cond = (new_allwise['Z']>=0.5) & (new_allwise['Z']<=3) & ~object_condition & ~(color_condition_1 | color_condition_2)\n",
    "nok_cond = (new_allwise['Z']>3) | object_condition | color_condition_1 | color_condition_2\n",
    "\n",
    "optimal_sample = new_allwise[(new_allwise['Z']<0.5) & ~object_condition & ~(color_condition_1 | color_condition_2)]\n",
    "suboptimal_sample = new_allwise[suboptimal_cond]                                                                            #Samples for k-correcion                \n",
    "nok_sample = new_allwise[nok_cond]"
   ]
  },
  {
   "cell_type": "markdown",
   "metadata": {},
   "source": [
    "To create the final quality tag, here we store the K-correction tag"
   ]
  },
  {
   "cell_type": "code",
   "execution_count": 12,
   "metadata": {},
   "outputs": [],
   "source": [
    "new_allwise['K_QUALITY'] = int(0)\n",
    "\n",
    "new_allwise['K_QUALITY'] = np.where(suboptimal_cond, int(1), new_allwise['K_QUALITY'])\n",
    "new_allwise['K_QUALITY'] = np.where(nok_cond, int(2), new_allwise['K_QUALITY'])"
   ]
  },
  {
   "cell_type": "markdown",
   "metadata": {},
   "source": [
    "Now we import the look-up tables from Jarrett+2023 to use"
   ]
  },
  {
   "cell_type": "code",
   "execution_count": 13,
   "metadata": {},
   "outputs": [],
   "source": [
    "e_table = wm.kcorr_table('E')\n",
    "l_table = wm.kcorr_table('L')\n",
    "s_table = wm.kcorr_table('S')"
   ]
  },
  {
   "cell_type": "code",
   "execution_count": 14,
   "metadata": {},
   "outputs": [
    {
     "data": {
      "text/html": [
       "<div>\n",
       "<style scoped>\n",
       "    .dataframe tbody tr th:only-of-type {\n",
       "        vertical-align: middle;\n",
       "    }\n",
       "\n",
       "    .dataframe tbody tr th {\n",
       "        vertical-align: top;\n",
       "    }\n",
       "\n",
       "    .dataframe thead th {\n",
       "        text-align: right;\n",
       "    }\n",
       "</style>\n",
       "<table border=\"1\" class=\"dataframe\">\n",
       "  <thead>\n",
       "    <tr style=\"text-align: right;\">\n",
       "      <th></th>\n",
       "      <th>z</th>\n",
       "      <th>f1</th>\n",
       "      <th>W1-W2</th>\n",
       "      <th>W1-W3</th>\n",
       "      <th>W3-W4</th>\n",
       "      <th>W2-W3</th>\n",
       "    </tr>\n",
       "  </thead>\n",
       "  <tbody>\n",
       "    <tr>\n",
       "      <th>0</th>\n",
       "      <td>0.00050</td>\n",
       "      <td>1.000</td>\n",
       "      <td>-0.000</td>\n",
       "      <td>-0.000</td>\n",
       "      <td>-0.000</td>\n",
       "      <td>-0.000</td>\n",
       "    </tr>\n",
       "    <tr>\n",
       "      <th>1</th>\n",
       "      <td>0.00100</td>\n",
       "      <td>1.000</td>\n",
       "      <td>0.000</td>\n",
       "      <td>0.001</td>\n",
       "      <td>0.000</td>\n",
       "      <td>0.001</td>\n",
       "    </tr>\n",
       "    <tr>\n",
       "      <th>2</th>\n",
       "      <td>0.00150</td>\n",
       "      <td>0.998</td>\n",
       "      <td>0.002</td>\n",
       "      <td>0.001</td>\n",
       "      <td>0.001</td>\n",
       "      <td>-0.001</td>\n",
       "    </tr>\n",
       "    <tr>\n",
       "      <th>3</th>\n",
       "      <td>0.00200</td>\n",
       "      <td>0.995</td>\n",
       "      <td>0.000</td>\n",
       "      <td>0.000</td>\n",
       "      <td>0.001</td>\n",
       "      <td>0.000</td>\n",
       "    </tr>\n",
       "    <tr>\n",
       "      <th>4</th>\n",
       "      <td>0.00250</td>\n",
       "      <td>0.995</td>\n",
       "      <td>0.005</td>\n",
       "      <td>0.002</td>\n",
       "      <td>0.002</td>\n",
       "      <td>-0.003</td>\n",
       "    </tr>\n",
       "    <tr>\n",
       "      <th>...</th>\n",
       "      <td>...</td>\n",
       "      <td>...</td>\n",
       "      <td>...</td>\n",
       "      <td>...</td>\n",
       "      <td>...</td>\n",
       "      <td>...</td>\n",
       "    </tr>\n",
       "    <tr>\n",
       "      <th>827</th>\n",
       "      <td>2.87603</td>\n",
       "      <td>0.043</td>\n",
       "      <td>0.930</td>\n",
       "      <td>1.733</td>\n",
       "      <td>-0.180</td>\n",
       "      <td>0.803</td>\n",
       "    </tr>\n",
       "    <tr>\n",
       "      <th>828</th>\n",
       "      <td>2.90479</td>\n",
       "      <td>0.043</td>\n",
       "      <td>0.941</td>\n",
       "      <td>1.758</td>\n",
       "      <td>-0.180</td>\n",
       "      <td>0.817</td>\n",
       "    </tr>\n",
       "    <tr>\n",
       "      <th>829</th>\n",
       "      <td>2.93384</td>\n",
       "      <td>0.043</td>\n",
       "      <td>0.952</td>\n",
       "      <td>1.783</td>\n",
       "      <td>-0.181</td>\n",
       "      <td>0.831</td>\n",
       "    </tr>\n",
       "    <tr>\n",
       "      <th>830</th>\n",
       "      <td>2.96318</td>\n",
       "      <td>0.043</td>\n",
       "      <td>0.963</td>\n",
       "      <td>1.808</td>\n",
       "      <td>-0.182</td>\n",
       "      <td>0.845</td>\n",
       "    </tr>\n",
       "    <tr>\n",
       "      <th>831</th>\n",
       "      <td>2.99281</td>\n",
       "      <td>0.043</td>\n",
       "      <td>0.973</td>\n",
       "      <td>1.833</td>\n",
       "      <td>-0.182</td>\n",
       "      <td>0.860</td>\n",
       "    </tr>\n",
       "  </tbody>\n",
       "</table>\n",
       "<p>832 rows × 6 columns</p>\n",
       "</div>"
      ],
      "text/plain": [
       "           z     f1  W1-W2  W1-W3  W3-W4  W2-W3\n",
       "0    0.00050  1.000 -0.000 -0.000 -0.000 -0.000\n",
       "1    0.00100  1.000  0.000  0.001  0.000  0.001\n",
       "2    0.00150  0.998  0.002  0.001  0.001 -0.001\n",
       "3    0.00200  0.995  0.000  0.000  0.001  0.000\n",
       "4    0.00250  0.995  0.005  0.002  0.002 -0.003\n",
       "..       ...    ...    ...    ...    ...    ...\n",
       "827  2.87603  0.043  0.930  1.733 -0.180  0.803\n",
       "828  2.90479  0.043  0.941  1.758 -0.180  0.817\n",
       "829  2.93384  0.043  0.952  1.783 -0.181  0.831\n",
       "830  2.96318  0.043  0.963  1.808 -0.182  0.845\n",
       "831  2.99281  0.043  0.973  1.833 -0.182  0.860\n",
       "\n",
       "[832 rows x 6 columns]"
      ]
     },
     "execution_count": 14,
     "metadata": {},
     "output_type": "execute_result"
    }
   ],
   "source": [
    "e_table"
   ]
  },
  {
   "cell_type": "code",
   "execution_count": 15,
   "metadata": {},
   "outputs": [
    {
     "ename": "TypeError",
     "evalue": "'numpy.float64' object is not iterable",
     "output_type": "error",
     "traceback": [
      "\u001b[0;31m---------------------------------------------------------------------------\u001b[0m",
      "\u001b[0;31mTypeError\u001b[0m                                 Traceback (most recent call last)",
      "\u001b[1;32m/home/joacoh/OneDrive/wise2mbh/notebooks/allwise_test.ipynb Cell 24\u001b[0m line \u001b[0;36m3\n\u001b[1;32m     <a href='vscode-notebook-cell:/home/joacoh/OneDrive/wise2mbh/notebooks/allwise_test.ipynb#X31sZmlsZQ%3D%3D?line=29'>30</a>\u001b[0m factor_w3 \u001b[39m=\u001b[39m \u001b[39m31.674\u001b[39m\n\u001b[1;32m     <a href='vscode-notebook-cell:/home/joacoh/OneDrive/wise2mbh/notebooks/allwise_test.ipynb#X31sZmlsZQ%3D%3D?line=31'>32</a>\u001b[0m w2w3_limit \u001b[39m=\u001b[39m \u001b[39m-\u001b[39m\u001b[39m2.5\u001b[39m\u001b[39m*\u001b[39m(np\u001b[39m.\u001b[39mlog10(factor_w3\u001b[39m/\u001b[39mfactor_w2) \u001b[39m+\u001b[39m \u001b[39m0.1\u001b[39m)                             \u001b[39m#Last value is the flux limit from Mateos et al. (2012)\u001b[39;00m\n\u001b[0;32m---> <a href='vscode-notebook-cell:/home/joacoh/OneDrive/wise2mbh/notebooks/allwise_test.ipynb#X31sZmlsZQ%3D%3D?line=33'>34</a>\u001b[0m no_type_w1w2_kcor \u001b[39m=\u001b[39m [\n\u001b[1;32m     <a href='vscode-notebook-cell:/home/joacoh/OneDrive/wise2mbh/notebooks/allwise_test.ipynb#X31sZmlsZQ%3D%3D?line=34'>35</a>\u001b[0m     wm\u001b[39m.\u001b[39mget_correction_factor(lookup_table\u001b[39m=\u001b[39me_table, redshift\u001b[39m=\u001b[39mz, correction_factor\u001b[39m=\u001b[39m\u001b[39m'\u001b[39m\u001b[39mW1-W2\u001b[39m\u001b[39m'\u001b[39m) \u001b[39mif\u001b[39;00m (color_x\u001b[39m<\u001b[39m\u001b[39m=\u001b[39mw2w3_limit)\n\u001b[1;32m     <a href='vscode-notebook-cell:/home/joacoh/OneDrive/wise2mbh/notebooks/allwise_test.ipynb#X31sZmlsZQ%3D%3D?line=35'>36</a>\u001b[0m     \u001b[39melse\u001b[39;00m wm\u001b[39m.\u001b[39mget_correction_factor(lookup_table\u001b[39m=\u001b[39ms_table, redshift\u001b[39m=\u001b[39mz, correction_factor\u001b[39m=\u001b[39m\u001b[39m'\u001b[39m\u001b[39mW1-W2\u001b[39m\u001b[39m'\u001b[39m) \u001b[39mif\u001b[39;00m (color_x\u001b[39m>\u001b[39mw2w3_limit) \u001b[39melse\u001b[39;00m \u001b[39m0\u001b[39m\n\u001b[1;32m     <a href='vscode-notebook-cell:/home/joacoh/OneDrive/wise2mbh/notebooks/allwise_test.ipynb#X31sZmlsZQ%3D%3D?line=36'>37</a>\u001b[0m     \u001b[39mfor\u001b[39;00m color_x,color_y,z \u001b[39min\u001b[39;00m \u001b[39mzip\u001b[39m(w2w3_no_type,w1w2_no_type, z_no_type)\n\u001b[1;32m     <a href='vscode-notebook-cell:/home/joacoh/OneDrive/wise2mbh/notebooks/allwise_test.ipynb#X31sZmlsZQ%3D%3D?line=37'>38</a>\u001b[0m     ]\n\u001b[1;32m     <a href='vscode-notebook-cell:/home/joacoh/OneDrive/wise2mbh/notebooks/allwise_test.ipynb#X31sZmlsZQ%3D%3D?line=38'>39</a>\u001b[0m no_type_w2w3_kcor \u001b[39m=\u001b[39m [\n\u001b[1;32m     <a href='vscode-notebook-cell:/home/joacoh/OneDrive/wise2mbh/notebooks/allwise_test.ipynb#X31sZmlsZQ%3D%3D?line=39'>40</a>\u001b[0m     wm\u001b[39m.\u001b[39mget_correction_factor(lookup_table\u001b[39m=\u001b[39me_table, redshift\u001b[39m=\u001b[39mz, correction_factor\u001b[39m=\u001b[39m\u001b[39m'\u001b[39m\u001b[39mW2-W3\u001b[39m\u001b[39m'\u001b[39m) \u001b[39mif\u001b[39;00m (color_x\u001b[39m<\u001b[39m\u001b[39m=\u001b[39mw2w3_limit)\n\u001b[1;32m     <a href='vscode-notebook-cell:/home/joacoh/OneDrive/wise2mbh/notebooks/allwise_test.ipynb#X31sZmlsZQ%3D%3D?line=40'>41</a>\u001b[0m     \u001b[39melse\u001b[39;00m wm\u001b[39m.\u001b[39mget_correction_factor(lookup_table\u001b[39m=\u001b[39ms_table, redshift\u001b[39m=\u001b[39mz, correction_factor\u001b[39m=\u001b[39m\u001b[39m'\u001b[39m\u001b[39mW2-W3\u001b[39m\u001b[39m'\u001b[39m) \u001b[39mif\u001b[39;00m (color_x\u001b[39m>\u001b[39mw2w3_limit)  \u001b[39melse\u001b[39;00m \u001b[39m0\u001b[39m\n\u001b[1;32m     <a href='vscode-notebook-cell:/home/joacoh/OneDrive/wise2mbh/notebooks/allwise_test.ipynb#X31sZmlsZQ%3D%3D?line=41'>42</a>\u001b[0m     \u001b[39mfor\u001b[39;00m color_x,color_y,z \u001b[39min\u001b[39;00m \u001b[39mzip\u001b[39m(w2w3_no_type,w1w2_no_type, z_no_type)\n\u001b[1;32m     <a href='vscode-notebook-cell:/home/joacoh/OneDrive/wise2mbh/notebooks/allwise_test.ipynb#X31sZmlsZQ%3D%3D?line=42'>43</a>\u001b[0m     ]\n\u001b[1;32m     <a href='vscode-notebook-cell:/home/joacoh/OneDrive/wise2mbh/notebooks/allwise_test.ipynb#X31sZmlsZQ%3D%3D?line=44'>45</a>\u001b[0m no_type_w1_kcorrected \u001b[39m=\u001b[39m [\n\u001b[1;32m     <a href='vscode-notebook-cell:/home/joacoh/OneDrive/wise2mbh/notebooks/allwise_test.ipynb#X31sZmlsZQ%3D%3D?line=45'>46</a>\u001b[0m     wm\u001b[39m.\u001b[39mw1_k_corrected(lookup_table\u001b[39m=\u001b[39me_table,w1\u001b[39m=\u001b[39mw1[no_type_id],z\u001b[39m=\u001b[39mnp\u001b[39m.\u001b[39marray([z]))[\u001b[39m0\u001b[39m] \u001b[39mif\u001b[39;00m (color_x\u001b[39m<\u001b[39m\u001b[39m=\u001b[39mw2w3_limit)\n\u001b[1;32m     <a href='vscode-notebook-cell:/home/joacoh/OneDrive/wise2mbh/notebooks/allwise_test.ipynb#X31sZmlsZQ%3D%3D?line=46'>47</a>\u001b[0m     \u001b[39melse\u001b[39;00m wm\u001b[39m.\u001b[39mw1_k_corrected(lookup_table\u001b[39m=\u001b[39ms_table,w1\u001b[39m=\u001b[39mw1[no_type_id],z\u001b[39m=\u001b[39mnp\u001b[39m.\u001b[39marray([z]))[\u001b[39m0\u001b[39m] \u001b[39mif\u001b[39;00m (color_x\u001b[39m>\u001b[39mw2w3_limit) \u001b[39melse\u001b[39;00m w1[no_type_index]\n\u001b[1;32m     <a href='vscode-notebook-cell:/home/joacoh/OneDrive/wise2mbh/notebooks/allwise_test.ipynb#X31sZmlsZQ%3D%3D?line=47'>48</a>\u001b[0m     \u001b[39mfor\u001b[39;00m color_x,color_y,z,no_type_index \u001b[39min\u001b[39;00m \u001b[39mzip\u001b[39m(w2w3_no_type,w1w2_no_type, z_no_type, no_type_index)\n\u001b[1;32m     <a href='vscode-notebook-cell:/home/joacoh/OneDrive/wise2mbh/notebooks/allwise_test.ipynb#X31sZmlsZQ%3D%3D?line=48'>49</a>\u001b[0m     ]   \n",
      "\u001b[1;32m/home/joacoh/OneDrive/wise2mbh/notebooks/allwise_test.ipynb Cell 24\u001b[0m line \u001b[0;36m3\n\u001b[1;32m     <a href='vscode-notebook-cell:/home/joacoh/OneDrive/wise2mbh/notebooks/allwise_test.ipynb#X31sZmlsZQ%3D%3D?line=29'>30</a>\u001b[0m factor_w3 \u001b[39m=\u001b[39m \u001b[39m31.674\u001b[39m\n\u001b[1;32m     <a href='vscode-notebook-cell:/home/joacoh/OneDrive/wise2mbh/notebooks/allwise_test.ipynb#X31sZmlsZQ%3D%3D?line=31'>32</a>\u001b[0m w2w3_limit \u001b[39m=\u001b[39m \u001b[39m-\u001b[39m\u001b[39m2.5\u001b[39m\u001b[39m*\u001b[39m(np\u001b[39m.\u001b[39mlog10(factor_w3\u001b[39m/\u001b[39mfactor_w2) \u001b[39m+\u001b[39m \u001b[39m0.1\u001b[39m)                             \u001b[39m#Last value is the flux limit from Mateos et al. (2012)\u001b[39;00m\n\u001b[1;32m     <a href='vscode-notebook-cell:/home/joacoh/OneDrive/wise2mbh/notebooks/allwise_test.ipynb#X31sZmlsZQ%3D%3D?line=33'>34</a>\u001b[0m no_type_w1w2_kcor \u001b[39m=\u001b[39m [\n\u001b[1;32m     <a href='vscode-notebook-cell:/home/joacoh/OneDrive/wise2mbh/notebooks/allwise_test.ipynb#X31sZmlsZQ%3D%3D?line=34'>35</a>\u001b[0m     wm\u001b[39m.\u001b[39mget_correction_factor(lookup_table\u001b[39m=\u001b[39me_table, redshift\u001b[39m=\u001b[39mz, correction_factor\u001b[39m=\u001b[39m\u001b[39m'\u001b[39m\u001b[39mW1-W2\u001b[39m\u001b[39m'\u001b[39m) \u001b[39mif\u001b[39;00m (color_x\u001b[39m<\u001b[39m\u001b[39m=\u001b[39mw2w3_limit)\n\u001b[0;32m---> <a href='vscode-notebook-cell:/home/joacoh/OneDrive/wise2mbh/notebooks/allwise_test.ipynb#X31sZmlsZQ%3D%3D?line=35'>36</a>\u001b[0m     \u001b[39melse\u001b[39;00m wm\u001b[39m.\u001b[39;49mget_correction_factor(lookup_table\u001b[39m=\u001b[39;49ms_table, redshift\u001b[39m=\u001b[39;49mz, correction_factor\u001b[39m=\u001b[39;49m\u001b[39m'\u001b[39;49m\u001b[39mW1-W2\u001b[39;49m\u001b[39m'\u001b[39;49m) \u001b[39mif\u001b[39;00m (color_x\u001b[39m>\u001b[39mw2w3_limit) \u001b[39melse\u001b[39;00m \u001b[39m0\u001b[39m\n\u001b[1;32m     <a href='vscode-notebook-cell:/home/joacoh/OneDrive/wise2mbh/notebooks/allwise_test.ipynb#X31sZmlsZQ%3D%3D?line=36'>37</a>\u001b[0m     \u001b[39mfor\u001b[39;00m color_x,color_y,z \u001b[39min\u001b[39;00m \u001b[39mzip\u001b[39m(w2w3_no_type,w1w2_no_type, z_no_type)\n\u001b[1;32m     <a href='vscode-notebook-cell:/home/joacoh/OneDrive/wise2mbh/notebooks/allwise_test.ipynb#X31sZmlsZQ%3D%3D?line=37'>38</a>\u001b[0m     ]\n\u001b[1;32m     <a href='vscode-notebook-cell:/home/joacoh/OneDrive/wise2mbh/notebooks/allwise_test.ipynb#X31sZmlsZQ%3D%3D?line=38'>39</a>\u001b[0m no_type_w2w3_kcor \u001b[39m=\u001b[39m [\n\u001b[1;32m     <a href='vscode-notebook-cell:/home/joacoh/OneDrive/wise2mbh/notebooks/allwise_test.ipynb#X31sZmlsZQ%3D%3D?line=39'>40</a>\u001b[0m     wm\u001b[39m.\u001b[39mget_correction_factor(lookup_table\u001b[39m=\u001b[39me_table, redshift\u001b[39m=\u001b[39mz, correction_factor\u001b[39m=\u001b[39m\u001b[39m'\u001b[39m\u001b[39mW2-W3\u001b[39m\u001b[39m'\u001b[39m) \u001b[39mif\u001b[39;00m (color_x\u001b[39m<\u001b[39m\u001b[39m=\u001b[39mw2w3_limit)\n\u001b[1;32m     <a href='vscode-notebook-cell:/home/joacoh/OneDrive/wise2mbh/notebooks/allwise_test.ipynb#X31sZmlsZQ%3D%3D?line=40'>41</a>\u001b[0m     \u001b[39melse\u001b[39;00m wm\u001b[39m.\u001b[39mget_correction_factor(lookup_table\u001b[39m=\u001b[39ms_table, redshift\u001b[39m=\u001b[39mz, correction_factor\u001b[39m=\u001b[39m\u001b[39m'\u001b[39m\u001b[39mW2-W3\u001b[39m\u001b[39m'\u001b[39m) \u001b[39mif\u001b[39;00m (color_x\u001b[39m>\u001b[39mw2w3_limit)  \u001b[39melse\u001b[39;00m \u001b[39m0\u001b[39m\n\u001b[1;32m     <a href='vscode-notebook-cell:/home/joacoh/OneDrive/wise2mbh/notebooks/allwise_test.ipynb#X31sZmlsZQ%3D%3D?line=41'>42</a>\u001b[0m     \u001b[39mfor\u001b[39;00m color_x,color_y,z \u001b[39min\u001b[39;00m \u001b[39mzip\u001b[39m(w2w3_no_type,w1w2_no_type, z_no_type)\n\u001b[1;32m     <a href='vscode-notebook-cell:/home/joacoh/OneDrive/wise2mbh/notebooks/allwise_test.ipynb#X31sZmlsZQ%3D%3D?line=42'>43</a>\u001b[0m     ]\n\u001b[1;32m     <a href='vscode-notebook-cell:/home/joacoh/OneDrive/wise2mbh/notebooks/allwise_test.ipynb#X31sZmlsZQ%3D%3D?line=44'>45</a>\u001b[0m no_type_w1_kcorrected \u001b[39m=\u001b[39m [\n\u001b[1;32m     <a href='vscode-notebook-cell:/home/joacoh/OneDrive/wise2mbh/notebooks/allwise_test.ipynb#X31sZmlsZQ%3D%3D?line=45'>46</a>\u001b[0m     wm\u001b[39m.\u001b[39mw1_k_corrected(lookup_table\u001b[39m=\u001b[39me_table,w1\u001b[39m=\u001b[39mw1[no_type_id],z\u001b[39m=\u001b[39mnp\u001b[39m.\u001b[39marray([z]))[\u001b[39m0\u001b[39m] \u001b[39mif\u001b[39;00m (color_x\u001b[39m<\u001b[39m\u001b[39m=\u001b[39mw2w3_limit)\n\u001b[1;32m     <a href='vscode-notebook-cell:/home/joacoh/OneDrive/wise2mbh/notebooks/allwise_test.ipynb#X31sZmlsZQ%3D%3D?line=46'>47</a>\u001b[0m     \u001b[39melse\u001b[39;00m wm\u001b[39m.\u001b[39mw1_k_corrected(lookup_table\u001b[39m=\u001b[39ms_table,w1\u001b[39m=\u001b[39mw1[no_type_id],z\u001b[39m=\u001b[39mnp\u001b[39m.\u001b[39marray([z]))[\u001b[39m0\u001b[39m] \u001b[39mif\u001b[39;00m (color_x\u001b[39m>\u001b[39mw2w3_limit) \u001b[39melse\u001b[39;00m w1[no_type_index]\n\u001b[1;32m     <a href='vscode-notebook-cell:/home/joacoh/OneDrive/wise2mbh/notebooks/allwise_test.ipynb#X31sZmlsZQ%3D%3D?line=47'>48</a>\u001b[0m     \u001b[39mfor\u001b[39;00m color_x,color_y,z,no_type_index \u001b[39min\u001b[39;00m \u001b[39mzip\u001b[39m(w2w3_no_type,w1w2_no_type, z_no_type, no_type_index)\n\u001b[1;32m     <a href='vscode-notebook-cell:/home/joacoh/OneDrive/wise2mbh/notebooks/allwise_test.ipynb#X31sZmlsZQ%3D%3D?line=48'>49</a>\u001b[0m     ]   \n",
      "File \u001b[0;32m~/miniconda3/lib/python3.10/site-packages/wise2mbh/wise2mbh.py:216\u001b[0m, in \u001b[0;36mget_correction_factor\u001b[0;34m(lookup_table, redshift, correction_factor)\u001b[0m\n\u001b[1;32m    214\u001b[0m \u001b[39melse\u001b[39;00m:\n\u001b[1;32m    215\u001b[0m     to_return \u001b[39m=\u001b[39m []\n\u001b[0;32m--> 216\u001b[0m     \u001b[39mfor\u001b[39;00m redshift \u001b[39min\u001b[39;00m redshift:\n\u001b[1;32m    217\u001b[0m         \u001b[39mif\u001b[39;00m redshift \u001b[39m<\u001b[39m lookup_table[\u001b[39m'\u001b[39m\u001b[39mz\u001b[39m\u001b[39m'\u001b[39m]\u001b[39m.\u001b[39mmin() \u001b[39mor\u001b[39;00m redshift \u001b[39m>\u001b[39m lookup_table[\u001b[39m'\u001b[39m\u001b[39mz\u001b[39m\u001b[39m'\u001b[39m]\u001b[39m.\u001b[39mmax():\n\u001b[1;32m    218\u001b[0m             nearest_values \u001b[39m=\u001b[39m lookup_table\u001b[39m.\u001b[39miloc[np\u001b[39m.\u001b[39mabs(lookup_table[\u001b[39m'\u001b[39m\u001b[39mz\u001b[39m\u001b[39m'\u001b[39m] \u001b[39m-\u001b[39m redshift)\u001b[39m.\u001b[39margsort()[:\u001b[39m2\u001b[39m]]\n",
      "\u001b[0;31mTypeError\u001b[0m: 'numpy.float64' object is not iterable"
     ]
    }
   ],
   "source": [
    "identifier = np.random.choice(np.arange(10), size=3, replace=False)\n",
    "for idn, sample in zip(identifier,[optimal_sample, suboptimal_sample, nok_sample]):\n",
    "    if len(sample)!=0:\n",
    "        if idn!=identifier[2]:                                                                      #Color k-correction for sample with z<0.5\n",
    "            object_condition = (sample['NED_TYPE']=='RadioS') | (sample['NED_TYPE']=='QSO')\n",
    "\n",
    "            e_index = np.where((sample['T']<=-3) & ~object_condition)[0]\n",
    "            l_index = np.where((sample['T']>-3) & (sample['T']<=0) & ~object_condition)[0]          #Divide samples in Elliptical, Lenticular and Spiral by T value\n",
    "            s_index = np.where((sample['T']>0) & (sample['T']!=no_data) & ~object_condition)[0]\n",
    "\n",
    "            no_type_index = np.where((sample['T']==no_data) & ~object_condition)[0]                 #Sample without T values\n",
    "            w1w2_no_type = sample[no_type_index]['W1-W2_obs']                                      \n",
    "            w2w3_no_type = sample[no_type_index]['W2-W3_obs']  \n",
    "            z_no_type = sample[no_type_index]['Z']                                                    \n",
    "\n",
    "            e_w1_kcorrected = wm.w1_k_corrected(lookup_table=e_table,w1=w1[e_index],z=z[e_index])\n",
    "            l_w1_kcorrected = wm.w1_k_corrected(lookup_table=l_table,w1=w1[l_index],z=z[l_index])   #W1 k-corrected \n",
    "            s_w1_kcorrected = wm.w1_k_corrected(lookup_table=s_table,w1=w1[s_index],z=z[s_index])\n",
    "\n",
    "            e_w2w3_kcor = wm.get_correction_factor(lookup_table=e_table, redshift=sample[e_index]['Z'], correction_factor='W2-W3')\n",
    "            l_w2w3_kcor = wm.get_correction_factor(lookup_table=l_table, redshift=sample[l_index]['Z'], correction_factor='W2-W3')     #W2-W3 k-correction factor\n",
    "            s_w2w3_kcor = wm.get_correction_factor(lookup_table=s_table, redshift=sample[s_index]['Z'], correction_factor='W2-W3')\n",
    "\n",
    "            e_w1w2_kcor = wm.get_correction_factor(lookup_table=e_table, redshift=sample[e_index]['Z'], correction_factor='W1-W2')\n",
    "            l_w1w2_kcor = wm.get_correction_factor(lookup_table=l_table, redshift=sample[l_index]['Z'], correction_factor='W1-W2')     #W1-W2 k-correction factor\n",
    "            s_w1w2_kcor = wm.get_correction_factor(lookup_table=s_table, redshift=sample[s_index]['Z'], correction_factor='W1-W2')\n",
    "\n",
    "            #Both k-correction factors for no type sample, using division by observed W2-W3 color\n",
    "            factor_w2 = 171.787\n",
    "            factor_w3 = 31.674\n",
    "\n",
    "            w2w3_limit = -2.5*(np.log10(factor_w3/factor_w2) + 0.1)                             #Last value is the flux limit from Mateos et al. (2012)\n",
    "\n",
    "            no_type_w1w2_kcor = [\n",
    "                wm.get_correction_factor(lookup_table=e_table, redshift=z, correction_factor='W1-W2') if (color_x<=w2w3_limit)\n",
    "                else wm.get_correction_factor(lookup_table=s_table, redshift=z, correction_factor='W1-W2') if (color_x>w2w3_limit) else 0\n",
    "                for color_x,color_y,z in zip(w2w3_no_type,w1w2_no_type, z_no_type)\n",
    "                ]\n",
    "            no_type_w2w3_kcor = [\n",
    "                wm.get_correction_factor(lookup_table=e_table, redshift=z, correction_factor='W2-W3') if (color_x<=w2w3_limit)\n",
    "                else wm.get_correction_factor(lookup_table=s_table, redshift=z, correction_factor='W2-W3') if (color_x>w2w3_limit)  else 0\n",
    "                for color_x,color_y,z in zip(w2w3_no_type,w1w2_no_type, z_no_type)\n",
    "                ]\n",
    "\n",
    "            no_type_w1_kcorrected = [\n",
    "                wm.w1_k_corrected(lookup_table=e_table,w1=w1[no_type_id],z=np.array([z]))[0] if (color_x<=w2w3_limit)\n",
    "                else wm.w1_k_corrected(lookup_table=s_table,w1=w1[no_type_id],z=np.array([z]))[0] if (color_x>w2w3_limit) else w1[no_type_index]\n",
    "                for color_x,color_y,z,no_type_index in zip(w2w3_no_type,w1w2_no_type, z_no_type, no_type_index)\n",
    "                ]   \n",
    "\n",
    "            e_w1abs_kcorrected = e_w1_kcorrected - wm.distance_modulus_z(sample[e_index]['Z'])[:,None]          #W1 k-correction for e_sources\n",
    "            l_w1abs_kcorrected = l_w1_kcorrected - wm.distance_modulus_z(sample[l_index]['Z'])[:,None]          #W1 k-correction for l_sources\n",
    "            s_w1abs_kcorrected = s_w1_kcorrected - wm.distance_modulus_z(sample[s_index]['Z'])[:,None]          #W1 k-correction for s_sources\n",
    "            no_type_w1abs_kcorrected = no_type_w1_kcorrected - wm.distance_modulus_z(dist[z_no_type])[:,None]   #W1 k-correction for no_type_sources\n",
    "\n",
    "            if np.shape(no_type_w1abs_kcorrected)==(0,0):\n",
    "                no_type_w1abs_kcorrected = no_type_w1abs_kcorrected.reshape(0,1000)\n",
    "\n",
    "            w1w2_kcors[e_index] = e_w1w2_kcor\n",
    "            w1w2_kcors[l_index] = l_w1w2_kcor                   #W1-W2 k-correctrion factors filled\n",
    "            w1w2_kcors[s_index] = s_w1w2_kcor\n",
    "            w1w2_kcors[no_type_index] = no_type_w1w2_kcor\n",
    "\n",
    "            w2w3_kcors[e_index] = e_w2w3_kcor\n",
    "            w2w3_kcors[l_index] = l_w2w3_kcor                   #W2-W3 k-correctrion factors filled\n",
    "            w2w3_kcors[s_index] = s_w2w3_kcor\n",
    "            w2w3_kcors[no_type_index] = no_type_w2w3_kcor\n",
    "\n",
    "            w1abs[e_index] = e_w1abs_kcorrected\n",
    "            w1abs[l_index] = l_w1abs_kcorrected                 #W1abs k-corrected filled\n",
    "            w1abs[s_index] = s_w1abs_kcorrected\n",
    "            w1abs[no_type_index] = no_type_w1abs_kcorrected\n",
    "            \n",
    "        else:\n",
    "            w1abs_kcorrected = w1[np.where(nok_cond)[0]] - wm.distance_modulus_z(sample[np.where(nok_cond)[0]]['Z'])[:,None]\n",
    "            w1abs[np.where(nok_cond)[0]] = w1abs_kcorrected\n",
    "\n",
    "            w1w2_kcors[np.where(nok_cond)[0]] = 0\n",
    "            w2w3_kcors[np.where(nok_cond)[0]] = 0                                        #For sources with z>3, no k-correction is applied\n",
    "    else:\n",
    "        continue"
   ]
  },
  {
   "cell_type": "code",
   "execution_count": 18,
   "metadata": {},
   "outputs": [
    {
     "ename": "TypeError",
     "evalue": "'numpy.float64' object is not iterable",
     "output_type": "error",
     "traceback": [
      "\u001b[0;31m---------------------------------------------------------------------------\u001b[0m",
      "\u001b[0;31mTypeError\u001b[0m                                 Traceback (most recent call last)",
      "\u001b[1;32m/home/joacoh/OneDrive/wise2mbh/notebooks/allwise_test.ipynb Cell 25\u001b[0m line \u001b[0;36m1\n\u001b[0;32m----> <a href='vscode-notebook-cell:/home/joacoh/OneDrive/wise2mbh/notebooks/allwise_test.ipynb#X42sZmlsZQ%3D%3D?line=0'>1</a>\u001b[0m wm\u001b[39m.\u001b[39;49mget_correction_factor(lookup_table\u001b[39m=\u001b[39;49me_table,redshift\u001b[39m=\u001b[39;49mz_no_type[\u001b[39m0\u001b[39;49m])\n",
      "File \u001b[0;32m~/miniconda3/lib/python3.10/site-packages/wise2mbh/wise2mbh.py:216\u001b[0m, in \u001b[0;36mget_correction_factor\u001b[0;34m(lookup_table, redshift, correction_factor)\u001b[0m\n\u001b[1;32m    214\u001b[0m \u001b[39melse\u001b[39;00m:\n\u001b[1;32m    215\u001b[0m     to_return \u001b[39m=\u001b[39m []\n\u001b[0;32m--> 216\u001b[0m     \u001b[39mfor\u001b[39;00m redshift \u001b[39min\u001b[39;00m redshift:\n\u001b[1;32m    217\u001b[0m         \u001b[39mif\u001b[39;00m redshift \u001b[39m<\u001b[39m lookup_table[\u001b[39m'\u001b[39m\u001b[39mz\u001b[39m\u001b[39m'\u001b[39m]\u001b[39m.\u001b[39mmin() \u001b[39mor\u001b[39;00m redshift \u001b[39m>\u001b[39m lookup_table[\u001b[39m'\u001b[39m\u001b[39mz\u001b[39m\u001b[39m'\u001b[39m]\u001b[39m.\u001b[39mmax():\n\u001b[1;32m    218\u001b[0m             nearest_values \u001b[39m=\u001b[39m lookup_table\u001b[39m.\u001b[39miloc[np\u001b[39m.\u001b[39mabs(lookup_table[\u001b[39m'\u001b[39m\u001b[39mz\u001b[39m\u001b[39m'\u001b[39m] \u001b[39m-\u001b[39m redshift)\u001b[39m.\u001b[39margsort()[:\u001b[39m2\u001b[39m]]\n",
      "\u001b[0;31mTypeError\u001b[0m: 'numpy.float64' object is not iterable"
     ]
    }
   ],
   "source": [
    "wm.get_correction_factor(lookup_table=e_table,redshift=z_no_type[0])"
   ]
  },
  {
   "cell_type": "code",
   "execution_count": 20,
   "metadata": {},
   "outputs": [
    {
     "data": {
      "text/plain": [
       "numpy.float64"
      ]
     },
     "execution_count": 20,
     "metadata": {},
     "output_type": "execute_result"
    }
   ],
   "source": [
    "np.float64"
   ]
  },
  {
   "cell_type": "code",
   "execution_count": null,
   "metadata": {},
   "outputs": [],
   "source": []
  }
 ],
 "metadata": {
  "kernelspec": {
   "display_name": "base",
   "language": "python",
   "name": "python3"
  },
  "language_info": {
   "codemirror_mode": {
    "name": "ipython",
    "version": 3
   },
   "file_extension": ".py",
   "mimetype": "text/x-python",
   "name": "python",
   "nbconvert_exporter": "python",
   "pygments_lexer": "ipython3",
   "version": "3.10.8"
  },
  "orig_nbformat": 4
 },
 "nbformat": 4,
 "nbformat_minor": 2
}
