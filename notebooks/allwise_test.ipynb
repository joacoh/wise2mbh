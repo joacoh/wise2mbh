{
 "cells": [
  {
   "cell_type": "markdown",
   "metadata": {},
   "source": [
    "# WISE2MBH Tutorial"
   ]
  },
  {
   "cell_type": "code",
   "execution_count": 1,
   "metadata": {},
   "outputs": [],
   "source": [
    "import wise2mbh as wm\n",
    "from astropy.table import Table\n",
    "import numpy as np\n",
    "import matplotlib.pyplot as plt\n",
    "import random\n",
    "no_data = 9876543"
   ]
  },
  {
   "cell_type": "code",
   "execution_count": 2,
   "metadata": {},
   "outputs": [
    {
     "data": {
      "text/html": [
       "<div><i>Table length=77712</i>\n",
       "<table id=\"table140662934895392\" class=\"table-striped table-bordered table-condensed\">\n",
       "<thead><tr><th>ONAME</th><th>RA</th><th>DEC</th><th>Z</th><th>T</th><th>NED_TYPE</th><th>AllWISE</th><th>RAJ2000</th><th>DEJ2000</th><th>eeMaj</th><th>eeMin</th><th>eePA</th><th>W1mag</th><th>W2mag</th><th>W3mag</th><th>W4mag</th><th>Jmag</th><th>Hmag</th><th>Kmag</th><th>e_W1mag</th><th>e_W2mag</th><th>e_W3mag</th><th>e_W4mag</th><th>e_Jmag</th><th>e_Hmag</th><th>e_Kmag</th><th>ID</th><th>ccf</th><th>ex</th><th>var</th><th>qph</th><th>pmRA</th><th>e_pmRA</th><th>pmDE</th><th>e_pmDE</th><th>d2M</th><th>angDist</th></tr></thead>\n",
       "<thead><tr><th>bytes107</th><th>float64</th><th>float64</th><th>float64</th><th>float64</th><th>bytes7</th><th>bytes19</th><th>float64</th><th>float64</th><th>float32</th><th>float32</th><th>float32</th><th>float32</th><th>float32</th><th>float32</th><th>float32</th><th>float32</th><th>float32</th><th>float32</th><th>float32</th><th>float32</th><th>float32</th><th>float32</th><th>float32</th><th>float32</th><th>float32</th><th>int64</th><th>bytes4</th><th>bytes1</th><th>bytes4</th><th>bytes4</th><th>int32</th><th>int32</th><th>int32</th><th>int32</th><th>float32</th><th>float64</th></tr></thead>\n",
       "<tr><td>WISEAJ112428.14-363548.5</td><td>171.1172539</td><td>-36.5968225</td><td>0.2</td><td>9876543.0</td><td>Unknown</td><td>J112428.14-363548.5</td><td>171.1172539</td><td>-36.5968225</td><td>0.0427</td><td>0.0415</td><td>130.3</td><td>13.449</td><td>12.486</td><td>9.394</td><td>6.977</td><td>15.185</td><td>14.474</td><td>14.293</td><td>0.025</td><td>0.024</td><td>0.033</td><td>0.084</td><td>0.056</td><td>0.061</td><td>0.075</td><td>1716036401351015875</td><td>0000</td><td>0</td><td>1122</td><td>AAAA</td><td>160</td><td>54</td><td>42</td><td>55</td><td>2.073</td><td>1e-06</td></tr>\n",
       "<tr><td>WISEAJ144229.68-435343.2</td><td>220.6236974</td><td>-43.8953408</td><td>0.3</td><td>9876543.0</td><td>Unknown</td><td>J144229.68-435343.2</td><td>220.6236974</td><td>-43.8953408</td><td>0.1285</td><td>0.1177</td><td>11.9</td><td>15.975</td><td>14.663</td><td>10.911</td><td>7.801</td><td>--</td><td>--</td><td>--</td><td>0.055</td><td>0.06</td><td>0.118</td><td>0.195</td><td>--</td><td>--</td><td>--</td><td>2205044001351034712</td><td>0000</td><td>0</td><td>011n</td><td>AABB</td><td>412</td><td>466</td><td>-34</td><td>505</td><td>--</td><td>1e-06</td></tr>\n",
       "<tr><td>WISEAJ163728.75+290335.9</td><td>249.3698107</td><td>29.0599733</td><td>0.2</td><td>9876543.0</td><td>Unknown</td><td>J163728.75+290335.9</td><td>249.3698107</td><td>29.0599733</td><td>0.0692</td><td>0.0643</td><td>4.9</td><td>15.637</td><td>13.775</td><td>9.703</td><td>7.347</td><td>--</td><td>--</td><td>--</td><td>0.04</td><td>0.034</td><td>0.038</td><td>0.124</td><td>--</td><td>--</td><td>--</td><td>2485128701351042160</td><td>0000</td><td>0</td><td>0011</td><td>AAAB</td><td>-116</td><td>295</td><td>-250</td><td>278</td><td>--</td><td>2e-06</td></tr>\n",
       "<tr><td>WISEAJ184321.55-621724.8</td><td>280.8398056</td><td>-62.2902233</td><td>0.2</td><td>9876543.0</td><td>Unknown</td><td>J184321.55-621724.8</td><td>280.8398056</td><td>-62.2902233</td><td>0.0722</td><td>0.0689</td><td>38.8</td><td>14.624</td><td>13.762</td><td>11.04</td><td>8.519</td><td>--</td><td>--</td><td>--</td><td>0.036</td><td>0.035</td><td>0.106</td><td>--</td><td>--</td><td>--</td><td>--</td><td>2810062101351018362</td><td>0000</td><td>0</td><td>nnnn</td><td>AAAU</td><td>--</td><td>--</td><td>--</td><td>--</td><td>--</td><td>5e-06</td></tr>\n",
       "<tr><td>WISEAJ183203.33+633041.5</td><td>278.0139066</td><td>63.5115391</td><td>0.3</td><td>9876543.0</td><td>Unknown</td><td>J183203.33+633041.5</td><td>278.0139066</td><td>63.5115391</td><td>0.0662</td><td>0.0627</td><td>129.3</td><td>15.811</td><td>14.794</td><td>11.508</td><td>8.357</td><td>--</td><td>--</td><td>--</td><td>0.032</td><td>0.035</td><td>0.086</td><td>0.118</td><td>--</td><td>--</td><td>--</td><td>2774163601351028837</td><td>0000</td><td>0</td><td>11nn</td><td>AAAB</td><td>155</td><td>233</td><td>-229</td><td>248</td><td>--</td><td>7e-06</td></tr>\n",
       "<tr><td>WISEAJ000517.26-341452.8</td><td>1.321926</td><td>-34.2480098</td><td>0.3</td><td>9876543.0</td><td>Unknown</td><td>J000517.26-341452.8</td><td>1.321926</td><td>-34.2480098</td><td>0.0752</td><td>0.0713</td><td>141.6</td><td>15.1</td><td>14.143</td><td>10.839</td><td>7.887</td><td>--</td><td>--</td><td>--</td><td>0.035</td><td>0.04</td><td>0.114</td><td>0.189</td><td>--</td><td>--</td><td>--</td><td>18034901351061482</td><td>0000</td><td>0</td><td>110n</td><td>AABB</td><td>289</td><td>256</td><td>-282</td><td>261</td><td>--</td><td>7e-06</td></tr>\n",
       "<tr><td>WISEAJ041514.13-810745.9</td><td>63.8088863</td><td>-81.1294387</td><td>0.2</td><td>9876543.0</td><td>Unknown</td><td>J041514.13-810745.9</td><td>63.8088863</td><td>-81.1294387</td><td>0.0457</td><td>0.0449</td><td>162.3</td><td>14.499</td><td>13.543</td><td>10.429</td><td>7.558</td><td>--</td><td>--</td><td>--</td><td>0.025</td><td>0.026</td><td>0.048</td><td>0.099</td><td>--</td><td>--</td><td>--</td><td>681081801351062155</td><td>0000</td><td>0</td><td>110n</td><td>AAAA</td><td>260</td><td>66</td><td>92</td><td>69</td><td>--</td><td>8e-06</td></tr>\n",
       "<tr><td>WISEAJ150206.92+781622.6</td><td>225.5288639</td><td>78.2729584</td><td>0.3</td><td>9876543.0</td><td>Unknown</td><td>J150206.92+781622.6</td><td>225.5288639</td><td>78.2729584</td><td>0.0886</td><td>0.0831</td><td>95.1</td><td>15.959</td><td>15.085</td><td>12.15</td><td>9.497</td><td>--</td><td>--</td><td>--</td><td>0.037</td><td>0.05</td><td>0.202</td><td>0.512</td><td>--</td><td>--</td><td>--</td><td>2232178701351000385</td><td>0000</td><td>0</td><td>11nn</td><td>AABC</td><td>-761</td><td>305</td><td>100</td><td>285</td><td>--</td><td>9e-06</td></tr>\n",
       "<tr><td>WISEAJ050357.41-282633.0</td><td>75.989223</td><td>-28.4425115</td><td>0.2</td><td>9876543.0</td><td>Unknown</td><td>J050357.41-282633.0</td><td>75.989223</td><td>-28.4425115</td><td>0.1182</td><td>0.0847</td><td>153.4</td><td>15.102</td><td>14.292</td><td>11.284</td><td>8.529</td><td>--</td><td>--</td><td>--</td><td>0.045</td><td>0.045</td><td>0.125</td><td>0.332</td><td>--</td><td>--</td><td>--</td><td>754028801351050034</td><td>0000</td><td>0</td><td>nnnn</td><td>AABB</td><td>--</td><td>--</td><td>--</td><td>--</td><td>--</td><td>1.1e-05</td></tr>\n",
       "<tr><td>WISEAJ214758.54-635335.8</td><td>326.9939375</td><td>-63.8932904</td><td>0.5</td><td>9876543.0</td><td>Unknown</td><td>J214758.54-635335.8</td><td>326.9939375</td><td>-63.8932904</td><td>0.0681</td><td>0.0645</td><td>140.5</td><td>14.776</td><td>13.758</td><td>9.822</td><td>6.779</td><td>16.941</td><td>15.845</td><td>15.509</td><td>0.033</td><td>0.039</td><td>0.057</td><td>0.101</td><td>0.22</td><td>0.209</td><td>0.24</td><td>3269063701351018994</td><td>0000</td><td>0</td><td>1000</td><td>AAAA</td><td>113</td><td>133</td><td>-80</td><td>136</td><td>0.301</td><td>1.2e-05</td></tr>\n",
       "<tr><td>...</td><td>...</td><td>...</td><td>...</td><td>...</td><td>...</td><td>...</td><td>...</td><td>...</td><td>...</td><td>...</td><td>...</td><td>...</td><td>...</td><td>...</td><td>...</td><td>...</td><td>...</td><td>...</td><td>...</td><td>...</td><td>...</td><td>...</td><td>...</td><td>...</td><td>...</td><td>...</td><td>...</td><td>...</td><td>...</td><td>...</td><td>...</td><td>...</td><td>...</td><td>...</td><td>...</td><td>...</td></tr>\n",
       "<tr><td>LAMOST399605218</td><td>131.95832</td><td>51.15924</td><td>0.13803734</td><td>9876543.0</td><td>Galaxy</td><td>J084750.00+510933.2</td><td>131.9583412</td><td>51.1592361</td><td>0.0542</td><td>0.0525</td><td>143.4</td><td>14.025</td><td>13.764</td><td>11.113</td><td>9.1</td><td>15.964</td><td>15.274</td><td>14.563</td><td>0.025</td><td>0.034</td><td>0.153</td><td>--</td><td>0.087</td><td>0.094</td><td>0.085</td><td>1311151401351023860</td><td>0000</td><td>0</td><td>01nn</td><td>AABU</td><td>-22</td><td>141</td><td>50</td><td>143</td><td>0.347</td><td>0.049997</td></tr>\n",
       "<tr><td>SDSSJ115205.18+382928.0</td><td>178.021614</td><td>38.4911345</td><td>0.40462333</td><td>9876543.0</td><td>Unknown</td><td>J115205.18+382928.0</td><td>178.0215991</td><td>38.491127</td><td>0.0979</td><td>0.0928</td><td>17.3</td><td>15.365</td><td>15.172</td><td>12.824</td><td>8.849</td><td>--</td><td>--</td><td>--</td><td>0.038</td><td>0.078</td><td>--</td><td>--</td><td>--</td><td>--</td><td>--</td><td>1781137801351058128</td><td>0000</td><td>0</td><td>00nn</td><td>AAUU</td><td>62</td><td>270</td><td>-54</td><td>290</td><td>--</td><td>0.049997</td></tr>\n",
       "<tr><td>SDSS1504239155469641728</td><td>243.77024</td><td>39.31195</td><td>0.14051065</td><td>9876543.0</td><td>Galaxy</td><td>J161504.85+391843.0</td><td>243.770246</td><td>39.3119631</td><td>0.0486</td><td>0.048</td><td>135.0</td><td>13.708</td><td>13.451</td><td>12.888</td><td>9.59</td><td>15.632</td><td>14.88</td><td>14.284</td><td>0.025</td><td>0.029</td><td>0.407</td><td>--</td><td>0.08</td><td>0.083</td><td>0.073</td><td>2438139301351031839</td><td>0000</td><td>0</td><td>00nn</td><td>AACU</td><td>0</td><td>71</td><td>0</td><td>76</td><td>0.164</td><td>0.049997</td></tr>\n",
       "<tr><td>SDSS994312869900216320</td><td>183.59372</td><td>53.64215</td><td>0.1756268</td><td>9876543.0</td><td>Galaxy</td><td>J121422.48+533831.7</td><td>183.593698</td><td>53.6421548</td><td>0.0541</td><td>0.053</td><td>175.1</td><td>14.199</td><td>13.949</td><td>12.669</td><td>8.811</td><td>16.142</td><td>15.352</td><td>14.873</td><td>0.026</td><td>0.033</td><td>0.429</td><td>--</td><td>0.094</td><td>0.107</td><td>0.106</td><td>1824153001351053170</td><td>0000</td><td>0</td><td>00nn</td><td>AACU</td><td>-13</td><td>99</td><td>24</td><td>105</td><td>0.06</td><td>0.049997</td></tr>\n",
       "<tr><td>SDSSJ145532.69+580519.7</td><td>223.8862155</td><td>58.0888205</td><td>0.35417667</td><td>9876543.0</td><td>Unknown</td><td>J145532.69+580519.7</td><td>223.8862407</td><td>58.0888244</td><td>0.0742</td><td>0.0712</td><td>11.5</td><td>15.261</td><td>15.077</td><td>12.889</td><td>9.481</td><td>--</td><td>--</td><td>--</td><td>0.031</td><td>0.054</td><td>--</td><td>--</td><td>--</td><td>--</td><td>--</td><td>2243157501351060214</td><td>0000</td><td>0</td><td>00nn</td><td>AAUU</td><td>415</td><td>181</td><td>220</td><td>188</td><td>--</td><td>0.049997</td></tr>\n",
       "<tr><td>WISEAJ113538.25+315012.5</td><td>173.9094019222</td><td>31.836811624</td><td>0.45649</td><td>9876543.0</td><td>Unknown</td><td>J113538.25+315012.5</td><td>173.9094028</td><td>31.8368255</td><td>0.0865</td><td>0.0832</td><td>15.6</td><td>14.964</td><td>14.744</td><td>12.322</td><td>9.066</td><td>--</td><td>--</td><td>--</td><td>0.035</td><td>0.065</td><td>--</td><td>--</td><td>--</td><td>--</td><td>--</td><td>1747131801351038143</td><td>0000</td><td>0</td><td>11nn</td><td>AAUU</td><td>-348</td><td>220</td><td>-167</td><td>237</td><td>--</td><td>0.049998</td></tr>\n",
       "<tr><td>WISEAJ115816.26+302142.1</td><td>179.5678</td><td>30.36171</td><td>0.146</td><td>9876543.0</td><td>Galaxy</td><td>J115816.26+302142.1</td><td>179.5677894</td><td>30.3616995</td><td>0.0475</td><td>0.0465</td><td>153.1</td><td>13.783</td><td>13.064</td><td>10.4</td><td>7.741</td><td>15.904</td><td>15.35</td><td>14.722</td><td>0.025</td><td>0.027</td><td>0.072</td><td>0.143</td><td>0.083</td><td>0.102</td><td>0.09</td><td>1791130201351029659</td><td>0000</td><td>0</td><td>000n</td><td>AAAB</td><td>77</td><td>118</td><td>31</td><td>119</td><td>0.089</td><td>0.049999</td></tr>\n",
       "<tr><td>SDSSJ095103.03+142941.6</td><td>147.76265</td><td>14.49491</td><td>0.233</td><td>-9.0</td><td>QSO</td><td>J095103.03+142941.6</td><td>147.7626379</td><td>14.4949026</td><td>0.0396</td><td>0.0381</td><td>137.0</td><td>13.057</td><td>12.077</td><td>8.594</td><td>6.04</td><td>15.977</td><td>15.02</td><td>14.229</td><td>0.024</td><td>0.022</td><td>0.03</td><td>0.066</td><td>0.083</td><td>0.092</td><td>0.07</td><td>1471115101351000018</td><td>0000</td><td>0</td><td>1100</td><td>AAAA</td><td>96</td><td>53</td><td>98</td><td>56</td><td>0.056</td><td>0.049999</td></tr>\n",
       "<tr><td>SDSSJ150436.89+270600.0</td><td>226.153743</td><td>27.1000244</td><td>0.41787</td><td>9876543.0</td><td>Unknown</td><td>J150436.90+270600.0</td><td>226.1537509</td><td>27.1000124</td><td>0.0643</td><td>0.0619</td><td>179.3</td><td>14.647</td><td>14.393</td><td>12.908</td><td>9.506</td><td>17.011</td><td>15.719</td><td>14.972</td><td>0.029</td><td>0.042</td><td>--</td><td>--</td><td>0.211</td><td>--</td><td>0.169</td><td>2264127201351015796</td><td>h000</td><td>0</td><td>01nn</td><td>AAUU</td><td>-31</td><td>86</td><td>-134</td><td>95</td><td>0.277</td><td>0.049999</td></tr>\n",
       "<tr><td>LAMOST504013208</td><td>170.00596</td><td>48.08189</td><td>0.12572007</td><td>9876543.0</td><td>Galaxy</td><td>J112001.42+480454.7</td><td>170.0059408</td><td>48.0818847</td><td>0.0553</td><td>0.053</td><td>4.8</td><td>14.014</td><td>13.852</td><td>12.403</td><td>9.121</td><td>15.576</td><td>14.948</td><td>14.399</td><td>0.026</td><td>0.034</td><td>--</td><td>--</td><td>0.08</td><td>0.083</td><td>0.075</td><td>1709148401351013591</td><td>0000</td><td>0</td><td>11nn</td><td>AAUU</td><td>94</td><td>96</td><td>-102</td><td>105</td><td>0.109</td><td>0.049999</td></tr>\n",
       "</table></div>"
      ],
      "text/plain": [
       "<Table length=77712>\n",
       "         ONAME                 RA           DEC      ... e_pmDE   d2M   angDist \n",
       "        bytes107            float64       float64    ... int32  float32 float64 \n",
       "------------------------ -------------- ------------ ... ------ ------- --------\n",
       "WISEAJ112428.14-363548.5    171.1172539  -36.5968225 ...     55   2.073    1e-06\n",
       "WISEAJ144229.68-435343.2    220.6236974  -43.8953408 ...    505      --    1e-06\n",
       "WISEAJ163728.75+290335.9    249.3698107   29.0599733 ...    278      --    2e-06\n",
       "WISEAJ184321.55-621724.8    280.8398056  -62.2902233 ...     --      --    5e-06\n",
       "WISEAJ183203.33+633041.5    278.0139066   63.5115391 ...    248      --    7e-06\n",
       "WISEAJ000517.26-341452.8       1.321926  -34.2480098 ...    261      --    7e-06\n",
       "WISEAJ041514.13-810745.9     63.8088863  -81.1294387 ...     69      --    8e-06\n",
       "WISEAJ150206.92+781622.6    225.5288639   78.2729584 ...    285      --    9e-06\n",
       "WISEAJ050357.41-282633.0      75.989223  -28.4425115 ...     --      --  1.1e-05\n",
       "WISEAJ214758.54-635335.8    326.9939375  -63.8932904 ...    136   0.301  1.2e-05\n",
       "                     ...            ...          ... ...    ...     ...      ...\n",
       "         LAMOST399605218      131.95832     51.15924 ...    143   0.347 0.049997\n",
       " SDSSJ115205.18+382928.0     178.021614   38.4911345 ...    290      -- 0.049997\n",
       " SDSS1504239155469641728      243.77024     39.31195 ...     76   0.164 0.049997\n",
       "  SDSS994312869900216320      183.59372     53.64215 ...    105    0.06 0.049997\n",
       " SDSSJ145532.69+580519.7    223.8862155   58.0888205 ...    188      -- 0.049997\n",
       "WISEAJ113538.25+315012.5 173.9094019222 31.836811624 ...    237      -- 0.049998\n",
       "WISEAJ115816.26+302142.1       179.5678     30.36171 ...    119   0.089 0.049999\n",
       " SDSSJ095103.03+142941.6      147.76265     14.49491 ...     56   0.056 0.049999\n",
       " SDSSJ150436.89+270600.0     226.153743   27.1000244 ...     95   0.277 0.049999\n",
       "         LAMOST504013208      170.00596     48.08189 ...    105   0.109 0.049999"
      ]
     },
     "execution_count": 2,
     "metadata": {},
     "output_type": "execute_result"
    }
   ],
   "source": [
    "allwise = Table.read('../samples/AllWISE_sample.fits')\n",
    "allwise"
   ]
  },
  {
   "cell_type": "markdown",
   "metadata": {},
   "source": [
    "Clening process of the sample from AllWISE"
   ]
  },
  {
   "cell_type": "code",
   "execution_count": 3,
   "metadata": {},
   "outputs": [
    {
     "name": "stdout",
     "output_type": "stream",
     "text": [
      "Size before depure: 77712\n",
      "Size after depure: 77687\n"
     ]
    }
   ],
   "source": [
    "size_before_depure = len(allwise)\n",
    "print(f'Size before depure: {size_before_depure}')\n",
    "\n",
    "allowed_z = allwise[allwise['Z']!=0]                                                            #Masking of null redshifts\n",
    "qph_list = allwise['qph'].tolist()                                                              #Extract quality flags\n",
    "null_phot = ['X', 'Z']                                                                          #Null and uplim values in W bands\n",
    "not_null_quality = [not any(letter in qph[:-1] for letter in null_phot) for qph in qph_list]    #Test quality flags\n",
    "\n",
    "allwise = allowed_z[not_null_quality].copy()                                                    #Keep non-null values in quality\n",
    "\n",
    "size_after_depure = len(allwise)\n",
    "print(f'Size after depure: {size_after_depure}')"
   ]
  },
  {
   "cell_type": "markdown",
   "metadata": {},
   "source": [
    "Detections with 'U' flag in qph do not contain errors on the WISE bands, so better to set them to a single value, in this case we'll set them to 0"
   ]
  },
  {
   "cell_type": "code",
   "execution_count": 4,
   "metadata": {},
   "outputs": [],
   "source": [
    "allwise['e_W1mag'] = allwise['e_W1mag'].filled(0)                 #Replace null errors in WISE bands\n",
    "allwise['e_W2mag'] = allwise['e_W2mag'].filled(0)\n",
    "allwise['e_W3mag'] = allwise['e_W3mag'].filled(0)"
   ]
  },
  {
   "cell_type": "markdown",
   "metadata": {},
   "source": [
    "Since this algorithm have a Monte Carlo implementation for error propagation, we recommend to take slices for big sample (rows>200), so for this tutorial, we'll use a random slice from the AllWISE sample."
   ]
  },
  {
   "cell_type": "code",
   "execution_count": 5,
   "metadata": {},
   "outputs": [
    {
     "data": {
      "text/html": [
       "<div><i>Table length=1000</i>\n",
       "<table id=\"table140662935225008\" class=\"table-striped table-bordered table-condensed\">\n",
       "<thead><tr><th>ONAME</th><th>RA</th><th>DEC</th><th>Z</th><th>T</th><th>NED_TYPE</th><th>AllWISE</th><th>RAJ2000</th><th>DEJ2000</th><th>eeMaj</th><th>eeMin</th><th>eePA</th><th>W1mag</th><th>W2mag</th><th>W3mag</th><th>W4mag</th><th>Jmag</th><th>Hmag</th><th>Kmag</th><th>e_W1mag</th><th>e_W2mag</th><th>e_W3mag</th><th>e_W4mag</th><th>e_Jmag</th><th>e_Hmag</th><th>e_Kmag</th><th>ID</th><th>ccf</th><th>ex</th><th>var</th><th>qph</th><th>pmRA</th><th>e_pmRA</th><th>pmDE</th><th>e_pmDE</th><th>d2M</th><th>angDist</th></tr></thead>\n",
       "<thead><tr><th>bytes107</th><th>float64</th><th>float64</th><th>float64</th><th>float64</th><th>bytes7</th><th>bytes19</th><th>float64</th><th>float64</th><th>float32</th><th>float32</th><th>float32</th><th>float32</th><th>float32</th><th>float32</th><th>float32</th><th>float32</th><th>float32</th><th>float32</th><th>float32</th><th>float32</th><th>float32</th><th>float32</th><th>float32</th><th>float32</th><th>float32</th><th>int64</th><th>bytes4</th><th>bytes1</th><th>bytes4</th><th>bytes4</th><th>int32</th><th>int32</th><th>int32</th><th>int32</th><th>float32</th><th>float64</th></tr></thead>\n",
       "<tr><td>SDSS2433241837318727680</td><td>232.55229</td><td>22.90995</td><td>0.12610617</td><td>3.7</td><td>Galaxy</td><td>J153012.54+225435.7</td><td>232.5522898</td><td>22.9099413</td><td>0.0528</td><td>0.0513</td><td>133.1</td><td>13.806</td><td>13.594</td><td>11.62</td><td>9.11</td><td>15.654</td><td>15.046</td><td>14.675</td><td>0.026</td><td>0.032</td><td>0.15</td><td>--</td><td>0.077</td><td>0.087</td><td>0.107</td><td>2329122701351041481</td><td>0000</td><td>1</td><td>00nn</td><td>AABU</td><td>-186</td><td>88</td><td>-51</td><td>97</td><td>0.048</td><td>0.031268</td></tr>\n",
       "<tr><td>SDSSJ083445.12+571432.1</td><td>128.6880285</td><td>57.2422706</td><td>0.44674334</td><td>9876543.0</td><td>Unknown</td><td>J083445.12+571432.2</td><td>128.6880167</td><td>57.2422782</td><td>0.123</td><td>0.1143</td><td>4.8</td><td>15.705</td><td>15.787</td><td>12.698</td><td>8.916</td><td>--</td><td>--</td><td>--</td><td>0.043</td><td>0.122</td><td>0.0</td><td>--</td><td>--</td><td>--</td><td>--</td><td>1273157501351023820</td><td>d000</td><td>0</td><td>0nnn</td><td>ABUU</td><td>514</td><td>362</td><td>-270</td><td>392</td><td>--</td><td>0.035843</td></tr>\n",
       "<tr><td>SDSS1448080224121022464</td><td>214.06995</td><td>46.62591</td><td>0.15152021</td><td>2.2</td><td>Galaxy</td><td>J141616.78+463733.2</td><td>214.0699434</td><td>46.6259085</td><td>0.051</td><td>0.0494</td><td>138.7</td><td>13.964</td><td>13.699</td><td>11.339</td><td>8.461</td><td>15.853</td><td>15.171</td><td>14.432</td><td>0.025</td><td>0.03</td><td>0.128</td><td>--</td><td>0.072</td><td>0.089</td><td>0.082</td><td>2138146901351021771</td><td>0000</td><td>0</td><td>11nn</td><td>AABU</td><td>-58</td><td>101</td><td>59</td><td>101</td><td>0.116</td><td>0.017129</td></tr>\n",
       "<tr><td>SDSSJ233746.96-023432.8</td><td>354.44568300000003</td><td>-2.5757971</td><td>0.44453335</td><td>9876543.0</td><td>Unknown</td><td>J233746.96-023432.8</td><td>354.4456797</td><td>-2.5757992</td><td>0.1473</td><td>0.1345</td><td>150.6</td><td>15.721</td><td>15.78</td><td>12.299</td><td>8.926</td><td>--</td><td>--</td><td>--</td><td>0.049</td><td>0.167</td><td>0.0</td><td>--</td><td>--</td><td>--</td><td>--</td><td>3539003101351048796</td><td>0000</td><td>0</td><td>0nnn</td><td>ABUU</td><td>939</td><td>500</td><td>-446</td><td>528</td><td>--</td><td>0.01423</td></tr>\n",
       "<tr><td>SDSS2110075313458276352</td><td>129.13872</td><td>60.94826</td><td>0.17029576</td><td>9876543.0</td><td>Galaxy</td><td>J083633.29+605653.6</td><td>129.1387205</td><td>60.9482481</td><td>0.0533</td><td>0.0529</td><td>149.4</td><td>13.992</td><td>13.701</td><td>12.103</td><td>8.665</td><td>15.616</td><td>14.895</td><td>14.468</td><td>0.026</td><td>0.034</td><td>0.0</td><td>--</td><td>0.068</td><td>0.091</td><td>0.075</td><td>1290160501351044206</td><td>0000</td><td>0</td><td>11nn</td><td>AAUU</td><td>55</td><td>97</td><td>1</td><td>105</td><td>0.277</td><td>0.042891</td></tr>\n",
       "<tr><td>SDSS1371406055367534592</td><td>152.64102</td><td>42.26055</td><td>0.14601532</td><td>-5.0</td><td>Galaxy</td><td>J101033.84+421537.9</td><td>152.6410292</td><td>42.2605545</td><td>0.0517</td><td>0.0509</td><td>142.7</td><td>13.712</td><td>13.48</td><td>10.386</td><td>8.637</td><td>15.769</td><td>15.203</td><td>14.416</td><td>0.026</td><td>0.032</td><td>0.066</td><td>0.388</td><td>0.092</td><td>0.107</td><td>0.089</td><td>1516142401351026018</td><td>0000</td><td>0</td><td>111n</td><td>AAAC</td><td>115</td><td>172</td><td>-76</td><td>144</td><td>0.14</td><td>0.029453</td></tr>\n",
       "<tr><td>SDSS1462550625920247808</td><td>135.05803</td><td>7.77167</td><td>0.14816484</td><td>2.9</td><td>Galaxy</td><td>J090013.93+074618.0</td><td>135.0580418</td><td>7.7716732</td><td>0.0556</td><td>0.0531</td><td>145.5</td><td>13.641</td><td>13.398</td><td>10.808</td><td>8.472</td><td>15.614</td><td>15.084</td><td>14.429</td><td>0.027</td><td>0.033</td><td>0.111</td><td>--</td><td>0.078</td><td>0.108</td><td>0.093</td><td>1357107501351038943</td><td>0000</td><td>1</td><td>000n</td><td>AABU</td><td>-179</td><td>111</td><td>130</td><td>118</td><td>0.098</td><td>0.043678</td></tr>\n",
       "<tr><td>LAMOST205812086</td><td>163.80649</td><td>33.65801</td><td>0.142271</td><td>-5.0</td><td>Galaxy</td><td>J105513.55+333928.8</td><td>163.8064758</td><td>33.6580079</td><td>0.0519</td><td>0.0506</td><td>142.1</td><td>13.601</td><td>13.444</td><td>11.878</td><td>9.024</td><td>15.314</td><td>14.688</td><td>14.083</td><td>0.026</td><td>0.031</td><td>0.0</td><td>--</td><td>0.057</td><td>0.062</td><td>0.057</td><td>1637133301351045149</td><td>0000</td><td>0</td><td>00nn</td><td>AAUU</td><td>159</td><td>85</td><td>240</td><td>90</td><td>0.234</td><td>0.043327</td></tr>\n",
       "<tr><td>SDSS142138.50+152045.9</td><td>215.41044</td><td>15.34609</td><td>0.2312</td><td>-9.0</td><td>QSO</td><td>J142138.50+152045.8</td><td>215.4104397</td><td>15.3460796</td><td>0.0365</td><td>0.035</td><td>120.8</td><td>12.435</td><td>11.506</td><td>8.803</td><td>6.513</td><td>15.839</td><td>14.767</td><td>13.877</td><td>0.023</td><td>0.021</td><td>0.025</td><td>0.056</td><td>0.079</td><td>0.069</td><td>0.047</td><td>2159115101351040285</td><td>0000</td><td>0</td><td>1100</td><td>AAAA</td><td>55</td><td>31</td><td>8</td><td>64</td><td>0.096</td><td>0.037495</td></tr>\n",
       "<tr><td>SDSSJ023523.12-054429.0</td><td>38.8463475</td><td>-5.7413912</td><td>0.34003666</td><td>9876543.0</td><td>Unknown</td><td>J023523.12-054429.0</td><td>38.8463383</td><td>-5.7413913</td><td>0.0597</td><td>0.0583</td><td>116.1</td><td>14.327</td><td>14.106</td><td>12.827</td><td>9.011</td><td>16.357</td><td>15.726</td><td>14.804</td><td>0.027</td><td>0.041</td><td>0.0</td><td>--</td><td>0.114</td><td>0.131</td><td>0.117</td><td>394006101351039356</td><td>0000</td><td>0</td><td>00nn</td><td>AAUU</td><td>-10</td><td>73</td><td>-82</td><td>76</td><td>0.14</td><td>0.033056</td></tr>\n",
       "<tr><td>...</td><td>...</td><td>...</td><td>...</td><td>...</td><td>...</td><td>...</td><td>...</td><td>...</td><td>...</td><td>...</td><td>...</td><td>...</td><td>...</td><td>...</td><td>...</td><td>...</td><td>...</td><td>...</td><td>...</td><td>...</td><td>...</td><td>...</td><td>...</td><td>...</td><td>...</td><td>...</td><td>...</td><td>...</td><td>...</td><td>...</td><td>...</td><td>...</td><td>...</td><td>...</td><td>...</td><td>...</td></tr>\n",
       "<tr><td>WISEAJ093521.78+014724.6</td><td>143.8407757386</td><td>1.790198826</td><td>0.32804966</td><td>9876543.0</td><td>Unknown</td><td>J093521.78+014724.6</td><td>143.8407795</td><td>1.7901869</td><td>0.0774</td><td>0.0744</td><td>14.6</td><td>14.742</td><td>14.465</td><td>12.583</td><td>8.866</td><td>16.749</td><td>16.368</td><td>15.122</td><td>0.032</td><td>0.054</td><td>0.0</td><td>--</td><td>0.168</td><td>0.229</td><td>0.144</td><td>1436101501351044075</td><td>0000</td><td>0</td><td>00nn</td><td>AAUU</td><td>-139</td><td>187</td><td>419</td><td>204</td><td>0.278</td><td>0.045125</td></tr>\n",
       "<tr><td>SDSSJ235932.41-094721.0</td><td>359.88504450000005</td><td>-9.7891805</td><td>0.45285</td><td>9876543.0</td><td>Unknown</td><td>J235932.41-094721.0</td><td>359.8850456</td><td>-9.7891696</td><td>0.1059</td><td>0.0978</td><td>138.6</td><td>15.235</td><td>15.13</td><td>12.066</td><td>8.324</td><td>--</td><td>--</td><td>--</td><td>0.039</td><td>0.092</td><td>0.0</td><td>--</td><td>--</td><td>--</td><td>--</td><td>9101351005309</td><td>0000</td><td>0</td><td>00nn</td><td>AAUU</td><td>147</td><td>332</td><td>200</td><td>336</td><td>--</td><td>0.039416</td></tr>\n",
       "<tr><td>SDSS2792340960107849728</td><td>160.68742</td><td>16.4403</td><td>0.14256158</td><td>9876543.0</td><td>Galaxy</td><td>J104244.98+162625.0</td><td>160.6874198</td><td>16.44029</td><td>0.0619</td><td>0.0614</td><td>39.0</td><td>14.082</td><td>13.907</td><td>11.692</td><td>8.58</td><td>15.844</td><td>14.972</td><td>14.583</td><td>0.027</td><td>0.046</td><td>0.0</td><td>--</td><td>0.098</td><td>0.096</td><td>0.097</td><td>1603116601351018059</td><td>0000</td><td>0</td><td>11nn</td><td>AAUU</td><td>-107</td><td>127</td><td>371</td><td>135</td><td>0.05</td><td>0.036101</td></tr>\n",
       "<tr><td>SDSS1904044956356470784</td><td>253.79025</td><td>27.75497</td><td>0.13133489</td><td>9876543.0</td><td>Galaxy</td><td>J165509.66+274517.9</td><td>253.7902532</td><td>27.7549744</td><td>0.0599</td><td>0.0586</td><td>146.1</td><td>14.197</td><td>13.956</td><td>11.868</td><td>9.089</td><td>16.154</td><td>15.691</td><td>14.899</td><td>0.028</td><td>0.037</td><td>0.0</td><td>0.509</td><td>0.121</td><td>0.17</td><td>0.126</td><td>2535127201351054575</td><td>0000</td><td>0</td><td>01nn</td><td>AAUC</td><td>106</td><td>116</td><td>-88</td><td>126</td><td>0.149</td><td>0.018848</td></tr>\n",
       "<tr><td>SDSSJ120548.62+050649.3</td><td>181.452588</td><td>5.1136974</td><td>0.30666834</td><td>9876543.0</td><td>Unknown</td><td>J120548.62+050649.3</td><td>181.4525959</td><td>5.1137053</td><td>0.0893</td><td>0.0846</td><td>6.9</td><td>14.913</td><td>14.648</td><td>12.4</td><td>8.932</td><td>--</td><td>--</td><td>--</td><td>0.035</td><td>0.067</td><td>0.449</td><td>--</td><td>--</td><td>--</td><td>--</td><td>1807104501351048260</td><td>0000</td><td>0</td><td>00nn</td><td>AACU</td><td>84</td><td>241</td><td>511</td><td>262</td><td>--</td><td>0.040208</td></tr>\n",
       "<tr><td>LAMOST491901232</td><td>152.79396</td><td>19.29285</td><td>0.14884666</td><td>-5.0</td><td>Galaxy</td><td>J101110.54+191734.2</td><td>152.7939554</td><td>19.2928396</td><td>0.0469</td><td>0.0454</td><td>138.8</td><td>13.124</td><td>12.931</td><td>12.183</td><td>8.933</td><td>14.986</td><td>14.255</td><td>13.959</td><td>0.024</td><td>0.028</td><td>0.0</td><td>--</td><td>0.049</td><td>0.061</td><td>0.067</td><td>1520119601351023714</td><td>0000</td><td>5</td><td>11nn</td><td>AAUU</td><td>-178</td><td>70</td><td>73</td><td>75</td><td>0.119</td><td>0.040557</td></tr>\n",
       "<tr><td>WISEAJ083413.59+425623.3</td><td>128.55665068</td><td>42.9398035622</td><td>0.41917667</td><td>9876543.0</td><td>Unknown</td><td>J083413.59+425623.3</td><td>128.5566458</td><td>42.9398133</td><td>0.0922</td><td>0.0861</td><td>175.1</td><td>15.129</td><td>15.038</td><td>12.462</td><td>9.004</td><td>--</td><td>--</td><td>--</td><td>0.034</td><td>0.085</td><td>0.0</td><td>--</td><td>--</td><td>--</td><td>--</td><td>1294142401351064349</td><td>0000</td><td>0</td><td>00nn</td><td>AAUU</td><td>62</td><td>250</td><td>91</td><td>268</td><td>--</td><td>0.037439</td></tr>\n",
       "<tr><td>SDSS1178907133391955968</td><td>218.87046</td><td>50.11683</td><td>0.12901843</td><td>9876543.0</td><td>Galaxy</td><td>J143528.90+500700.6</td><td>218.8704551</td><td>50.116843</td><td>0.0571</td><td>0.0548</td><td>0.3</td><td>14.575</td><td>14.335</td><td>11.101</td><td>9.207</td><td>16.342</td><td>15.561</td><td>15.092</td><td>0.026</td><td>0.036</td><td>0.088</td><td>0.446</td><td>0.135</td><td>0.145</td><td>0.133</td><td>2183149901351029027</td><td>0h00</td><td>0</td><td>000n</td><td>AAAC</td><td>106</td><td>173</td><td>127</td><td>166</td><td>0.36</td><td>0.048071</td></tr>\n",
       "<tr><td>SDSSJ004522.30+083300.4</td><td>11.342941</td><td>8.55013</td><td>0.346</td><td>-9.0</td><td>Unknown</td><td>J004522.30+083300.5</td><td>11.3429359</td><td>8.5501389</td><td>0.1172</td><td>0.1078</td><td>144.3</td><td>15.494</td><td>14.734</td><td>11.867</td><td>8.587</td><td>--</td><td>--</td><td>--</td><td>0.045</td><td>0.07</td><td>0.269</td><td>--</td><td>--</td><td>--</td><td>--</td><td>107109001351000275</td><td>0000</td><td>0</td><td>00nn</td><td>AABU</td><td>-103</td><td>404</td><td>-389</td><td>418</td><td>--</td><td>0.036763</td></tr>\n",
       "<tr><td>SDSSJ004247.09+104329.8</td><td>10.696245</td><td>10.7249492</td><td>0.38255</td><td>9876543.0</td><td>Unknown</td><td>J004247.09+104329.7</td><td>10.6962498</td><td>10.7249362</td><td>0.0878</td><td>0.0832</td><td>134.4</td><td>14.962</td><td>14.739</td><td>12.449</td><td>8.88</td><td>--</td><td>--</td><td>--</td><td>0.034</td><td>0.069</td><td>0.0</td><td>--</td><td>--</td><td>--</td><td>--</td><td>107110601351030386</td><td>0000</td><td>0</td><td>00nn</td><td>AAUU</td><td>152</td><td>266</td><td>-466</td><td>272</td><td>--</td><td>0.049879</td></tr>\n",
       "</table></div>"
      ],
      "text/plain": [
       "<Table length=1000>\n",
       "         ONAME                   RA              DEC      ...   d2M   angDist \n",
       "        bytes107              float64          float64    ... float32 float64 \n",
       "------------------------ ------------------ ------------- ... ------- --------\n",
       " SDSS2433241837318727680          232.55229      22.90995 ...   0.048 0.031268\n",
       " SDSSJ083445.12+571432.1        128.6880285    57.2422706 ...      -- 0.035843\n",
       " SDSS1448080224121022464          214.06995      46.62591 ...   0.116 0.017129\n",
       " SDSSJ233746.96-023432.8 354.44568300000003    -2.5757971 ...      --  0.01423\n",
       " SDSS2110075313458276352          129.13872      60.94826 ...   0.277 0.042891\n",
       " SDSS1371406055367534592          152.64102      42.26055 ...    0.14 0.029453\n",
       " SDSS1462550625920247808          135.05803       7.77167 ...   0.098 0.043678\n",
       "         LAMOST205812086          163.80649      33.65801 ...   0.234 0.043327\n",
       "  SDSS142138.50+152045.9          215.41044      15.34609 ...   0.096 0.037495\n",
       " SDSSJ023523.12-054429.0         38.8463475    -5.7413912 ...    0.14 0.033056\n",
       "                     ...                ...           ... ...     ...      ...\n",
       "WISEAJ093521.78+014724.6     143.8407757386   1.790198826 ...   0.278 0.045125\n",
       " SDSSJ235932.41-094721.0 359.88504450000005    -9.7891805 ...      -- 0.039416\n",
       " SDSS2792340960107849728          160.68742       16.4403 ...    0.05 0.036101\n",
       " SDSS1904044956356470784          253.79025      27.75497 ...   0.149 0.018848\n",
       " SDSSJ120548.62+050649.3         181.452588     5.1136974 ...      -- 0.040208\n",
       "         LAMOST491901232          152.79396      19.29285 ...   0.119 0.040557\n",
       "WISEAJ083413.59+425623.3       128.55665068 42.9398035622 ...      -- 0.037439\n",
       " SDSS1178907133391955968          218.87046      50.11683 ...    0.36 0.048071\n",
       " SDSSJ004522.30+083300.4          11.342941       8.55013 ...      -- 0.036763\n",
       " SDSSJ004247.09+104329.8          10.696245    10.7249492 ...      -- 0.049879"
      ]
     },
     "execution_count": 5,
     "metadata": {},
     "output_type": "execute_result"
    }
   ],
   "source": [
    "random_indices = random.sample(range(len(allwise)), 1000)\n",
    "new_allwise = allwise[random_indices]\n",
    "new_allwise"
   ]
  },
  {
   "cell_type": "markdown",
   "metadata": {},
   "source": [
    "First, store the observed colors and then define the Monte Carlo arrays for W1, W2 and W3, with the same colors but now for Monte Carlo arrays"
   ]
  },
  {
   "cell_type": "code",
   "execution_count": 6,
   "metadata": {},
   "outputs": [],
   "source": [
    "new_allwise['W1-W2_obs'] = new_allwise['W1mag'] - new_allwise['W2mag']\n",
    "new_allwise['W2-W3_obs'] = new_allwise['W2mag'] - new_allwise['W3mag']"
   ]
  },
  {
   "cell_type": "code",
   "execution_count": 7,
   "metadata": {},
   "outputs": [],
   "source": [
    "w1 = wm.array_montecarlo(new_allwise['W1mag'],new_allwise['e_W1mag'])\n",
    "w2 = wm.array_montecarlo(new_allwise['W2mag'],new_allwise['e_W2mag'])\n",
    "w3 = wm.array_montecarlo(new_allwise['W3mag'],new_allwise['e_W3mag'])\n",
    "z = np.array(new_allwise['Z'])\n",
    "\n",
    "w1w2_obs = w1-w2\n",
    "w2w3_obs = w2-w3"
   ]
  },
  {
   "cell_type": "markdown",
   "metadata": {},
   "source": [
    "# K-corrections for the defined sample\n",
    "\n",
    "Now that all initial colors are created, one can start by the first masking of the reject zone by deleting all sources with a W2-W3>4.4"
   ]
  },
  {
   "cell_type": "code",
   "execution_count": 8,
   "metadata": {},
   "outputs": [],
   "source": [
    "first_reject_zone = new_allwise['W2-W3_obs']<=4.4"
   ]
  },
  {
   "cell_type": "code",
   "execution_count": 9,
   "metadata": {},
   "outputs": [],
   "source": [
    "w1 = w1[first_reject_zone]\n",
    "w2 = w2[first_reject_zone]\n",
    "w3 = w3[first_reject_zone]\n",
    "z = z[first_reject_zone]\n",
    "\n",
    "w1w2_obs = w1w2_obs[first_reject_zone]\n",
    "w2w3_obs = w2w3_obs[first_reject_zone]\n",
    "\n",
    "new_allwise = new_allwise[first_reject_zone]"
   ]
  },
  {
   "cell_type": "markdown",
   "metadata": {},
   "source": [
    "It is necessary to create new arrays to store K-corrected W1abs and the K-correction factor of W1-W2 and W2-W3"
   ]
  },
  {
   "cell_type": "code",
   "execution_count": 10,
   "metadata": {},
   "outputs": [],
   "source": [
    "w1w2_kcors = np.zeros(np.shape(w1w2_obs)[0])                                                \n",
    "w2w3_kcors = np.zeros(np.shape(w2w3_obs)[0])\n",
    "w1abs = np.zeros(np.shape(w1))"
   ]
  },
  {
   "cell_type": "code",
   "execution_count": 11,
   "metadata": {},
   "outputs": [],
   "source": [
    "object_condition = (new_allwise['NED_TYPE']=='RadioS') | (new_allwise['NED_TYPE']=='QSO')\n",
    "color_condition_1 = (new_allwise['W1-W2_obs']>0.8) & (new_allwise['W2-W3_obs']<2.2)\n",
    "color_condition_2 = (new_allwise['W1-W2_obs']>wm.w1w2_treshold_qso(new_allwise['W2-W3_obs'])) & (new_allwise['W2-W3_obs']>=2.2) & (new_allwise['W2-W3_obs']<=4.4)\n",
    "\n",
    "suboptimal_cond = (new_allwise['Z']>=0.5) & (new_allwise['Z']<=3) & ~object_condition & ~(color_condition_1 | color_condition_2)\n",
    "nok_cond = (new_allwise['Z']>3) | object_condition | color_condition_1 | color_condition_2\n",
    "\n",
    "optimal_sample = new_allwise[(new_allwise['Z']<0.5) & ~object_condition & ~(color_condition_1 | color_condition_2)]\n",
    "suboptimal_sample = new_allwise[suboptimal_cond]                                                                            #Samples for k-correcion                \n",
    "nok_sample = new_allwise[nok_cond]"
   ]
  },
  {
   "cell_type": "markdown",
   "metadata": {},
   "source": [
    "To create the final quality tag, here we store the K-correction tag"
   ]
  },
  {
   "cell_type": "code",
   "execution_count": 12,
   "metadata": {},
   "outputs": [],
   "source": [
    "new_allwise['K_QUALITY'] = int(0)\n",
    "\n",
    "new_allwise['K_QUALITY'] = np.where(suboptimal_cond, int(1), new_allwise['K_QUALITY'])\n",
    "new_allwise['K_QUALITY'] = np.where(nok_cond, int(2), new_allwise['K_QUALITY'])"
   ]
  },
  {
   "cell_type": "markdown",
   "metadata": {},
   "source": [
    "Now we import the look-up tables from Jarrett+2023 to use"
   ]
  },
  {
   "cell_type": "code",
   "execution_count": 13,
   "metadata": {},
   "outputs": [],
   "source": [
    "e_table = wm.kcorr_table('E')\n",
    "l_table = wm.kcorr_table('L')\n",
    "s_table = wm.kcorr_table('S')"
   ]
  },
  {
   "cell_type": "code",
   "execution_count": 14,
   "metadata": {},
   "outputs": [
    {
     "data": {
      "text/html": [
       "<div>\n",
       "<style scoped>\n",
       "    .dataframe tbody tr th:only-of-type {\n",
       "        vertical-align: middle;\n",
       "    }\n",
       "\n",
       "    .dataframe tbody tr th {\n",
       "        vertical-align: top;\n",
       "    }\n",
       "\n",
       "    .dataframe thead th {\n",
       "        text-align: right;\n",
       "    }\n",
       "</style>\n",
       "<table border=\"1\" class=\"dataframe\">\n",
       "  <thead>\n",
       "    <tr style=\"text-align: right;\">\n",
       "      <th></th>\n",
       "      <th>z</th>\n",
       "      <th>f1</th>\n",
       "      <th>W1-W2</th>\n",
       "      <th>W1-W3</th>\n",
       "      <th>W3-W4</th>\n",
       "      <th>W2-W3</th>\n",
       "    </tr>\n",
       "  </thead>\n",
       "  <tbody>\n",
       "    <tr>\n",
       "      <th>0</th>\n",
       "      <td>0.00050</td>\n",
       "      <td>1.000</td>\n",
       "      <td>-0.000</td>\n",
       "      <td>-0.000</td>\n",
       "      <td>-0.000</td>\n",
       "      <td>-0.000</td>\n",
       "    </tr>\n",
       "    <tr>\n",
       "      <th>1</th>\n",
       "      <td>0.00100</td>\n",
       "      <td>1.000</td>\n",
       "      <td>0.000</td>\n",
       "      <td>0.001</td>\n",
       "      <td>0.000</td>\n",
       "      <td>0.001</td>\n",
       "    </tr>\n",
       "    <tr>\n",
       "      <th>2</th>\n",
       "      <td>0.00150</td>\n",
       "      <td>0.998</td>\n",
       "      <td>0.002</td>\n",
       "      <td>0.001</td>\n",
       "      <td>0.001</td>\n",
       "      <td>-0.001</td>\n",
       "    </tr>\n",
       "    <tr>\n",
       "      <th>3</th>\n",
       "      <td>0.00200</td>\n",
       "      <td>0.995</td>\n",
       "      <td>0.000</td>\n",
       "      <td>0.000</td>\n",
       "      <td>0.001</td>\n",
       "      <td>0.000</td>\n",
       "    </tr>\n",
       "    <tr>\n",
       "      <th>4</th>\n",
       "      <td>0.00250</td>\n",
       "      <td>0.995</td>\n",
       "      <td>0.005</td>\n",
       "      <td>0.002</td>\n",
       "      <td>0.002</td>\n",
       "      <td>-0.003</td>\n",
       "    </tr>\n",
       "    <tr>\n",
       "      <th>...</th>\n",
       "      <td>...</td>\n",
       "      <td>...</td>\n",
       "      <td>...</td>\n",
       "      <td>...</td>\n",
       "      <td>...</td>\n",
       "      <td>...</td>\n",
       "    </tr>\n",
       "    <tr>\n",
       "      <th>827</th>\n",
       "      <td>2.87603</td>\n",
       "      <td>0.043</td>\n",
       "      <td>0.930</td>\n",
       "      <td>1.733</td>\n",
       "      <td>-0.180</td>\n",
       "      <td>0.803</td>\n",
       "    </tr>\n",
       "    <tr>\n",
       "      <th>828</th>\n",
       "      <td>2.90479</td>\n",
       "      <td>0.043</td>\n",
       "      <td>0.941</td>\n",
       "      <td>1.758</td>\n",
       "      <td>-0.180</td>\n",
       "      <td>0.817</td>\n",
       "    </tr>\n",
       "    <tr>\n",
       "      <th>829</th>\n",
       "      <td>2.93384</td>\n",
       "      <td>0.043</td>\n",
       "      <td>0.952</td>\n",
       "      <td>1.783</td>\n",
       "      <td>-0.181</td>\n",
       "      <td>0.831</td>\n",
       "    </tr>\n",
       "    <tr>\n",
       "      <th>830</th>\n",
       "      <td>2.96318</td>\n",
       "      <td>0.043</td>\n",
       "      <td>0.963</td>\n",
       "      <td>1.808</td>\n",
       "      <td>-0.182</td>\n",
       "      <td>0.845</td>\n",
       "    </tr>\n",
       "    <tr>\n",
       "      <th>831</th>\n",
       "      <td>2.99281</td>\n",
       "      <td>0.043</td>\n",
       "      <td>0.973</td>\n",
       "      <td>1.833</td>\n",
       "      <td>-0.182</td>\n",
       "      <td>0.860</td>\n",
       "    </tr>\n",
       "  </tbody>\n",
       "</table>\n",
       "<p>832 rows × 6 columns</p>\n",
       "</div>"
      ],
      "text/plain": [
       "           z     f1  W1-W2  W1-W3  W3-W4  W2-W3\n",
       "0    0.00050  1.000 -0.000 -0.000 -0.000 -0.000\n",
       "1    0.00100  1.000  0.000  0.001  0.000  0.001\n",
       "2    0.00150  0.998  0.002  0.001  0.001 -0.001\n",
       "3    0.00200  0.995  0.000  0.000  0.001  0.000\n",
       "4    0.00250  0.995  0.005  0.002  0.002 -0.003\n",
       "..       ...    ...    ...    ...    ...    ...\n",
       "827  2.87603  0.043  0.930  1.733 -0.180  0.803\n",
       "828  2.90479  0.043  0.941  1.758 -0.180  0.817\n",
       "829  2.93384  0.043  0.952  1.783 -0.181  0.831\n",
       "830  2.96318  0.043  0.963  1.808 -0.182  0.845\n",
       "831  2.99281  0.043  0.973  1.833 -0.182  0.860\n",
       "\n",
       "[832 rows x 6 columns]"
      ]
     },
     "execution_count": 14,
     "metadata": {},
     "output_type": "execute_result"
    }
   ],
   "source": [
    "e_table"
   ]
  },
  {
   "cell_type": "code",
   "execution_count": 21,
   "metadata": {},
   "outputs": [],
   "source": [
    "identifier = np.random.choice(np.arange(10), size=3, replace=False)\n",
    "for idn, sample in zip(identifier,[optimal_sample, suboptimal_sample, nok_sample]):\n",
    "    if len(sample)!=0:\n",
    "        if idn!=identifier[2]:                                                                      #Color k-correction for sample with z<0.5\n",
    "            object_condition = (sample['NED_TYPE']=='RadioS') | (sample['NED_TYPE']=='QSO')\n",
    "\n",
    "            e_index = np.where((sample['T']<=-3) & ~object_condition)[0]\n",
    "            l_index = np.where((sample['T']>-3) & (sample['T']<=0) & ~object_condition)[0]          #Divide samples in Elliptical, Lenticular and Spiral by T value\n",
    "            s_index = np.where((sample['T']>0) & (sample['T']!=no_data) & ~object_condition)[0]\n",
    "\n",
    "            no_type_index = np.where((sample['T']==no_data) & ~object_condition)[0]                 #Sample without T values\n",
    "            w1w2_no_type = sample[no_type_index]['W1-W2_obs']                                      \n",
    "            w2w3_no_type = sample[no_type_index]['W2-W3_obs']  \n",
    "            z_no_type = sample[no_type_index]['Z']                                                    \n",
    "\n",
    "            e_w1_kcorrected = wm.w1_k_corrected(lookup_table=e_table,w1=w1[e_index],z=z[e_index])\n",
    "            l_w1_kcorrected = wm.w1_k_corrected(lookup_table=l_table,w1=w1[l_index],z=z[l_index])   #W1 k-corrected \n",
    "            s_w1_kcorrected = wm.w1_k_corrected(lookup_table=s_table,w1=w1[s_index],z=z[s_index])\n",
    "\n",
    "            e_w2w3_kcor = wm.get_correction_factor(lookup_table=e_table, redshift=sample[e_index]['Z'], correction_factor='W2-W3')\n",
    "            l_w2w3_kcor = wm.get_correction_factor(lookup_table=l_table, redshift=sample[l_index]['Z'], correction_factor='W2-W3')     #W2-W3 k-correction factor\n",
    "            s_w2w3_kcor = wm.get_correction_factor(lookup_table=s_table, redshift=sample[s_index]['Z'], correction_factor='W2-W3')\n",
    "\n",
    "            e_w1w2_kcor = wm.get_correction_factor(lookup_table=e_table, redshift=sample[e_index]['Z'], correction_factor='W1-W2')\n",
    "            l_w1w2_kcor = wm.get_correction_factor(lookup_table=l_table, redshift=sample[l_index]['Z'], correction_factor='W1-W2')     #W1-W2 k-correction factor\n",
    "            s_w1w2_kcor = wm.get_correction_factor(lookup_table=s_table, redshift=sample[s_index]['Z'], correction_factor='W1-W2')\n",
    "\n",
    "            #Both k-correction factors for no type sample, using division by observed W2-W3 color\n",
    "            factor_w2 = 171.787\n",
    "            factor_w3 = 31.674\n",
    "\n",
    "            w2w3_limit = -2.5*(np.log10(factor_w3/factor_w2) + 0.1)                             #Last value is the flux limit from Mateos et al. (2012)\n",
    "\n",
    "            no_type_w1w2_kcor = [\n",
    "                wm.get_correction_factor(lookup_table=e_table, redshift=z, correction_factor='W1-W2') if (color_x<=w2w3_limit)\n",
    "                else wm.get_correction_factor(lookup_table=s_table, redshift=z, correction_factor='W1-W2') if (color_x>w2w3_limit) else 0\n",
    "                for color_x,color_y,z in zip(w2w3_no_type,w1w2_no_type, z_no_type)\n",
    "                ]\n",
    "            no_type_w2w3_kcor = [\n",
    "                wm.get_correction_factor(lookup_table=e_table, redshift=z, correction_factor='W2-W3') if (color_x<=w2w3_limit)\n",
    "                else wm.get_correction_factor(lookup_table=s_table, redshift=z, correction_factor='W2-W3') if (color_x>w2w3_limit)  else 0\n",
    "                for color_x,color_y,z in zip(w2w3_no_type,w1w2_no_type, z_no_type)\n",
    "                ]\n",
    "\n",
    "            no_type_w1_kcorrected = [\n",
    "                wm.w1_k_corrected(lookup_table=e_table,w1=w1[no_type_id],z=np.array([z]))[0] if (color_x<=w2w3_limit)\n",
    "                else wm.w1_k_corrected(lookup_table=s_table,w1=w1[no_type_id],z=np.array([z]))[0] if (color_x>w2w3_limit) else w1[no_type_index]\n",
    "                for color_x,color_y,z,no_type_id in zip(w2w3_no_type,w1w2_no_type, z_no_type, no_type_index)\n",
    "                ]   \n",
    "\n",
    "            e_w1abs_kcorrected = e_w1_kcorrected - wm.distance_modulus_z(sample[e_index]['Z'])[:,None]          #W1 k-correction for e_sources\n",
    "            l_w1abs_kcorrected = l_w1_kcorrected - wm.distance_modulus_z(sample[l_index]['Z'])[:,None]          #W1 k-correction for l_sources\n",
    "            s_w1abs_kcorrected = s_w1_kcorrected - wm.distance_modulus_z(sample[s_index]['Z'])[:,None]          #W1 k-correction for s_sources\n",
    "            no_type_w1abs_kcorrected = no_type_w1_kcorrected - wm.distance_modulus_z(z_no_type)[:,None]   #W1 k-correction for no_type_sources\n",
    "\n",
    "            if np.shape(no_type_w1abs_kcorrected)==(0,0):\n",
    "                no_type_w1abs_kcorrected = no_type_w1abs_kcorrected.reshape(0,1000)\n",
    "\n",
    "            w1w2_kcors[e_index] = e_w1w2_kcor\n",
    "            w1w2_kcors[l_index] = l_w1w2_kcor                   #W1-W2 k-correctrion factors filled\n",
    "            w1w2_kcors[s_index] = s_w1w2_kcor\n",
    "            w1w2_kcors[no_type_index] = no_type_w1w2_kcor\n",
    "\n",
    "            w2w3_kcors[e_index] = e_w2w3_kcor\n",
    "            w2w3_kcors[l_index] = l_w2w3_kcor                   #W2-W3 k-correctrion factors filled\n",
    "            w2w3_kcors[s_index] = s_w2w3_kcor\n",
    "            w2w3_kcors[no_type_index] = no_type_w2w3_kcor\n",
    "\n",
    "            w1abs[e_index] = e_w1abs_kcorrected\n",
    "            w1abs[l_index] = l_w1abs_kcorrected                 #W1abs k-corrected filled\n",
    "            w1abs[s_index] = s_w1abs_kcorrected\n",
    "            w1abs[no_type_index] = no_type_w1abs_kcorrected\n",
    "            \n",
    "        else:\n",
    "            w1abs_kcorrected = w1[np.where(nok_cond)[0]] - wm.distance_modulus_z(z[np.where(nok_cond)[0]])[:,None]\n",
    "            w1abs[np.where(nok_cond)[0]] = w1abs_kcorrected\n",
    "\n",
    "            w1w2_kcors[np.where(nok_cond)[0]] = 0\n",
    "            w2w3_kcors[np.where(nok_cond)[0]] = 0                                        #For sources with z>3, no k-correction is applied\n",
    "    else:\n",
    "        continue"
   ]
  },
  {
   "cell_type": "code",
   "execution_count": 29,
   "metadata": {},
   "outputs": [
    {
     "ename": "TypeError",
     "evalue": "'<' not supported between instances of 'module' and 'float'",
     "output_type": "error",
     "traceback": [
      "\u001b[0;31m---------------------------------------------------------------------------\u001b[0m",
      "\u001b[0;31mTypeError\u001b[0m                                 Traceback (most recent call last)",
      "\u001b[1;32m/home/joacoh/OneDrive/wise2mbh/notebooks/allwise_test.ipynb Cell 25\u001b[0m line \u001b[0;36m8\n\u001b[1;32m      <a href='vscode-notebook-cell:/home/joacoh/OneDrive/wise2mbh/notebooks/allwise_test.ipynb#X41sZmlsZQ%3D%3D?line=4'>5</a>\u001b[0m new_allwise[\u001b[39m'\u001b[39m\u001b[39mW2-W3_kcor\u001b[39m\u001b[39m'\u001b[39m] \u001b[39m=\u001b[39m np\u001b[39m.\u001b[39mmedian(w2w3_kcorrected, axis\u001b[39m=\u001b[39m\u001b[39m1\u001b[39m)\n\u001b[1;32m      <a href='vscode-notebook-cell:/home/joacoh/OneDrive/wise2mbh/notebooks/allwise_test.ipynb#X41sZmlsZQ%3D%3D?line=6'>7</a>\u001b[0m w1w2_sat_top \u001b[39m=\u001b[39m wm\u001b[39m.\u001b[39mclipping_dist(w1w2_kcorrected, \u001b[39m0.6\u001b[39m)                           \u001b[39m#W1-W2 is saturated between -0.2 and 0.6 for M/L ratios\u001b[39;00m\n\u001b[0;32m----> <a href='vscode-notebook-cell:/home/joacoh/OneDrive/wise2mbh/notebooks/allwise_test.ipynb#X41sZmlsZQ%3D%3D?line=7'>8</a>\u001b[0m w1w2_sat_complete \u001b[39m=\u001b[39m wm\u001b[39m.\u001b[39;49mclipping_dist(w1w2_sat_top, \u001b[39m-\u001b[39;49m\u001b[39m0.2\u001b[39;49m, greater_than\u001b[39m=\u001b[39;49m\u001b[39mFalse\u001b[39;49;00m)\n",
      "File \u001b[0;32m~/miniconda3/lib/python3.10/site-packages/wise2mbh/wise2mbh.py:58\u001b[0m, in \u001b[0;36mclipping_dist\u001b[0;34m(array, tresh, val, greater_than)\u001b[0m\n\u001b[1;32m     56\u001b[0m         m \u001b[39m=\u001b[39m np\u001b[39m.\u001b[39mmean(new_array[i,:])\n\u001b[1;32m     57\u001b[0m \u001b[39melse\u001b[39;00m:\n\u001b[0;32m---> 58\u001b[0m     \u001b[39mwhile\u001b[39;00m m \u001b[39m<\u001b[39;49m tresh:\n\u001b[1;32m     59\u001b[0m         new_array[i,:] \u001b[39m+\u001b[39m\u001b[39m=\u001b[39m val\n\u001b[1;32m     60\u001b[0m         m \u001b[39m=\u001b[39m np\n",
      "\u001b[0;31mTypeError\u001b[0m: '<' not supported between instances of 'module' and 'float'"
     ]
    }
   ],
   "source": [
    "w1w2_kcorrected = w1w2_obs - w1w2_kcors[:,None]                                 #Colors for complete slice are applied\n",
    "w2w3_kcorrected = w2w3_obs - w2w3_kcors[:,None]\n",
    "\n",
    "new_allwise['W1-W2_kcor'] = np.median(w1w2_kcorrected, axis=1)                  #Median value is saved in data frame\n",
    "new_allwise['W2-W3_kcor'] = np.median(w2w3_kcorrected, axis=1)\n",
    "\n",
    "w1w2_sat_top = wm.clipping_dist(w1w2_kcorrected, 0.6)                           #W1-W2 is saturated between -0.2 and 0.6 for M/L ratios\n",
    "w1w2_sat_complete = wm.clipping_dist(w1w2_sat_top, -0.2, greater_than=False)"
   ]
  }
 ],
 "metadata": {
  "kernelspec": {
   "display_name": "base",
   "language": "python",
   "name": "python3"
  },
  "language_info": {
   "codemirror_mode": {
    "name": "ipython",
    "version": 3
   },
   "file_extension": ".py",
   "mimetype": "text/x-python",
   "name": "python",
   "nbconvert_exporter": "python",
   "pygments_lexer": "ipython3",
   "version": "3.10.8"
  },
  "orig_nbformat": 4
 },
 "nbformat": 4,
 "nbformat_minor": 2
}
