{
 "cells": [
  {
   "cell_type": "markdown",
   "metadata": {},
   "source": [
    "# WISE2MBH Tutorial"
   ]
  },
  {
   "cell_type": "code",
   "execution_count": 1,
   "metadata": {},
   "outputs": [],
   "source": [
    "import wise2mbh as wm\n",
    "from astropy.table import Table\n",
    "import numpy as np\n",
    "import matplotlib.pyplot as plt\n",
    "import random\n",
    "no_data = 9876543"
   ]
  },
  {
   "cell_type": "code",
   "execution_count": 2,
   "metadata": {},
   "outputs": [
    {
     "data": {
      "text/html": [
       "<div><i>Table length=77712</i>\n",
       "<table id=\"table139900770008080\" class=\"table-striped table-bordered table-condensed\">\n",
       "<thead><tr><th>ONAME</th><th>RA</th><th>DEC</th><th>Z</th><th>T</th><th>NED_TYPE</th><th>AllWISE</th><th>RAJ2000</th><th>DEJ2000</th><th>eeMaj</th><th>eeMin</th><th>eePA</th><th>W1mag</th><th>W2mag</th><th>W3mag</th><th>W4mag</th><th>Jmag</th><th>Hmag</th><th>Kmag</th><th>e_W1mag</th><th>e_W2mag</th><th>e_W3mag</th><th>e_W4mag</th><th>e_Jmag</th><th>e_Hmag</th><th>e_Kmag</th><th>ID</th><th>ccf</th><th>ex</th><th>var</th><th>qph</th><th>pmRA</th><th>e_pmRA</th><th>pmDE</th><th>e_pmDE</th><th>d2M</th><th>angDist</th></tr></thead>\n",
       "<thead><tr><th>bytes107</th><th>float64</th><th>float64</th><th>float64</th><th>float64</th><th>bytes7</th><th>bytes19</th><th>float64</th><th>float64</th><th>float32</th><th>float32</th><th>float32</th><th>float32</th><th>float32</th><th>float32</th><th>float32</th><th>float32</th><th>float32</th><th>float32</th><th>float32</th><th>float32</th><th>float32</th><th>float32</th><th>float32</th><th>float32</th><th>float32</th><th>int64</th><th>bytes4</th><th>bytes1</th><th>bytes4</th><th>bytes4</th><th>int32</th><th>int32</th><th>int32</th><th>int32</th><th>float32</th><th>float64</th></tr></thead>\n",
       "<tr><td>WISEAJ112428.14-363548.5</td><td>171.1172539</td><td>-36.5968225</td><td>0.2</td><td>9876543.0</td><td>Unknown</td><td>J112428.14-363548.5</td><td>171.1172539</td><td>-36.5968225</td><td>0.0427</td><td>0.0415</td><td>130.3</td><td>13.449</td><td>12.486</td><td>9.394</td><td>6.977</td><td>15.185</td><td>14.474</td><td>14.293</td><td>0.025</td><td>0.024</td><td>0.033</td><td>0.084</td><td>0.056</td><td>0.061</td><td>0.075</td><td>1716036401351015875</td><td>0000</td><td>0</td><td>1122</td><td>AAAA</td><td>160</td><td>54</td><td>42</td><td>55</td><td>2.073</td><td>1e-06</td></tr>\n",
       "<tr><td>WISEAJ144229.68-435343.2</td><td>220.6236974</td><td>-43.8953408</td><td>0.3</td><td>9876543.0</td><td>Unknown</td><td>J144229.68-435343.2</td><td>220.6236974</td><td>-43.8953408</td><td>0.1285</td><td>0.1177</td><td>11.9</td><td>15.975</td><td>14.663</td><td>10.911</td><td>7.801</td><td>--</td><td>--</td><td>--</td><td>0.055</td><td>0.06</td><td>0.118</td><td>0.195</td><td>--</td><td>--</td><td>--</td><td>2205044001351034712</td><td>0000</td><td>0</td><td>011n</td><td>AABB</td><td>412</td><td>466</td><td>-34</td><td>505</td><td>--</td><td>1e-06</td></tr>\n",
       "<tr><td>WISEAJ163728.75+290335.9</td><td>249.3698107</td><td>29.0599733</td><td>0.2</td><td>9876543.0</td><td>Unknown</td><td>J163728.75+290335.9</td><td>249.3698107</td><td>29.0599733</td><td>0.0692</td><td>0.0643</td><td>4.9</td><td>15.637</td><td>13.775</td><td>9.703</td><td>7.347</td><td>--</td><td>--</td><td>--</td><td>0.04</td><td>0.034</td><td>0.038</td><td>0.124</td><td>--</td><td>--</td><td>--</td><td>2485128701351042160</td><td>0000</td><td>0</td><td>0011</td><td>AAAB</td><td>-116</td><td>295</td><td>-250</td><td>278</td><td>--</td><td>2e-06</td></tr>\n",
       "<tr><td>WISEAJ184321.55-621724.8</td><td>280.8398056</td><td>-62.2902233</td><td>0.2</td><td>9876543.0</td><td>Unknown</td><td>J184321.55-621724.8</td><td>280.8398056</td><td>-62.2902233</td><td>0.0722</td><td>0.0689</td><td>38.8</td><td>14.624</td><td>13.762</td><td>11.04</td><td>8.519</td><td>--</td><td>--</td><td>--</td><td>0.036</td><td>0.035</td><td>0.106</td><td>--</td><td>--</td><td>--</td><td>--</td><td>2810062101351018362</td><td>0000</td><td>0</td><td>nnnn</td><td>AAAU</td><td>--</td><td>--</td><td>--</td><td>--</td><td>--</td><td>5e-06</td></tr>\n",
       "<tr><td>WISEAJ183203.33+633041.5</td><td>278.0139066</td><td>63.5115391</td><td>0.3</td><td>9876543.0</td><td>Unknown</td><td>J183203.33+633041.5</td><td>278.0139066</td><td>63.5115391</td><td>0.0662</td><td>0.0627</td><td>129.3</td><td>15.811</td><td>14.794</td><td>11.508</td><td>8.357</td><td>--</td><td>--</td><td>--</td><td>0.032</td><td>0.035</td><td>0.086</td><td>0.118</td><td>--</td><td>--</td><td>--</td><td>2774163601351028837</td><td>0000</td><td>0</td><td>11nn</td><td>AAAB</td><td>155</td><td>233</td><td>-229</td><td>248</td><td>--</td><td>7e-06</td></tr>\n",
       "<tr><td>WISEAJ000517.26-341452.8</td><td>1.321926</td><td>-34.2480098</td><td>0.3</td><td>9876543.0</td><td>Unknown</td><td>J000517.26-341452.8</td><td>1.321926</td><td>-34.2480098</td><td>0.0752</td><td>0.0713</td><td>141.6</td><td>15.1</td><td>14.143</td><td>10.839</td><td>7.887</td><td>--</td><td>--</td><td>--</td><td>0.035</td><td>0.04</td><td>0.114</td><td>0.189</td><td>--</td><td>--</td><td>--</td><td>18034901351061482</td><td>0000</td><td>0</td><td>110n</td><td>AABB</td><td>289</td><td>256</td><td>-282</td><td>261</td><td>--</td><td>7e-06</td></tr>\n",
       "<tr><td>WISEAJ041514.13-810745.9</td><td>63.8088863</td><td>-81.1294387</td><td>0.2</td><td>9876543.0</td><td>Unknown</td><td>J041514.13-810745.9</td><td>63.8088863</td><td>-81.1294387</td><td>0.0457</td><td>0.0449</td><td>162.3</td><td>14.499</td><td>13.543</td><td>10.429</td><td>7.558</td><td>--</td><td>--</td><td>--</td><td>0.025</td><td>0.026</td><td>0.048</td><td>0.099</td><td>--</td><td>--</td><td>--</td><td>681081801351062155</td><td>0000</td><td>0</td><td>110n</td><td>AAAA</td><td>260</td><td>66</td><td>92</td><td>69</td><td>--</td><td>8e-06</td></tr>\n",
       "<tr><td>WISEAJ150206.92+781622.6</td><td>225.5288639</td><td>78.2729584</td><td>0.3</td><td>9876543.0</td><td>Unknown</td><td>J150206.92+781622.6</td><td>225.5288639</td><td>78.2729584</td><td>0.0886</td><td>0.0831</td><td>95.1</td><td>15.959</td><td>15.085</td><td>12.15</td><td>9.497</td><td>--</td><td>--</td><td>--</td><td>0.037</td><td>0.05</td><td>0.202</td><td>0.512</td><td>--</td><td>--</td><td>--</td><td>2232178701351000385</td><td>0000</td><td>0</td><td>11nn</td><td>AABC</td><td>-761</td><td>305</td><td>100</td><td>285</td><td>--</td><td>9e-06</td></tr>\n",
       "<tr><td>WISEAJ050357.41-282633.0</td><td>75.989223</td><td>-28.4425115</td><td>0.2</td><td>9876543.0</td><td>Unknown</td><td>J050357.41-282633.0</td><td>75.989223</td><td>-28.4425115</td><td>0.1182</td><td>0.0847</td><td>153.4</td><td>15.102</td><td>14.292</td><td>11.284</td><td>8.529</td><td>--</td><td>--</td><td>--</td><td>0.045</td><td>0.045</td><td>0.125</td><td>0.332</td><td>--</td><td>--</td><td>--</td><td>754028801351050034</td><td>0000</td><td>0</td><td>nnnn</td><td>AABB</td><td>--</td><td>--</td><td>--</td><td>--</td><td>--</td><td>1.1e-05</td></tr>\n",
       "<tr><td>WISEAJ214758.54-635335.8</td><td>326.9939375</td><td>-63.8932904</td><td>0.5</td><td>9876543.0</td><td>Unknown</td><td>J214758.54-635335.8</td><td>326.9939375</td><td>-63.8932904</td><td>0.0681</td><td>0.0645</td><td>140.5</td><td>14.776</td><td>13.758</td><td>9.822</td><td>6.779</td><td>16.941</td><td>15.845</td><td>15.509</td><td>0.033</td><td>0.039</td><td>0.057</td><td>0.101</td><td>0.22</td><td>0.209</td><td>0.24</td><td>3269063701351018994</td><td>0000</td><td>0</td><td>1000</td><td>AAAA</td><td>113</td><td>133</td><td>-80</td><td>136</td><td>0.301</td><td>1.2e-05</td></tr>\n",
       "<tr><td>...</td><td>...</td><td>...</td><td>...</td><td>...</td><td>...</td><td>...</td><td>...</td><td>...</td><td>...</td><td>...</td><td>...</td><td>...</td><td>...</td><td>...</td><td>...</td><td>...</td><td>...</td><td>...</td><td>...</td><td>...</td><td>...</td><td>...</td><td>...</td><td>...</td><td>...</td><td>...</td><td>...</td><td>...</td><td>...</td><td>...</td><td>...</td><td>...</td><td>...</td><td>...</td><td>...</td><td>...</td></tr>\n",
       "<tr><td>LAMOST399605218</td><td>131.95832</td><td>51.15924</td><td>0.13803734</td><td>9876543.0</td><td>Galaxy</td><td>J084750.00+510933.2</td><td>131.9583412</td><td>51.1592361</td><td>0.0542</td><td>0.0525</td><td>143.4</td><td>14.025</td><td>13.764</td><td>11.113</td><td>9.1</td><td>15.964</td><td>15.274</td><td>14.563</td><td>0.025</td><td>0.034</td><td>0.153</td><td>--</td><td>0.087</td><td>0.094</td><td>0.085</td><td>1311151401351023860</td><td>0000</td><td>0</td><td>01nn</td><td>AABU</td><td>-22</td><td>141</td><td>50</td><td>143</td><td>0.347</td><td>0.049997</td></tr>\n",
       "<tr><td>SDSSJ115205.18+382928.0</td><td>178.021614</td><td>38.4911345</td><td>0.40462333</td><td>9876543.0</td><td>Unknown</td><td>J115205.18+382928.0</td><td>178.0215991</td><td>38.491127</td><td>0.0979</td><td>0.0928</td><td>17.3</td><td>15.365</td><td>15.172</td><td>12.824</td><td>8.849</td><td>--</td><td>--</td><td>--</td><td>0.038</td><td>0.078</td><td>--</td><td>--</td><td>--</td><td>--</td><td>--</td><td>1781137801351058128</td><td>0000</td><td>0</td><td>00nn</td><td>AAUU</td><td>62</td><td>270</td><td>-54</td><td>290</td><td>--</td><td>0.049997</td></tr>\n",
       "<tr><td>SDSS1504239155469641728</td><td>243.77024</td><td>39.31195</td><td>0.14051065</td><td>9876543.0</td><td>Galaxy</td><td>J161504.85+391843.0</td><td>243.770246</td><td>39.3119631</td><td>0.0486</td><td>0.048</td><td>135.0</td><td>13.708</td><td>13.451</td><td>12.888</td><td>9.59</td><td>15.632</td><td>14.88</td><td>14.284</td><td>0.025</td><td>0.029</td><td>0.407</td><td>--</td><td>0.08</td><td>0.083</td><td>0.073</td><td>2438139301351031839</td><td>0000</td><td>0</td><td>00nn</td><td>AACU</td><td>0</td><td>71</td><td>0</td><td>76</td><td>0.164</td><td>0.049997</td></tr>\n",
       "<tr><td>SDSS994312869900216320</td><td>183.59372</td><td>53.64215</td><td>0.1756268</td><td>9876543.0</td><td>Galaxy</td><td>J121422.48+533831.7</td><td>183.593698</td><td>53.6421548</td><td>0.0541</td><td>0.053</td><td>175.1</td><td>14.199</td><td>13.949</td><td>12.669</td><td>8.811</td><td>16.142</td><td>15.352</td><td>14.873</td><td>0.026</td><td>0.033</td><td>0.429</td><td>--</td><td>0.094</td><td>0.107</td><td>0.106</td><td>1824153001351053170</td><td>0000</td><td>0</td><td>00nn</td><td>AACU</td><td>-13</td><td>99</td><td>24</td><td>105</td><td>0.06</td><td>0.049997</td></tr>\n",
       "<tr><td>SDSSJ145532.69+580519.7</td><td>223.8862155</td><td>58.0888205</td><td>0.35417667</td><td>9876543.0</td><td>Unknown</td><td>J145532.69+580519.7</td><td>223.8862407</td><td>58.0888244</td><td>0.0742</td><td>0.0712</td><td>11.5</td><td>15.261</td><td>15.077</td><td>12.889</td><td>9.481</td><td>--</td><td>--</td><td>--</td><td>0.031</td><td>0.054</td><td>--</td><td>--</td><td>--</td><td>--</td><td>--</td><td>2243157501351060214</td><td>0000</td><td>0</td><td>00nn</td><td>AAUU</td><td>415</td><td>181</td><td>220</td><td>188</td><td>--</td><td>0.049997</td></tr>\n",
       "<tr><td>WISEAJ113538.25+315012.5</td><td>173.9094019222</td><td>31.836811624</td><td>0.45649</td><td>9876543.0</td><td>Unknown</td><td>J113538.25+315012.5</td><td>173.9094028</td><td>31.8368255</td><td>0.0865</td><td>0.0832</td><td>15.6</td><td>14.964</td><td>14.744</td><td>12.322</td><td>9.066</td><td>--</td><td>--</td><td>--</td><td>0.035</td><td>0.065</td><td>--</td><td>--</td><td>--</td><td>--</td><td>--</td><td>1747131801351038143</td><td>0000</td><td>0</td><td>11nn</td><td>AAUU</td><td>-348</td><td>220</td><td>-167</td><td>237</td><td>--</td><td>0.049998</td></tr>\n",
       "<tr><td>WISEAJ115816.26+302142.1</td><td>179.5678</td><td>30.36171</td><td>0.146</td><td>9876543.0</td><td>Galaxy</td><td>J115816.26+302142.1</td><td>179.5677894</td><td>30.3616995</td><td>0.0475</td><td>0.0465</td><td>153.1</td><td>13.783</td><td>13.064</td><td>10.4</td><td>7.741</td><td>15.904</td><td>15.35</td><td>14.722</td><td>0.025</td><td>0.027</td><td>0.072</td><td>0.143</td><td>0.083</td><td>0.102</td><td>0.09</td><td>1791130201351029659</td><td>0000</td><td>0</td><td>000n</td><td>AAAB</td><td>77</td><td>118</td><td>31</td><td>119</td><td>0.089</td><td>0.049999</td></tr>\n",
       "<tr><td>SDSSJ095103.03+142941.6</td><td>147.76265</td><td>14.49491</td><td>0.233</td><td>-9.0</td><td>QSO</td><td>J095103.03+142941.6</td><td>147.7626379</td><td>14.4949026</td><td>0.0396</td><td>0.0381</td><td>137.0</td><td>13.057</td><td>12.077</td><td>8.594</td><td>6.04</td><td>15.977</td><td>15.02</td><td>14.229</td><td>0.024</td><td>0.022</td><td>0.03</td><td>0.066</td><td>0.083</td><td>0.092</td><td>0.07</td><td>1471115101351000018</td><td>0000</td><td>0</td><td>1100</td><td>AAAA</td><td>96</td><td>53</td><td>98</td><td>56</td><td>0.056</td><td>0.049999</td></tr>\n",
       "<tr><td>SDSSJ150436.89+270600.0</td><td>226.153743</td><td>27.1000244</td><td>0.41787</td><td>9876543.0</td><td>Unknown</td><td>J150436.90+270600.0</td><td>226.1537509</td><td>27.1000124</td><td>0.0643</td><td>0.0619</td><td>179.3</td><td>14.647</td><td>14.393</td><td>12.908</td><td>9.506</td><td>17.011</td><td>15.719</td><td>14.972</td><td>0.029</td><td>0.042</td><td>--</td><td>--</td><td>0.211</td><td>--</td><td>0.169</td><td>2264127201351015796</td><td>h000</td><td>0</td><td>01nn</td><td>AAUU</td><td>-31</td><td>86</td><td>-134</td><td>95</td><td>0.277</td><td>0.049999</td></tr>\n",
       "<tr><td>LAMOST504013208</td><td>170.00596</td><td>48.08189</td><td>0.12572007</td><td>9876543.0</td><td>Galaxy</td><td>J112001.42+480454.7</td><td>170.0059408</td><td>48.0818847</td><td>0.0553</td><td>0.053</td><td>4.8</td><td>14.014</td><td>13.852</td><td>12.403</td><td>9.121</td><td>15.576</td><td>14.948</td><td>14.399</td><td>0.026</td><td>0.034</td><td>--</td><td>--</td><td>0.08</td><td>0.083</td><td>0.075</td><td>1709148401351013591</td><td>0000</td><td>0</td><td>11nn</td><td>AAUU</td><td>94</td><td>96</td><td>-102</td><td>105</td><td>0.109</td><td>0.049999</td></tr>\n",
       "</table></div>"
      ],
      "text/plain": [
       "<Table length=77712>\n",
       "         ONAME                 RA           DEC      ... e_pmDE   d2M   angDist \n",
       "        bytes107            float64       float64    ... int32  float32 float64 \n",
       "------------------------ -------------- ------------ ... ------ ------- --------\n",
       "WISEAJ112428.14-363548.5    171.1172539  -36.5968225 ...     55   2.073    1e-06\n",
       "WISEAJ144229.68-435343.2    220.6236974  -43.8953408 ...    505      --    1e-06\n",
       "WISEAJ163728.75+290335.9    249.3698107   29.0599733 ...    278      --    2e-06\n",
       "WISEAJ184321.55-621724.8    280.8398056  -62.2902233 ...     --      --    5e-06\n",
       "WISEAJ183203.33+633041.5    278.0139066   63.5115391 ...    248      --    7e-06\n",
       "WISEAJ000517.26-341452.8       1.321926  -34.2480098 ...    261      --    7e-06\n",
       "WISEAJ041514.13-810745.9     63.8088863  -81.1294387 ...     69      --    8e-06\n",
       "WISEAJ150206.92+781622.6    225.5288639   78.2729584 ...    285      --    9e-06\n",
       "WISEAJ050357.41-282633.0      75.989223  -28.4425115 ...     --      --  1.1e-05\n",
       "WISEAJ214758.54-635335.8    326.9939375  -63.8932904 ...    136   0.301  1.2e-05\n",
       "                     ...            ...          ... ...    ...     ...      ...\n",
       "         LAMOST399605218      131.95832     51.15924 ...    143   0.347 0.049997\n",
       " SDSSJ115205.18+382928.0     178.021614   38.4911345 ...    290      -- 0.049997\n",
       " SDSS1504239155469641728      243.77024     39.31195 ...     76   0.164 0.049997\n",
       "  SDSS994312869900216320      183.59372     53.64215 ...    105    0.06 0.049997\n",
       " SDSSJ145532.69+580519.7    223.8862155   58.0888205 ...    188      -- 0.049997\n",
       "WISEAJ113538.25+315012.5 173.9094019222 31.836811624 ...    237      -- 0.049998\n",
       "WISEAJ115816.26+302142.1       179.5678     30.36171 ...    119   0.089 0.049999\n",
       " SDSSJ095103.03+142941.6      147.76265     14.49491 ...     56   0.056 0.049999\n",
       " SDSSJ150436.89+270600.0     226.153743   27.1000244 ...     95   0.277 0.049999\n",
       "         LAMOST504013208      170.00596     48.08189 ...    105   0.109 0.049999"
      ]
     },
     "execution_count": 2,
     "metadata": {},
     "output_type": "execute_result"
    }
   ],
   "source": [
    "allwise = Table.read('../samples/AllWISE_sample.fits')\n",
    "allwise"
   ]
  },
  {
   "cell_type": "markdown",
   "metadata": {},
   "source": [
    "Clening process of the sample from AllWISE"
   ]
  },
  {
   "cell_type": "code",
   "execution_count": 3,
   "metadata": {},
   "outputs": [
    {
     "name": "stdout",
     "output_type": "stream",
     "text": [
      "Size before depure: 77712\n",
      "Size after depure: 77687\n"
     ]
    }
   ],
   "source": [
    "size_before_depure = len(allwise)\n",
    "print(f'Size before depure: {size_before_depure}')\n",
    "\n",
    "allowed_z = allwise[allwise['Z']!=0]                                                            #Masking of null redshifts\n",
    "qph_list = allwise['qph'].tolist()                                                              #Extract quality flags\n",
    "null_phot = ['X', 'Z']                                                                          #Null and uplim values in W bands\n",
    "not_null_quality = [not any(letter in qph[:-1] for letter in null_phot) for qph in qph_list]    #Test quality flags\n",
    "\n",
    "allwise = allowed_z[not_null_quality].copy()                                                    #Keep non-null values in quality\n",
    "\n",
    "size_after_depure = len(allwise)\n",
    "print(f'Size after depure: {size_after_depure}')"
   ]
  },
  {
   "cell_type": "markdown",
   "metadata": {},
   "source": [
    "Detections with 'U' flag in qph do not contain errors on the WISE bands, so better to set them to a single value, in this case we'll set them to 0"
   ]
  },
  {
   "cell_type": "code",
   "execution_count": 4,
   "metadata": {},
   "outputs": [],
   "source": [
    "allwise['e_W1mag'] = allwise['e_W1mag'].filled(0)                 #Replace null errors in WISE bands\n",
    "allwise['e_W2mag'] = allwise['e_W2mag'].filled(0)\n",
    "allwise['e_W3mag'] = allwise['e_W3mag'].filled(0)"
   ]
  },
  {
   "cell_type": "markdown",
   "metadata": {},
   "source": [
    "Since this algorithm have a Monte Carlo implementation for error propagation, we recommend to take slices for big sample (rows>200), so for this tutorial, we'll use a random slice from the AllWISE sample."
   ]
  },
  {
   "cell_type": "code",
   "execution_count": 5,
   "metadata": {},
   "outputs": [
    {
     "data": {
      "text/html": [
       "<div><i>Table length=1000</i>\n",
       "<table id=\"table139902204831552\" class=\"table-striped table-bordered table-condensed\">\n",
       "<thead><tr><th>ONAME</th><th>RA</th><th>DEC</th><th>Z</th><th>T</th><th>NED_TYPE</th><th>AllWISE</th><th>RAJ2000</th><th>DEJ2000</th><th>eeMaj</th><th>eeMin</th><th>eePA</th><th>W1mag</th><th>W2mag</th><th>W3mag</th><th>W4mag</th><th>Jmag</th><th>Hmag</th><th>Kmag</th><th>e_W1mag</th><th>e_W2mag</th><th>e_W3mag</th><th>e_W4mag</th><th>e_Jmag</th><th>e_Hmag</th><th>e_Kmag</th><th>ID</th><th>ccf</th><th>ex</th><th>var</th><th>qph</th><th>pmRA</th><th>e_pmRA</th><th>pmDE</th><th>e_pmDE</th><th>d2M</th><th>angDist</th></tr></thead>\n",
       "<thead><tr><th>bytes107</th><th>float64</th><th>float64</th><th>float64</th><th>float64</th><th>bytes7</th><th>bytes19</th><th>float64</th><th>float64</th><th>float32</th><th>float32</th><th>float32</th><th>float32</th><th>float32</th><th>float32</th><th>float32</th><th>float32</th><th>float32</th><th>float32</th><th>float32</th><th>float32</th><th>float32</th><th>float32</th><th>float32</th><th>float32</th><th>float32</th><th>int64</th><th>bytes4</th><th>bytes1</th><th>bytes4</th><th>bytes4</th><th>int32</th><th>int32</th><th>int32</th><th>int32</th><th>float32</th><th>float64</th></tr></thead>\n",
       "<tr><td>SDSS519127575151273984</td><td>51.53498</td><td>-7.0967</td><td>0.14470774</td><td>9876543.0</td><td>Galaxy</td><td>J032608.39-070548.0</td><td>51.534974</td><td>-7.0966926</td><td>0.0539</td><td>0.0532</td><td>143.3</td><td>13.955</td><td>13.793</td><td>12.48</td><td>9.134</td><td>15.615</td><td>15.108</td><td>14.592</td><td>0.026</td><td>0.035</td><td>0.487</td><td>--</td><td>0.076</td><td>0.099</td><td>0.115</td><td>518007601351060454</td><td>0000</td><td>0</td><td>11nn</td><td>AACU</td><td>-80</td><td>64</td><td>-75</td><td>67</td><td>0.155</td><td>0.034179</td></tr>\n",
       "<tr><td>WISEAJ131653.76+252128.1</td><td>199.2240215132</td><td>25.3578253217</td><td>0.298592</td><td>9876543.0</td><td>Unknown</td><td>J131653.76+252128.1</td><td>199.2240274</td><td>25.35783</td><td>0.0627</td><td>0.0606</td><td>161.8</td><td>14.416</td><td>14.16</td><td>12.196</td><td>8.518</td><td>16.484</td><td>15.724</td><td>15.097</td><td>0.027</td><td>0.042</td><td>0.0</td><td>--</td><td>0.121</td><td>0.134</td><td>0.115</td><td>2000125701351013563</td><td>0000</td><td>0</td><td>00nn</td><td>AAUU</td><td>-96</td><td>129</td><td>229</td><td>139</td><td>0.156</td><td>0.025463</td></tr>\n",
       "<tr><td>SDSS827543345738835968</td><td>333.33448</td><td>12.09324</td><td>0.19418554</td><td>9876543.0</td><td>Galaxy</td><td>J221320.27+120535.6</td><td>333.3344767</td><td>12.0932442</td><td>0.0659</td><td>0.0635</td><td>126.5</td><td>14.453</td><td>14.189</td><td>12.373</td><td>8.987</td><td>16.021</td><td>15.426</td><td>14.819</td><td>0.028</td><td>0.045</td><td>0.0</td><td>--</td><td>0.095</td><td>0.13</td><td>0.114</td><td>3337112101351032412</td><td>0000</td><td>0</td><td>11nn</td><td>AAUU</td><td>283</td><td>161</td><td>-185</td><td>166</td><td>0.177</td><td>0.019033</td></tr>\n",
       "<tr><td>PGC103374</td><td>66.577875</td><td>-42.3295556</td><td>0.12505667</td><td>9876543.0</td><td>Unknown</td><td>J042618.69-421946.3</td><td>66.577875</td><td>-42.3295521</td><td>0.0474</td><td>0.0465</td><td>106.4</td><td>13.992</td><td>13.402</td><td>10.476</td><td>9.322</td><td>16.143</td><td>15.424</td><td>14.838</td><td>0.026</td><td>0.027</td><td>0.059</td><td>0.534</td><td>0.111</td><td>0.108</td><td>0.126</td><td>667042501351030920</td><td>0000</td><td>0</td><td>331n</td><td>AAAC</td><td>16</td><td>192</td><td>146</td><td>138</td><td>0.16</td><td>0.01255</td></tr>\n",
       "<tr><td>[RGD2016]J235043.82+293938.6</td><td>357.6825705</td><td>29.6607133</td><td>0.23076</td><td>9876543.0</td><td>Unknown</td><td>J235043.81+293938.6</td><td>357.6825672</td><td>29.6607233</td><td>0.0665</td><td>0.0633</td><td>124.2</td><td>14.416</td><td>14.035</td><td>11.911</td><td>8.699</td><td>16.098</td><td>15.597</td><td>14.817</td><td>0.029</td><td>0.043</td><td>0.0</td><td>--</td><td>0.089</td><td>0.137</td><td>0.126</td><td>3582130201351009353</td><td>0000</td><td>0</td><td>00nn</td><td>AAUU</td><td>-106</td><td>158</td><td>-88</td><td>158</td><td>0.211</td><td>0.037517</td></tr>\n",
       "<tr><td>SDSS2569324539926308864</td><td>135.199</td><td>21.36836</td><td>0.1936367</td><td>9876543.0</td><td>Galaxy</td><td>J090047.76+212206.0</td><td>135.199013</td><td>21.3683597</td><td>0.0565</td><td>0.0548</td><td>136.7</td><td>13.905</td><td>13.556</td><td>11.774</td><td>8.74</td><td>15.927</td><td>15.181</td><td>14.411</td><td>0.026</td><td>0.036</td><td>0.0</td><td>--</td><td>0.079</td><td>0.095</td><td>0.068</td><td>1356121201351038582</td><td>0000</td><td>0</td><td>00nn</td><td>AAUU</td><td>130</td><td>110</td><td>-102</td><td>116</td><td>0.114</td><td>0.04358</td></tr>\n",
       "<tr><td>SDSSJ144857.47+380757.3</td><td>222.239472</td><td>38.1325867</td><td>0.32208934</td><td>9876543.0</td><td>Unknown</td><td>J144857.47+380757.2</td><td>222.2394711</td><td>38.1325825</td><td>0.0681</td><td>0.065</td><td>170.2</td><td>14.982</td><td>14.791</td><td>12.858</td><td>8.935</td><td>--</td><td>--</td><td>--</td><td>0.028</td><td>0.05</td><td>0.467</td><td>--</td><td>--</td><td>--</td><td>--</td><td>2216137801351048665</td><td>0000</td><td>0</td><td>00nn</td><td>AACU</td><td>-109</td><td>104</td><td>124</td><td>112</td><td>--</td><td>0.015395</td></tr>\n",
       "<tr><td>SDSSJ085308.62-002918.6</td><td>133.2859215</td><td>-0.4885192</td><td>0.33192</td><td>9876543.0</td><td>Unknown</td><td>J085308.62-002918.6</td><td>133.2859294</td><td>-0.4885156</td><td>0.0881</td><td>0.0829</td><td>2.6</td><td>15.0</td><td>14.826</td><td>12.057</td><td>8.851</td><td>17.051</td><td>16.281</td><td>15.509</td><td>0.035</td><td>0.063</td><td>0.0</td><td>--</td><td>0.191</td><td>0.227</td><td>0.226</td><td>1331100001351002731</td><td>0000</td><td>0</td><td>00nn</td><td>AAUU</td><td>151</td><td>223</td><td>-231</td><td>247</td><td>0.549</td><td>0.031366</td></tr>\n",
       "<tr><td>GAMA347437</td><td>137.74268700000002</td><td>2.1658913</td><td>0.26038966</td><td>9876543.0</td><td>Unknown</td><td>J091058.24+020957.2</td><td>137.7426819</td><td>2.1658957</td><td>0.0871</td><td>0.0808</td><td>180.0</td><td>14.916</td><td>14.506</td><td>12.033</td><td>8.406</td><td>16.683</td><td>16.164</td><td>14.969</td><td>0.035</td><td>0.058</td><td>0.0</td><td>--</td><td>0.171</td><td>0.173</td><td>0.148</td><td>1376101501351056108</td><td>0000</td><td>0</td><td>00nn</td><td>AAUU</td><td>-81</td><td>221</td><td>490</td><td>243</td><td>0.222</td><td>0.024346</td></tr>\n",
       "<tr><td>SDSSJ001533.96-020249.6</td><td>3.8915325</td><td>-2.0471321</td><td>0.47702667</td><td>9876543.0</td><td>Unknown</td><td>J001533.96-020249.6</td><td>3.8915225</td><td>-2.0471359</td><td>0.1435</td><td>0.1296</td><td>136.0</td><td>15.689</td><td>15.576</td><td>12.53</td><td>8.716</td><td>--</td><td>--</td><td>--</td><td>0.049</td><td>0.139</td><td>0.0</td><td>--</td><td>--</td><td>--</td><td>--</td><td>45001601351009389</td><td>0000</td><td>0</td><td>0nnn</td><td>ABUU</td><td>330</td><td>497</td><td>-756</td><td>502</td><td>--</td><td>0.038387</td></tr>\n",
       "<tr><td>...</td><td>...</td><td>...</td><td>...</td><td>...</td><td>...</td><td>...</td><td>...</td><td>...</td><td>...</td><td>...</td><td>...</td><td>...</td><td>...</td><td>...</td><td>...</td><td>...</td><td>...</td><td>...</td><td>...</td><td>...</td><td>...</td><td>...</td><td>...</td><td>...</td><td>...</td><td>...</td><td>...</td><td>...</td><td>...</td><td>...</td><td>...</td><td>...</td><td>...</td><td>...</td><td>...</td><td>...</td></tr>\n",
       "<tr><td>GAMA610135</td><td>178.840542</td><td>0.3108818</td><td>0.24020366</td><td>9876543.0</td><td>Unknown</td><td>J115521.72+001839.2</td><td>178.8405398</td><td>0.3108935</td><td>0.1454</td><td>0.1356</td><td>5.8</td><td>15.806</td><td>15.542</td><td>12.468</td><td>8.239</td><td>--</td><td>--</td><td>--</td><td>0.051</td><td>0.132</td><td>0.0</td><td>--</td><td>--</td><td>--</td><td>--</td><td>1784100001351046476</td><td>0000</td><td>0</td><td>0nnn</td><td>ABUU</td><td>178</td><td>470</td><td>-279</td><td>510</td><td>--</td><td>0.042765</td></tr>\n",
       "<tr><td>SDSSJ005413.92+061551.1</td><td>13.558023</td><td>6.2641982</td><td>0.49021333</td><td>9876543.0</td><td>Unknown</td><td>J005413.92+061551.0</td><td>13.5580198</td><td>6.2641872</td><td>0.0885</td><td>0.0843</td><td>131.6</td><td>15.002</td><td>14.955</td><td>12.342</td><td>8.94</td><td>--</td><td>--</td><td>--</td><td>0.034</td><td>0.075</td><td>0.0</td><td>--</td><td>--</td><td>--</td><td>--</td><td>136106001351043748</td><td>0000</td><td>0</td><td>03nn</td><td>AAUU</td><td>-276</td><td>258</td><td>-6</td><td>260</td><td>--</td><td>0.041207</td></tr>\n",
       "<tr><td>SDSS103326.85+142738.2</td><td>158.36191</td><td>14.46064</td><td>0.4082</td><td>-9.0</td><td>QSO</td><td>J103326.85+142738.3</td><td>158.3619109</td><td>14.4606502</td><td>0.0477</td><td>0.0462</td><td>159.1</td><td>13.527</td><td>12.48</td><td>9.866</td><td>7.342</td><td>16.98</td><td>16.094</td><td>14.909</td><td>0.024</td><td>0.028</td><td>0.064</td><td>0.202</td><td>0.158</td><td>0.173</td><td>0.09</td><td>1580115101351002605</td><td>0000</td><td>0</td><td>1100</td><td>AAAB</td><td>138</td><td>110</td><td>91</td><td>105</td><td>0.087</td><td>0.036886</td></tr>\n",
       "<tr><td>SDSSJ111717.90+252511.9</td><td>169.3245855</td><td>25.4199776</td><td>0.26830032</td><td>9876543.0</td><td>Unknown</td><td>J111717.89+252511.9</td><td>169.3245828</td><td>25.4199724</td><td>0.0725</td><td>0.0708</td><td>12.3</td><td>14.651</td><td>14.349</td><td>11.849</td><td>8.968</td><td>16.872</td><td>15.796</td><td>15.067</td><td>0.032</td><td>0.046</td><td>0.247</td><td>--</td><td>0.181</td><td>0.143</td><td>0.143</td><td>1700125701351013357</td><td>0000</td><td>0</td><td>11nn</td><td>AABU</td><td>69</td><td>182</td><td>210</td><td>192</td><td>0.811</td><td>0.020591</td></tr>\n",
       "<tr><td>WISEAJ134400.61+490249.8</td><td>206.0025603716</td><td>49.0471695383</td><td>0.41196668</td><td>9876543.0</td><td>Unknown</td><td>J134400.61+490249.8</td><td>206.0025693</td><td>49.0471721</td><td>0.0703</td><td>0.0674</td><td>21.2</td><td>14.807</td><td>14.678</td><td>12.265</td><td>9.191</td><td>--</td><td>--</td><td>--</td><td>0.03</td><td>0.048</td><td>0.0</td><td>--</td><td>--</td><td>--</td><td>--</td><td>2069148401351063440</td><td>dd00</td><td>0</td><td>11nn</td><td>AAUU</td><td>55</td><td>154</td><td>126</td><td>163</td><td>--</td><td>0.023078</td></tr>\n",
       "<tr><td>GAMA537191</td><td>184.34916</td><td>-0.8791979</td><td>0.19747333</td><td>9876543.0</td><td>Unknown</td><td>J121723.79-005245.1</td><td>184.3491611</td><td>-0.8791976</td><td>0.1312</td><td>0.1197</td><td>3.6</td><td>15.541</td><td>15.219</td><td>11.623</td><td>8.837</td><td>16.871</td><td>16.088</td><td>14.506</td><td>0.046</td><td>0.116</td><td>0.0</td><td>--</td><td>0.165</td><td>0.165</td><td>--</td><td>1845001601351050681</td><td>0000</td><td>0</td><td>0nnn</td><td>ABUU</td><td>305</td><td>402</td><td>-642</td><td>442</td><td>0.467</td><td>0.004274</td></tr>\n",
       "<tr><td>SDSSJ000251.93+150545.9</td><td>0.716406</td><td>15.0960982</td><td>0.43901667</td><td>9876543.0</td><td>Unknown</td><td>J000251.93+150545.9</td><td>0.7164052</td><td>15.0960865</td><td>0.1083</td><td>0.1053</td><td>142.5</td><td>15.262</td><td>15.157</td><td>11.929</td><td>8.691</td><td>--</td><td>--</td><td>--</td><td>0.041</td><td>0.092</td><td>0.0</td><td>--</td><td>--</td><td>--</td><td>--</td><td>115101351025500</td><td>0000</td><td>0</td><td>00nn</td><td>AAUU</td><td>292</td><td>335</td><td>-145</td><td>336</td><td>--</td><td>0.042215</td></tr>\n",
       "<tr><td>WISEAJ152916.54+133307.1</td><td>232.31892</td><td>13.55199</td><td>0.163</td><td>2.0</td><td>Galaxy</td><td>J152916.54+133307.1</td><td>232.3189237</td><td>13.5519969</td><td>0.0626</td><td>0.0599</td><td>176.4</td><td>14.369</td><td>14.051</td><td>11.436</td><td>8.644</td><td>16.134</td><td>15.544</td><td>15.069</td><td>0.028</td><td>0.039</td><td>0.143</td><td>--</td><td>0.106</td><td>0.131</td><td>0.149</td><td>2327113601351033122</td><td>0000</td><td>0</td><td>00nn</td><td>AABU</td><td>-23</td><td>131</td><td>-15</td><td>144</td><td>0.08</td><td>0.027989</td></tr>\n",
       "<tr><td>SDSS862553165793355776</td><td>139.20854</td><td>51.42299</td><td>0.19892398</td><td>9876543.0</td><td>Galaxy</td><td>J091650.04+512522.7</td><td>139.2085329</td><td>51.4229978</td><td>0.0402</td><td>0.0397</td><td>115.2</td><td>13.284</td><td>12.693</td><td>9.091</td><td>7.006</td><td>15.34</td><td>14.564</td><td>13.871</td><td>0.023</td><td>0.024</td><td>0.032</td><td>0.092</td><td>0.051</td><td>0.063</td><td>0.054</td><td>1382151401351025449</td><td>0000</td><td>0</td><td>1100</td><td>AAAA</td><td>-14</td><td>57</td><td>54</td><td>61</td><td>0.1</td><td>0.03217</td></tr>\n",
       "<tr><td>LAMOST422109008</td><td>198.09791</td><td>5.2816</td><td>0.18681045</td><td>9876543.0</td><td>Galaxy</td><td>J131223.49+051653.7</td><td>198.0979095</td><td>5.2816069</td><td>0.0524</td><td>0.051</td><td>148.2</td><td>13.756</td><td>13.466</td><td>12.162</td><td>9.157</td><td>15.626</td><td>14.859</td><td>14.298</td><td>0.025</td><td>0.032</td><td>0.0</td><td>--</td><td>0.081</td><td>0.089</td><td>0.111</td><td>1974104501351045213</td><td>0000</td><td>4</td><td>00nn</td><td>AAUU</td><td>-13</td><td>58</td><td>24</td><td>62</td><td>0.194</td><td>0.024963</td></tr>\n",
       "</table></div>"
      ],
      "text/plain": [
       "<Table length=1000>\n",
       "           ONAME                     RA         ...   d2M   angDist \n",
       "          bytes107                float64       ... float32 float64 \n",
       "---------------------------- ------------------ ... ------- --------\n",
       "      SDSS519127575151273984           51.53498 ...   0.155 0.034179\n",
       "    WISEAJ131653.76+252128.1     199.2240215132 ...   0.156 0.025463\n",
       "      SDSS827543345738835968          333.33448 ...   0.177 0.019033\n",
       "                   PGC103374          66.577875 ...    0.16  0.01255\n",
       "[RGD2016]J235043.82+293938.6        357.6825705 ...   0.211 0.037517\n",
       "     SDSS2569324539926308864            135.199 ...   0.114  0.04358\n",
       "     SDSSJ144857.47+380757.3         222.239472 ...      -- 0.015395\n",
       "     SDSSJ085308.62-002918.6        133.2859215 ...   0.549 0.031366\n",
       "                  GAMA347437 137.74268700000002 ...   0.222 0.024346\n",
       "     SDSSJ001533.96-020249.6          3.8915325 ...      -- 0.038387\n",
       "                         ...                ... ...     ...      ...\n",
       "                  GAMA610135         178.840542 ...      -- 0.042765\n",
       "     SDSSJ005413.92+061551.1          13.558023 ...      -- 0.041207\n",
       "      SDSS103326.85+142738.2          158.36191 ...   0.087 0.036886\n",
       "     SDSSJ111717.90+252511.9        169.3245855 ...   0.811 0.020591\n",
       "    WISEAJ134400.61+490249.8     206.0025603716 ...      -- 0.023078\n",
       "                  GAMA537191          184.34916 ...   0.467 0.004274\n",
       "     SDSSJ000251.93+150545.9           0.716406 ...      -- 0.042215\n",
       "    WISEAJ152916.54+133307.1          232.31892 ...    0.08 0.027989\n",
       "      SDSS862553165793355776          139.20854 ...     0.1  0.03217\n",
       "             LAMOST422109008          198.09791 ...   0.194 0.024963"
      ]
     },
     "execution_count": 5,
     "metadata": {},
     "output_type": "execute_result"
    }
   ],
   "source": [
    "random_indices = random.sample(range(len(allwise)), 1000)\n",
    "new_allwise = allwise[random_indices]\n",
    "new_allwise"
   ]
  },
  {
   "cell_type": "markdown",
   "metadata": {},
   "source": [
    "First, store the observed colors and then define the Monte Carlo arrays for W1, W2 and W3, with the same colors but now for Monte Carlo arrays"
   ]
  },
  {
   "cell_type": "code",
   "execution_count": 6,
   "metadata": {},
   "outputs": [],
   "source": [
    "new_allwise['W1-W2_obs'] = new_allwise['W1mag'] - new_allwise['W2mag']\n",
    "new_allwise['W2-W3_obs'] = new_allwise['W2mag'] - new_allwise['W3mag']"
   ]
  },
  {
   "cell_type": "code",
   "execution_count": 7,
   "metadata": {},
   "outputs": [],
   "source": [
    "w1 = wm.array_montecarlo(new_allwise['W1mag'],new_allwise['e_W1mag'])\n",
    "w2 = wm.array_montecarlo(new_allwise['W2mag'],new_allwise['e_W2mag'])\n",
    "w3 = wm.array_montecarlo(new_allwise['W3mag'],new_allwise['e_W3mag'])\n",
    "z = np.array(new_allwise['Z'])\n",
    "\n",
    "w1w2_obs = w1-w2\n",
    "w2w3_obs = w2-w3"
   ]
  },
  {
   "cell_type": "markdown",
   "metadata": {},
   "source": [
    "# K-corrections for the defined sample\n",
    "\n",
    "Now that all initial colors are created, one can start by the first masking of the reject zone by deleting all sources with a W2-W3>4.4"
   ]
  },
  {
   "cell_type": "code",
   "execution_count": 8,
   "metadata": {},
   "outputs": [],
   "source": [
    "first_reject_zone = new_allwise['W2-W3_obs']<=4.4"
   ]
  },
  {
   "cell_type": "code",
   "execution_count": 9,
   "metadata": {},
   "outputs": [],
   "source": [
    "w1 = w1[first_reject_zone]\n",
    "w2 = w2[first_reject_zone]\n",
    "w3 = w3[first_reject_zone]\n",
    "z = z[first_reject_zone]\n",
    "\n",
    "w1w2_obs = w1w2_obs[first_reject_zone]\n",
    "w2w3_obs = w2w3_obs[first_reject_zone]\n",
    "\n",
    "new_allwise = new_allwise[first_reject_zone]"
   ]
  },
  {
   "cell_type": "markdown",
   "metadata": {},
   "source": [
    "It is necessary to create new arrays to store K-corrected W1abs and the K-correction factor of W1-W2 and W2-W3"
   ]
  },
  {
   "cell_type": "code",
   "execution_count": 10,
   "metadata": {},
   "outputs": [],
   "source": [
    "w1w2_kcors = np.zeros(np.shape(w1w2_obs)[0])                                                \n",
    "w2w3_kcors = np.zeros(np.shape(w2w3_obs)[0])\n",
    "w1abs = np.zeros(np.shape(w1))"
   ]
  },
  {
   "cell_type": "code",
   "execution_count": 11,
   "metadata": {},
   "outputs": [],
   "source": [
    "object_condition = (new_allwise['NED_TYPE']=='RadioS') | (new_allwise['NED_TYPE']=='QSO')\n",
    "color_condition_1 = (new_allwise['W1-W2_obs']>0.8) & (new_allwise['W2-W3_obs']<2.2)\n",
    "color_condition_2 = (new_allwise['W1-W2_obs']>wm.w1w2_treshold_qso(new_allwise['W2-W3_obs'])) & (new_allwise['W2-W3_obs']>=2.2) & (new_allwise['W2-W3_obs']<=4.4)\n",
    "\n",
    "suboptimal_cond = (new_allwise['Z']>=0.5) & (new_allwise['Z']<=3) & ~object_condition & ~(color_condition_1 | color_condition_2)\n",
    "nok_cond = (new_allwise['Z']>3) | object_condition | color_condition_1 | color_condition_2\n",
    "\n",
    "optimal_sample = new_allwise[(new_allwise['Z']<0.5) & ~object_condition & ~(color_condition_1 | color_condition_2)]\n",
    "suboptimal_sample = new_allwise[suboptimal_cond]                                                                            #Samples for k-correcion                \n",
    "nok_sample = new_allwise[nok_cond]"
   ]
  },
  {
   "cell_type": "markdown",
   "metadata": {},
   "source": [
    "To create the final quality tag, here we store the K-correction tag"
   ]
  },
  {
   "cell_type": "code",
   "execution_count": 12,
   "metadata": {},
   "outputs": [],
   "source": [
    "new_allwise['K_QUALITY'] = int(0)\n",
    "\n",
    "new_allwise['K_QUALITY'] = np.where(suboptimal_cond, int(1), new_allwise['K_QUALITY'])\n",
    "new_allwise['K_QUALITY'] = np.where(nok_cond, int(2), new_allwise['K_QUALITY'])"
   ]
  },
  {
   "cell_type": "markdown",
   "metadata": {},
   "source": [
    "Now we import the look-up tables from Jarrett+2023 to use"
   ]
  },
  {
   "cell_type": "code",
   "execution_count": 13,
   "metadata": {},
   "outputs": [],
   "source": [
    "e_table = wm.kcorr_table('E')\n",
    "l_table = wm.kcorr_table('L')\n",
    "s_table = wm.kcorr_table('S')"
   ]
  },
  {
   "cell_type": "code",
   "execution_count": 14,
   "metadata": {},
   "outputs": [
    {
     "data": {
      "text/html": [
       "<div>\n",
       "<style scoped>\n",
       "    .dataframe tbody tr th:only-of-type {\n",
       "        vertical-align: middle;\n",
       "    }\n",
       "\n",
       "    .dataframe tbody tr th {\n",
       "        vertical-align: top;\n",
       "    }\n",
       "\n",
       "    .dataframe thead th {\n",
       "        text-align: right;\n",
       "    }\n",
       "</style>\n",
       "<table border=\"1\" class=\"dataframe\">\n",
       "  <thead>\n",
       "    <tr style=\"text-align: right;\">\n",
       "      <th></th>\n",
       "      <th>z</th>\n",
       "      <th>f1</th>\n",
       "      <th>W1-W2</th>\n",
       "      <th>W1-W3</th>\n",
       "      <th>W3-W4</th>\n",
       "      <th>W2-W3</th>\n",
       "    </tr>\n",
       "  </thead>\n",
       "  <tbody>\n",
       "    <tr>\n",
       "      <th>0</th>\n",
       "      <td>0.00050</td>\n",
       "      <td>1.000</td>\n",
       "      <td>-0.000</td>\n",
       "      <td>-0.000</td>\n",
       "      <td>-0.000</td>\n",
       "      <td>-0.000</td>\n",
       "    </tr>\n",
       "    <tr>\n",
       "      <th>1</th>\n",
       "      <td>0.00100</td>\n",
       "      <td>1.000</td>\n",
       "      <td>0.000</td>\n",
       "      <td>0.001</td>\n",
       "      <td>0.000</td>\n",
       "      <td>0.001</td>\n",
       "    </tr>\n",
       "    <tr>\n",
       "      <th>2</th>\n",
       "      <td>0.00150</td>\n",
       "      <td>0.998</td>\n",
       "      <td>0.002</td>\n",
       "      <td>0.001</td>\n",
       "      <td>0.001</td>\n",
       "      <td>-0.001</td>\n",
       "    </tr>\n",
       "    <tr>\n",
       "      <th>3</th>\n",
       "      <td>0.00200</td>\n",
       "      <td>0.995</td>\n",
       "      <td>0.000</td>\n",
       "      <td>0.000</td>\n",
       "      <td>0.001</td>\n",
       "      <td>0.000</td>\n",
       "    </tr>\n",
       "    <tr>\n",
       "      <th>4</th>\n",
       "      <td>0.00250</td>\n",
       "      <td>0.995</td>\n",
       "      <td>0.005</td>\n",
       "      <td>0.002</td>\n",
       "      <td>0.002</td>\n",
       "      <td>-0.003</td>\n",
       "    </tr>\n",
       "    <tr>\n",
       "      <th>...</th>\n",
       "      <td>...</td>\n",
       "      <td>...</td>\n",
       "      <td>...</td>\n",
       "      <td>...</td>\n",
       "      <td>...</td>\n",
       "      <td>...</td>\n",
       "    </tr>\n",
       "    <tr>\n",
       "      <th>827</th>\n",
       "      <td>2.87603</td>\n",
       "      <td>0.043</td>\n",
       "      <td>0.930</td>\n",
       "      <td>1.733</td>\n",
       "      <td>-0.180</td>\n",
       "      <td>0.803</td>\n",
       "    </tr>\n",
       "    <tr>\n",
       "      <th>828</th>\n",
       "      <td>2.90479</td>\n",
       "      <td>0.043</td>\n",
       "      <td>0.941</td>\n",
       "      <td>1.758</td>\n",
       "      <td>-0.180</td>\n",
       "      <td>0.817</td>\n",
       "    </tr>\n",
       "    <tr>\n",
       "      <th>829</th>\n",
       "      <td>2.93384</td>\n",
       "      <td>0.043</td>\n",
       "      <td>0.952</td>\n",
       "      <td>1.783</td>\n",
       "      <td>-0.181</td>\n",
       "      <td>0.831</td>\n",
       "    </tr>\n",
       "    <tr>\n",
       "      <th>830</th>\n",
       "      <td>2.96318</td>\n",
       "      <td>0.043</td>\n",
       "      <td>0.963</td>\n",
       "      <td>1.808</td>\n",
       "      <td>-0.182</td>\n",
       "      <td>0.845</td>\n",
       "    </tr>\n",
       "    <tr>\n",
       "      <th>831</th>\n",
       "      <td>2.99281</td>\n",
       "      <td>0.043</td>\n",
       "      <td>0.973</td>\n",
       "      <td>1.833</td>\n",
       "      <td>-0.182</td>\n",
       "      <td>0.860</td>\n",
       "    </tr>\n",
       "  </tbody>\n",
       "</table>\n",
       "<p>832 rows × 6 columns</p>\n",
       "</div>"
      ],
      "text/plain": [
       "           z     f1  W1-W2  W1-W3  W3-W4  W2-W3\n",
       "0    0.00050  1.000 -0.000 -0.000 -0.000 -0.000\n",
       "1    0.00100  1.000  0.000  0.001  0.000  0.001\n",
       "2    0.00150  0.998  0.002  0.001  0.001 -0.001\n",
       "3    0.00200  0.995  0.000  0.000  0.001  0.000\n",
       "4    0.00250  0.995  0.005  0.002  0.002 -0.003\n",
       "..       ...    ...    ...    ...    ...    ...\n",
       "827  2.87603  0.043  0.930  1.733 -0.180  0.803\n",
       "828  2.90479  0.043  0.941  1.758 -0.180  0.817\n",
       "829  2.93384  0.043  0.952  1.783 -0.181  0.831\n",
       "830  2.96318  0.043  0.963  1.808 -0.182  0.845\n",
       "831  2.99281  0.043  0.973  1.833 -0.182  0.860\n",
       "\n",
       "[832 rows x 6 columns]"
      ]
     },
     "execution_count": 14,
     "metadata": {},
     "output_type": "execute_result"
    }
   ],
   "source": [
    "e_table"
   ]
  },
  {
   "cell_type": "code",
   "execution_count": 15,
   "metadata": {},
   "outputs": [],
   "source": [
    "identifier = np.random.choice(np.arange(10), size=3, replace=False)\n",
    "for idn, sample in zip(identifier,[optimal_sample, suboptimal_sample, nok_sample]):\n",
    "    if len(sample)!=0:\n",
    "        if idn!=identifier[2]:                                                                      #Color k-correction for sample with z<0.5\n",
    "            object_condition = (sample['NED_TYPE']=='RadioS') | (sample['NED_TYPE']=='QSO')\n",
    "\n",
    "            e_index = np.where((sample['T']<=-3) & ~object_condition)[0]\n",
    "            l_index = np.where((sample['T']>-3) & (sample['T']<=0) & ~object_condition)[0]          #Divide samples in Elliptical, Lenticular and Spiral by T value\n",
    "            s_index = np.where((sample['T']>0) & (sample['T']!=no_data) & ~object_condition)[0]\n",
    "\n",
    "            no_type_index = np.where((sample['T']==no_data) & ~object_condition)[0]                 #Sample without T values\n",
    "            w1w2_no_type = sample[no_type_index]['W1-W2_obs']                                      \n",
    "            w2w3_no_type = sample[no_type_index]['W2-W3_obs']  \n",
    "            z_no_type = sample[no_type_index]['Z']                                                    \n",
    "\n",
    "            e_w1_kcorrected = wm.w1_k_corrected(lookup_table=e_table,w1=w1[e_index],z=z[e_index])\n",
    "            l_w1_kcorrected = wm.w1_k_corrected(lookup_table=l_table,w1=w1[l_index],z=z[l_index])   #W1 k-corrected \n",
    "            s_w1_kcorrected = wm.w1_k_corrected(lookup_table=s_table,w1=w1[s_index],z=z[s_index])\n",
    "\n",
    "            e_w2w3_kcor = wm.get_correction_factor(lookup_table=e_table, redshift=sample[e_index]['Z'], correction_factor='W2-W3')\n",
    "            l_w2w3_kcor = wm.get_correction_factor(lookup_table=l_table, redshift=sample[l_index]['Z'], correction_factor='W2-W3')     #W2-W3 k-correction factor\n",
    "            s_w2w3_kcor = wm.get_correction_factor(lookup_table=s_table, redshift=sample[s_index]['Z'], correction_factor='W2-W3')\n",
    "\n",
    "            e_w1w2_kcor = wm.get_correction_factor(lookup_table=e_table, redshift=sample[e_index]['Z'], correction_factor='W1-W2')\n",
    "            l_w1w2_kcor = wm.get_correction_factor(lookup_table=l_table, redshift=sample[l_index]['Z'], correction_factor='W1-W2')     #W1-W2 k-correction factor\n",
    "            s_w1w2_kcor = wm.get_correction_factor(lookup_table=s_table, redshift=sample[s_index]['Z'], correction_factor='W1-W2')\n",
    "\n",
    "            #Both k-correction factors for no type sample, using division by observed W2-W3 color\n",
    "            factor_w2 = 171.787\n",
    "            factor_w3 = 31.674\n",
    "\n",
    "            w2w3_limit = -2.5*(np.log10(factor_w3/factor_w2) + 0.1)                             #Last value is the flux limit from Mateos et al. (2012)\n",
    "\n",
    "            no_type_w1w2_kcor = [\n",
    "                wm.get_correction_factor(lookup_table=e_table, redshift=z, correction_factor='W1-W2') if (color_x<=w2w3_limit)\n",
    "                else wm.get_correction_factor(lookup_table=s_table, redshift=z, correction_factor='W1-W2') if (color_x>w2w3_limit) else 0\n",
    "                for color_x,color_y,z in zip(w2w3_no_type,w1w2_no_type, z_no_type)\n",
    "                ]\n",
    "            no_type_w2w3_kcor = [\n",
    "                wm.get_correction_factor(lookup_table=e_table, redshift=z, correction_factor='W2-W3') if (color_x<=w2w3_limit)\n",
    "                else wm.get_correction_factor(lookup_table=s_table, redshift=z, correction_factor='W2-W3') if (color_x>w2w3_limit)  else 0\n",
    "                for color_x,color_y,z in zip(w2w3_no_type,w1w2_no_type, z_no_type)\n",
    "                ]\n",
    "\n",
    "            no_type_w1_kcorrected = [\n",
    "                wm.w1_k_corrected(lookup_table=e_table,w1=w1[no_type_id],z=np.array([z]))[0] if (color_x<=w2w3_limit)\n",
    "                else wm.w1_k_corrected(lookup_table=s_table,w1=w1[no_type_id],z=np.array([z]))[0] if (color_x>w2w3_limit) else w1[no_type_index]\n",
    "                for color_x,color_y,z,no_type_id in zip(w2w3_no_type,w1w2_no_type, z_no_type, no_type_index)\n",
    "                ]   \n",
    "\n",
    "            e_w1abs_kcorrected = e_w1_kcorrected - wm.distance_modulus_z(sample[e_index]['Z'])[:,None]          #W1 k-correction for e_sources\n",
    "            l_w1abs_kcorrected = l_w1_kcorrected - wm.distance_modulus_z(sample[l_index]['Z'])[:,None]          #W1 k-correction for l_sources\n",
    "            s_w1abs_kcorrected = s_w1_kcorrected - wm.distance_modulus_z(sample[s_index]['Z'])[:,None]          #W1 k-correction for s_sources\n",
    "            no_type_w1abs_kcorrected = no_type_w1_kcorrected - wm.distance_modulus_z(z_no_type)[:,None]   #W1 k-correction for no_type_sources\n",
    "\n",
    "            if np.shape(no_type_w1abs_kcorrected)==(0,0):\n",
    "                no_type_w1abs_kcorrected = no_type_w1abs_kcorrected.reshape(0,1000)\n",
    "\n",
    "            w1w2_kcors[e_index] = e_w1w2_kcor\n",
    "            w1w2_kcors[l_index] = l_w1w2_kcor                   #W1-W2 k-correctrion factors filled\n",
    "            w1w2_kcors[s_index] = s_w1w2_kcor\n",
    "            w1w2_kcors[no_type_index] = no_type_w1w2_kcor\n",
    "\n",
    "            w2w3_kcors[e_index] = e_w2w3_kcor\n",
    "            w2w3_kcors[l_index] = l_w2w3_kcor                   #W2-W3 k-correctrion factors filled\n",
    "            w2w3_kcors[s_index] = s_w2w3_kcor\n",
    "            w2w3_kcors[no_type_index] = no_type_w2w3_kcor\n",
    "\n",
    "            w1abs[e_index] = e_w1abs_kcorrected\n",
    "            w1abs[l_index] = l_w1abs_kcorrected                 #W1abs k-corrected filled\n",
    "            w1abs[s_index] = s_w1abs_kcorrected\n",
    "            w1abs[no_type_index] = no_type_w1abs_kcorrected\n",
    "            \n",
    "        else:\n",
    "            w1abs_kcorrected = w1[np.where(nok_cond)[0]] - wm.distance_modulus_z(z[np.where(nok_cond)[0]])[:,None]\n",
    "            w1abs[np.where(nok_cond)[0]] = w1abs_kcorrected\n",
    "\n",
    "            w1w2_kcors[np.where(nok_cond)[0]] = 0\n",
    "            w2w3_kcors[np.where(nok_cond)[0]] = 0                                        #For sources with z>3, no k-correction is applied\n",
    "    else:\n",
    "        continue"
   ]
  },
  {
   "cell_type": "code",
   "execution_count": 16,
   "metadata": {},
   "outputs": [],
   "source": [
    "w1w2_kcorrected = w1w2_obs - w1w2_kcors[:,None]                                 #Colors for complete slice are applied\n",
    "w2w3_kcorrected = w2w3_obs - w2w3_kcors[:,None]\n",
    "\n",
    "new_allwise['W1-W2_kcor'] = np.median(w1w2_kcorrected, axis=1)                  #Median value is saved in data frame\n",
    "new_allwise['W2-W3_kcor'] = np.median(w2w3_kcorrected, axis=1)\n",
    "\n",
    "w1w2_sat_top = wm.clipping_dist(w1w2_kcorrected, 0.6)                           #W1-W2 is saturated between -0.2 and 0.6 for M/L ratios\n",
    "w1w2_sat_complete = wm.clipping_dist(w1w2_sat_top, -0.2, greater_than=False)"
   ]
  },
  {
   "cell_type": "markdown",
   "metadata": {},
   "source": [
    "# Use scaling relations and wm.param_montecarlo()\n",
    "\n",
    "Now that all necesary quantities for Stellar mass estimation are ready, one can decide if to use a simple definition (like the one provided in the package) or use the built-in function to vary the parameters. \n",
    "\n",
    "For this, we used the function from Cluver+2014, which is defined as follows:"
   ]
  },
  {
   "cell_type": "code",
   "execution_count": 17,
   "metadata": {},
   "outputs": [],
   "source": [
    "def wise_to_logsm(w1abs, w1w2, resolved=False):\n",
    "    w1_abs_sun = 3.26                   #from Willmer (2018) https://iopscience.iop.org/article/10.3847/1538-4365/aabfdf\n",
    "\n",
    "    log_sm_lw1 = -1.96*w1w2 - 0.03\n",
    "    if resolved:\n",
    "        log_sm_lw1 = -2.54*w1w2 - 0.17\n",
    "    log_lw1 = -0.4*(w1abs-w1_abs_sun)   #from Cluver et al. (2014) https://iopscience.iop.org/article/10.1088/0004-637X/782/2/90\n",
    "    log_sm = log_sm_lw1 + log_lw1\n",
    "    \n",
    "    return log_sm"
   ]
  },
  {
   "cell_type": "markdown",
   "metadata": {},
   "source": [
    "This same exact function is part of WISE2MBH package and here is the intended behavior of it:"
   ]
  },
  {
   "cell_type": "code",
   "execution_count": 18,
   "metadata": {},
   "outputs": [],
   "source": [
    "log_sm = wm.wise_to_logsm(w1abs, w1w2_sat_complete)"
   ]
  },
  {
   "cell_type": "code",
   "execution_count": 23,
   "metadata": {},
   "outputs": [
    {
     "name": "stdout",
     "output_type": "stream",
     "text": [
      "11.6192340713158 11.71210264183948 11.809822453999802\n"
     ]
    },
    {
     "data": {
      "image/png": "[encoded data removed]",
      "text/plain": [
       "<Figure size 640x480 with 1 Axes>"
      ]
     },
     "metadata": {},
     "output_type": "display_data"
    }
   ],
   "source": [
    "plt.hist(log_sm[0],bins=30)\n",
    "\n",
    "nominal = np.median(log_sm[0])\n",
    "sigma_down = np.percentile(log_sm[0],16)\n",
    "sigma_top = np.percentile(log_sm[0],84)\n",
    "\n",
    "print(sigma_down, nominal, sigma_top)"
   ]
  },
  {
   "cell_type": "markdown",
   "metadata": {},
   "source": [
    "But with the use of wm.param_montecarlo() function you can include uncertainties for all parameters, like in this example:"
   ]
  },
  {
   "cell_type": "code",
   "execution_count": 36,
   "metadata": {},
   "outputs": [],
   "source": [
    "def wise_to_logsm(w1abs, w1w2, resolved=False):\n",
    "    w1_abs_sun = 3.26                   #from Willmer (2018) https://iopscience.iop.org/article/10.3847/1538-4365/aabfdf\n",
    "\n",
    "    log_sm_lw1 = wm.param_montecarlo(-1.96,0.8)*w1w2 - wm.param_montecarlo(0.03,0.03) #Fake uncertainties applied\n",
    "    if resolved:\n",
    "        log_sm_lw1 = -2.54*w1w2 - 0.17\n",
    "    log_lw1 = -0.4*(w1abs-w1_abs_sun)   #from Cluver et al. (2014) https://iopscience.iop.org/article/10.1088/0004-637X/782/2/90\n",
    "    log_sm = log_sm_lw1 + log_lw1\n",
    "    \n",
    "    return log_sm"
   ]
  },
  {
   "cell_type": "code",
   "execution_count": 37,
   "metadata": {},
   "outputs": [],
   "source": [
    "log_sm_uncertain = wise_to_logsm(w1abs, w1w2_sat_complete)"
   ]
  },
  {
   "cell_type": "code",
   "execution_count": 38,
   "metadata": {},
   "outputs": [
    {
     "name": "stdout",
     "output_type": "stream",
     "text": [
      "11.551525068873588 11.728356555589016 11.876777995525902\n"
     ]
    },
    {
     "data": {
      "image/png": "[encoded data removed]",
      "text/plain": [
       "<Figure size 640x480 with 1 Axes>"
      ]
     },
     "metadata": {},
     "output_type": "display_data"
    }
   ],
   "source": [
    "plt.hist(log_sm_uncertain[0],bins=30)\n",
    "\n",
    "nominal = np.median(log_sm_uncertain[0])\n",
    "sigma_down = np.percentile(log_sm_uncertain[0],16)\n",
    "sigma_top = np.percentile(log_sm_uncertain[0],84)\n",
    "\n",
    "print(sigma_down, nominal, sigma_top)"
   ]
  },
  {
   "cell_type": "markdown",
   "metadata": {},
   "source": [
    "For every single scaling relation used in this work, one can easily modify the original version to include uncertainties in all parameters by the use of wm.param_montecarlo()"
   ]
  }
 ],
 "metadata": {
  "kernelspec": {
   "display_name": "base",
   "language": "python",
   "name": "python3"
  },
  "language_info": {
   "codemirror_mode": {
    "name": "ipython",
    "version": 3
   },
   "file_extension": ".py",
   "mimetype": "text/x-python",
   "name": "python",
   "nbconvert_exporter": "python",
   "pygments_lexer": "ipython3",
   "version": "3.10.8"
  },
  "orig_nbformat": 4
 },
 "nbformat": 4,
 "nbformat_minor": 2
}
