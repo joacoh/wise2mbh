{
 "cells": [
  {
   "cell_type": "markdown",
   "metadata": {},
   "source": [
    "# WISE2MBH Tutorial"
   ]
  },
  {
   "cell_type": "code",
   "execution_count": 23,
   "metadata": {},
   "outputs": [],
   "source": [
    "import wise2mbh as wm\n",
    "from astropy.table import Table\n",
    "import numpy as np\n",
    "import matplotlib.pyplot as plt\n",
    "import random\n",
    "no_data = 9876543"
   ]
  },
  {
   "cell_type": "code",
   "execution_count": 8,
   "metadata": {},
   "outputs": [
    {
     "data": {
      "text/html": [
       "<div><i>Table length=77712</i>\n",
       "<table id=\"table139981551304176\" class=\"table-striped table-bordered table-condensed\">\n",
       "<thead><tr><th>ONAME</th><th>RA</th><th>DEC</th><th>Z</th><th>T</th><th>NED_TYPE</th><th>AllWISE</th><th>RAJ2000</th><th>DEJ2000</th><th>eeMaj</th><th>eeMin</th><th>eePA</th><th>W1mag</th><th>W2mag</th><th>W3mag</th><th>W4mag</th><th>Jmag</th><th>Hmag</th><th>Kmag</th><th>e_W1mag</th><th>e_W2mag</th><th>e_W3mag</th><th>e_W4mag</th><th>e_Jmag</th><th>e_Hmag</th><th>e_Kmag</th><th>ID</th><th>ccf</th><th>ex</th><th>var</th><th>qph</th><th>pmRA</th><th>e_pmRA</th><th>pmDE</th><th>e_pmDE</th><th>d2M</th><th>angDist</th></tr></thead>\n",
       "<thead><tr><th>bytes107</th><th>float64</th><th>float64</th><th>float64</th><th>float64</th><th>bytes7</th><th>bytes19</th><th>float64</th><th>float64</th><th>float32</th><th>float32</th><th>float32</th><th>float32</th><th>float32</th><th>float32</th><th>float32</th><th>float32</th><th>float32</th><th>float32</th><th>float32</th><th>float32</th><th>float32</th><th>float32</th><th>float32</th><th>float32</th><th>float32</th><th>int64</th><th>bytes4</th><th>bytes1</th><th>bytes4</th><th>bytes4</th><th>int32</th><th>int32</th><th>int32</th><th>int32</th><th>float32</th><th>float64</th></tr></thead>\n",
       "<tr><td>WISEAJ112428.14-363548.5</td><td>171.1172539</td><td>-36.5968225</td><td>0.2</td><td>9876543.0</td><td>Unknown</td><td>J112428.14-363548.5</td><td>171.1172539</td><td>-36.5968225</td><td>0.0427</td><td>0.0415</td><td>130.3</td><td>13.449</td><td>12.486</td><td>9.394</td><td>6.977</td><td>15.185</td><td>14.474</td><td>14.293</td><td>0.025</td><td>0.024</td><td>0.033</td><td>0.084</td><td>0.056</td><td>0.061</td><td>0.075</td><td>1716036401351015875</td><td>0000</td><td>0</td><td>1122</td><td>AAAA</td><td>160</td><td>54</td><td>42</td><td>55</td><td>2.073</td><td>1e-06</td></tr>\n",
       "<tr><td>WISEAJ144229.68-435343.2</td><td>220.6236974</td><td>-43.8953408</td><td>0.3</td><td>9876543.0</td><td>Unknown</td><td>J144229.68-435343.2</td><td>220.6236974</td><td>-43.8953408</td><td>0.1285</td><td>0.1177</td><td>11.9</td><td>15.975</td><td>14.663</td><td>10.911</td><td>7.801</td><td>--</td><td>--</td><td>--</td><td>0.055</td><td>0.06</td><td>0.118</td><td>0.195</td><td>--</td><td>--</td><td>--</td><td>2205044001351034712</td><td>0000</td><td>0</td><td>011n</td><td>AABB</td><td>412</td><td>466</td><td>-34</td><td>505</td><td>--</td><td>1e-06</td></tr>\n",
       "<tr><td>WISEAJ163728.75+290335.9</td><td>249.3698107</td><td>29.0599733</td><td>0.2</td><td>9876543.0</td><td>Unknown</td><td>J163728.75+290335.9</td><td>249.3698107</td><td>29.0599733</td><td>0.0692</td><td>0.0643</td><td>4.9</td><td>15.637</td><td>13.775</td><td>9.703</td><td>7.347</td><td>--</td><td>--</td><td>--</td><td>0.04</td><td>0.034</td><td>0.038</td><td>0.124</td><td>--</td><td>--</td><td>--</td><td>2485128701351042160</td><td>0000</td><td>0</td><td>0011</td><td>AAAB</td><td>-116</td><td>295</td><td>-250</td><td>278</td><td>--</td><td>2e-06</td></tr>\n",
       "<tr><td>WISEAJ184321.55-621724.8</td><td>280.8398056</td><td>-62.2902233</td><td>0.2</td><td>9876543.0</td><td>Unknown</td><td>J184321.55-621724.8</td><td>280.8398056</td><td>-62.2902233</td><td>0.0722</td><td>0.0689</td><td>38.8</td><td>14.624</td><td>13.762</td><td>11.04</td><td>8.519</td><td>--</td><td>--</td><td>--</td><td>0.036</td><td>0.035</td><td>0.106</td><td>--</td><td>--</td><td>--</td><td>--</td><td>2810062101351018362</td><td>0000</td><td>0</td><td>nnnn</td><td>AAAU</td><td>--</td><td>--</td><td>--</td><td>--</td><td>--</td><td>5e-06</td></tr>\n",
       "<tr><td>WISEAJ183203.33+633041.5</td><td>278.0139066</td><td>63.5115391</td><td>0.3</td><td>9876543.0</td><td>Unknown</td><td>J183203.33+633041.5</td><td>278.0139066</td><td>63.5115391</td><td>0.0662</td><td>0.0627</td><td>129.3</td><td>15.811</td><td>14.794</td><td>11.508</td><td>8.357</td><td>--</td><td>--</td><td>--</td><td>0.032</td><td>0.035</td><td>0.086</td><td>0.118</td><td>--</td><td>--</td><td>--</td><td>2774163601351028837</td><td>0000</td><td>0</td><td>11nn</td><td>AAAB</td><td>155</td><td>233</td><td>-229</td><td>248</td><td>--</td><td>7e-06</td></tr>\n",
       "<tr><td>WISEAJ000517.26-341452.8</td><td>1.321926</td><td>-34.2480098</td><td>0.3</td><td>9876543.0</td><td>Unknown</td><td>J000517.26-341452.8</td><td>1.321926</td><td>-34.2480098</td><td>0.0752</td><td>0.0713</td><td>141.6</td><td>15.1</td><td>14.143</td><td>10.839</td><td>7.887</td><td>--</td><td>--</td><td>--</td><td>0.035</td><td>0.04</td><td>0.114</td><td>0.189</td><td>--</td><td>--</td><td>--</td><td>18034901351061482</td><td>0000</td><td>0</td><td>110n</td><td>AABB</td><td>289</td><td>256</td><td>-282</td><td>261</td><td>--</td><td>7e-06</td></tr>\n",
       "<tr><td>WISEAJ041514.13-810745.9</td><td>63.8088863</td><td>-81.1294387</td><td>0.2</td><td>9876543.0</td><td>Unknown</td><td>J041514.13-810745.9</td><td>63.8088863</td><td>-81.1294387</td><td>0.0457</td><td>0.0449</td><td>162.3</td><td>14.499</td><td>13.543</td><td>10.429</td><td>7.558</td><td>--</td><td>--</td><td>--</td><td>0.025</td><td>0.026</td><td>0.048</td><td>0.099</td><td>--</td><td>--</td><td>--</td><td>681081801351062155</td><td>0000</td><td>0</td><td>110n</td><td>AAAA</td><td>260</td><td>66</td><td>92</td><td>69</td><td>--</td><td>8e-06</td></tr>\n",
       "<tr><td>WISEAJ150206.92+781622.6</td><td>225.5288639</td><td>78.2729584</td><td>0.3</td><td>9876543.0</td><td>Unknown</td><td>J150206.92+781622.6</td><td>225.5288639</td><td>78.2729584</td><td>0.0886</td><td>0.0831</td><td>95.1</td><td>15.959</td><td>15.085</td><td>12.15</td><td>9.497</td><td>--</td><td>--</td><td>--</td><td>0.037</td><td>0.05</td><td>0.202</td><td>0.512</td><td>--</td><td>--</td><td>--</td><td>2232178701351000385</td><td>0000</td><td>0</td><td>11nn</td><td>AABC</td><td>-761</td><td>305</td><td>100</td><td>285</td><td>--</td><td>9e-06</td></tr>\n",
       "<tr><td>WISEAJ050357.41-282633.0</td><td>75.989223</td><td>-28.4425115</td><td>0.2</td><td>9876543.0</td><td>Unknown</td><td>J050357.41-282633.0</td><td>75.989223</td><td>-28.4425115</td><td>0.1182</td><td>0.0847</td><td>153.4</td><td>15.102</td><td>14.292</td><td>11.284</td><td>8.529</td><td>--</td><td>--</td><td>--</td><td>0.045</td><td>0.045</td><td>0.125</td><td>0.332</td><td>--</td><td>--</td><td>--</td><td>754028801351050034</td><td>0000</td><td>0</td><td>nnnn</td><td>AABB</td><td>--</td><td>--</td><td>--</td><td>--</td><td>--</td><td>1.1e-05</td></tr>\n",
       "<tr><td>WISEAJ214758.54-635335.8</td><td>326.9939375</td><td>-63.8932904</td><td>0.5</td><td>9876543.0</td><td>Unknown</td><td>J214758.54-635335.8</td><td>326.9939375</td><td>-63.8932904</td><td>0.0681</td><td>0.0645</td><td>140.5</td><td>14.776</td><td>13.758</td><td>9.822</td><td>6.779</td><td>16.941</td><td>15.845</td><td>15.509</td><td>0.033</td><td>0.039</td><td>0.057</td><td>0.101</td><td>0.22</td><td>0.209</td><td>0.24</td><td>3269063701351018994</td><td>0000</td><td>0</td><td>1000</td><td>AAAA</td><td>113</td><td>133</td><td>-80</td><td>136</td><td>0.301</td><td>1.2e-05</td></tr>\n",
       "<tr><td>...</td><td>...</td><td>...</td><td>...</td><td>...</td><td>...</td><td>...</td><td>...</td><td>...</td><td>...</td><td>...</td><td>...</td><td>...</td><td>...</td><td>...</td><td>...</td><td>...</td><td>...</td><td>...</td><td>...</td><td>...</td><td>...</td><td>...</td><td>...</td><td>...</td><td>...</td><td>...</td><td>...</td><td>...</td><td>...</td><td>...</td><td>...</td><td>...</td><td>...</td><td>...</td><td>...</td><td>...</td></tr>\n",
       "<tr><td>LAMOST399605218</td><td>131.95832</td><td>51.15924</td><td>0.13803734</td><td>9876543.0</td><td>Galaxy</td><td>J084750.00+510933.2</td><td>131.9583412</td><td>51.1592361</td><td>0.0542</td><td>0.0525</td><td>143.4</td><td>14.025</td><td>13.764</td><td>11.113</td><td>9.1</td><td>15.964</td><td>15.274</td><td>14.563</td><td>0.025</td><td>0.034</td><td>0.153</td><td>--</td><td>0.087</td><td>0.094</td><td>0.085</td><td>1311151401351023860</td><td>0000</td><td>0</td><td>01nn</td><td>AABU</td><td>-22</td><td>141</td><td>50</td><td>143</td><td>0.347</td><td>0.049997</td></tr>\n",
       "<tr><td>SDSSJ115205.18+382928.0</td><td>178.021614</td><td>38.4911345</td><td>0.40462333</td><td>9876543.0</td><td>Unknown</td><td>J115205.18+382928.0</td><td>178.0215991</td><td>38.491127</td><td>0.0979</td><td>0.0928</td><td>17.3</td><td>15.365</td><td>15.172</td><td>12.824</td><td>8.849</td><td>--</td><td>--</td><td>--</td><td>0.038</td><td>0.078</td><td>--</td><td>--</td><td>--</td><td>--</td><td>--</td><td>1781137801351058128</td><td>0000</td><td>0</td><td>00nn</td><td>AAUU</td><td>62</td><td>270</td><td>-54</td><td>290</td><td>--</td><td>0.049997</td></tr>\n",
       "<tr><td>SDSS1504239155469641728</td><td>243.77024</td><td>39.31195</td><td>0.14051065</td><td>9876543.0</td><td>Galaxy</td><td>J161504.85+391843.0</td><td>243.770246</td><td>39.3119631</td><td>0.0486</td><td>0.048</td><td>135.0</td><td>13.708</td><td>13.451</td><td>12.888</td><td>9.59</td><td>15.632</td><td>14.88</td><td>14.284</td><td>0.025</td><td>0.029</td><td>0.407</td><td>--</td><td>0.08</td><td>0.083</td><td>0.073</td><td>2438139301351031839</td><td>0000</td><td>0</td><td>00nn</td><td>AACU</td><td>0</td><td>71</td><td>0</td><td>76</td><td>0.164</td><td>0.049997</td></tr>\n",
       "<tr><td>SDSS994312869900216320</td><td>183.59372</td><td>53.64215</td><td>0.1756268</td><td>9876543.0</td><td>Galaxy</td><td>J121422.48+533831.7</td><td>183.593698</td><td>53.6421548</td><td>0.0541</td><td>0.053</td><td>175.1</td><td>14.199</td><td>13.949</td><td>12.669</td><td>8.811</td><td>16.142</td><td>15.352</td><td>14.873</td><td>0.026</td><td>0.033</td><td>0.429</td><td>--</td><td>0.094</td><td>0.107</td><td>0.106</td><td>1824153001351053170</td><td>0000</td><td>0</td><td>00nn</td><td>AACU</td><td>-13</td><td>99</td><td>24</td><td>105</td><td>0.06</td><td>0.049997</td></tr>\n",
       "<tr><td>SDSSJ145532.69+580519.7</td><td>223.8862155</td><td>58.0888205</td><td>0.35417667</td><td>9876543.0</td><td>Unknown</td><td>J145532.69+580519.7</td><td>223.8862407</td><td>58.0888244</td><td>0.0742</td><td>0.0712</td><td>11.5</td><td>15.261</td><td>15.077</td><td>12.889</td><td>9.481</td><td>--</td><td>--</td><td>--</td><td>0.031</td><td>0.054</td><td>--</td><td>--</td><td>--</td><td>--</td><td>--</td><td>2243157501351060214</td><td>0000</td><td>0</td><td>00nn</td><td>AAUU</td><td>415</td><td>181</td><td>220</td><td>188</td><td>--</td><td>0.049997</td></tr>\n",
       "<tr><td>WISEAJ113538.25+315012.5</td><td>173.9094019222</td><td>31.836811624</td><td>0.45649</td><td>9876543.0</td><td>Unknown</td><td>J113538.25+315012.5</td><td>173.9094028</td><td>31.8368255</td><td>0.0865</td><td>0.0832</td><td>15.6</td><td>14.964</td><td>14.744</td><td>12.322</td><td>9.066</td><td>--</td><td>--</td><td>--</td><td>0.035</td><td>0.065</td><td>--</td><td>--</td><td>--</td><td>--</td><td>--</td><td>1747131801351038143</td><td>0000</td><td>0</td><td>11nn</td><td>AAUU</td><td>-348</td><td>220</td><td>-167</td><td>237</td><td>--</td><td>0.049998</td></tr>\n",
       "<tr><td>WISEAJ115816.26+302142.1</td><td>179.5678</td><td>30.36171</td><td>0.146</td><td>9876543.0</td><td>Galaxy</td><td>J115816.26+302142.1</td><td>179.5677894</td><td>30.3616995</td><td>0.0475</td><td>0.0465</td><td>153.1</td><td>13.783</td><td>13.064</td><td>10.4</td><td>7.741</td><td>15.904</td><td>15.35</td><td>14.722</td><td>0.025</td><td>0.027</td><td>0.072</td><td>0.143</td><td>0.083</td><td>0.102</td><td>0.09</td><td>1791130201351029659</td><td>0000</td><td>0</td><td>000n</td><td>AAAB</td><td>77</td><td>118</td><td>31</td><td>119</td><td>0.089</td><td>0.049999</td></tr>\n",
       "<tr><td>SDSSJ095103.03+142941.6</td><td>147.76265</td><td>14.49491</td><td>0.233</td><td>-9.0</td><td>QSO</td><td>J095103.03+142941.6</td><td>147.7626379</td><td>14.4949026</td><td>0.0396</td><td>0.0381</td><td>137.0</td><td>13.057</td><td>12.077</td><td>8.594</td><td>6.04</td><td>15.977</td><td>15.02</td><td>14.229</td><td>0.024</td><td>0.022</td><td>0.03</td><td>0.066</td><td>0.083</td><td>0.092</td><td>0.07</td><td>1471115101351000018</td><td>0000</td><td>0</td><td>1100</td><td>AAAA</td><td>96</td><td>53</td><td>98</td><td>56</td><td>0.056</td><td>0.049999</td></tr>\n",
       "<tr><td>SDSSJ150436.89+270600.0</td><td>226.153743</td><td>27.1000244</td><td>0.41787</td><td>9876543.0</td><td>Unknown</td><td>J150436.90+270600.0</td><td>226.1537509</td><td>27.1000124</td><td>0.0643</td><td>0.0619</td><td>179.3</td><td>14.647</td><td>14.393</td><td>12.908</td><td>9.506</td><td>17.011</td><td>15.719</td><td>14.972</td><td>0.029</td><td>0.042</td><td>--</td><td>--</td><td>0.211</td><td>--</td><td>0.169</td><td>2264127201351015796</td><td>h000</td><td>0</td><td>01nn</td><td>AAUU</td><td>-31</td><td>86</td><td>-134</td><td>95</td><td>0.277</td><td>0.049999</td></tr>\n",
       "<tr><td>LAMOST504013208</td><td>170.00596</td><td>48.08189</td><td>0.12572007</td><td>9876543.0</td><td>Galaxy</td><td>J112001.42+480454.7</td><td>170.0059408</td><td>48.0818847</td><td>0.0553</td><td>0.053</td><td>4.8</td><td>14.014</td><td>13.852</td><td>12.403</td><td>9.121</td><td>15.576</td><td>14.948</td><td>14.399</td><td>0.026</td><td>0.034</td><td>--</td><td>--</td><td>0.08</td><td>0.083</td><td>0.075</td><td>1709148401351013591</td><td>0000</td><td>0</td><td>11nn</td><td>AAUU</td><td>94</td><td>96</td><td>-102</td><td>105</td><td>0.109</td><td>0.049999</td></tr>\n",
       "</table></div>"
      ],
      "text/plain": [
       "<Table length=77712>\n",
       "         ONAME                 RA           DEC      ... e_pmDE   d2M   angDist \n",
       "        bytes107            float64       float64    ... int32  float32 float64 \n",
       "------------------------ -------------- ------------ ... ------ ------- --------\n",
       "WISEAJ112428.14-363548.5    171.1172539  -36.5968225 ...     55   2.073    1e-06\n",
       "WISEAJ144229.68-435343.2    220.6236974  -43.8953408 ...    505      --    1e-06\n",
       "WISEAJ163728.75+290335.9    249.3698107   29.0599733 ...    278      --    2e-06\n",
       "WISEAJ184321.55-621724.8    280.8398056  -62.2902233 ...     --      --    5e-06\n",
       "WISEAJ183203.33+633041.5    278.0139066   63.5115391 ...    248      --    7e-06\n",
       "WISEAJ000517.26-341452.8       1.321926  -34.2480098 ...    261      --    7e-06\n",
       "WISEAJ041514.13-810745.9     63.8088863  -81.1294387 ...     69      --    8e-06\n",
       "WISEAJ150206.92+781622.6    225.5288639   78.2729584 ...    285      --    9e-06\n",
       "WISEAJ050357.41-282633.0      75.989223  -28.4425115 ...     --      --  1.1e-05\n",
       "WISEAJ214758.54-635335.8    326.9939375  -63.8932904 ...    136   0.301  1.2e-05\n",
       "                     ...            ...          ... ...    ...     ...      ...\n",
       "         LAMOST399605218      131.95832     51.15924 ...    143   0.347 0.049997\n",
       " SDSSJ115205.18+382928.0     178.021614   38.4911345 ...    290      -- 0.049997\n",
       " SDSS1504239155469641728      243.77024     39.31195 ...     76   0.164 0.049997\n",
       "  SDSS994312869900216320      183.59372     53.64215 ...    105    0.06 0.049997\n",
       " SDSSJ145532.69+580519.7    223.8862155   58.0888205 ...    188      -- 0.049997\n",
       "WISEAJ113538.25+315012.5 173.9094019222 31.836811624 ...    237      -- 0.049998\n",
       "WISEAJ115816.26+302142.1       179.5678     30.36171 ...    119   0.089 0.049999\n",
       " SDSSJ095103.03+142941.6      147.76265     14.49491 ...     56   0.056 0.049999\n",
       " SDSSJ150436.89+270600.0     226.153743   27.1000244 ...     95   0.277 0.049999\n",
       "         LAMOST504013208      170.00596     48.08189 ...    105   0.109 0.049999"
      ]
     },
     "execution_count": 8,
     "metadata": {},
     "output_type": "execute_result"
    }
   ],
   "source": [
    "allwise = Table.read('../samples/AllWISE_sample.fits')\n",
    "allwise"
   ]
  },
  {
   "cell_type": "markdown",
   "metadata": {},
   "source": [
    "Clening process of the sample from AllWISE"
   ]
  },
  {
   "cell_type": "code",
   "execution_count": 3,
   "metadata": {},
   "outputs": [
    {
     "name": "stdout",
     "output_type": "stream",
     "text": [
      "Size before depure: 77712\n",
      "Size after depure: 77687\n"
     ]
    }
   ],
   "source": [
    "size_before_depure = len(allwise)\n",
    "print(f'Size before depure: {size_before_depure}')\n",
    "\n",
    "allowed_z = allwise[allwise['Z']!=0]                                                            #Masking of null redshifts\n",
    "qph_list = allwise['qph'].tolist()                                                              #Extract quality flags\n",
    "null_phot = ['X', 'Z']                                                                          #Null and uplim values in W bands\n",
    "not_null_quality = [not any(letter in qph[:-1] for letter in null_phot) for qph in qph_list]    #Test quality flags\n",
    "\n",
    "allwise = allowed_z[not_null_quality].copy()                                                    #Keep non-null values in quality\n",
    "\n",
    "size_after_depure = len(allwise)\n",
    "print(f'Size after depure: {size_after_depure}')"
   ]
  },
  {
   "cell_type": "markdown",
   "metadata": {},
   "source": [
    "Detections with 'U' flag in qph do not contain errors on the WISE bands, so better to set them to a single value, in this case we'll set them to 0"
   ]
  },
  {
   "cell_type": "code",
   "execution_count": 11,
   "metadata": {},
   "outputs": [],
   "source": [
    "allwise['e_W1mag'] = allwise['e_W1mag'].filled(0)                 #Replace null errors in WISE bands\n",
    "allwise['e_W2mag'] = allwise['e_W2mag'].filled(0)\n",
    "allwise['e_W3mag'] = allwise['e_W3mag'].filled(0)"
   ]
  },
  {
   "cell_type": "markdown",
   "metadata": {},
   "source": [
    "Since this algorithm have a Monte Carlo implementation for error propagation, we recommend to take slices for big sample (rows>200), so for this tutorial, we'll use a random slice from the AllWISE sample."
   ]
  },
  {
   "cell_type": "code",
   "execution_count": 15,
   "metadata": {},
   "outputs": [
    {
     "data": {
      "text/html": [
       "<div><i>Table length=1000</i>\n",
       "<table id=\"table139981594792368\" class=\"table-striped table-bordered table-condensed\">\n",
       "<thead><tr><th>ONAME</th><th>RA</th><th>DEC</th><th>Z</th><th>T</th><th>NED_TYPE</th><th>AllWISE</th><th>RAJ2000</th><th>DEJ2000</th><th>eeMaj</th><th>eeMin</th><th>eePA</th><th>W1mag</th><th>W2mag</th><th>W3mag</th><th>W4mag</th><th>Jmag</th><th>Hmag</th><th>Kmag</th><th>e_W1mag</th><th>e_W2mag</th><th>e_W3mag</th><th>e_W4mag</th><th>e_Jmag</th><th>e_Hmag</th><th>e_Kmag</th><th>ID</th><th>ccf</th><th>ex</th><th>var</th><th>qph</th><th>pmRA</th><th>e_pmRA</th><th>pmDE</th><th>e_pmDE</th><th>d2M</th><th>angDist</th></tr></thead>\n",
       "<thead><tr><th>bytes107</th><th>float64</th><th>float64</th><th>float64</th><th>float64</th><th>bytes7</th><th>bytes19</th><th>float64</th><th>float64</th><th>float32</th><th>float32</th><th>float32</th><th>float32</th><th>float32</th><th>float32</th><th>float32</th><th>float32</th><th>float32</th><th>float32</th><th>float32</th><th>float32</th><th>float32</th><th>float32</th><th>float32</th><th>float32</th><th>float32</th><th>int64</th><th>bytes4</th><th>bytes1</th><th>bytes4</th><th>bytes4</th><th>int32</th><th>int32</th><th>int32</th><th>int32</th><th>float32</th><th>float64</th></tr></thead>\n",
       "<tr><td>LAMOST419804077</td><td>166.63744</td><td>51.72315</td><td>0.1924653</td><td>9876543.0</td><td>Galaxy</td><td>J110632.98+514323.3</td><td>166.6374469</td><td>51.723157</td><td>0.0601</td><td>0.0582</td><td>6.0</td><td>14.32</td><td>14.11</td><td>12.663</td><td>8.871</td><td>15.97</td><td>15.171</td><td>14.752</td><td>0.027</td><td>0.039</td><td>0.498</td><td>--</td><td>0.079</td><td>0.093</td><td>0.098</td><td>1668151401351045072</td><td>0000</td><td>0</td><td>11nn</td><td>AACU</td><td>123</td><td>123</td><td>337</td><td>134</td><td>0.447</td><td>0.029469</td></tr>\n",
       "<tr><td>SDSSJ230835.71-021237.6</td><td>347.1488055</td><td>-2.2104537</td><td>0.29505232</td><td>9876543.0</td><td>Unknown</td><td>J230835.71-021237.6</td><td>347.1488177</td><td>-2.2104584</td><td>0.0621</td><td>0.06</td><td>116.1</td><td>14.152</td><td>13.88</td><td>12.462</td><td>8.859</td><td>16.44</td><td>15.899</td><td>14.883</td><td>0.028</td><td>0.038</td><td>0.501</td><td>--</td><td>0.128</td><td>0.21</td><td>0.134</td><td>3479001601351010475</td><td>0000</td><td>0</td><td>00nn</td><td>AACU</td><td>-331</td><td>137</td><td>18</td><td>137</td><td>0.051</td><td>0.046894</td></tr>\n",
       "<tr><td>GAMA202541</td><td>130.14027</td><td>-0.3927695</td><td>0.27082267</td><td>9876543.0</td><td>Unknown</td><td>J084033.66-002334.0</td><td>130.140263</td><td>-0.3927814</td><td>0.092</td><td>0.0868</td><td>6.4</td><td>15.054</td><td>14.765</td><td>12.558</td><td>8.981</td><td>--</td><td>--</td><td>--</td><td>0.036</td><td>0.066</td><td>0.479</td><td>0.489</td><td>--</td><td>--</td><td>--</td><td>1300100001351018843</td><td>d000</td><td>0</td><td>00nn</td><td>AACC</td><td>238</td><td>239</td><td>-139</td><td>261</td><td>--</td><td>0.049701</td></tr>\n",
       "<tr><td>SDSS2427584860848678912</td><td>229.42386</td><td>21.6632</td><td>0.17358738</td><td>9876543.0</td><td>Galaxy</td><td>J151741.72+213947.5</td><td>229.4238594</td><td>21.6631973</td><td>0.0564</td><td>0.0554</td><td>154.7</td><td>14.337</td><td>14.105</td><td>12.267</td><td>9.453</td><td>16.004</td><td>15.472</td><td>15.145</td><td>0.027</td><td>0.035</td><td>0.0</td><td>--</td><td>0.081</td><td>0.097</td><td>0.163</td><td>2292121201351048102</td><td>0000</td><td>0</td><td>11nn</td><td>AAUU</td><td>15</td><td>65</td><td>23</td><td>70</td><td>0.557</td><td>0.010029</td></tr>\n",
       "<tr><td>SDSSJ151450.41+042022.3</td><td>228.710061</td><td>4.3395499</td><td>0.46122</td><td>9876543.0</td><td>Unknown</td><td>J151450.41+042022.3</td><td>228.710053</td><td>4.3395448</td><td>0.0794</td><td>0.0765</td><td>178.2</td><td>14.913</td><td>14.929</td><td>13.028</td><td>9.561</td><td>--</td><td>--</td><td>--</td><td>0.032</td><td>0.069</td><td>0.0</td><td>--</td><td>--</td><td>--</td><td>--</td><td>2293104501351011865</td><td>0000</td><td>0</td><td>11nn</td><td>AAUU</td><td>180</td><td>199</td><td>-127</td><td>217</td><td>--</td><td>0.034237</td></tr>\n",
       "<tr><td>WISEAJ083223.15+053741.0</td><td>128.0965051146</td><td>5.6280716887</td><td>0.134471</td><td>9876543.0</td><td>Unknown</td><td>J083223.15+053741.0</td><td>128.0964943</td><td>5.6280801</td><td>0.0933</td><td>0.0889</td><td>168.1</td><td>15.175</td><td>14.877</td><td>10.731</td><td>8.558</td><td>--</td><td>--</td><td>--</td><td>0.036</td><td>0.073</td><td>0.134</td><td>--</td><td>--</td><td>--</td><td>--</td><td>1275106001351020566</td><td>0000</td><td>0</td><td>000n</td><td>AABU</td><td>37</td><td>318</td><td>133</td><td>330</td><td>--</td><td>0.049192</td></tr>\n",
       "<tr><td>SDSS1928779854325508096</td><td>222.13271</td><td>11.07853</td><td>0.1667336</td><td>9876543.0</td><td>Galaxy</td><td>J144831.84+110442.6</td><td>222.1327057</td><td>11.0785255</td><td>0.059</td><td>0.0575</td><td>178.7</td><td>14.392</td><td>14.116</td><td>12.162</td><td>8.794</td><td>16.543</td><td>15.582</td><td>14.939</td><td>0.027</td><td>0.038</td><td>0.305</td><td>--</td><td>0.176</td><td>0.169</td><td>0.149</td><td>2215110601351053063</td><td>0000</td><td>0</td><td>11nn</td><td>AABU</td><td>34</td><td>70</td><td>75</td><td>77</td><td>0.17</td><td>0.02228</td></tr>\n",
       "<tr><td>SDSSJ110346.06+470240.7</td><td>165.94192049999998</td><td>47.0446576</td><td>0.4791</td><td>9876543.0</td><td>Unknown</td><td>J110346.05+470240.8</td><td>165.941916</td><td>47.0446675</td><td>0.1031</td><td>0.0954</td><td>15.0</td><td>15.402</td><td>15.249</td><td>12.698</td><td>9.071</td><td>--</td><td>--</td><td>--</td><td>0.038</td><td>0.082</td><td>0.0</td><td>--</td><td>--</td><td>--</td><td>--</td><td>1658146901351031769</td><td>0000</td><td>0</td><td>11nn</td><td>AAUU</td><td>192</td><td>293</td><td>235</td><td>318</td><td>--</td><td>0.037258</td></tr>\n",
       "<tr><td>SDSS2638117959691692032</td><td>151.70067</td><td>24.27225</td><td>0.19277637</td><td>9876543.0</td><td>Galaxy</td><td>J100648.15+241620.0</td><td>151.7006567</td><td>24.2722441</td><td>0.0627</td><td>0.0592</td><td>173.7</td><td>14.116</td><td>13.859</td><td>12.046</td><td>8.996</td><td>15.791</td><td>15.186</td><td>14.334</td><td>0.028</td><td>0.039</td><td>0.0</td><td>0.498</td><td>0.081</td><td>0.101</td><td>0.071</td><td>1519124201351034124</td><td>0000</td><td>0</td><td>00nn</td><td>AAUC</td><td>-19</td><td>123</td><td>355</td><td>134</td><td>0.188</td><td>0.048688</td></tr>\n",
       "<tr><td>SDSSJ220826.71-005550.2</td><td>332.1113145</td><td>-0.9306357</td><td>0.38777333</td><td>9876543.0</td><td>Unknown</td><td>J220826.71-005550.2</td><td>332.1113071</td><td>-0.9306327</td><td>0.1004</td><td>0.0919</td><td>146.1</td><td>15.209</td><td>14.979</td><td>12.394</td><td>8.815</td><td>--</td><td>--</td><td>--</td><td>0.038</td><td>0.076</td><td>0.0</td><td>--</td><td>--</td><td>--</td><td>--</td><td>3327001601351059827</td><td>0000</td><td>0</td><td>00nn</td><td>AAUU</td><td>-111</td><td>297</td><td>-191</td><td>312</td><td>--</td><td>0.028581</td></tr>\n",
       "<tr><td>...</td><td>...</td><td>...</td><td>...</td><td>...</td><td>...</td><td>...</td><td>...</td><td>...</td><td>...</td><td>...</td><td>...</td><td>...</td><td>...</td><td>...</td><td>...</td><td>...</td><td>...</td><td>...</td><td>...</td><td>...</td><td>...</td><td>...</td><td>...</td><td>...</td><td>...</td><td>...</td><td>...</td><td>...</td><td>...</td><td>...</td><td>...</td><td>...</td><td>...</td><td>...</td><td>...</td><td>...</td></tr>\n",
       "<tr><td>SDSSJ153311.40+293555.3</td><td>233.29751</td><td>29.59872</td><td>0.228</td><td>-9.0</td><td>QSO</td><td>J153311.40+293555.4</td><td>233.2975041</td><td>29.5987272</td><td>0.0444</td><td>0.0441</td><td>126.0</td><td>14.155</td><td>12.971</td><td>9.922</td><td>7.172</td><td>--</td><td>--</td><td>--</td><td>0.026</td><td>0.025</td><td>0.04</td><td>0.079</td><td>--</td><td>--</td><td>--</td><td>2330130201351002819</td><td>0000</td><td>0</td><td>3300</td><td>AAAA</td><td>104</td><td>113</td><td>38</td><td>84</td><td>--</td><td>0.031963</td></tr>\n",
       "<tr><td>WISEAJ235908.17+154402.6</td><td>359.7840507548</td><td>15.7340459817</td><td>0.48201</td><td>9876543.0</td><td>Unknown</td><td>J235908.17+154402.6</td><td>359.7840517</td><td>15.7340572</td><td>0.0827</td><td>0.0781</td><td>140.7</td><td>14.812</td><td>14.683</td><td>12.661</td><td>8.859</td><td>--</td><td>--</td><td>--</td><td>0.033</td><td>0.063</td><td>0.543</td><td>--</td><td>--</td><td>--</td><td>--</td><td>115101351059021</td><td>0000</td><td>0</td><td>00nn</td><td>AACU</td><td>248</td><td>222</td><td>-390</td><td>227</td><td>--</td><td>0.040464</td></tr>\n",
       "<tr><td>WISEAJ085515.32+030619.5</td><td>133.8138517667</td><td>3.1054243779</td><td>0.38489</td><td>9876543.0</td><td>Unknown</td><td>J085515.32+030619.5</td><td>133.8138438</td><td>3.1054229</td><td>0.0743</td><td>0.0713</td><td>161.9</td><td>14.672</td><td>14.439</td><td>12.509</td><td>8.892</td><td>--</td><td>--</td><td>--</td><td>0.031</td><td>0.051</td><td>0.0</td><td>--</td><td>--</td><td>--</td><td>--</td><td>1331103001351026722</td><td>0000</td><td>0</td><td>00nn</td><td>AAUU</td><td>20</td><td>169</td><td>80</td><td>186</td><td>--</td><td>0.028955</td></tr>\n",
       "<tr><td>SDSSJ231815.92+194842.4</td><td>349.5663615</td><td>19.8117973</td><td>0.27325535</td><td>9876543.0</td><td>Unknown</td><td>J231815.92+194842.4</td><td>349.5663657</td><td>19.8117841</td><td>0.0616</td><td>0.0588</td><td>111.8</td><td>14.075</td><td>13.751</td><td>12.691</td><td>8.655</td><td>16.358</td><td>15.536</td><td>14.704</td><td>0.027</td><td>0.039</td><td>0.0</td><td>--</td><td>0.096</td><td>0.117</td><td>0.111</td><td>3488119601351023585</td><td>0000</td><td>0</td><td>00nn</td><td>AAUU</td><td>-251</td><td>131</td><td>115</td><td>131</td><td>0.156</td><td>0.049661</td></tr>\n",
       "<tr><td>SDSS1882602558824933376</td><td>212.79994</td><td>48.71837</td><td>0.12970805</td><td>-5.0</td><td>Galaxy</td><td>J141111.98+484306.1</td><td>212.7999519</td><td>48.7183714</td><td>0.0448</td><td>0.0431</td><td>128.2</td><td>13.319</td><td>13.187</td><td>12.96</td><td>9.623</td><td>15.01</td><td>14.454</td><td>13.866</td><td>0.024</td><td>0.025</td><td>0.396</td><td>--</td><td>0.06</td><td>0.08</td><td>0.06</td><td>2137148401351039971</td><td>0000</td><td>1</td><td>00nn</td><td>AACU</td><td>12</td><td>57</td><td>82</td><td>59</td><td>0.101</td><td>0.02873</td></tr>\n",
       "<tr><td>SDSSJ140430.34+385331.6</td><td>211.1264175</td><td>38.8921234</td><td>0.34731334</td><td>9876543.0</td><td>Unknown</td><td>J140430.33+385331.6</td><td>211.126406</td><td>38.8921235</td><td>0.0856</td><td>0.0806</td><td>7.3</td><td>15.077</td><td>14.898</td><td>12.906</td><td>9.333</td><td>--</td><td>--</td><td>--</td><td>0.033</td><td>0.068</td><td>0.0</td><td>--</td><td>--</td><td>--</td><td>--</td><td>2109139301351005517</td><td>0000</td><td>0</td><td>00nn</td><td>AAUU</td><td>547</td><td>188</td><td>-78</td><td>202</td><td>--</td><td>0.032354</td></tr>\n",
       "<tr><td>WISEAJ122325.19+260555.0</td><td>185.8549720649</td><td>26.0986215592</td><td>0.35696667</td><td>9876543.0</td><td>Unknown</td><td>J122325.19+260555.0</td><td>185.8549695</td><td>26.0986309</td><td>0.0802</td><td>0.076</td><td>20.0</td><td>14.83</td><td>14.584</td><td>12.512</td><td>9.065</td><td>16.897</td><td>16.023</td><td>15.452</td><td>0.033</td><td>0.055</td><td>0.0</td><td>--</td><td>0.164</td><td>0.157</td><td>0.156</td><td>1866125701351040159</td><td>0000</td><td>0</td><td>00nn</td><td>AAUU</td><td>142</td><td>201</td><td>-169</td><td>213</td><td>0.726</td><td>0.034651</td></tr>\n",
       "<tr><td>WISEAJ092456.74+080405.7</td><td>141.2364431346</td><td>8.0682524713</td><td>0.26867968</td><td>9876543.0</td><td>Unknown</td><td>J092456.74+080405.7</td><td>141.2364453</td><td>8.0682573</td><td>0.0653</td><td>0.0631</td><td>174.2</td><td>14.264</td><td>13.985</td><td>11.513</td><td>8.604</td><td>16.061</td><td>15.648</td><td>14.94</td><td>0.029</td><td>0.042</td><td>0.0</td><td>--</td><td>0.133</td><td>0.139</td><td>0.153</td><td>1418107501351061917</td><td>0000</td><td>0</td><td>11nn</td><td>AAUU</td><td>-101</td><td>150</td><td>-165</td><td>160</td><td>0.531</td><td>0.01894</td></tr>\n",
       "<tr><td>SDSS556280073137711104</td><td>186.24447</td><td>67.12044</td><td>0.20667064</td><td>9876543.0</td><td>Galaxy</td><td>J122458.66+670713.5</td><td>186.2444363</td><td>67.1204389</td><td>0.0575</td><td>0.0563</td><td>10.4</td><td>14.31</td><td>14.036</td><td>12.248</td><td>8.826</td><td>16.167</td><td>15.473</td><td>14.944</td><td>0.027</td><td>0.035</td><td>0.0</td><td>--</td><td>0.106</td><td>0.13</td><td>0.134</td><td>1855166601351054539</td><td>0000</td><td>0</td><td>01nn</td><td>AAUU</td><td>29</td><td>115</td><td>135</td><td>117</td><td>0.078</td><td>0.047393</td></tr>\n",
       "<tr><td>SDSSJ162601.32+332340.9</td><td>246.5055165</td><td>33.3947177</td><td>0.4996</td><td>9876543.0</td><td>Unknown</td><td>J162601.32+332340.9</td><td>246.5055134</td><td>33.3947073</td><td>0.0653</td><td>0.0628</td><td>13.3</td><td>14.71</td><td>14.615</td><td>12.472</td><td>9.299</td><td>17.115</td><td>16.201</td><td>15.451</td><td>0.067</td><td>0.046</td><td>0.0</td><td>--</td><td>0.192</td><td>--</td><td>0.144</td><td>2465133301351031914</td><td>00Pp</td><td>0</td><td>11nn</td><td>AAUU</td><td>183</td><td>142</td><td>-62</td><td>155</td><td>0.319</td><td>0.038483</td></tr>\n",
       "</table></div>"
      ],
      "text/plain": [
       "<Table length=1000>\n",
       "         ONAME                   RA              DEC      ...   d2M   angDist \n",
       "        bytes107              float64          float64    ... float32 float64 \n",
       "------------------------ ------------------ ------------- ... ------- --------\n",
       "         LAMOST419804077          166.63744      51.72315 ...   0.447 0.029469\n",
       " SDSSJ230835.71-021237.6        347.1488055    -2.2104537 ...   0.051 0.046894\n",
       "              GAMA202541          130.14027    -0.3927695 ...      -- 0.049701\n",
       " SDSS2427584860848678912          229.42386       21.6632 ...   0.557 0.010029\n",
       " SDSSJ151450.41+042022.3         228.710061     4.3395499 ...      -- 0.034237\n",
       "WISEAJ083223.15+053741.0     128.0965051146  5.6280716887 ...      -- 0.049192\n",
       " SDSS1928779854325508096          222.13271      11.07853 ...    0.17  0.02228\n",
       " SDSSJ110346.06+470240.7 165.94192049999998    47.0446576 ...      -- 0.037258\n",
       " SDSS2638117959691692032          151.70067      24.27225 ...   0.188 0.048688\n",
       " SDSSJ220826.71-005550.2        332.1113145    -0.9306357 ...      -- 0.028581\n",
       "                     ...                ...           ... ...     ...      ...\n",
       " SDSSJ153311.40+293555.3          233.29751      29.59872 ...      -- 0.031963\n",
       "WISEAJ235908.17+154402.6     359.7840507548 15.7340459817 ...      -- 0.040464\n",
       "WISEAJ085515.32+030619.5     133.8138517667  3.1054243779 ...      -- 0.028955\n",
       " SDSSJ231815.92+194842.4        349.5663615    19.8117973 ...   0.156 0.049661\n",
       " SDSS1882602558824933376          212.79994      48.71837 ...   0.101  0.02873\n",
       " SDSSJ140430.34+385331.6        211.1264175    38.8921234 ...      -- 0.032354\n",
       "WISEAJ122325.19+260555.0     185.8549720649 26.0986215592 ...   0.726 0.034651\n",
       "WISEAJ092456.74+080405.7     141.2364431346  8.0682524713 ...   0.531  0.01894\n",
       "  SDSS556280073137711104          186.24447      67.12044 ...   0.078 0.047393\n",
       " SDSSJ162601.32+332340.9        246.5055165    33.3947177 ...   0.319 0.038483"
      ]
     },
     "execution_count": 15,
     "metadata": {},
     "output_type": "execute_result"
    }
   ],
   "source": [
    "random_indices = random.sample(range(len(allwise)), 1000)\n",
    "new_allwise = allwise[random_indices]\n",
    "new_allwise"
   ]
  },
  {
   "cell_type": "markdown",
   "metadata": {},
   "source": [
    "First, store the observed colors and then define the Monte Carlo arrays for W1, W2 and W3, with the same colors but now for Monte Carlo arrays"
   ]
  },
  {
   "cell_type": "code",
   "execution_count": 16,
   "metadata": {},
   "outputs": [],
   "source": [
    "new_allwise['W1-W2_obs'] = new_allwise['W1mag'] - new_allwise['W2mag']\n",
    "new_allwise['W2-W3_obs'] = new_allwise['W2mag'] - new_allwise['W3mag']"
   ]
  },
  {
   "cell_type": "code",
   "execution_count": 17,
   "metadata": {},
   "outputs": [],
   "source": [
    "w1 = wm.array_montecarlo(new_allwise['W1mag'],new_allwise['e_W1mag'])\n",
    "w2 = wm.array_montecarlo(new_allwise['W2mag'],new_allwise['e_W2mag'])\n",
    "w3 = wm.array_montecarlo(new_allwise['W3mag'],new_allwise['e_W3mag'])\n",
    "\n",
    "w1w2_obs = w1-w2\n",
    "w2w3_obs = w2-w3"
   ]
  },
  {
   "cell_type": "markdown",
   "metadata": {},
   "source": [
    "# K-corrections for the defined sample\n",
    "\n",
    "Now that all initial colors are created, one can start by the first masking of the reject zone by deleting all sources with a W2-W3>4.4"
   ]
  },
  {
   "cell_type": "code",
   "execution_count": 21,
   "metadata": {},
   "outputs": [],
   "source": [
    "first_reject_zone = new_allwise['W2-W3_obs']<=4.4"
   ]
  },
  {
   "cell_type": "code",
   "execution_count": 22,
   "metadata": {},
   "outputs": [],
   "source": [
    "w1 = w1[first_reject_zone]\n",
    "w2 = w2[first_reject_zone]\n",
    "w3 = w3[first_reject_zone]\n",
    "\n",
    "w1w2_obs = w1w2_obs[first_reject_zone]\n",
    "w2w3_obs = w2w3_obs[first_reject_zone]\n",
    "\n",
    "new_allwise = new_allwise[first_reject_zone]"
   ]
  },
  {
   "cell_type": "markdown",
   "metadata": {},
   "source": [
    "It is necessary to create new arrays to store K-corrected W1abs and the K-correction factor of W1-W2 and W2-W3"
   ]
  },
  {
   "cell_type": "code",
   "execution_count": null,
   "metadata": {},
   "outputs": [],
   "source": [
    "w1w2_kcors = np.zeros(np.shape(w1w2)[0])                                                \n",
    "w2w3_kcors = np.zeros(np.shape(w2w3)[0])\n",
    "w1abs = np.zeros(np.shape(w1))"
   ]
  },
  {
   "cell_type": "code",
   "execution_count": null,
   "metadata": {},
   "outputs": [],
   "source": [
    "object_condition = (allwise['NED_TYPE']=='RadioS') | (allwise['NED_TYPE']=='QSO')\n",
    "color_condition_1 = (allwise['W1-W2_obs']>0.8) & (allwise['W2-W3_obs']<2.2)\n",
    "color_condition_2 = (allwise['W1-W2_obs']>wm.w1w2_treshold_qso(allwise['W2-W3_obs'])) & (allwise['W2-W3_obs']>=2.2) & (allwise['W2-W3_obs']<=4.4)\n",
    "\n",
    "optimal_sample = allwise[(allwise['Z']<0.5) & ~object_condition & ~(color_condition_1 | color_condition_2)]\n",
    "suboptimal_sample = allwise[(allwise['Z']>=0.5) & (allwise['Z']<=3) & ~object_condition & ~(color_condition_1 | color_condition_2)]  #Samples for k-correcion                \n",
    "nok_sample = allwise[(allwise['Z']>3) | object_condition | color_condition_1 | color_condition_2]\n",
    "                                                                                        \n",
    "allwise.loc[optimal_sample.index, 'K_QUALITY'] = int(0)\n",
    "allwise.loc[suboptimal_sample.index, 'K_QUALITY'] = int(1)\n",
    "allwise.loc[nok_sample.index, 'K_QUALITY'] = int(2)"
   ]
  }
 ],
 "metadata": {
  "kernelspec": {
   "display_name": "base",
   "language": "python",
   "name": "python3"
  },
  "language_info": {
   "codemirror_mode": {
    "name": "ipython",
    "version": 3
   },
   "file_extension": ".py",
   "mimetype": "text/x-python",
   "name": "python",
   "nbconvert_exporter": "python",
   "pygments_lexer": "ipython3",
   "version": "3.10.8"
  },
  "orig_nbformat": 4
 },
 "nbformat": 4,
 "nbformat_minor": 2
}
