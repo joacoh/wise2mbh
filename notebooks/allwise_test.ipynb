{
 "cells": [
  {
   "cell_type": "markdown",
   "metadata": {},
   "source": [
    "# WISE2MBH Tutorial: AllWISE\n",
    "\n",
    "This sample contain WISE data from the AllWISE catalog, no distances are provided, but redshifts come from the EHTER sample. At the moment of calculating W1 absolute magnitude, the distance modulus is calculated from the luminous distance, calculated by the redshift."
   ]
  },
  {
   "cell_type": "code",
   "execution_count": 4,
   "metadata": {},
   "outputs": [],
   "source": [
    "import wise2mbh as wm\n",
    "from astropy.table import Table\n",
    "import numpy as np\n",
    "import matplotlib.pyplot as plt\n",
    "import random\n",
    "no_data = 9876543"
   ]
  },
  {
   "cell_type": "code",
   "execution_count": 5,
   "metadata": {},
   "outputs": [
    {
     "data": {
      "text/html": [
       "<div><i>Table length=77712</i>\n",
       "<table id=\"table139897669605200\" class=\"table-striped table-bordered table-condensed\">\n",
       "<thead><tr><th>ONAME</th><th>RA</th><th>DEC</th><th>Z</th><th>T</th><th>NED_TYPE</th><th>AllWISE</th><th>RAJ2000</th><th>DEJ2000</th><th>eeMaj</th><th>eeMin</th><th>eePA</th><th>W1mag</th><th>W2mag</th><th>W3mag</th><th>W4mag</th><th>Jmag</th><th>Hmag</th><th>Kmag</th><th>e_W1mag</th><th>e_W2mag</th><th>e_W3mag</th><th>e_W4mag</th><th>e_Jmag</th><th>e_Hmag</th><th>e_Kmag</th><th>ID</th><th>ccf</th><th>ex</th><th>var</th><th>qph</th><th>pmRA</th><th>e_pmRA</th><th>pmDE</th><th>e_pmDE</th><th>d2M</th><th>angDist</th></tr></thead>\n",
       "<thead><tr><th>bytes107</th><th>float64</th><th>float64</th><th>float64</th><th>float64</th><th>bytes7</th><th>bytes19</th><th>float64</th><th>float64</th><th>float32</th><th>float32</th><th>float32</th><th>float32</th><th>float32</th><th>float32</th><th>float32</th><th>float32</th><th>float32</th><th>float32</th><th>float32</th><th>float32</th><th>float32</th><th>float32</th><th>float32</th><th>float32</th><th>float32</th><th>int64</th><th>bytes4</th><th>bytes1</th><th>bytes4</th><th>bytes4</th><th>int32</th><th>int32</th><th>int32</th><th>int32</th><th>float32</th><th>float64</th></tr></thead>\n",
       "<tr><td>WISEAJ112428.14-363548.5</td><td>171.1172539</td><td>-36.5968225</td><td>0.2</td><td>9876543.0</td><td>Unknown</td><td>J112428.14-363548.5</td><td>171.1172539</td><td>-36.5968225</td><td>0.0427</td><td>0.0415</td><td>130.3</td><td>13.449</td><td>12.486</td><td>9.394</td><td>6.977</td><td>15.185</td><td>14.474</td><td>14.293</td><td>0.025</td><td>0.024</td><td>0.033</td><td>0.084</td><td>0.056</td><td>0.061</td><td>0.075</td><td>1716036401351015875</td><td>0000</td><td>0</td><td>1122</td><td>AAAA</td><td>160</td><td>54</td><td>42</td><td>55</td><td>2.073</td><td>1e-06</td></tr>\n",
       "<tr><td>WISEAJ144229.68-435343.2</td><td>220.6236974</td><td>-43.8953408</td><td>0.3</td><td>9876543.0</td><td>Unknown</td><td>J144229.68-435343.2</td><td>220.6236974</td><td>-43.8953408</td><td>0.1285</td><td>0.1177</td><td>11.9</td><td>15.975</td><td>14.663</td><td>10.911</td><td>7.801</td><td>--</td><td>--</td><td>--</td><td>0.055</td><td>0.06</td><td>0.118</td><td>0.195</td><td>--</td><td>--</td><td>--</td><td>2205044001351034712</td><td>0000</td><td>0</td><td>011n</td><td>AABB</td><td>412</td><td>466</td><td>-34</td><td>505</td><td>--</td><td>1e-06</td></tr>\n",
       "<tr><td>WISEAJ163728.75+290335.9</td><td>249.3698107</td><td>29.0599733</td><td>0.2</td><td>9876543.0</td><td>Unknown</td><td>J163728.75+290335.9</td><td>249.3698107</td><td>29.0599733</td><td>0.0692</td><td>0.0643</td><td>4.9</td><td>15.637</td><td>13.775</td><td>9.703</td><td>7.347</td><td>--</td><td>--</td><td>--</td><td>0.04</td><td>0.034</td><td>0.038</td><td>0.124</td><td>--</td><td>--</td><td>--</td><td>2485128701351042160</td><td>0000</td><td>0</td><td>0011</td><td>AAAB</td><td>-116</td><td>295</td><td>-250</td><td>278</td><td>--</td><td>2e-06</td></tr>\n",
       "<tr><td>WISEAJ184321.55-621724.8</td><td>280.8398056</td><td>-62.2902233</td><td>0.2</td><td>9876543.0</td><td>Unknown</td><td>J184321.55-621724.8</td><td>280.8398056</td><td>-62.2902233</td><td>0.0722</td><td>0.0689</td><td>38.8</td><td>14.624</td><td>13.762</td><td>11.04</td><td>8.519</td><td>--</td><td>--</td><td>--</td><td>0.036</td><td>0.035</td><td>0.106</td><td>--</td><td>--</td><td>--</td><td>--</td><td>2810062101351018362</td><td>0000</td><td>0</td><td>nnnn</td><td>AAAU</td><td>--</td><td>--</td><td>--</td><td>--</td><td>--</td><td>5e-06</td></tr>\n",
       "<tr><td>WISEAJ183203.33+633041.5</td><td>278.0139066</td><td>63.5115391</td><td>0.3</td><td>9876543.0</td><td>Unknown</td><td>J183203.33+633041.5</td><td>278.0139066</td><td>63.5115391</td><td>0.0662</td><td>0.0627</td><td>129.3</td><td>15.811</td><td>14.794</td><td>11.508</td><td>8.357</td><td>--</td><td>--</td><td>--</td><td>0.032</td><td>0.035</td><td>0.086</td><td>0.118</td><td>--</td><td>--</td><td>--</td><td>2774163601351028837</td><td>0000</td><td>0</td><td>11nn</td><td>AAAB</td><td>155</td><td>233</td><td>-229</td><td>248</td><td>--</td><td>7e-06</td></tr>\n",
       "<tr><td>WISEAJ000517.26-341452.8</td><td>1.321926</td><td>-34.2480098</td><td>0.3</td><td>9876543.0</td><td>Unknown</td><td>J000517.26-341452.8</td><td>1.321926</td><td>-34.2480098</td><td>0.0752</td><td>0.0713</td><td>141.6</td><td>15.1</td><td>14.143</td><td>10.839</td><td>7.887</td><td>--</td><td>--</td><td>--</td><td>0.035</td><td>0.04</td><td>0.114</td><td>0.189</td><td>--</td><td>--</td><td>--</td><td>18034901351061482</td><td>0000</td><td>0</td><td>110n</td><td>AABB</td><td>289</td><td>256</td><td>-282</td><td>261</td><td>--</td><td>7e-06</td></tr>\n",
       "<tr><td>WISEAJ041514.13-810745.9</td><td>63.8088863</td><td>-81.1294387</td><td>0.2</td><td>9876543.0</td><td>Unknown</td><td>J041514.13-810745.9</td><td>63.8088863</td><td>-81.1294387</td><td>0.0457</td><td>0.0449</td><td>162.3</td><td>14.499</td><td>13.543</td><td>10.429</td><td>7.558</td><td>--</td><td>--</td><td>--</td><td>0.025</td><td>0.026</td><td>0.048</td><td>0.099</td><td>--</td><td>--</td><td>--</td><td>681081801351062155</td><td>0000</td><td>0</td><td>110n</td><td>AAAA</td><td>260</td><td>66</td><td>92</td><td>69</td><td>--</td><td>8e-06</td></tr>\n",
       "<tr><td>WISEAJ150206.92+781622.6</td><td>225.5288639</td><td>78.2729584</td><td>0.3</td><td>9876543.0</td><td>Unknown</td><td>J150206.92+781622.6</td><td>225.5288639</td><td>78.2729584</td><td>0.0886</td><td>0.0831</td><td>95.1</td><td>15.959</td><td>15.085</td><td>12.15</td><td>9.497</td><td>--</td><td>--</td><td>--</td><td>0.037</td><td>0.05</td><td>0.202</td><td>0.512</td><td>--</td><td>--</td><td>--</td><td>2232178701351000385</td><td>0000</td><td>0</td><td>11nn</td><td>AABC</td><td>-761</td><td>305</td><td>100</td><td>285</td><td>--</td><td>9e-06</td></tr>\n",
       "<tr><td>WISEAJ050357.41-282633.0</td><td>75.989223</td><td>-28.4425115</td><td>0.2</td><td>9876543.0</td><td>Unknown</td><td>J050357.41-282633.0</td><td>75.989223</td><td>-28.4425115</td><td>0.1182</td><td>0.0847</td><td>153.4</td><td>15.102</td><td>14.292</td><td>11.284</td><td>8.529</td><td>--</td><td>--</td><td>--</td><td>0.045</td><td>0.045</td><td>0.125</td><td>0.332</td><td>--</td><td>--</td><td>--</td><td>754028801351050034</td><td>0000</td><td>0</td><td>nnnn</td><td>AABB</td><td>--</td><td>--</td><td>--</td><td>--</td><td>--</td><td>1.1e-05</td></tr>\n",
       "<tr><td>WISEAJ214758.54-635335.8</td><td>326.9939375</td><td>-63.8932904</td><td>0.5</td><td>9876543.0</td><td>Unknown</td><td>J214758.54-635335.8</td><td>326.9939375</td><td>-63.8932904</td><td>0.0681</td><td>0.0645</td><td>140.5</td><td>14.776</td><td>13.758</td><td>9.822</td><td>6.779</td><td>16.941</td><td>15.845</td><td>15.509</td><td>0.033</td><td>0.039</td><td>0.057</td><td>0.101</td><td>0.22</td><td>0.209</td><td>0.24</td><td>3269063701351018994</td><td>0000</td><td>0</td><td>1000</td><td>AAAA</td><td>113</td><td>133</td><td>-80</td><td>136</td><td>0.301</td><td>1.2e-05</td></tr>\n",
       "<tr><td>...</td><td>...</td><td>...</td><td>...</td><td>...</td><td>...</td><td>...</td><td>...</td><td>...</td><td>...</td><td>...</td><td>...</td><td>...</td><td>...</td><td>...</td><td>...</td><td>...</td><td>...</td><td>...</td><td>...</td><td>...</td><td>...</td><td>...</td><td>...</td><td>...</td><td>...</td><td>...</td><td>...</td><td>...</td><td>...</td><td>...</td><td>...</td><td>...</td><td>...</td><td>...</td><td>...</td><td>...</td></tr>\n",
       "<tr><td>LAMOST399605218</td><td>131.95832</td><td>51.15924</td><td>0.13803734</td><td>9876543.0</td><td>Galaxy</td><td>J084750.00+510933.2</td><td>131.9583412</td><td>51.1592361</td><td>0.0542</td><td>0.0525</td><td>143.4</td><td>14.025</td><td>13.764</td><td>11.113</td><td>9.1</td><td>15.964</td><td>15.274</td><td>14.563</td><td>0.025</td><td>0.034</td><td>0.153</td><td>--</td><td>0.087</td><td>0.094</td><td>0.085</td><td>1311151401351023860</td><td>0000</td><td>0</td><td>01nn</td><td>AABU</td><td>-22</td><td>141</td><td>50</td><td>143</td><td>0.347</td><td>0.049997</td></tr>\n",
       "<tr><td>SDSSJ115205.18+382928.0</td><td>178.021614</td><td>38.4911345</td><td>0.40462333</td><td>9876543.0</td><td>Unknown</td><td>J115205.18+382928.0</td><td>178.0215991</td><td>38.491127</td><td>0.0979</td><td>0.0928</td><td>17.3</td><td>15.365</td><td>15.172</td><td>12.824</td><td>8.849</td><td>--</td><td>--</td><td>--</td><td>0.038</td><td>0.078</td><td>--</td><td>--</td><td>--</td><td>--</td><td>--</td><td>1781137801351058128</td><td>0000</td><td>0</td><td>00nn</td><td>AAUU</td><td>62</td><td>270</td><td>-54</td><td>290</td><td>--</td><td>0.049997</td></tr>\n",
       "<tr><td>SDSS1504239155469641728</td><td>243.77024</td><td>39.31195</td><td>0.14051065</td><td>9876543.0</td><td>Galaxy</td><td>J161504.85+391843.0</td><td>243.770246</td><td>39.3119631</td><td>0.0486</td><td>0.048</td><td>135.0</td><td>13.708</td><td>13.451</td><td>12.888</td><td>9.59</td><td>15.632</td><td>14.88</td><td>14.284</td><td>0.025</td><td>0.029</td><td>0.407</td><td>--</td><td>0.08</td><td>0.083</td><td>0.073</td><td>2438139301351031839</td><td>0000</td><td>0</td><td>00nn</td><td>AACU</td><td>0</td><td>71</td><td>0</td><td>76</td><td>0.164</td><td>0.049997</td></tr>\n",
       "<tr><td>SDSS994312869900216320</td><td>183.59372</td><td>53.64215</td><td>0.1756268</td><td>9876543.0</td><td>Galaxy</td><td>J121422.48+533831.7</td><td>183.593698</td><td>53.6421548</td><td>0.0541</td><td>0.053</td><td>175.1</td><td>14.199</td><td>13.949</td><td>12.669</td><td>8.811</td><td>16.142</td><td>15.352</td><td>14.873</td><td>0.026</td><td>0.033</td><td>0.429</td><td>--</td><td>0.094</td><td>0.107</td><td>0.106</td><td>1824153001351053170</td><td>0000</td><td>0</td><td>00nn</td><td>AACU</td><td>-13</td><td>99</td><td>24</td><td>105</td><td>0.06</td><td>0.049997</td></tr>\n",
       "<tr><td>SDSSJ145532.69+580519.7</td><td>223.8862155</td><td>58.0888205</td><td>0.35417667</td><td>9876543.0</td><td>Unknown</td><td>J145532.69+580519.7</td><td>223.8862407</td><td>58.0888244</td><td>0.0742</td><td>0.0712</td><td>11.5</td><td>15.261</td><td>15.077</td><td>12.889</td><td>9.481</td><td>--</td><td>--</td><td>--</td><td>0.031</td><td>0.054</td><td>--</td><td>--</td><td>--</td><td>--</td><td>--</td><td>2243157501351060214</td><td>0000</td><td>0</td><td>00nn</td><td>AAUU</td><td>415</td><td>181</td><td>220</td><td>188</td><td>--</td><td>0.049997</td></tr>\n",
       "<tr><td>WISEAJ113538.25+315012.5</td><td>173.9094019222</td><td>31.836811624</td><td>0.45649</td><td>9876543.0</td><td>Unknown</td><td>J113538.25+315012.5</td><td>173.9094028</td><td>31.8368255</td><td>0.0865</td><td>0.0832</td><td>15.6</td><td>14.964</td><td>14.744</td><td>12.322</td><td>9.066</td><td>--</td><td>--</td><td>--</td><td>0.035</td><td>0.065</td><td>--</td><td>--</td><td>--</td><td>--</td><td>--</td><td>1747131801351038143</td><td>0000</td><td>0</td><td>11nn</td><td>AAUU</td><td>-348</td><td>220</td><td>-167</td><td>237</td><td>--</td><td>0.049998</td></tr>\n",
       "<tr><td>WISEAJ115816.26+302142.1</td><td>179.5678</td><td>30.36171</td><td>0.146</td><td>9876543.0</td><td>Galaxy</td><td>J115816.26+302142.1</td><td>179.5677894</td><td>30.3616995</td><td>0.0475</td><td>0.0465</td><td>153.1</td><td>13.783</td><td>13.064</td><td>10.4</td><td>7.741</td><td>15.904</td><td>15.35</td><td>14.722</td><td>0.025</td><td>0.027</td><td>0.072</td><td>0.143</td><td>0.083</td><td>0.102</td><td>0.09</td><td>1791130201351029659</td><td>0000</td><td>0</td><td>000n</td><td>AAAB</td><td>77</td><td>118</td><td>31</td><td>119</td><td>0.089</td><td>0.049999</td></tr>\n",
       "<tr><td>SDSSJ095103.03+142941.6</td><td>147.76265</td><td>14.49491</td><td>0.233</td><td>-9.0</td><td>QSO</td><td>J095103.03+142941.6</td><td>147.7626379</td><td>14.4949026</td><td>0.0396</td><td>0.0381</td><td>137.0</td><td>13.057</td><td>12.077</td><td>8.594</td><td>6.04</td><td>15.977</td><td>15.02</td><td>14.229</td><td>0.024</td><td>0.022</td><td>0.03</td><td>0.066</td><td>0.083</td><td>0.092</td><td>0.07</td><td>1471115101351000018</td><td>0000</td><td>0</td><td>1100</td><td>AAAA</td><td>96</td><td>53</td><td>98</td><td>56</td><td>0.056</td><td>0.049999</td></tr>\n",
       "<tr><td>SDSSJ150436.89+270600.0</td><td>226.153743</td><td>27.1000244</td><td>0.41787</td><td>9876543.0</td><td>Unknown</td><td>J150436.90+270600.0</td><td>226.1537509</td><td>27.1000124</td><td>0.0643</td><td>0.0619</td><td>179.3</td><td>14.647</td><td>14.393</td><td>12.908</td><td>9.506</td><td>17.011</td><td>15.719</td><td>14.972</td><td>0.029</td><td>0.042</td><td>--</td><td>--</td><td>0.211</td><td>--</td><td>0.169</td><td>2264127201351015796</td><td>h000</td><td>0</td><td>01nn</td><td>AAUU</td><td>-31</td><td>86</td><td>-134</td><td>95</td><td>0.277</td><td>0.049999</td></tr>\n",
       "<tr><td>LAMOST504013208</td><td>170.00596</td><td>48.08189</td><td>0.12572007</td><td>9876543.0</td><td>Galaxy</td><td>J112001.42+480454.7</td><td>170.0059408</td><td>48.0818847</td><td>0.0553</td><td>0.053</td><td>4.8</td><td>14.014</td><td>13.852</td><td>12.403</td><td>9.121</td><td>15.576</td><td>14.948</td><td>14.399</td><td>0.026</td><td>0.034</td><td>--</td><td>--</td><td>0.08</td><td>0.083</td><td>0.075</td><td>1709148401351013591</td><td>0000</td><td>0</td><td>11nn</td><td>AAUU</td><td>94</td><td>96</td><td>-102</td><td>105</td><td>0.109</td><td>0.049999</td></tr>\n",
       "</table></div>"
      ],
      "text/plain": [
       "<Table length=77712>\n",
       "         ONAME                 RA           DEC      ... e_pmDE   d2M   angDist \n",
       "        bytes107            float64       float64    ... int32  float32 float64 \n",
       "------------------------ -------------- ------------ ... ------ ------- --------\n",
       "WISEAJ112428.14-363548.5    171.1172539  -36.5968225 ...     55   2.073    1e-06\n",
       "WISEAJ144229.68-435343.2    220.6236974  -43.8953408 ...    505      --    1e-06\n",
       "WISEAJ163728.75+290335.9    249.3698107   29.0599733 ...    278      --    2e-06\n",
       "WISEAJ184321.55-621724.8    280.8398056  -62.2902233 ...     --      --    5e-06\n",
       "WISEAJ183203.33+633041.5    278.0139066   63.5115391 ...    248      --    7e-06\n",
       "WISEAJ000517.26-341452.8       1.321926  -34.2480098 ...    261      --    7e-06\n",
       "WISEAJ041514.13-810745.9     63.8088863  -81.1294387 ...     69      --    8e-06\n",
       "WISEAJ150206.92+781622.6    225.5288639   78.2729584 ...    285      --    9e-06\n",
       "WISEAJ050357.41-282633.0      75.989223  -28.4425115 ...     --      --  1.1e-05\n",
       "WISEAJ214758.54-635335.8    326.9939375  -63.8932904 ...    136   0.301  1.2e-05\n",
       "                     ...            ...          ... ...    ...     ...      ...\n",
       "         LAMOST399605218      131.95832     51.15924 ...    143   0.347 0.049997\n",
       " SDSSJ115205.18+382928.0     178.021614   38.4911345 ...    290      -- 0.049997\n",
       " SDSS1504239155469641728      243.77024     39.31195 ...     76   0.164 0.049997\n",
       "  SDSS994312869900216320      183.59372     53.64215 ...    105    0.06 0.049997\n",
       " SDSSJ145532.69+580519.7    223.8862155   58.0888205 ...    188      -- 0.049997\n",
       "WISEAJ113538.25+315012.5 173.9094019222 31.836811624 ...    237      -- 0.049998\n",
       "WISEAJ115816.26+302142.1       179.5678     30.36171 ...    119   0.089 0.049999\n",
       " SDSSJ095103.03+142941.6      147.76265     14.49491 ...     56   0.056 0.049999\n",
       " SDSSJ150436.89+270600.0     226.153743   27.1000244 ...     95   0.277 0.049999\n",
       "         LAMOST504013208      170.00596     48.08189 ...    105   0.109 0.049999"
      ]
     },
     "execution_count": 5,
     "metadata": {},
     "output_type": "execute_result"
    }
   ],
   "source": [
    "allwise = Table.read('../samples/AllWISE_sample.fits')\n",
    "allwise"
   ]
  },
  {
   "cell_type": "markdown",
   "metadata": {},
   "source": [
    "Clening process of the sample from AllWISE"
   ]
  },
  {
   "cell_type": "code",
   "execution_count": 6,
   "metadata": {},
   "outputs": [
    {
     "name": "stdout",
     "output_type": "stream",
     "text": [
      "Size before depure: 77712\n"
     ]
    },
    {
     "name": "stdout",
     "output_type": "stream",
     "text": [
      "Size after depure: 77687\n"
     ]
    }
   ],
   "source": [
    "size_before_depure = len(allwise)\n",
    "print(f'Size before depure: {size_before_depure}')\n",
    "\n",
    "allowed_z = allwise[allwise['Z']!=0]                                                            #Masking of null redshifts\n",
    "qph_list = allwise['qph'].tolist()                                                              #Extract quality flags\n",
    "null_phot = ['X', 'Z']                                                                          #Null and uplim values in W bands\n",
    "not_null_quality = [not any(letter in qph[:-1] for letter in null_phot) for qph in qph_list]    #Test quality flags\n",
    "\n",
    "allwise = allowed_z[not_null_quality].copy()                                                    #Keep non-null values in quality\n",
    "\n",
    "size_after_depure = len(allwise)\n",
    "print(f'Size after depure: {size_after_depure}')"
   ]
  },
  {
   "cell_type": "markdown",
   "metadata": {},
   "source": [
    "Detections with 'U' flag in qph do not contain errors on the WISE bands, so better to set them to a single value, in this case we'll set them to 0"
   ]
  },
  {
   "cell_type": "code",
   "execution_count": 7,
   "metadata": {},
   "outputs": [],
   "source": [
    "allwise['e_W1mag'] = allwise['e_W1mag'].filled(0)                 #Replace null errors in WISE bands\n",
    "allwise['e_W2mag'] = allwise['e_W2mag'].filled(0)\n",
    "allwise['e_W3mag'] = allwise['e_W3mag'].filled(0)"
   ]
  },
  {
   "cell_type": "markdown",
   "metadata": {},
   "source": [
    "Since this algorithm have a Monte Carlo implementation for error propagation, we recommend to take slices for big sample (rows>200), so for this tutorial, we'll use a random slice from the AllWISE sample."
   ]
  },
  {
   "cell_type": "code",
   "execution_count": 8,
   "metadata": {},
   "outputs": [
    {
     "data": {
      "text/html": [
       "<div><i>Table length=1000</i>\n",
       "<table id=\"table139897719926176\" class=\"table-striped table-bordered table-condensed\">\n",
       "<thead><tr><th>ONAME</th><th>RA</th><th>DEC</th><th>Z</th><th>T</th><th>NED_TYPE</th><th>AllWISE</th><th>RAJ2000</th><th>DEJ2000</th><th>eeMaj</th><th>eeMin</th><th>eePA</th><th>W1mag</th><th>W2mag</th><th>W3mag</th><th>W4mag</th><th>Jmag</th><th>Hmag</th><th>Kmag</th><th>e_W1mag</th><th>e_W2mag</th><th>e_W3mag</th><th>e_W4mag</th><th>e_Jmag</th><th>e_Hmag</th><th>e_Kmag</th><th>ID</th><th>ccf</th><th>ex</th><th>var</th><th>qph</th><th>pmRA</th><th>e_pmRA</th><th>pmDE</th><th>e_pmDE</th><th>d2M</th><th>angDist</th></tr></thead>\n",
       "<thead><tr><th>bytes107</th><th>float64</th><th>float64</th><th>float64</th><th>float64</th><th>bytes7</th><th>bytes19</th><th>float64</th><th>float64</th><th>float32</th><th>float32</th><th>float32</th><th>float32</th><th>float32</th><th>float32</th><th>float32</th><th>float32</th><th>float32</th><th>float32</th><th>float32</th><th>float32</th><th>float32</th><th>float32</th><th>float32</th><th>float32</th><th>float32</th><th>int64</th><th>bytes4</th><th>bytes1</th><th>bytes4</th><th>bytes4</th><th>int32</th><th>int32</th><th>int32</th><th>int32</th><th>float32</th><th>float64</th></tr></thead>\n",
       "<tr><td>SDSSJ093215.51+101250.6</td><td>143.0646405</td><td>10.2140698</td><td>0.20331067</td><td>9876543.0</td><td>Unknown</td><td>J093215.51+101250.6</td><td>143.0646387</td><td>10.2140807</td><td>0.0683</td><td>0.066</td><td>165.3</td><td>14.425</td><td>14.065</td><td>11.846</td><td>8.281</td><td>16.427</td><td>15.673</td><td>14.885</td><td>0.03</td><td>0.042</td><td>0.275</td><td>--</td><td>0.161</td><td>0.174</td><td>0.14</td><td>1430110601351018115</td><td>0000</td><td>0</td><td>11nn</td><td>AABU</td><td>-180</td><td>162</td><td>-172</td><td>172</td><td>0.176</td><td>0.039705</td></tr>\n",
       "<tr><td>SDSS3087294031638587392</td><td>206.20752</td><td>16.4058</td><td>0.17861924</td><td>-5.0</td><td>Galaxy</td><td>J134449.80+162420.8</td><td>206.2075163</td><td>16.4058028</td><td>0.0519</td><td>0.0506</td><td>2.9</td><td>13.705</td><td>13.425</td><td>12.489</td><td>8.903</td><td>15.756</td><td>14.843</td><td>14.472</td><td>0.026</td><td>0.03</td><td>0.386</td><td>--</td><td>0.081</td><td>0.081</td><td>0.091</td><td>2059116601351020742</td><td>0000</td><td>0</td><td>00nn</td><td>AACU</td><td>-91</td><td>71</td><td>103</td><td>76</td><td>0.071</td><td>0.01621</td></tr>\n",
       "<tr><td>SDSSJ012106.59+124434.9</td><td>20.27748</td><td>12.7430536</td><td>0.49656665</td><td>9876543.0</td><td>Unknown</td><td>J012106.59+124435.0</td><td>20.2774827</td><td>12.7430661</td><td>0.1179</td><td>0.1115</td><td>152.6</td><td>15.52</td><td>15.48</td><td>11.959</td><td>9.048</td><td>--</td><td>--</td><td>--</td><td>0.043</td><td>0.107</td><td>0.0</td><td>--</td><td>--</td><td>--</td><td>--</td><td>200112101351050465</td><td>0000</td><td>0</td><td>0nnn</td><td>AAUU</td><td>391</td><td>338</td><td>-136</td><td>350</td><td>--</td><td>0.045926</td></tr>\n",
       "<tr><td>SDSSJ131545.36+595248.0</td><td>198.9390165</td><td>59.8800001</td><td>0.49351</td><td>9876543.0</td><td>Unknown</td><td>J131545.36+595247.9</td><td>198.9390073</td><td>59.8799894</td><td>0.0989</td><td>0.0929</td><td>22.5</td><td>15.52</td><td>15.618</td><td>12.415</td><td>9.224</td><td>--</td><td>--</td><td>--</td><td>0.036</td><td>0.097</td><td>0.0</td><td>--</td><td>--</td><td>--</td><td>--</td><td>1980160501351000158</td><td>0000</td><td>0</td><td>0nnn</td><td>AAUU</td><td>506</td><td>281</td><td>156</td><td>295</td><td>--</td><td>0.042013</td></tr>\n",
       "<tr><td>SDSSJ115323.71+162102.8</td><td>178.3488165</td><td>16.3507913</td><td>0.28440365</td><td>9876543.0</td><td>Unknown</td><td>J115323.71+162102.8</td><td>178.3488044</td><td>16.3507928</td><td>0.0785</td><td>0.0742</td><td>6.5</td><td>14.777</td><td>14.519</td><td>12.589</td><td>9.152</td><td>16.708</td><td>16.26</td><td>15.389</td><td>0.033</td><td>0.055</td><td>0.0</td><td>--</td><td>0.129</td><td>0.178</td><td>0.122</td><td>1776116601351024506</td><td>0000</td><td>0</td><td>00nn</td><td>AAUU</td><td>-178</td><td>188</td><td>130</td><td>205</td><td>0.278</td><td>0.042313</td></tr>\n",
       "<tr><td>WISEAJ230830.78-101521.8</td><td>347.1282888231</td><td>-10.2560719241</td><td>0.30194232</td><td>9876543.0</td><td>Unknown</td><td>J230830.78-101521.8</td><td>347.1282909</td><td>-10.256075</td><td>0.0715</td><td>0.0682</td><td>125.3</td><td>14.253</td><td>14.154</td><td>12.135</td><td>8.241</td><td>16.595</td><td>15.555</td><td>15.109</td><td>0.03</td><td>0.052</td><td>0.0</td><td>--</td><td>0.112</td><td>0.134</td><td>0.149</td><td>3476010701351040131</td><td>0000</td><td>0</td><td>nnnn</td><td>AAUU</td><td>315</td><td>176</td><td>-567</td><td>180</td><td>0.055</td><td>0.013352</td></tr>\n",
       "<tr><td>SDSSJ231520.12+185234.1</td><td>348.833856</td><td>18.876146</td><td>0.36197</td><td>9876543.0</td><td>Unknown</td><td>J231520.12+185234.1</td><td>348.8338591</td><td>18.8761554</td><td>0.0859</td><td>0.0808</td><td>144.1</td><td>14.969</td><td>14.741</td><td>12.153</td><td>8.941</td><td>--</td><td>--</td><td>--</td><td>0.034</td><td>0.069</td><td>0.0</td><td>--</td><td>--</td><td>--</td><td>--</td><td>3488118101351053909</td><td>0000</td><td>0</td><td>00nn</td><td>AAUU</td><td>69</td><td>236</td><td>-45</td><td>246</td><td>--</td><td>0.035354</td></tr>\n",
       "<tr><td>WISEAJ202218.76-525829.2</td><td>305.5781992</td><td>-52.974803</td><td>0.3</td><td>9876543.0</td><td>Unknown</td><td>J202218.76-525829.2</td><td>305.5781806</td><td>-52.9748004</td><td>0.0394</td><td>0.0379</td><td>86.4</td><td>12.951</td><td>12.064</td><td>9.129</td><td>6.179</td><td>15.928</td><td>15.273</td><td>14.28</td><td>0.024</td><td>0.022</td><td>0.035</td><td>0.05</td><td>0.107</td><td>0.124</td><td>0.083</td><td>3057053101351031803</td><td>0000</td><td>0</td><td>1100</td><td>AAAA</td><td>75</td><td>49</td><td>-148</td><td>50</td><td>0.061</td><td>0.041489</td></tr>\n",
       "<tr><td>J0857+8603</td><td>134.4231478691101</td><td>86.06236279169718</td><td>0.2</td><td>9876543.0</td><td>RS</td><td>J085741.57+860344.5</td><td>134.4232402</td><td>86.0623679</td><td>0.0543</td><td>0.0525</td><td>1.9</td><td>14.689</td><td>13.838</td><td>11.439</td><td>8.776</td><td>--</td><td>--</td><td>--</td><td>0.028</td><td>0.03</td><td>0.134</td><td>--</td><td>--</td><td>--</td><td>--</td><td>1399186301351014480</td><td>0000</td><td>0</td><td>21nn</td><td>AABU</td><td>-75</td><td>108</td><td>-147</td><td>116</td><td>--</td><td>0.029345</td></tr>\n",
       "<tr><td>SDSSJ093150.24+492152.5</td><td>142.959354</td><td>49.364587</td><td>0.40066</td><td>9876543.0</td><td>Unknown</td><td>J093150.24+492152.5</td><td>142.9593461</td><td>49.3645856</td><td>0.0879</td><td>0.0808</td><td>171.8</td><td>15.026</td><td>14.859</td><td>11.856</td><td>8.596</td><td>--</td><td>--</td><td>--</td><td>0.034</td><td>0.063</td><td>0.0</td><td>--</td><td>--</td><td>--</td><td>--</td><td>1439149901351010702</td><td>0000</td><td>0</td><td>nnnn</td><td>AAUU</td><td>-510</td><td>196</td><td>617</td><td>216</td><td>--</td><td>0.019315</td></tr>\n",
       "<tr><td>...</td><td>...</td><td>...</td><td>...</td><td>...</td><td>...</td><td>...</td><td>...</td><td>...</td><td>...</td><td>...</td><td>...</td><td>...</td><td>...</td><td>...</td><td>...</td><td>...</td><td>...</td><td>...</td><td>...</td><td>...</td><td>...</td><td>...</td><td>...</td><td>...</td><td>...</td><td>...</td><td>...</td><td>...</td><td>...</td><td>...</td><td>...</td><td>...</td><td>...</td><td>...</td><td>...</td><td>...</td></tr>\n",
       "<tr><td>SDSSJ083650.90+152930.2</td><td>129.2121045</td><td>15.4917442</td><td>0.28620234</td><td>9876543.0</td><td>Unknown</td><td>J083650.90+152930.2</td><td>129.2121016</td><td>15.4917383</td><td>0.0784</td><td>0.0739</td><td>178.7</td><td>14.569</td><td>14.099</td><td>11.648</td><td>8.276</td><td>17.126</td><td>15.983</td><td>15.56</td><td>0.033</td><td>0.054</td><td>0.0</td><td>--</td><td>0.231</td><td>0.165</td><td>0.173</td><td>1299115101351033285</td><td>0000</td><td>0</td><td>11nn</td><td>AAUU</td><td>20</td><td>175</td><td>810</td><td>196</td><td>0.998</td><td>0.023471</td></tr>\n",
       "<tr><td>SDSS704905735170975744</td><td>245.88507</td><td>45.00888</td><td>0.19824004</td><td>-5.0</td><td>Galaxy</td><td>J162332.42+450031.9</td><td>245.8850844</td><td>45.0088888</td><td>0.0448</td><td>0.0431</td><td>126.2</td><td>13.552</td><td>13.282</td><td>12.473</td><td>9.597</td><td>15.676</td><td>14.831</td><td>14.243</td><td>0.024</td><td>0.025</td><td>0.211</td><td>--</td><td>0.073</td><td>0.08</td><td>0.08</td><td>2449145401351024179</td><td>0000</td><td>1</td><td>00nn</td><td>AABU</td><td>-9</td><td>54</td><td>-110</td><td>57</td><td>0.161</td><td>0.048382</td></tr>\n",
       "<tr><td>WISEAJ141335.97+712633.0</td><td>213.3998942</td><td>71.4424936</td><td>0.3</td><td>9876543.0</td><td>Unknown</td><td>J141335.97+712633.0</td><td>213.3999013</td><td>71.4425003</td><td>0.0702</td><td>0.0666</td><td>53.0</td><td>15.355</td><td>14.675</td><td>11.889</td><td>8.9</td><td>--</td><td>--</td><td>--</td><td>0.031</td><td>0.042</td><td>0.154</td><td>0.301</td><td>--</td><td>--</td><td>--</td><td>2115171101351050642</td><td>0000</td><td>0</td><td>00nn</td><td>AABB</td><td>45</td><td>205</td><td>159</td><td>202</td><td>--</td><td>0.025421</td></tr>\n",
       "<tr><td>SDSS2403848317239846912</td><td>217.87167</td><td>24.96865</td><td>0.13376683</td><td>9876543.0</td><td>Galaxy</td><td>J143129.19+245807.1</td><td>217.8716609</td><td>24.9686529</td><td>0.0646</td><td>0.063</td><td>162.9</td><td>14.484</td><td>14.324</td><td>12.472</td><td>9.189</td><td>16.128</td><td>15.415</td><td>14.93</td><td>0.028</td><td>0.044</td><td>0.0</td><td>--</td><td>0.093</td><td>0.1</td><td>0.118</td><td>2179124201351057016</td><td>0000</td><td>0</td><td>01nn</td><td>AAUU</td><td>50</td><td>88</td><td>98</td><td>95</td><td>0.13</td><td>0.031338</td></tr>\n",
       "<tr><td>2MASXJ21474228-0235354</td><td>326.9261925</td><td>-2.5931558</td><td>0.141702</td><td>9876543.0</td><td>Unknown</td><td>J214742.28-023535.3</td><td>326.9262015</td><td>-2.5931625</td><td>0.0579</td><td>0.0567</td><td>149.1</td><td>13.701</td><td>13.479</td><td>12.14</td><td>8.667</td><td>15.303</td><td>14.719</td><td>14.196</td><td>0.028</td><td>0.035</td><td>0.0</td><td>--</td><td>0.065</td><td>0.085</td><td>0.078</td><td>3267003101351045340</td><td>0000</td><td>0</td><td>11nn</td><td>AAUU</td><td>124</td><td>114</td><td>-69</td><td>118</td><td>0.175</td><td>0.040209</td></tr>\n",
       "<tr><td>SDSS100655.38+615558.6</td><td>151.7308</td><td>61.93297</td><td>0.4762</td><td>-9.0</td><td>QSO</td><td>J100655.39+615558.7</td><td>151.7307992</td><td>61.932982</td><td>0.0488</td><td>0.0479</td><td>158.1</td><td>14.382</td><td>13.457</td><td>10.931</td><td>8.353</td><td>17.226</td><td>16.034</td><td>15.48</td><td>0.026</td><td>0.027</td><td>0.092</td><td>0.216</td><td>0.21</td><td>0.201</td><td>0.171</td><td>1515162001351017894</td><td>0000</td><td>0</td><td>110n</td><td>AAAB</td><td>5</td><td>234</td><td>138</td><td>173</td><td>0.242</td><td>0.04332</td></tr>\n",
       "<tr><td>SDSS1194686772974479360</td><td>119.93375</td><td>31.83058</td><td>0.175037</td><td>9876543.0</td><td>Galaxy</td><td>J075944.10+314950.0</td><td>119.9337659</td><td>31.8305785</td><td>0.0651</td><td>0.0617</td><td>155.0</td><td>14.343</td><td>14.134</td><td>12.347</td><td>8.774</td><td>15.651</td><td>14.781</td><td>14.782</td><td>0.028</td><td>0.042</td><td>0.0</td><td>--</td><td>--</td><td>--</td><td>0.101</td><td>1200131801351031381</td><td>0000</td><td>0</td><td>33nn</td><td>AAUU</td><td>162</td><td>144</td><td>36</td><td>153</td><td>0.012</td><td>0.048892</td></tr>\n",
       "<tr><td>SDSSJ130451.28+373131.6</td><td>196.2136785</td><td>37.5254539</td><td>0.48472</td><td>9876543.0</td><td>Unknown</td><td>J130451.27+373131.6</td><td>196.2136626</td><td>37.5254513</td><td>0.1178</td><td>0.1093</td><td>11.3</td><td>15.717</td><td>15.743</td><td>12.463</td><td>8.69</td><td>--</td><td>--</td><td>--</td><td>0.042</td><td>0.116</td><td>0.0</td><td>--</td><td>--</td><td>--</td><td>--</td><td>1970137801351013918</td><td>0000</td><td>0</td><td>0nnn</td><td>ABUU</td><td>285</td><td>360</td><td>1090</td><td>394</td><td>--</td><td>0.046281</td></tr>\n",
       "<tr><td>SDSS1472718361057060864</td><td>151.66153</td><td>10.12972</td><td>0.14362477</td><td>9876543.0</td><td>Galaxy</td><td>J100638.76+100746.9</td><td>151.661536</td><td>10.1297199</td><td>0.0565</td><td>0.0547</td><td>168.0</td><td>13.862</td><td>13.612</td><td>10.594</td><td>8.092</td><td>15.577</td><td>14.896</td><td>14.601</td><td>0.027</td><td>0.035</td><td>0.117</td><td>--</td><td>0.093</td><td>0.103</td><td>0.117</td><td>1523110601351009451</td><td>0000</td><td>0</td><td>001n</td><td>AABU</td><td>115</td><td>138</td><td>188</td><td>138</td><td>0.131</td><td>0.021189</td></tr>\n",
       "<tr><td>SDSS2070688866347542528</td><td>213.51821</td><td>34.88458</td><td>0.18355703</td><td>9876543.0</td><td>Galaxy</td><td>J141404.36+345304.5</td><td>213.5182046</td><td>34.884584</td><td>0.0547</td><td>0.0535</td><td>135.0</td><td>14.091</td><td>13.833</td><td>12.664</td><td>8.949</td><td>16.093</td><td>15.434</td><td>14.878</td><td>0.026</td><td>0.034</td><td>0.437</td><td>--</td><td>0.093</td><td>0.109</td><td>0.115</td><td>2138134801351035499</td><td>0000</td><td>0</td><td>11nn</td><td>AACU</td><td>-76</td><td>74</td><td>266</td><td>80</td><td>0.267</td><td>0.021576</td></tr>\n",
       "</table></div>"
      ],
      "text/plain": [
       "<Table length=1000>\n",
       "         ONAME                   RA        ...   d2M   angDist \n",
       "        bytes107              float64      ... float32 float64 \n",
       "------------------------ ----------------- ... ------- --------\n",
       " SDSSJ093215.51+101250.6       143.0646405 ...   0.176 0.039705\n",
       " SDSS3087294031638587392         206.20752 ...   0.071  0.01621\n",
       " SDSSJ012106.59+124434.9          20.27748 ...      -- 0.045926\n",
       " SDSSJ131545.36+595248.0       198.9390165 ...      -- 0.042013\n",
       " SDSSJ115323.71+162102.8       178.3488165 ...   0.278 0.042313\n",
       "WISEAJ230830.78-101521.8    347.1282888231 ...   0.055 0.013352\n",
       " SDSSJ231520.12+185234.1        348.833856 ...      -- 0.035354\n",
       "WISEAJ202218.76-525829.2       305.5781992 ...   0.061 0.041489\n",
       "              J0857+8603 134.4231478691101 ...      -- 0.029345\n",
       " SDSSJ093150.24+492152.5        142.959354 ...      -- 0.019315\n",
       "                     ...               ... ...     ...      ...\n",
       " SDSSJ083650.90+152930.2       129.2121045 ...   0.998 0.023471\n",
       "  SDSS704905735170975744         245.88507 ...   0.161 0.048382\n",
       "WISEAJ141335.97+712633.0       213.3998942 ...      -- 0.025421\n",
       " SDSS2403848317239846912         217.87167 ...    0.13 0.031338\n",
       "  2MASXJ21474228-0235354       326.9261925 ...   0.175 0.040209\n",
       "  SDSS100655.38+615558.6          151.7308 ...   0.242  0.04332\n",
       " SDSS1194686772974479360         119.93375 ...   0.012 0.048892\n",
       " SDSSJ130451.28+373131.6       196.2136785 ...      -- 0.046281\n",
       " SDSS1472718361057060864         151.66153 ...   0.131 0.021189\n",
       " SDSS2070688866347542528         213.51821 ...   0.267 0.021576"
      ]
     },
     "execution_count": 8,
     "metadata": {},
     "output_type": "execute_result"
    }
   ],
   "source": [
    "random_indices = random.sample(range(len(allwise)), 1000)\n",
    "new_allwise = allwise[random_indices]\n",
    "new_allwise"
   ]
  },
  {
   "cell_type": "markdown",
   "metadata": {},
   "source": [
    "First, store the observed colors and then define the Monte Carlo arrays for W1, W2 and W3, with the same colors but now for Monte Carlo arrays"
   ]
  },
  {
   "cell_type": "code",
   "execution_count": 9,
   "metadata": {},
   "outputs": [],
   "source": [
    "new_allwise['W1-W2_obs'] = new_allwise['W1mag'] - new_allwise['W2mag']\n",
    "new_allwise['W2-W3_obs'] = new_allwise['W2mag'] - new_allwise['W3mag']"
   ]
  },
  {
   "cell_type": "code",
   "execution_count": 10,
   "metadata": {},
   "outputs": [],
   "source": [
    "w1 = wm.array_montecarlo(new_allwise['W1mag'],new_allwise['e_W1mag'])\n",
    "w2 = wm.array_montecarlo(new_allwise['W2mag'],new_allwise['e_W2mag'])\n",
    "w3 = wm.array_montecarlo(new_allwise['W3mag'],new_allwise['e_W3mag'])\n",
    "z = np.array(new_allwise['Z'])\n",
    "\n",
    "w1w2_obs = w1-w2\n",
    "w2w3_obs = w2-w3"
   ]
  },
  {
   "cell_type": "markdown",
   "metadata": {},
   "source": [
    "# K-corrections for the defined sample\n",
    "\n",
    "Now that all initial colors are created, one can start by the first masking of the reject zone by deleting all sources with a W2-W3>4.4"
   ]
  },
  {
   "cell_type": "code",
   "execution_count": 11,
   "metadata": {},
   "outputs": [],
   "source": [
    "first_reject_zone = new_allwise['W2-W3_obs']<=4.4"
   ]
  },
  {
   "cell_type": "code",
   "execution_count": 12,
   "metadata": {},
   "outputs": [],
   "source": [
    "w1 = w1[first_reject_zone]\n",
    "w2 = w2[first_reject_zone]\n",
    "w3 = w3[first_reject_zone]\n",
    "z = z[first_reject_zone]\n",
    "\n",
    "w1w2_obs = w1w2_obs[first_reject_zone]\n",
    "w2w3_obs = w2w3_obs[first_reject_zone]\n",
    "\n",
    "new_allwise = new_allwise[first_reject_zone]"
   ]
  },
  {
   "cell_type": "markdown",
   "metadata": {},
   "source": [
    "It is necessary to create new arrays to store K-corrected W1abs and the K-correction factor of W1-W2 and W2-W3"
   ]
  },
  {
   "cell_type": "code",
   "execution_count": 13,
   "metadata": {},
   "outputs": [],
   "source": [
    "w1w2_kcors = np.zeros(np.shape(w1w2_obs)[0])                                                \n",
    "w2w3_kcors = np.zeros(np.shape(w2w3_obs)[0])\n",
    "w1abs = np.zeros(np.shape(w1))"
   ]
  },
  {
   "cell_type": "code",
   "execution_count": 14,
   "metadata": {},
   "outputs": [],
   "source": [
    "object_condition = (new_allwise['NED_TYPE']=='RadioS') | (new_allwise['NED_TYPE']=='QSO')\n",
    "color_condition_1 = (new_allwise['W1-W2_obs']>0.8) & (new_allwise['W2-W3_obs']<2.2)\n",
    "color_condition_2 = (new_allwise['W1-W2_obs']>wm.w1w2_treshold_qso(new_allwise['W2-W3_obs'])) & (new_allwise['W2-W3_obs']>=2.2) & (new_allwise['W2-W3_obs']<=4.4)\n",
    "\n",
    "suboptimal_cond = (new_allwise['Z']>=0.5) & (new_allwise['Z']<=3) & ~object_condition & ~(color_condition_1 | color_condition_2)\n",
    "nok_cond = (new_allwise['Z']>3) | object_condition | color_condition_1 | color_condition_2\n",
    "\n",
    "optimal_sample = new_allwise[(new_allwise['Z']<0.5) & ~object_condition & ~(color_condition_1 | color_condition_2)]\n",
    "suboptimal_sample = new_allwise[suboptimal_cond]                                                                            #Samples for k-correcion                \n",
    "nok_sample = new_allwise[nok_cond]"
   ]
  },
  {
   "cell_type": "markdown",
   "metadata": {},
   "source": [
    "To create the final quality tag, here we store the K-correction tag"
   ]
  },
  {
   "cell_type": "code",
   "execution_count": 15,
   "metadata": {},
   "outputs": [],
   "source": [
    "new_allwise['K_QUALITY'] = 0\n",
    "\n",
    "new_allwise['K_QUALITY'] = np.where(suboptimal_cond, 1, new_allwise['K_QUALITY'])\n",
    "new_allwise['K_QUALITY'] = np.where(nok_cond, 2, new_allwise['K_QUALITY'])"
   ]
  },
  {
   "cell_type": "markdown",
   "metadata": {},
   "source": [
    "Now we import the look-up tables from Jarrett+2023 to use"
   ]
  },
  {
   "cell_type": "code",
   "execution_count": 16,
   "metadata": {},
   "outputs": [],
   "source": [
    "e_table = wm.kcorr_table('E')\n",
    "l_table = wm.kcorr_table('L')\n",
    "s_table = wm.kcorr_table('S')"
   ]
  },
  {
   "cell_type": "code",
   "execution_count": 17,
   "metadata": {},
   "outputs": [
    {
     "data": {
      "text/html": [
       "<div>\n",
       "<style scoped>\n",
       "    .dataframe tbody tr th:only-of-type {\n",
       "        vertical-align: middle;\n",
       "    }\n",
       "\n",
       "    .dataframe tbody tr th {\n",
       "        vertical-align: top;\n",
       "    }\n",
       "\n",
       "    .dataframe thead th {\n",
       "        text-align: right;\n",
       "    }\n",
       "</style>\n",
       "<table border=\"1\" class=\"dataframe\">\n",
       "  <thead>\n",
       "    <tr style=\"text-align: right;\">\n",
       "      <th></th>\n",
       "      <th>z</th>\n",
       "      <th>f1</th>\n",
       "      <th>W1-W2</th>\n",
       "      <th>W1-W3</th>\n",
       "      <th>W3-W4</th>\n",
       "      <th>W2-W3</th>\n",
       "    </tr>\n",
       "  </thead>\n",
       "  <tbody>\n",
       "    <tr>\n",
       "      <th>0</th>\n",
       "      <td>0.00050</td>\n",
       "      <td>1.000</td>\n",
       "      <td>-0.000</td>\n",
       "      <td>-0.000</td>\n",
       "      <td>-0.000</td>\n",
       "      <td>-0.000</td>\n",
       "    </tr>\n",
       "    <tr>\n",
       "      <th>1</th>\n",
       "      <td>0.00100</td>\n",
       "      <td>1.000</td>\n",
       "      <td>0.000</td>\n",
       "      <td>0.001</td>\n",
       "      <td>0.000</td>\n",
       "      <td>0.001</td>\n",
       "    </tr>\n",
       "    <tr>\n",
       "      <th>2</th>\n",
       "      <td>0.00150</td>\n",
       "      <td>0.998</td>\n",
       "      <td>0.002</td>\n",
       "      <td>0.001</td>\n",
       "      <td>0.001</td>\n",
       "      <td>-0.001</td>\n",
       "    </tr>\n",
       "    <tr>\n",
       "      <th>3</th>\n",
       "      <td>0.00200</td>\n",
       "      <td>0.995</td>\n",
       "      <td>0.000</td>\n",
       "      <td>0.000</td>\n",
       "      <td>0.001</td>\n",
       "      <td>0.000</td>\n",
       "    </tr>\n",
       "    <tr>\n",
       "      <th>4</th>\n",
       "      <td>0.00250</td>\n",
       "      <td>0.995</td>\n",
       "      <td>0.005</td>\n",
       "      <td>0.002</td>\n",
       "      <td>0.002</td>\n",
       "      <td>-0.003</td>\n",
       "    </tr>\n",
       "    <tr>\n",
       "      <th>...</th>\n",
       "      <td>...</td>\n",
       "      <td>...</td>\n",
       "      <td>...</td>\n",
       "      <td>...</td>\n",
       "      <td>...</td>\n",
       "      <td>...</td>\n",
       "    </tr>\n",
       "    <tr>\n",
       "      <th>827</th>\n",
       "      <td>2.87603</td>\n",
       "      <td>0.043</td>\n",
       "      <td>0.930</td>\n",
       "      <td>1.733</td>\n",
       "      <td>-0.180</td>\n",
       "      <td>0.803</td>\n",
       "    </tr>\n",
       "    <tr>\n",
       "      <th>828</th>\n",
       "      <td>2.90479</td>\n",
       "      <td>0.043</td>\n",
       "      <td>0.941</td>\n",
       "      <td>1.758</td>\n",
       "      <td>-0.180</td>\n",
       "      <td>0.817</td>\n",
       "    </tr>\n",
       "    <tr>\n",
       "      <th>829</th>\n",
       "      <td>2.93384</td>\n",
       "      <td>0.043</td>\n",
       "      <td>0.952</td>\n",
       "      <td>1.783</td>\n",
       "      <td>-0.181</td>\n",
       "      <td>0.831</td>\n",
       "    </tr>\n",
       "    <tr>\n",
       "      <th>830</th>\n",
       "      <td>2.96318</td>\n",
       "      <td>0.043</td>\n",
       "      <td>0.963</td>\n",
       "      <td>1.808</td>\n",
       "      <td>-0.182</td>\n",
       "      <td>0.845</td>\n",
       "    </tr>\n",
       "    <tr>\n",
       "      <th>831</th>\n",
       "      <td>2.99281</td>\n",
       "      <td>0.043</td>\n",
       "      <td>0.973</td>\n",
       "      <td>1.833</td>\n",
       "      <td>-0.182</td>\n",
       "      <td>0.860</td>\n",
       "    </tr>\n",
       "  </tbody>\n",
       "</table>\n",
       "<p>832 rows × 6 columns</p>\n",
       "</div>"
      ],
      "text/plain": [
       "           z     f1  W1-W2  W1-W3  W3-W4  W2-W3\n",
       "0    0.00050  1.000 -0.000 -0.000 -0.000 -0.000\n",
       "1    0.00100  1.000  0.000  0.001  0.000  0.001\n",
       "2    0.00150  0.998  0.002  0.001  0.001 -0.001\n",
       "3    0.00200  0.995  0.000  0.000  0.001  0.000\n",
       "4    0.00250  0.995  0.005  0.002  0.002 -0.003\n",
       "..       ...    ...    ...    ...    ...    ...\n",
       "827  2.87603  0.043  0.930  1.733 -0.180  0.803\n",
       "828  2.90479  0.043  0.941  1.758 -0.180  0.817\n",
       "829  2.93384  0.043  0.952  1.783 -0.181  0.831\n",
       "830  2.96318  0.043  0.963  1.808 -0.182  0.845\n",
       "831  2.99281  0.043  0.973  1.833 -0.182  0.860\n",
       "\n",
       "[832 rows x 6 columns]"
      ]
     },
     "execution_count": 17,
     "metadata": {},
     "output_type": "execute_result"
    }
   ],
   "source": [
    "e_table"
   ]
  },
  {
   "cell_type": "code",
   "execution_count": 18,
   "metadata": {},
   "outputs": [],
   "source": [
    "identifier = np.random.choice(np.arange(10), size=3, replace=False)\n",
    "for idn, sample in zip(identifier,[optimal_sample, suboptimal_sample, nok_sample]):\n",
    "    if len(sample)!=0:\n",
    "        if idn!=identifier[2]:                                                                      #Color k-correction for sample with z<0.5\n",
    "            object_condition = (sample['NED_TYPE']=='RadioS') | (sample['NED_TYPE']=='QSO')\n",
    "\n",
    "            e_index = np.where((sample['T']<=-3) & ~object_condition)[0]\n",
    "            l_index = np.where((sample['T']>-3) & (sample['T']<=0) & ~object_condition)[0]          #Divide samples in Elliptical, Lenticular and Spiral by T value\n",
    "            s_index = np.where((sample['T']>0) & (sample['T']!=no_data) & ~object_condition)[0]\n",
    "\n",
    "            no_type_index = np.where((sample['T']==no_data) & ~object_condition)[0]                 #Sample without T values\n",
    "            w1w2_no_type = sample[no_type_index]['W1-W2_obs']                                      \n",
    "            w2w3_no_type = sample[no_type_index]['W2-W3_obs']  \n",
    "            z_no_type = sample[no_type_index]['Z']                                                    \n",
    "\n",
    "            e_w1_kcorrected = wm.w1_k_corrected(lookup_table=e_table,w1=w1[e_index],z=z[e_index])\n",
    "            l_w1_kcorrected = wm.w1_k_corrected(lookup_table=l_table,w1=w1[l_index],z=z[l_index])   #W1 k-corrected \n",
    "            s_w1_kcorrected = wm.w1_k_corrected(lookup_table=s_table,w1=w1[s_index],z=z[s_index])\n",
    "\n",
    "            e_w2w3_kcor = wm.get_correction_factor(lookup_table=e_table, redshift=sample[e_index]['Z'], correction_factor='W2-W3')\n",
    "            l_w2w3_kcor = wm.get_correction_factor(lookup_table=l_table, redshift=sample[l_index]['Z'], correction_factor='W2-W3')     #W2-W3 k-correction factor\n",
    "            s_w2w3_kcor = wm.get_correction_factor(lookup_table=s_table, redshift=sample[s_index]['Z'], correction_factor='W2-W3')\n",
    "\n",
    "            e_w1w2_kcor = wm.get_correction_factor(lookup_table=e_table, redshift=sample[e_index]['Z'], correction_factor='W1-W2')\n",
    "            l_w1w2_kcor = wm.get_correction_factor(lookup_table=l_table, redshift=sample[l_index]['Z'], correction_factor='W1-W2')     #W1-W2 k-correction factor\n",
    "            s_w1w2_kcor = wm.get_correction_factor(lookup_table=s_table, redshift=sample[s_index]['Z'], correction_factor='W1-W2')\n",
    "\n",
    "            #Both k-correction factors for no type sample, using division by observed W2-W3 color\n",
    "            factor_w2 = 171.787\n",
    "            factor_w3 = 31.674\n",
    "\n",
    "            w2w3_limit = -2.5*(np.log10(factor_w3/factor_w2) + 0.1)                             #Last value is the flux limit from Mateos et al. (2012)\n",
    "\n",
    "            no_type_w1w2_kcor = [\n",
    "                wm.get_correction_factor(lookup_table=e_table, redshift=z, correction_factor='W1-W2') if (color_x<=w2w3_limit)\n",
    "                else wm.get_correction_factor(lookup_table=s_table, redshift=z, correction_factor='W1-W2') if (color_x>w2w3_limit) else 0\n",
    "                for color_x,color_y,z in zip(w2w3_no_type,w1w2_no_type, z_no_type)\n",
    "                ]\n",
    "            no_type_w2w3_kcor = [\n",
    "                wm.get_correction_factor(lookup_table=e_table, redshift=z, correction_factor='W2-W3') if (color_x<=w2w3_limit)\n",
    "                else wm.get_correction_factor(lookup_table=s_table, redshift=z, correction_factor='W2-W3') if (color_x>w2w3_limit)  else 0\n",
    "                for color_x,color_y,z in zip(w2w3_no_type,w1w2_no_type, z_no_type)\n",
    "                ]\n",
    "\n",
    "            no_type_w1_kcorrected = [\n",
    "                wm.w1_k_corrected(lookup_table=e_table,w1=w1[no_type_id],z=np.array([z]))[0] if (color_x<=w2w3_limit)\n",
    "                else wm.w1_k_corrected(lookup_table=s_table,w1=w1[no_type_id],z=np.array([z]))[0] if (color_x>w2w3_limit) else w1[no_type_index]\n",
    "                for color_x,color_y,z,no_type_id in zip(w2w3_no_type,w1w2_no_type, z_no_type, no_type_index)\n",
    "                ]   \n",
    "\n",
    "            e_w1abs_kcorrected = e_w1_kcorrected - wm.distance_modulus_z(sample[e_index]['Z'])[:,None]          #W1 k-correction for e_sources\n",
    "            l_w1abs_kcorrected = l_w1_kcorrected - wm.distance_modulus_z(sample[l_index]['Z'])[:,None]          #W1 k-correction for l_sources\n",
    "            s_w1abs_kcorrected = s_w1_kcorrected - wm.distance_modulus_z(sample[s_index]['Z'])[:,None]          #W1 k-correction for s_sources\n",
    "            no_type_w1abs_kcorrected = no_type_w1_kcorrected - wm.distance_modulus_z(z_no_type)[:,None]   #W1 k-correction for no_type_sources\n",
    "\n",
    "            if np.shape(no_type_w1abs_kcorrected)==(0,0):\n",
    "                no_type_w1abs_kcorrected = no_type_w1abs_kcorrected.reshape(0,1000)\n",
    "\n",
    "            w1w2_kcors[e_index] = e_w1w2_kcor\n",
    "            w1w2_kcors[l_index] = l_w1w2_kcor                   #W1-W2 k-correctrion factors filled\n",
    "            w1w2_kcors[s_index] = s_w1w2_kcor\n",
    "            w1w2_kcors[no_type_index] = no_type_w1w2_kcor\n",
    "\n",
    "            w2w3_kcors[e_index] = e_w2w3_kcor\n",
    "            w2w3_kcors[l_index] = l_w2w3_kcor                   #W2-W3 k-correctrion factors filled\n",
    "            w2w3_kcors[s_index] = s_w2w3_kcor\n",
    "            w2w3_kcors[no_type_index] = no_type_w2w3_kcor\n",
    "\n",
    "            w1abs[e_index] = e_w1abs_kcorrected\n",
    "            w1abs[l_index] = l_w1abs_kcorrected                 #W1abs k-corrected filled\n",
    "            w1abs[s_index] = s_w1abs_kcorrected\n",
    "            w1abs[no_type_index] = no_type_w1abs_kcorrected\n",
    "            \n",
    "        else:\n",
    "            w1abs_kcorrected = w1[np.where(nok_cond)[0]] - wm.distance_modulus_z(z[np.where(nok_cond)[0]])[:,None]\n",
    "            w1abs[np.where(nok_cond)[0]] = w1abs_kcorrected\n",
    "\n",
    "            w1w2_kcors[np.where(nok_cond)[0]] = 0\n",
    "            w2w3_kcors[np.where(nok_cond)[0]] = 0                                        #For sources with z>3, no k-correction is applied\n",
    "    else:\n",
    "        continue"
   ]
  },
  {
   "cell_type": "code",
   "execution_count": 19,
   "metadata": {},
   "outputs": [],
   "source": [
    "w1w2_kcorrected = w1w2_obs - w1w2_kcors[:,None]                                 #Colors for complete slice are applied\n",
    "w2w3_kcorrected = w2w3_obs - w2w3_kcors[:,None]\n",
    "\n",
    "new_allwise['W1-W2_kcor'] = np.median(w1w2_kcorrected, axis=1)                  #Median value is saved in data frame\n",
    "new_allwise['W2-W3_kcor'] = np.median(w2w3_kcorrected, axis=1)\n",
    "\n",
    "w1w2_sat_top = wm.clipping_dist(w1w2_kcorrected, 0.6)                           #W1-W2 is saturated between -0.2 and 0.6 for M/L ratios\n",
    "w1w2_sat_complete = wm.clipping_dist(w1w2_sat_top, -0.2, greater_than=False)"
   ]
  },
  {
   "cell_type": "code",
   "execution_count": 20,
   "metadata": {},
   "outputs": [],
   "source": [
    "del w1w2_obs, w2w3_obs, w1w2_kcorrected, w1w2_sat_top"
   ]
  },
  {
   "cell_type": "markdown",
   "metadata": {},
   "source": [
    "# Use scaling relations and wm.param_montecarlo()\n",
    "\n",
    "Now that all necesary quantities for Stellar mass estimation are ready, one can decide if to use a simple definition (like the one provided in the package) or use the built-in function to vary the parameters. \n",
    "\n",
    "For this, we used the function from Cluver+2014, which is defined as follows:"
   ]
  },
  {
   "cell_type": "code",
   "execution_count": 21,
   "metadata": {},
   "outputs": [],
   "source": [
    "def wise_to_logsm(w1abs, w1w2, resolved=False):\n",
    "    w1_abs_sun = 3.26                   #from Willmer (2018) https://iopscience.iop.org/article/10.3847/1538-4365/aabfdf\n",
    "\n",
    "    log_sm_lw1 = -1.96*w1w2 - 0.03\n",
    "    if resolved:\n",
    "        log_sm_lw1 = -2.54*w1w2 - 0.17\n",
    "    log_lw1 = -0.4*(w1abs-w1_abs_sun)   #from Cluver et al. (2014) https://iopscience.iop.org/article/10.1088/0004-637X/782/2/90\n",
    "    log_sm = log_sm_lw1 + log_lw1\n",
    "    \n",
    "    return log_sm"
   ]
  },
  {
   "cell_type": "markdown",
   "metadata": {},
   "source": [
    "This same exact function is part of WISE2MBH package and here is the intended behavior of it:"
   ]
  },
  {
   "cell_type": "code",
   "execution_count": 22,
   "metadata": {},
   "outputs": [],
   "source": [
    "log_sm = wm.wise_to_logsm(w1abs, w1w2_sat_complete)"
   ]
  },
  {
   "cell_type": "code",
   "execution_count": 23,
   "metadata": {},
   "outputs": [
    {
     "name": "stdout",
     "output_type": "stream",
     "text": [
      "11.036545790738726 11.137075987817761 11.244195035138599\n"
     ]
    },
    {
     "data": {
      "image/png": "[encoded data removed]",
      "text/plain": [
       "<Figure size 640x480 with 1 Axes>"
      ]
     },
     "metadata": {},
     "output_type": "display_data"
    }
   ],
   "source": [
    "plt.hist(log_sm[0],bins=30)\n",
    "\n",
    "nominal = np.median(log_sm[0])\n",
    "sigma_down = np.percentile(log_sm[0],16)\n",
    "sigma_top = np.percentile(log_sm[0],84)\n",
    "\n",
    "print(sigma_down, nominal, sigma_top)"
   ]
  },
  {
   "cell_type": "markdown",
   "metadata": {},
   "source": [
    "But with the use of wm.param_montecarlo() function you can include uncertainties for all parameters, like in this example:"
   ]
  },
  {
   "cell_type": "code",
   "execution_count": 24,
   "metadata": {},
   "outputs": [],
   "source": [
    "def wise_to_logsm(w1abs, w1w2, resolved=False):\n",
    "    w1_abs_sun = 3.26                   #from Willmer (2018) https://iopscience.iop.org/article/10.3847/1538-4365/aabfdf\n",
    "\n",
    "    log_sm_lw1 = wm.param_montecarlo(-1.96,0.8)*w1w2 - wm.param_montecarlo(0.03,0.03) #Fake uncertainties applied\n",
    "    if resolved:\n",
    "        log_sm_lw1 = -2.54*w1w2 - 0.17\n",
    "    log_lw1 = -0.4*(w1abs-w1_abs_sun)   #from Cluver et al. (2014) https://iopscience.iop.org/article/10.1088/0004-637X/782/2/90\n",
    "    log_sm = log_sm_lw1 + log_lw1\n",
    "    \n",
    "    return log_sm"
   ]
  },
  {
   "cell_type": "code",
   "execution_count": 25,
   "metadata": {},
   "outputs": [],
   "source": [
    "log_sm_uncertain = wise_to_logsm(w1abs, w1w2_sat_complete)"
   ]
  },
  {
   "cell_type": "code",
   "execution_count": 26,
   "metadata": {},
   "outputs": [
    {
     "name": "stdout",
     "output_type": "stream",
     "text": [
      "10.81734822545425 11.150502104831642 11.445321140572212\n"
     ]
    },
    {
     "data": {
      "image/png": "[encoded data removed]",
      "text/plain": [
       "<Figure size 640x480 with 1 Axes>"
      ]
     },
     "metadata": {},
     "output_type": "display_data"
    }
   ],
   "source": [
    "plt.hist(log_sm_uncertain[0],bins=30)\n",
    "\n",
    "nominal = np.median(log_sm_uncertain[0])\n",
    "sigma_down = np.percentile(log_sm_uncertain[0],16)\n",
    "sigma_top = np.percentile(log_sm_uncertain[0],84)\n",
    "\n",
    "print(sigma_down, nominal, sigma_top)"
   ]
  },
  {
   "cell_type": "markdown",
   "metadata": {},
   "source": [
    "For every single scaling relation used in this work, one can easily modify the original version to include uncertainties in all parameters by the use of wm.param_montecarlo()"
   ]
  },
  {
   "cell_type": "code",
   "execution_count": 27,
   "metadata": {},
   "outputs": [],
   "source": [
    "new_allwise['logSM'] = np.median(log_sm, axis=1)"
   ]
  },
  {
   "cell_type": "code",
   "execution_count": 28,
   "metadata": {},
   "outputs": [],
   "source": [
    "low_sm = 6.5            \n",
    "high_sm = 13                    #Limit values in log stellar and masking\n",
    "                                                                                \n",
    "log_sm_mask = (new_allwise['logSM']>=low_sm) & (new_allwise['logSM']<=high_sm)"
   ]
  },
  {
   "cell_type": "code",
   "execution_count": 29,
   "metadata": {},
   "outputs": [],
   "source": [
    "log_sm = np.delete(log_sm, np.where(~log_sm_mask)[0], axis=0)       #logsm and w2w3 gaussian arrays are masked by the limits\n",
    "w2w3_kcorrected = np.delete(w2w3_kcorrected, np.where(~log_sm_mask)[0], axis=0)\n",
    "new_allwise = new_allwise[log_sm_mask]"
   ]
  },
  {
   "cell_type": "markdown",
   "metadata": {},
   "source": [
    "# Estimate and Upper limit zone for classification of objects\n",
    "\n",
    "First we will start by selecting the IDs of objects at Estimate and Upper limit zones."
   ]
  },
  {
   "cell_type": "code",
   "execution_count": 30,
   "metadata": {},
   "outputs": [],
   "source": [
    "object_condition = (new_allwise['NED_TYPE']=='RadioS') | (new_allwise['NED_TYPE']=='QSO')\n",
    "color_condition_1 = (new_allwise['W1-W2_kcor']>0.8) & (new_allwise['W2-W3_kcor']<2.2)\n",
    "color_condition_2 = (new_allwise['W1-W2_kcor']>wm.w1w2_treshold_qso(new_allwise['W2-W3_kcor'])) & (new_allwise['W2-W3_kcor']>=2.2) & (new_allwise['W2-W3_kcor']<=4.4)"
   ]
  },
  {
   "cell_type": "markdown",
   "metadata": {},
   "source": [
    "With that conditions, we define the regions (by boolean arrays)"
   ]
  },
  {
   "cell_type": "code",
   "execution_count": 31,
   "metadata": {},
   "outputs": [],
   "source": [
    "new_allwise_estim_cond = ~(object_condition | color_condition_1 | color_condition_2)\n",
    "new_allwise_uplim_cond = object_condition | color_condition_1 | color_condition_2"
   ]
  },
  {
   "cell_type": "markdown",
   "metadata": {},
   "source": [
    "Now we can save the Bulge-to-Total (B/T) value for the upper limits, since this will not change, independent of posterior calculations"
   ]
  },
  {
   "cell_type": "code",
   "execution_count": 32,
   "metadata": {},
   "outputs": [],
   "source": [
    "new_allwise['BT'] = no_data\n",
    "new_allwise['BT'] = np.where(new_allwise_uplim_cond,1, new_allwise['BT'])"
   ]
  },
  {
   "cell_type": "markdown",
   "metadata": {},
   "source": [
    "# Morph. Type (T-Type) estimation using W2-W3 color\n",
    "\n",
    "For objects previously classified as real estimates, a T-Type is needed to calculate the B/T, and that value sis not present or not usable in some cases, so we need to estimate it."
   ]
  },
  {
   "cell_type": "code",
   "execution_count": 33,
   "metadata": {},
   "outputs": [],
   "source": [
    "cond_change_t = (new_allwise_estim_cond) & ((new_allwise['T']==no_data) | (new_allwise['T']>8) | (new_allwise['T']<-5)) #Condition to change morphological value\n",
    "w2w3_to_use = w2w3_kcorrected[np.where(cond_change_t)[0]]                                 #w2w3 is masked once again, now for noQSO that require a new T\n",
    "new_t_value = wm.w2w3_to_morph(w2w3_to_use) "
   ]
  },
  {
   "cell_type": "code",
   "execution_count": 34,
   "metadata": {},
   "outputs": [
    {
     "name": "stdout",
     "output_type": "stream",
     "text": [
      "2.826164095326352 3.6497853980717263 5.40008216547015\n"
     ]
    },
    {
     "data": {
      "image/png": "[encoded data removed]",
      "text/plain": [
       "<Figure size 640x480 with 1 Axes>"
      ]
     },
     "metadata": {},
     "output_type": "display_data"
    }
   ],
   "source": [
    "plt.hist(new_t_value[0],bins=30)\n",
    "\n",
    "nominal = np.median(new_t_value[0])\n",
    "sigma_down = np.percentile(new_t_value[0],16)\n",
    "sigma_top = np.percentile(new_t_value[0],84)\n",
    "\n",
    "print(sigma_down, nominal, sigma_top)"
   ]
  },
  {
   "cell_type": "markdown",
   "metadata": {},
   "source": [
    "In this case, wm.w2w3_to_morph() is defined with single parameters and no montecarlo parameters, but the W2-W3 kcorrected colors are stored as a montecarlo array, so errors are present. One can once again use the wm.param_montecarlo() function to re-define the function to consider fit errors like this:"
   ]
  },
  {
   "cell_type": "code",
   "execution_count": 35,
   "metadata": {},
   "outputs": [],
   "source": [
    "def w2w3_to_morph(color):\n",
    "    if type(color) is list:\n",
    "        color = np.array(color)\n",
    "\n",
    "    params = [0.745953333333333, 2.7095333333333333]\n",
    "    params_mc = [1.20656567, 1.36157769]\n",
    "    color_desp_norm = (color-params[0])/params[1]\n",
    "    t_value = wm.param_montecarlo(params_mc[0],0.01)*logit(color_desp_norm)+wm.param_montecarlo(params_mc[1],0.02)\n",
    "\n",
    "    t_value = np.where((t_value<-5) | (color_desp_norm<=0), -5, t_value)\n",
    "    t_value = np.where((t_value>8) | (color_desp_norm>=1), 8, t_value)\n",
    "\n",
    "    return t_value"
   ]
  },
  {
   "cell_type": "code",
   "execution_count": 36,
   "metadata": {},
   "outputs": [],
   "source": [
    "new_t_value_uncertain = wm.w2w3_to_morph(w2w3_to_use) "
   ]
  },
  {
   "cell_type": "code",
   "execution_count": 37,
   "metadata": {},
   "outputs": [
    {
     "name": "stdout",
     "output_type": "stream",
     "text": [
      "2.826164095326352 3.6497853980717263 5.40008216547015\n"
     ]
    },
    {
     "data": {
      "image/png": "[encoded data removed]",
      "text/plain": [
       "<Figure size 640x480 with 1 Axes>"
      ]
     },
     "metadata": {},
     "output_type": "display_data"
    }
   ],
   "source": [
    "plt.hist(new_t_value_uncertain[0],bins=30)\n",
    "\n",
    "nominal = np.median(new_t_value_uncertain[0])\n",
    "sigma_down = np.percentile(new_t_value_uncertain[0],16)\n",
    "sigma_top = np.percentile(new_t_value_uncertain[0],84)\n",
    "\n",
    "print(sigma_down, nominal, sigma_top)"
   ]
  },
  {
   "cell_type": "markdown",
   "metadata": {},
   "source": [
    "In this case, fit errors are so low that the changes are negligible.\n",
    "\n",
    "Next step is to replace T-Types to use in the original T-Types provided, for that we must generate a montecarlo array with all provided values and sigma zero, and then replace in that array our estimated T-Types"
   ]
  },
  {
   "cell_type": "code",
   "execution_count": 38,
   "metadata": {},
   "outputs": [],
   "source": [
    "t_value_dist = wm.array_montecarlo(new_allwise['T'], np.zeros(len(new_allwise['T'])))  #Gaussians of every T value\n",
    "t_value_dist[cond_change_t] = new_t_value"
   ]
  },
  {
   "cell_type": "code",
   "execution_count": 39,
   "metadata": {},
   "outputs": [],
   "source": [
    "new_allwise['T_USED'] = -99                                                                                                  #T values selected are changed\n",
    "new_allwise['T_USED'] = np.where(new_allwise_estim_cond, np.median(t_value_dist, axis=1), new_allwise['T_USED'])\n",
    "\n",
    "new_allwise['T_QUALITY'] = 0\n",
    "new_allwise['T_QUALITY'] = np.where(cond_change_t, 1, new_allwise['T_QUALITY'])\n",
    "new_allwise['T_QUALITY'] = np.where(new_allwise_uplim_cond, 2, new_allwise['T_QUALITY'])"
   ]
  },
  {
   "cell_type": "markdown",
   "metadata": {},
   "source": [
    "# BT from T-Type using exponential relation\n",
    "\n",
    "Once again, the formula provided here, wm.morph_to_bulge_ratio() use single parameters, but it can be redefined to use wm.param_montecarlo() to include fit errors"
   ]
  },
  {
   "cell_type": "code",
   "execution_count": 40,
   "metadata": {},
   "outputs": [],
   "source": [
    "bulge_frac = wm.morph_to_bulge_ratio(t_value_dist)                                               #Bulge fractions are calculated for noQSO using the T value"
   ]
  },
  {
   "cell_type": "code",
   "execution_count": 41,
   "metadata": {},
   "outputs": [
    {
     "name": "stdout",
     "output_type": "stream",
     "text": [
      "0.17473712808470263 0.22559199645335973 0.2563285623994096\n"
     ]
    },
    {
     "data": {
      "image/png": "[encoded data removed]",
      "text/plain": [
       "<Figure size 640x480 with 1 Axes>"
      ]
     },
     "metadata": {},
     "output_type": "display_data"
    }
   ],
   "source": [
    "plt.hist(bulge_frac[0],bins=30)\n",
    "\n",
    "nominal = np.median(bulge_frac[0])\n",
    "sigma_down = np.percentile(bulge_frac[0],16)\n",
    "sigma_top = np.percentile(bulge_frac[0],84)\n",
    "\n",
    "print(sigma_down, nominal, sigma_top)"
   ]
  },
  {
   "cell_type": "code",
   "execution_count": 51,
   "metadata": {},
   "outputs": [],
   "source": [
    "def morph_to_bulge_ratio(t_value):\n",
    "    values = [0.35777546, 7.72843881, 0.09658478, 0.05159308]\n",
    "\n",
    "    values_mc = [wm.param_montecarlo(val,0.01) for val in values]\n",
    "\n",
    "    b_ratio =  values_mc[3] + values_mc[0]*(values_mc[1]**(-values_mc[2]*t_value))\n",
    "    b_ratio[b_ratio>1] = 1\n",
    "    b_ratio[b_ratio<0.01] = 0.01    #we have to include this to not consider negative or null bulge ratios\n",
    "\n",
    "    return b_ratio"
   ]
  },
  {
   "cell_type": "code",
   "execution_count": 52,
   "metadata": {},
   "outputs": [],
   "source": [
    "bulge_frac_uncertain = morph_to_bulge_ratio(t_value_dist)                                               #Bulge fractions are calculated for noQSO using the T value"
   ]
  },
  {
   "cell_type": "code",
   "execution_count": 53,
   "metadata": {},
   "outputs": [
    {
     "name": "stdout",
     "output_type": "stream",
     "text": [
      "0.1733780685450935 0.22831438556877895 0.26059349947428606\n"
     ]
    },
    {
     "data": {
      "image/png": "[encoded data removed]",
      "text/plain": [
       "<Figure size 640x480 with 1 Axes>"
      ]
     },
     "metadata": {},
     "output_type": "display_data"
    }
   ],
   "source": [
    "plt.hist(bulge_frac_uncertain[0],bins=30)\n",
    "\n",
    "nominal = np.median(bulge_frac_uncertain[0])\n",
    "sigma_down = np.percentile(bulge_frac_uncertain[0],16)\n",
    "sigma_top = np.percentile(bulge_frac_uncertain[0],84)\n",
    "\n",
    "print(sigma_down, nominal, sigma_top)"
   ]
  },
  {
   "cell_type": "markdown",
   "metadata": {},
   "source": [
    "In this specific case, the inclusion of fit errors can generate smoother distributions or completely ruin the estimted BT"
   ]
  },
  {
   "cell_type": "code",
   "execution_count": 56,
   "metadata": {},
   "outputs": [],
   "source": [
    "new_allwise['BT'] = np.where(new_allwise_estim_cond, np.median(bulge_frac, axis=1), new_allwise['BT'])"
   ]
  },
  {
   "cell_type": "markdown",
   "metadata": {},
   "source": [
    "Now we need to create a montecarlo array full of ones with zero errors and replace the calculated BTs on it, to consider both Estimates and Upper Limits for final calculations"
   ]
  },
  {
   "cell_type": "code",
   "execution_count": 63,
   "metadata": {},
   "outputs": [],
   "source": [
    "bf_all = wm.array_montecarlo(np.ones(len(new_allwise)), np.zeros(len(new_allwise)))    #Bulge ratios are overwritten and its median is saved\n",
    "bf_all[new_allwise_estim_cond] = bulge_frac[new_allwise_estim_cond]"
   ]
  },
  {
   "cell_type": "markdown",
   "metadata": {},
   "source": [
    "With the BT calculated for every source, now the Bulge Mass can be calculated"
   ]
  },
  {
   "cell_type": "code",
   "execution_count": 68,
   "metadata": {},
   "outputs": [],
   "source": [
    "log_bm = np.log10(bf_all) + log_sm"
   ]
  },
  {
   "cell_type": "markdown",
   "metadata": {},
   "source": [
    "Now with the Bulge Mass calculated, the relation from Schutte+2019 can be used. In this case, since that relation include intrinsic scatter, we do not provide a formula with single parameters, since the only right way to use that relation is with montercarlo parameters as follow:"
   ]
  },
  {
   "cell_type": "code",
   "execution_count": 72,
   "metadata": {},
   "outputs": [],
   "source": [
    "def bulge_to_mbh(log_bm): \n",
    "    param1 = wm.param_montecarlo(1.24,0.08)\n",
    "    param2 = wm.param_montecarlo(8.8,0.09)\n",
    "    sct = wm.param_montecarlo(0,0.68)\n",
    "\n",
    "    log_mbh = param1*(log_bm - 11) + param2 + sct\n",
    "    return log_mbh"
   ]
  },
  {
   "cell_type": "code",
   "execution_count": 73,
   "metadata": {},
   "outputs": [],
   "source": [
    "log_mbh = bulge_to_mbh(log_bm)"
   ]
  },
  {
   "cell_type": "markdown",
   "metadata": {},
   "source": [
    "At this stage, this is a first MBH estimation that needs to be compensated using the compensation factor."
   ]
  },
  {
   "cell_type": "code",
   "execution_count": 74,
   "metadata": {},
   "outputs": [],
   "source": [
    "comp_mbh = wm.comp_mbh(log_mbh)"
   ]
  },
  {
   "cell_type": "code",
   "execution_count": 75,
   "metadata": {},
   "outputs": [
    {
     "name": "stdout",
     "output_type": "stream",
     "text": [
      "7.819231630075738 8.435146964923039 9.04923738923678\n"
     ]
    },
    {
     "data": {
      "image/png": "[encoded data removed]",
      "text/plain": [
       "<Figure size 640x480 with 1 Axes>"
      ]
     },
     "metadata": {},
     "output_type": "display_data"
    }
   ],
   "source": [
    "plt.hist(comp_mbh[0],bins=30)\n",
    "\n",
    "nominal = np.median(comp_mbh[0])\n",
    "sigma_down = np.percentile(comp_mbh[0],16)\n",
    "sigma_top = np.percentile(comp_mbh[0],84)\n",
    "\n",
    "print(sigma_down, nominal, sigma_top)"
   ]
  },
  {
   "cell_type": "markdown",
   "metadata": {},
   "source": [
    "Now all values of compensated MBHs are stored in the new_allwise table"
   ]
  },
  {
   "cell_type": "code",
   "execution_count": 76,
   "metadata": {},
   "outputs": [],
   "source": [
    "new_allwise['logMBH'] = np.median(comp_mbh, axis=1)          #16, 50 and 84 percentile values saved for final MBH\n",
    "new_allwise['low_logMBH'], new_allwise['high_logMBH'] = np.percentile(comp_mbh, [16,84], axis=1)[0], np.percentile(comp_mbh, [16,84], axis=1)[-1]"
   ]
  },
  {
   "cell_type": "markdown",
   "metadata": {},
   "source": [
    "Finally, we store all flags and create the final 7-digit quality flag"
   ]
  },
  {
   "cell_type": "code",
   "execution_count": 78,
   "metadata": {},
   "outputs": [],
   "source": [
    "new_allwise['MBHWISEUPLIM'] = 0\n",
    "new_allwise['MBHWISEUPLIM'] = np.where(new_allwise_uplim_cond, 1, new_allwise['MBHWISEUPLIM'])"
   ]
  },
  {
   "cell_type": "code",
   "execution_count": 86,
   "metadata": {},
   "outputs": [],
   "source": [
    "phot_info = [x[:-1] for x in new_allwise['qph']]\n",
    "ex_info = new_allwise['ex']                             #Photometric quality, extention flag and uplim are combined in one string\n",
    "mbh_info = new_allwise['MBHWISEUPLIM'].astype(str)\n",
    "k_quality = new_allwise['K_QUALITY'].astype(str)\n",
    "t_quality = new_allwise['T_QUALITY'].astype(str)\n",
    "\n",
    "quality_flag = []\n",
    "for i in np.arange(len(phot_info)):\n",
    "    str_info = phot_info[i] + ex_info[i] + mbh_info[i] + k_quality[i] + t_quality[i]\n",
    "    quality_flag.append(str_info)\n",
    "\n",
    "new_allwise['QF'] = quality_flag "
   ]
  },
  {
   "cell_type": "markdown",
   "metadata": {},
   "source": [
    "Now that all columns are created, the final table is ready to depure by MBH outliers and Reject zone"
   ]
  },
  {
   "cell_type": "code",
   "execution_count": 89,
   "metadata": {},
   "outputs": [],
   "source": [
    "mbh_non_outliers = new_allwise['logMBH']>=5\n",
    "non_reject_sources = new_allwise['W2-W3_kcor']<=4.4\n",
    "\n",
    "final_allwise = new_allwise[mbh_non_outliers & non_reject_sources]"
   ]
  },
  {
   "cell_type": "code",
   "execution_count": 90,
   "metadata": {},
   "outputs": [
    {
     "data": {
      "text/html": [
       "<div><i>Table length=881</i>\n",
       "<table id=\"table139897552020496\" class=\"table-striped table-bordered table-condensed\">\n",
       "<thead><tr><th>ONAME</th><th>RA</th><th>DEC</th><th>Z</th><th>T</th><th>NED_TYPE</th><th>AllWISE</th><th>RAJ2000</th><th>DEJ2000</th><th>eeMaj</th><th>eeMin</th><th>eePA</th><th>W1mag</th><th>W2mag</th><th>W3mag</th><th>W4mag</th><th>Jmag</th><th>Hmag</th><th>Kmag</th><th>e_W1mag</th><th>e_W2mag</th><th>e_W3mag</th><th>e_W4mag</th><th>e_Jmag</th><th>e_Hmag</th><th>e_Kmag</th><th>ID</th><th>ccf</th><th>ex</th><th>var</th><th>qph</th><th>pmRA</th><th>e_pmRA</th><th>pmDE</th><th>e_pmDE</th><th>d2M</th><th>angDist</th><th>W1-W2_obs</th><th>W2-W3_obs</th><th>K_QUALITY</th><th>W1-W2_kcor</th><th>W2-W3_kcor</th><th>logSM</th><th>BT</th><th>T_USED</th><th>T_QUALITY</th><th>logMBH</th><th>low_logMBH</th><th>high_logMBH</th><th>MBHWISEUPLIM</th><th>QF</th></tr></thead>\n",
       "<thead><tr><th>bytes107</th><th>float64</th><th>float64</th><th>float64</th><th>float64</th><th>bytes7</th><th>bytes19</th><th>float64</th><th>float64</th><th>float32</th><th>float32</th><th>float32</th><th>float32</th><th>float32</th><th>float32</th><th>float32</th><th>float32</th><th>float32</th><th>float32</th><th>float32</th><th>float32</th><th>float32</th><th>float32</th><th>float32</th><th>float32</th><th>float32</th><th>int64</th><th>bytes4</th><th>bytes1</th><th>bytes4</th><th>bytes4</th><th>int32</th><th>int32</th><th>int32</th><th>int32</th><th>float32</th><th>float64</th><th>float32</th><th>float32</th><th>int64</th><th>float64</th><th>float64</th><th>float64</th><th>float64</th><th>float64</th><th>int64</th><th>float64</th><th>float64</th><th>float64</th><th>int64</th><th>str7</th></tr></thead>\n",
       "<tr><td>SDSSJ093215.51+101250.6</td><td>143.0646405</td><td>10.2140698</td><td>0.20331067</td><td>9876543.0</td><td>Unknown</td><td>J093215.51+101250.6</td><td>143.0646387</td><td>10.2140807</td><td>0.0683</td><td>0.066</td><td>165.3</td><td>14.425</td><td>14.065</td><td>11.846</td><td>8.281</td><td>16.427</td><td>15.673</td><td>14.885</td><td>0.03</td><td>0.042</td><td>0.275</td><td>--</td><td>0.161</td><td>0.174</td><td>0.14</td><td>1430110601351018115</td><td>0000</td><td>0</td><td>11nn</td><td>AABU</td><td>-180</td><td>162</td><td>-172</td><td>172</td><td>0.176</td><td>0.039705</td><td>0.3600006</td><td>2.2189999</td><td>0</td><td>0.36309594726079025</td><td>3.101862588102523</td><td>11.137075987817761</td><td>0.22559199645335973</td><td>3.6497853980717263</td><td>1</td><td>8.435146964923039</td><td>7.819231630075738</td><td>9.04923738923678</td><td>0</td><td>AAB0001</td></tr>\n",
       "<tr><td>SDSS3087294031638587392</td><td>206.20752</td><td>16.4058</td><td>0.17861924</td><td>-5.0</td><td>Galaxy</td><td>J134449.80+162420.8</td><td>206.2075163</td><td>16.4058028</td><td>0.0519</td><td>0.0506</td><td>2.9</td><td>13.705</td><td>13.425</td><td>12.489</td><td>8.903</td><td>15.756</td><td>14.843</td><td>14.472</td><td>0.026</td><td>0.03</td><td>0.386</td><td>--</td><td>0.081</td><td>0.081</td><td>0.091</td><td>2059116601351020742</td><td>0000</td><td>0</td><td>00nn</td><td>AACU</td><td>-91</td><td>71</td><td>103</td><td>76</td><td>0.071</td><td>0.01621</td><td>0.27999973</td><td>0.9359999</td><td>0</td><td>0.27943584900309665</td><td>1.7717802184099132</td><td>11.591649986443548</td><td>1.0</td><td>-5.0</td><td>0</td><td>9.581358653618647</td><td>8.980164044097728</td><td>10.196557873494767</td><td>0</td><td>AAC0000</td></tr>\n",
       "<tr><td>SDSSJ012106.59+124434.9</td><td>20.27748</td><td>12.7430536</td><td>0.49656665</td><td>9876543.0</td><td>Unknown</td><td>J012106.59+124435.0</td><td>20.2774827</td><td>12.7430661</td><td>0.1179</td><td>0.1115</td><td>152.6</td><td>15.52</td><td>15.48</td><td>11.959</td><td>9.048</td><td>--</td><td>--</td><td>--</td><td>0.043</td><td>0.107</td><td>0.0</td><td>--</td><td>--</td><td>--</td><td>--</td><td>200112101351050465</td><td>0000</td><td>0</td><td>0nnn</td><td>AAUU</td><td>391</td><td>338</td><td>-136</td><td>350</td><td>--</td><td>0.045926</td><td>0.040000916</td><td>3.521</td><td>0</td><td>0.046345018402305156</td><td>4.37611838767024</td><td>11.317930036716774</td><td>0.12528185906676714</td><td>8.0</td><td>1</td><td>8.374930965184205</td><td>7.747344417088712</td><td>9.032106943241274</td><td>0</td><td>AAU0001</td></tr>\n",
       "<tr><td>SDSSJ131545.36+595248.0</td><td>198.9390165</td><td>59.8800001</td><td>0.49351</td><td>9876543.0</td><td>Unknown</td><td>J131545.36+595247.9</td><td>198.9390073</td><td>59.8799894</td><td>0.0989</td><td>0.0929</td><td>22.5</td><td>15.52</td><td>15.618</td><td>12.415</td><td>9.224</td><td>--</td><td>--</td><td>--</td><td>0.036</td><td>0.097</td><td>0.0</td><td>--</td><td>--</td><td>--</td><td>--</td><td>1980160501351000158</td><td>0000</td><td>0</td><td>0nnn</td><td>AAUU</td><td>506</td><td>281</td><td>156</td><td>295</td><td>--</td><td>0.042013</td><td>-0.09799957</td><td>3.203</td><td>0</td><td>-0.09578563168621462</td><td>4.06163536807925</td><td>11.600947312045893</td><td>0.12528185906676714</td><td>8.0</td><td>1</td><td>8.69725978942462</td><td>8.00340032159719</td><td>9.317801502526963</td><td>0</td><td>AAU0001</td></tr>\n",
       "<tr><td>SDSSJ115323.71+162102.8</td><td>178.3488165</td><td>16.3507913</td><td>0.28440365</td><td>9876543.0</td><td>Unknown</td><td>J115323.71+162102.8</td><td>178.3488044</td><td>16.3507928</td><td>0.0785</td><td>0.0742</td><td>6.5</td><td>14.777</td><td>14.519</td><td>12.589</td><td>9.152</td><td>16.708</td><td>16.26</td><td>15.389</td><td>0.033</td><td>0.055</td><td>0.0</td><td>--</td><td>0.129</td><td>0.178</td><td>0.122</td><td>1776116601351024506</td><td>0000</td><td>0</td><td>00nn</td><td>AAUU</td><td>-178</td><td>188</td><td>130</td><td>205</td><td>0.278</td><td>0.042313</td><td>0.25800037</td><td>1.9300003</td><td>0</td><td>0.07867727114092787</td><td>2.3655965219674715</td><td>11.248672619814354</td><td>0.30037709209351426</td><td>1.8395332998996348</td><td>1</td><td>8.682527510090146</td><td>8.084235698347372</td><td>9.322062908971988</td><td>0</td><td>AAU0001</td></tr>\n",
       "<tr><td>WISEAJ230830.78-101521.8</td><td>347.1282888231</td><td>-10.2560719241</td><td>0.30194232</td><td>9876543.0</td><td>Unknown</td><td>J230830.78-101521.8</td><td>347.1282909</td><td>-10.256075</td><td>0.0715</td><td>0.0682</td><td>125.3</td><td>14.253</td><td>14.154</td><td>12.135</td><td>8.241</td><td>16.595</td><td>15.555</td><td>15.109</td><td>0.03</td><td>0.052</td><td>0.0</td><td>--</td><td>0.112</td><td>0.134</td><td>0.149</td><td>3476010701351040131</td><td>0000</td><td>0</td><td>nnnn</td><td>AAUU</td><td>315</td><td>176</td><td>-567</td><td>180</td><td>0.055</td><td>0.013352</td><td>0.09899998</td><td>2.019</td><td>0</td><td>-0.07232365894038673</td><td>2.4953687645362903</td><td>11.791615365592197</td><td>0.2885802876403891</td><td>2.085494022660647</td><td>1</td><td>9.238404468686092</td><td>8.630993980273466</td><td>9.824071869932755</td><td>0</td><td>AAU0001</td></tr>\n",
       "<tr><td>SDSSJ231520.12+185234.1</td><td>348.833856</td><td>18.876146</td><td>0.36197</td><td>9876543.0</td><td>Unknown</td><td>J231520.12+185234.1</td><td>348.8338591</td><td>18.8761554</td><td>0.0859</td><td>0.0808</td><td>144.1</td><td>14.969</td><td>14.741</td><td>12.153</td><td>8.941</td><td>--</td><td>--</td><td>--</td><td>0.034</td><td>0.069</td><td>0.0</td><td>--</td><td>--</td><td>--</td><td>--</td><td>3488118101351053909</td><td>0000</td><td>0</td><td>00nn</td><td>AAUU</td><td>69</td><td>236</td><td>-45</td><td>246</td><td>--</td><td>0.035354</td><td>0.22799969</td><td>2.5880003</td><td>0</td><td>0.09007580628919837</td><td>3.205368128525059</td><td>11.295700561671048</td><td>0.210176442940394</td><td>4.11947763736143</td><td>1</td><td>8.577678614815811</td><td>7.950390420229247</td><td>9.208899731926518</td><td>0</td><td>AAU0001</td></tr>\n",
       "<tr><td>WISEAJ202218.76-525829.2</td><td>305.5781992</td><td>-52.974803</td><td>0.3</td><td>9876543.0</td><td>Unknown</td><td>J202218.76-525829.2</td><td>305.5781806</td><td>-52.9748004</td><td>0.0394</td><td>0.0379</td><td>86.4</td><td>12.951</td><td>12.064</td><td>9.129</td><td>6.179</td><td>15.928</td><td>15.273</td><td>14.28</td><td>0.024</td><td>0.022</td><td>0.035</td><td>0.05</td><td>0.107</td><td>0.124</td><td>0.083</td><td>3057053101351031803</td><td>0000</td><td>0</td><td>1100</td><td>AAAA</td><td>75</td><td>49</td><td>-148</td><td>50</td><td>0.061</td><td>0.041489</td><td>0.8870001</td><td>2.9350004</td><td>2</td><td>0.886707644290615</td><td>2.9338205810001705</td><td>11.333529343458885</td><td>1.0</td><td>-99.0</td><td>2</td><td>9.302789505353708</td><td>8.728900078231877</td><td>9.922744944427317</td><td>1</td><td>AAA0122</td></tr>\n",
       "<tr><td>J0857+8603</td><td>134.4231478691101</td><td>86.06236279169718</td><td>0.2</td><td>9876543.0</td><td>RS</td><td>J085741.57+860344.5</td><td>134.4232402</td><td>86.0623679</td><td>0.0543</td><td>0.0525</td><td>1.9</td><td>14.689</td><td>13.838</td><td>11.439</td><td>8.776</td><td>--</td><td>--</td><td>--</td><td>0.028</td><td>0.03</td><td>0.134</td><td>--</td><td>--</td><td>--</td><td>--</td><td>1399186301351014480</td><td>0000</td><td>0</td><td>21nn</td><td>AABU</td><td>-75</td><td>108</td><td>-147</td><td>116</td><td>--</td><td>0.029345</td><td>0.85099983</td><td>2.3990002</td><td>2</td><td>0.8494100668405249</td><td>2.3918623704893482</td><td>10.2545007169613</td><td>1.0</td><td>-99.0</td><td>2</td><td>8.20360302044829</td><td>7.616960373024322</td><td>8.813584814858586</td><td>1</td><td>AAB0122</td></tr>\n",
       "<tr><td>SDSSJ093150.24+492152.5</td><td>142.959354</td><td>49.364587</td><td>0.40066</td><td>9876543.0</td><td>Unknown</td><td>J093150.24+492152.5</td><td>142.9593461</td><td>49.3645856</td><td>0.0879</td><td>0.0808</td><td>171.8</td><td>15.026</td><td>14.859</td><td>11.856</td><td>8.596</td><td>--</td><td>--</td><td>--</td><td>0.034</td><td>0.063</td><td>0.0</td><td>--</td><td>--</td><td>--</td><td>--</td><td>1439149901351010702</td><td>0000</td><td>0</td><td>nnnn</td><td>AAUU</td><td>-510</td><td>196</td><td>617</td><td>216</td><td>--</td><td>0.019315</td><td>0.16699982</td><td>3.0030003</td><td>0</td><td>0.010083318877951358</td><td>3.5559509980952795</td><td>11.382834002556972</td><td>0.12528185906676714</td><td>8.0</td><td>1</td><td>8.44125581045452</td><td>7.847705757467292</td><td>9.091989243981873</td><td>0</td><td>AAU0001</td></tr>\n",
       "<tr><td>...</td><td>...</td><td>...</td><td>...</td><td>...</td><td>...</td><td>...</td><td>...</td><td>...</td><td>...</td><td>...</td><td>...</td><td>...</td><td>...</td><td>...</td><td>...</td><td>...</td><td>...</td><td>...</td><td>...</td><td>...</td><td>...</td><td>...</td><td>...</td><td>...</td><td>...</td><td>...</td><td>...</td><td>...</td><td>...</td><td>...</td><td>...</td><td>...</td><td>...</td><td>...</td><td>...</td><td>...</td><td>...</td><td>...</td><td>...</td><td>...</td><td>...</td><td>...</td><td>...</td><td>...</td><td>...</td><td>...</td><td>...</td><td>...</td><td>...</td><td>...</td></tr>\n",
       "<tr><td>WISEAJ100929.71-291000.0</td><td>152.3738262</td><td>-29.1666761</td><td>0.3</td><td>9876543.0</td><td>Unknown</td><td>J100929.71-291000.0</td><td>152.3738261</td><td>-29.1666761</td><td>0.1097</td><td>0.1016</td><td>17.7</td><td>15.746</td><td>14.735</td><td>11.714</td><td>8.729</td><td>--</td><td>--</td><td>--</td><td>0.045</td><td>0.056</td><td>0.196</td><td>--</td><td>--</td><td>--</td><td>--</td><td>1525028801351018270</td><td>0000</td><td>1</td><td>00nn</td><td>AABU</td><td>196</td><td>366</td><td>-101</td><td>392</td><td>--</td><td>0.00017</td><td>1.0110006</td><td>3.021</td><td>2</td><td>1.0139713792839489</td><td>3.022898808204113</td><td>10.223973683999056</td><td>1.0</td><td>-99.0</td><td>2</td><td>8.175430549236161</td><td>7.559994816543501</td><td>8.799317447506871</td><td>1</td><td>AAB1122</td></tr>\n",
       "<tr><td>SDSS838882055021422592</td><td>349.33392</td><td>14.64887</td><td>0.15009443</td><td>9876543.0</td><td>Galaxy</td><td>J231720.13+143855.9</td><td>349.3339151</td><td>14.6488641</td><td>0.0568</td><td>0.0548</td><td>116.1</td><td>14.061</td><td>13.452</td><td>10.729</td><td>8.246</td><td>--</td><td>--</td><td>--</td><td>0.026</td><td>0.035</td><td>0.103</td><td>0.342</td><td>--</td><td>--</td><td>--</td><td>3490115101351002694</td><td>0000</td><td>0</td><td>000n</td><td>AAAB</td><td>9</td><td>169</td><td>26</td><td>159</td><td>--</td><td>0.027243</td><td>0.6090002</td><td>2.7229996</td><td>2</td><td>0.6093527952623274</td><td>2.722151530817994</td><td>10.211001389444512</td><td>1.0</td><td>-99.0</td><td>2</td><td>8.168762375448814</td><td>7.578843202596164</td><td>8.76898385919205</td><td>1</td><td>AAA0122</td></tr>\n",
       "<tr><td>SDSSJ16258+1942</td><td>246.47444</td><td>19.71403</td><td>0.314</td><td>-9.0</td><td>QSO</td><td>J162553.86+194250.4</td><td>246.4744333</td><td>19.7140225</td><td>0.0434</td><td>0.0424</td><td>123.6</td><td>13.735</td><td>12.756</td><td>10.247</td><td>7.806</td><td>16.956</td><td>16.005</td><td>15.408</td><td>0.118</td><td>0.023</td><td>0.057</td><td>0.149</td><td>--</td><td>--</td><td>0.145</td><td>2464119601351028388</td><td>hh00</td><td>1</td><td>210n</td><td>BAAB</td><td>-177</td><td>73</td><td>-211</td><td>79</td><td>0.338</td><td>0.035225</td><td>0.9790001</td><td>2.5089998</td><td>2</td><td>0.9736570983276911</td><td>2.5096259323867827</td><td>11.074140660808958</td><td>1.0</td><td>-99.0</td><td>2</td><td>9.053312032074832</td><td>8.355176708697163</td><td>9.729267797558732</td><td>1</td><td>BAA1122</td></tr>\n",
       "<tr><td>SDSSJ080524.08+374728.4</td><td>121.350357</td><td>37.791244</td><td>0.387</td><td>-9.0</td><td>Unknown</td><td>J080524.08+374728.4</td><td>121.3503616</td><td>37.7912452</td><td>0.0703</td><td>0.0666</td><td>6.4</td><td>14.82</td><td>13.742</td><td>11.145</td><td>8.612</td><td>--</td><td>--</td><td>--</td><td>0.034</td><td>0.037</td><td>0.135</td><td>0.377</td><td>--</td><td>--</td><td>--</td><td>1212137801351031598</td><td>0000</td><td>0</td><td>00nn</td><td>AABC</td><td>247</td><td>214</td><td>372</td><td>220</td><td>--</td><td>0.013767</td><td>1.0780001</td><td>2.5969992</td><td>2</td><td>1.0803686538406767</td><td>2.599827480594735</td><td>10.855393160028566</td><td>1.0</td><td>-99.0</td><td>2</td><td>8.8326334899389</td><td>8.228613474885684</td><td>9.441648185080883</td><td>1</td><td>AAB0122</td></tr>\n",
       "<tr><td>LAMOSTJ010539.84+064404.3</td><td>16.41602145518</td><td>6.73456182622</td><td>0.338</td><td>-9.0</td><td>Unknown</td><td>J010539.84+064404.3</td><td>16.4160179</td><td>6.7345494</td><td>0.0627</td><td>0.0604</td><td>137.5</td><td>14.573</td><td>13.436</td><td>10.371</td><td>7.783</td><td>--</td><td>--</td><td>--</td><td>0.031</td><td>0.033</td><td>0.096</td><td>0.201</td><td>--</td><td>--</td><td>--</td><td>167106001351061310</td><td>0000</td><td>0</td><td>011n</td><td>AAAB</td><td>100</td><td>218</td><td>-96</td><td>223</td><td>--</td><td>0.046504</td><td>1.1370001</td><td>3.0649996</td><td>2</td><td>1.1358118888578037</td><td>3.0648508288329035</td><td>10.807799384610409</td><td>1.0</td><td>-99.0</td><td>2</td><td>8.764456583741193</td><td>8.173383415005716</td><td>9.391781476952948</td><td>1</td><td>AAA0122</td></tr>\n",
       "<tr><td>SDSS221126.75+124458.2</td><td>332.86149</td><td>12.7495</td><td>0.4859</td><td>-9.0</td><td>QSO</td><td>J221126.75+124458.2</td><td>332.8614831</td><td>12.7495013</td><td>0.0496</td><td>0.0478</td><td>118.6</td><td>13.872</td><td>12.733</td><td>10.245</td><td>7.864</td><td>16.572</td><td>16.086</td><td>15.059</td><td>0.027</td><td>0.027</td><td>0.078</td><td>0.235</td><td>0.116</td><td>0.192</td><td>0.115</td><td>3321112101351049878</td><td>0000</td><td>0</td><td>110n</td><td>AAAB</td><td>17</td><td>140</td><td>-303</td><td>134</td><td>0.223</td><td>0.024677</td><td>1.1389999</td><td>2.488</td><td>2</td><td>1.1402958870563626</td><td>2.4873403703945813</td><td>11.468968126239943</td><td>1.0</td><td>-99.0</td><td>2</td><td>9.452631799506158</td><td>8.845550998876526</td><td>10.054135562394968</td><td>1</td><td>AAA0122</td></tr>\n",
       "<tr><td>WISEAJ042950.23-610358.8</td><td>67.4592985</td><td>-61.066334</td><td>0.2</td><td>9876543.0</td><td>Unknown</td><td>J042950.23-610358.8</td><td>67.4592985</td><td>-61.066334</td><td>0.0902</td><td>0.0844</td><td>117.1</td><td>15.982</td><td>15.004</td><td>12.306</td><td>8.994</td><td>--</td><td>--</td><td>--</td><td>0.04</td><td>0.045</td><td>0.208</td><td>--</td><td>--</td><td>--</td><td>--</td><td>660060601351000372</td><td>0000</td><td>0</td><td>00nn</td><td>AABU</td><td>-6</td><td>231</td><td>110</td><td>222</td><td>--</td><td>3.6e-05</td><td>0.97800064</td><td>2.698</td><td>2</td><td>0.9783944131381936</td><td>2.6781252192267226</td><td>9.718835903148513</td><td>1.0</td><td>-99.0</td><td>2</td><td>7.6390924258421435</td><td>7.064679738800037</td><td>8.28112624524085</td><td>1</td><td>AAB0122</td></tr>\n",
       "<tr><td>WISEAJ152749.95+595645.4</td><td>231.949757</td><td>59.943882</td><td>0.28357166</td><td>-9.0</td><td>Unknown</td><td>J152747.94+595638.0</td><td>231.949753</td><td>59.9438905</td><td>0.0826</td><td>0.0785</td><td>34.3</td><td>15.891</td><td>14.965</td><td>12.34</td><td>9.516</td><td>--</td><td>--</td><td>--</td><td>0.036</td><td>0.046</td><td>0.206</td><td>--</td><td>--</td><td>--</td><td>--</td><td>2310160501351000199</td><td>0000</td><td>0</td><td>00nn</td><td>AABU</td><td>390</td><td>248</td><td>-207</td><td>252</td><td>--</td><td>0.031462</td><td>0.92599964</td><td>2.625</td><td>2</td><td>0.9250549261654664</td><td>2.6414283318207596</td><td>10.105023408082308</td><td>1.0</td><td>-99.0</td><td>2</td><td>8.072405977389323</td><td>7.456254833806818</td><td>8.690386196152039</td><td>1</td><td>AAB0122</td></tr>\n",
       "<tr><td>WISEAJ141335.97+712633.0</td><td>213.3998942</td><td>71.4424936</td><td>0.3</td><td>9876543.0</td><td>Unknown</td><td>J141335.97+712633.0</td><td>213.3999013</td><td>71.4425003</td><td>0.0702</td><td>0.0666</td><td>53.0</td><td>15.355</td><td>14.675</td><td>11.889</td><td>8.9</td><td>--</td><td>--</td><td>--</td><td>0.031</td><td>0.042</td><td>0.154</td><td>0.301</td><td>--</td><td>--</td><td>--</td><td>2115171101351050642</td><td>0000</td><td>0</td><td>00nn</td><td>AABB</td><td>45</td><td>205</td><td>159</td><td>202</td><td>--</td><td>0.025421</td><td>0.67999935</td><td>2.7860003</td><td>2</td><td>0.6792897258059778</td><td>2.7876741542545718</td><td>10.385893840645132</td><td>1.0</td><td>-99.0</td><td>2</td><td>8.353575923666554</td><td>7.741408912071893</td><td>8.947668410676025</td><td>1</td><td>AAB0122</td></tr>\n",
       "<tr><td>SDSS100655.38+615558.6</td><td>151.7308</td><td>61.93297</td><td>0.4762</td><td>-9.0</td><td>QSO</td><td>J100655.39+615558.7</td><td>151.7307992</td><td>61.932982</td><td>0.0488</td><td>0.0479</td><td>158.1</td><td>14.382</td><td>13.457</td><td>10.931</td><td>8.353</td><td>17.226</td><td>16.034</td><td>15.48</td><td>0.026</td><td>0.027</td><td>0.092</td><td>0.216</td><td>0.21</td><td>0.201</td><td>0.171</td><td>1515162001351017894</td><td>0000</td><td>0</td><td>110n</td><td>AAAB</td><td>5</td><td>234</td><td>138</td><td>173</td><td>0.242</td><td>0.04332</td><td>0.9250002</td><td>2.526</td><td>2</td><td>0.9235470343157237</td><td>2.5274931526621582</td><td>11.237593733937118</td><td>1.0</td><td>-99.0</td><td>2</td><td>9.204544180821035</td><td>8.626251208607052</td><td>9.81197280120004</td><td>1</td><td>AAA0122</td></tr>\n",
       "</table></div>"
      ],
      "text/plain": [
       "<Table length=881>\n",
       "          ONAME                   RA        ... MBHWISEUPLIM    QF  \n",
       "         bytes107              float64      ...    int64       str7 \n",
       "------------------------- ----------------- ... ------------ -------\n",
       "  SDSSJ093215.51+101250.6       143.0646405 ...            0 AAB0001\n",
       "  SDSS3087294031638587392         206.20752 ...            0 AAC0000\n",
       "  SDSSJ012106.59+124434.9          20.27748 ...            0 AAU0001\n",
       "  SDSSJ131545.36+595248.0       198.9390165 ...            0 AAU0001\n",
       "  SDSSJ115323.71+162102.8       178.3488165 ...            0 AAU0001\n",
       " WISEAJ230830.78-101521.8    347.1282888231 ...            0 AAU0001\n",
       "  SDSSJ231520.12+185234.1        348.833856 ...            0 AAU0001\n",
       " WISEAJ202218.76-525829.2       305.5781992 ...            1 AAA0122\n",
       "               J0857+8603 134.4231478691101 ...            1 AAB0122\n",
       "  SDSSJ093150.24+492152.5        142.959354 ...            0 AAU0001\n",
       "                      ...               ... ...          ...     ...\n",
       " WISEAJ100929.71-291000.0       152.3738262 ...            1 AAB1122\n",
       "   SDSS838882055021422592         349.33392 ...            1 AAA0122\n",
       "          SDSSJ16258+1942         246.47444 ...            1 BAA1122\n",
       "  SDSSJ080524.08+374728.4        121.350357 ...            1 AAB0122\n",
       "LAMOSTJ010539.84+064404.3    16.41602145518 ...            1 AAA0122\n",
       "   SDSS221126.75+124458.2         332.86149 ...            1 AAA0122\n",
       " WISEAJ042950.23-610358.8        67.4592985 ...            1 AAB0122\n",
       " WISEAJ152749.95+595645.4        231.949757 ...            1 AAB0122\n",
       " WISEAJ141335.97+712633.0       213.3998942 ...            1 AAB0122\n",
       "   SDSS100655.38+615558.6          151.7308 ...            1 AAA0122"
      ]
     },
     "execution_count": 90,
     "metadata": {},
     "output_type": "execute_result"
    }
   ],
   "source": [
    "final_allwise"
   ]
  },
  {
   "cell_type": "markdown",
   "metadata": {},
   "source": [
    "And this is the final table after the complete process of the WISE2MBH algorithm, using only AllWISE+ETHER data."
   ]
  },
  {
   "cell_type": "code",
   "execution_count": null,
   "metadata": {},
   "outputs": [],
   "source": [
    "#final_allwise.write('enter_your_route_here.fits')"
   ]
  }
 ],
 "metadata": {
  "kernelspec": {
   "display_name": "base",
   "language": "python",
   "name": "python3"
  },
  "language_info": {
   "codemirror_mode": {
    "name": "ipython",
    "version": 3
   },
   "file_extension": ".py",
   "mimetype": "text/x-python",
   "name": "python",
   "nbconvert_exporter": "python",
   "pygments_lexer": "ipython3",
   "version": "3.10.8"
  },
  "orig_nbformat": 4
 },
 "nbformat": 4,
 "nbformat_minor": 2
}
