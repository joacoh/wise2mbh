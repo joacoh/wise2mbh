{
 "cells": [
  {
   "cell_type": "markdown",
   "metadata": {},
   "source": [
    "# WISE2MBH Tutorial: Creating an input sample from NAMES or RA and DEC coordinates\n",
    "\n",
    "Here I'll show you how to prepare your own input sample to run WISE2MBH, using queries to NED and to the AllWISE catalog in CDS"
   ]
  },
  {
   "cell_type": "code",
   "execution_count": 1,
   "metadata": {},
   "outputs": [
    {
     "name": "stdout",
     "output_type": "stream",
     "text": [
      "Could not import regions, which is required for some of the functionalities of this module.\n"
     ]
    }
   ],
   "source": [
    "import wise2mbh as wm\n",
    "import numpy as np\n",
    "from astropy.table import Table"
   ]
  },
  {
   "cell_type": "markdown",
   "metadata": {},
   "source": [
    "For this tutorial, we will try with a sample of 200 NAMES and RA/DEC coordinates from the file AllWISE_sample.fits in the sample folder"
   ]
  },
  {
   "cell_type": "code",
   "execution_count": 2,
   "metadata": {},
   "outputs": [
    {
     "data": {
      "text/html": [
       "<div><i>Table length=200</i>\n",
       "<table id=\"table139874709980112\" class=\"table-striped table-bordered table-condensed\">\n",
       "<thead><tr><th>ONAME</th><th>RA</th><th>DEC</th><th>Z</th><th>T</th><th>NED_TYPE</th><th>AllWISE</th><th>RAJ2000</th><th>DEJ2000</th><th>eeMaj</th><th>eeMin</th><th>eePA</th><th>W1mag</th><th>W2mag</th><th>W3mag</th><th>W4mag</th><th>Jmag</th><th>Hmag</th><th>Kmag</th><th>e_W1mag</th><th>e_W2mag</th><th>e_W3mag</th><th>e_W4mag</th><th>e_Jmag</th><th>e_Hmag</th><th>e_Kmag</th><th>ID</th><th>ccf</th><th>ex</th><th>var</th><th>qph</th><th>pmRA</th><th>e_pmRA</th><th>pmDE</th><th>e_pmDE</th><th>d2M</th><th>angDist</th></tr></thead>\n",
       "<thead><tr><th>bytes107</th><th>float64</th><th>float64</th><th>float64</th><th>float64</th><th>bytes7</th><th>bytes19</th><th>float64</th><th>float64</th><th>float32</th><th>float32</th><th>float32</th><th>float32</th><th>float32</th><th>float32</th><th>float32</th><th>float32</th><th>float32</th><th>float32</th><th>float32</th><th>float32</th><th>float32</th><th>float32</th><th>float32</th><th>float32</th><th>float32</th><th>int64</th><th>bytes4</th><th>bytes1</th><th>bytes4</th><th>bytes4</th><th>int32</th><th>int32</th><th>int32</th><th>int32</th><th>float32</th><th>float64</th></tr></thead>\n",
       "<tr><td>SDSSJ162732.95+085725.6</td><td>246.8873205</td><td>8.9571112</td><td>0.46091333</td><td>9876543.0</td><td>Unknown</td><td>J162732.95+085725.5</td><td>246.887315</td><td>8.9570984</td><td>0.1331</td><td>0.1227</td><td>170.1</td><td>15.753</td><td>15.614</td><td>11.881</td><td>8.984</td><td>--</td><td>--</td><td>--</td><td>0.047</td><td>0.121</td><td>--</td><td>--</td><td>--</td><td>--</td><td>--</td><td>2466109001351029128</td><td>0000</td><td>0</td><td>0nnn</td><td>ABUU</td><td>-218</td><td>439</td><td>319</td><td>482</td><td>--</td><td>0.04993</td></tr>\n",
       "<tr><td>WISEAJ131331.03+201323.4</td><td>198.3793197144</td><td>20.2231776229</td><td>0.12003833</td><td>9876543.0</td><td>Unknown</td><td>J131331.03+201323.4</td><td>198.379305</td><td>20.223179</td><td>0.0824</td><td>0.079</td><td>176.4</td><td>14.875</td><td>14.807</td><td>10.922</td><td>8.639</td><td>--</td><td>--</td><td>--</td><td>0.033</td><td>0.067</td><td>0.126</td><td>--</td><td>--</td><td>--</td><td>--</td><td>1984119601351059792</td><td>0000</td><td>0</td><td>000n</td><td>AABU</td><td>-359</td><td>257</td><td>-7</td><td>268</td><td>--</td><td>0.04993</td></tr>\n",
       "<tr><td>SDSSJ232347.79+074436.7</td><td>350.9491635</td><td>7.7435403</td><td>0.42399332</td><td>9876543.0</td><td>Unknown</td><td>J232347.80+074436.7</td><td>350.9491773</td><td>7.7435378</td><td>0.0836</td><td>0.0788</td><td>139.8</td><td>14.77</td><td>14.582</td><td>12.386</td><td>9.038</td><td>--</td><td>--</td><td>--</td><td>0.034</td><td>0.061</td><td>--</td><td>--</td><td>--</td><td>--</td><td>--</td><td>3508107501351042130</td><td>0000</td><td>0</td><td>11nn</td><td>AAUU</td><td>54</td><td>219</td><td>186</td><td>227</td><td>--</td><td>0.049931</td></tr>\n",
       "<tr><td>WISEAJ095953.65+401220.3</td><td>149.9735959257</td><td>40.2056440259</td><td>0.36837</td><td>9876543.0</td><td>Unknown</td><td>J095953.65+401220.3</td><td>149.973581</td><td>40.2056519</td><td>0.0804</td><td>0.0764</td><td>176.0</td><td>14.755</td><td>14.538</td><td>12.289</td><td>8.952</td><td>--</td><td>--</td><td>--</td><td>0.033</td><td>0.057</td><td>--</td><td>--</td><td>--</td><td>--</td><td>--</td><td>1503140801351008102</td><td>0000</td><td>0</td><td>00nn</td><td>AAUU</td><td>272</td><td>192</td><td>-48</td><td>210</td><td>--</td><td>0.049932</td></tr>\n",
       "<tr><td>SDSS104621.95+031709.3</td><td>161.59146</td><td>3.28591</td><td>0.2847</td><td>-9.0</td><td>QSO</td><td>J104621.95+031709.2</td><td>161.5914692</td><td>3.2858996</td><td>0.0632</td><td>0.0608</td><td>5.5</td><td>14.325</td><td>13.586</td><td>10.435</td><td>7.78</td><td>16.929</td><td>16.06</td><td>15.494</td><td>0.03</td><td>0.036</td><td>0.081</td><td>0.214</td><td>0.2</td><td>0.2</td><td>0.223</td><td>1618103001351041085</td><td>0000</td><td>0</td><td>000n</td><td>AAAB</td><td>60</td><td>188</td><td>93</td><td>185</td><td>0.382</td><td>0.049932</td></tr>\n",
       "<tr><td>SDSSJ150121.42+535853.1</td><td>225.3392595</td><td>53.9814252</td><td>0.34720665</td><td>9876543.0</td><td>Unknown</td><td>J150121.42+535853.1</td><td>225.3392829</td><td>53.9814271</td><td>0.0672</td><td>0.0656</td><td>21.8</td><td>14.853</td><td>14.633</td><td>13.138</td><td>9.016</td><td>--</td><td>--</td><td>--</td><td>0.03</td><td>0.044</td><td>--</td><td>--</td><td>--</td><td>--</td><td>--</td><td>2246154501351002720</td><td>0000</td><td>0</td><td>00nn</td><td>AAUU</td><td>-137</td><td>135</td><td>15</td><td>141</td><td>--</td><td>0.049932</td></tr>\n",
       "<tr><td>SDSSJ150141.12+381853.0</td><td>225.421344</td><td>38.3147337</td><td>0.36915666</td><td>9876543.0</td><td>Unknown</td><td>J150141.12+381853.0</td><td>225.421358</td><td>38.3147252</td><td>0.0775</td><td>0.0734</td><td>179.9</td><td>15.21</td><td>15.057</td><td>13.049</td><td>9.427</td><td>17.017</td><td>16.476</td><td>15.578</td><td>0.032</td><td>0.057</td><td>--</td><td>--</td><td>0.207</td><td>0.274</td><td>0.201</td><td>2254137801351045986</td><td>0000</td><td>0</td><td>01nn</td><td>AAUU</td><td>249</td><td>125</td><td>1</td><td>139</td><td>0.253</td><td>0.049933</td></tr>\n",
       "<tr><td>2MASXJ01574690+2033305</td><td>29.4453795</td><td>20.5585269</td><td>0.165028</td><td>9876543.0</td><td>Unknown</td><td>J015746.88+203330.7</td><td>29.4453677</td><td>20.5585353</td><td>0.0534</td><td>0.0517</td><td>104.1</td><td>13.804</td><td>13.58</td><td>12.283</td><td>8.823</td><td>15.583</td><td>14.982</td><td>14.178</td><td>0.026</td><td>0.033</td><td>--</td><td>--</td><td>0.07</td><td>0.088</td><td>0.064</td><td>290121201351002638</td><td>0000</td><td>0</td><td>11nn</td><td>AAUU</td><td>57</td><td>59</td><td>-94</td><td>61</td><td>0.045</td><td>0.049933</td></tr>\n",
       "<tr><td>SDSS2288957592585660416</td><td>208.65942</td><td>35.51349</td><td>0.14253195</td><td>9876543.0</td><td>Galaxy</td><td>J135438.26+353048.6</td><td>208.6594248</td><td>35.5135033</td><td>0.0561</td><td>0.0552</td><td>5.1</td><td>14.067</td><td>13.894</td><td>11.952</td><td>8.984</td><td>15.889</td><td>15.053</td><td>14.63</td><td>0.027</td><td>0.035</td><td>0.215</td><td>--</td><td>0.093</td><td>0.108</td><td>0.108</td><td>2083134801351056241</td><td>0000</td><td>0</td><td>00nn</td><td>AABU</td><td>131</td><td>91</td><td>142</td><td>98</td><td>0.162</td><td>0.049933</td></tr>\n",
       "<tr><td>SDSSJ082526.30+332623.5</td><td>126.359607</td><td>33.4398782</td><td>0.49371666</td><td>9876543.0</td><td>Unknown</td><td>J082526.30+332623.6</td><td>126.3596157</td><td>33.43989</td><td>0.1044</td><td>0.0977</td><td>3.3</td><td>15.288</td><td>15.168</td><td>12.548</td><td>8.634</td><td>--</td><td>--</td><td>--</td><td>0.039</td><td>0.09</td><td>--</td><td>--</td><td>--</td><td>--</td><td>--</td><td>1259133301351028306</td><td>0000</td><td>0</td><td>00nn</td><td>AAUU</td><td>151</td><td>286</td><td>294</td><td>317</td><td>--</td><td>0.049933</td></tr>\n",
       "<tr><td>...</td><td>...</td><td>...</td><td>...</td><td>...</td><td>...</td><td>...</td><td>...</td><td>...</td><td>...</td><td>...</td><td>...</td><td>...</td><td>...</td><td>...</td><td>...</td><td>...</td><td>...</td><td>...</td><td>...</td><td>...</td><td>...</td><td>...</td><td>...</td><td>...</td><td>...</td><td>...</td><td>...</td><td>...</td><td>...</td><td>...</td><td>...</td><td>...</td><td>...</td><td>...</td><td>...</td><td>...</td></tr>\n",
       "<tr><td>LAMOST399605218</td><td>131.95832</td><td>51.15924</td><td>0.13803734</td><td>9876543.0</td><td>Galaxy</td><td>J084750.00+510933.2</td><td>131.9583412</td><td>51.1592361</td><td>0.0542</td><td>0.0525</td><td>143.4</td><td>14.025</td><td>13.764</td><td>11.113</td><td>9.1</td><td>15.964</td><td>15.274</td><td>14.563</td><td>0.025</td><td>0.034</td><td>0.153</td><td>--</td><td>0.087</td><td>0.094</td><td>0.085</td><td>1311151401351023860</td><td>0000</td><td>0</td><td>01nn</td><td>AABU</td><td>-22</td><td>141</td><td>50</td><td>143</td><td>0.347</td><td>0.049997</td></tr>\n",
       "<tr><td>SDSSJ115205.18+382928.0</td><td>178.021614</td><td>38.4911345</td><td>0.40462333</td><td>9876543.0</td><td>Unknown</td><td>J115205.18+382928.0</td><td>178.0215991</td><td>38.491127</td><td>0.0979</td><td>0.0928</td><td>17.3</td><td>15.365</td><td>15.172</td><td>12.824</td><td>8.849</td><td>--</td><td>--</td><td>--</td><td>0.038</td><td>0.078</td><td>--</td><td>--</td><td>--</td><td>--</td><td>--</td><td>1781137801351058128</td><td>0000</td><td>0</td><td>00nn</td><td>AAUU</td><td>62</td><td>270</td><td>-54</td><td>290</td><td>--</td><td>0.049997</td></tr>\n",
       "<tr><td>SDSS1504239155469641728</td><td>243.77024</td><td>39.31195</td><td>0.14051065</td><td>9876543.0</td><td>Galaxy</td><td>J161504.85+391843.0</td><td>243.770246</td><td>39.3119631</td><td>0.0486</td><td>0.048</td><td>135.0</td><td>13.708</td><td>13.451</td><td>12.888</td><td>9.59</td><td>15.632</td><td>14.88</td><td>14.284</td><td>0.025</td><td>0.029</td><td>0.407</td><td>--</td><td>0.08</td><td>0.083</td><td>0.073</td><td>2438139301351031839</td><td>0000</td><td>0</td><td>00nn</td><td>AACU</td><td>0</td><td>71</td><td>0</td><td>76</td><td>0.164</td><td>0.049997</td></tr>\n",
       "<tr><td>SDSS994312869900216320</td><td>183.59372</td><td>53.64215</td><td>0.1756268</td><td>9876543.0</td><td>Galaxy</td><td>J121422.48+533831.7</td><td>183.593698</td><td>53.6421548</td><td>0.0541</td><td>0.053</td><td>175.1</td><td>14.199</td><td>13.949</td><td>12.669</td><td>8.811</td><td>16.142</td><td>15.352</td><td>14.873</td><td>0.026</td><td>0.033</td><td>0.429</td><td>--</td><td>0.094</td><td>0.107</td><td>0.106</td><td>1824153001351053170</td><td>0000</td><td>0</td><td>00nn</td><td>AACU</td><td>-13</td><td>99</td><td>24</td><td>105</td><td>0.06</td><td>0.049997</td></tr>\n",
       "<tr><td>SDSSJ145532.69+580519.7</td><td>223.8862155</td><td>58.0888205</td><td>0.35417667</td><td>9876543.0</td><td>Unknown</td><td>J145532.69+580519.7</td><td>223.8862407</td><td>58.0888244</td><td>0.0742</td><td>0.0712</td><td>11.5</td><td>15.261</td><td>15.077</td><td>12.889</td><td>9.481</td><td>--</td><td>--</td><td>--</td><td>0.031</td><td>0.054</td><td>--</td><td>--</td><td>--</td><td>--</td><td>--</td><td>2243157501351060214</td><td>0000</td><td>0</td><td>00nn</td><td>AAUU</td><td>415</td><td>181</td><td>220</td><td>188</td><td>--</td><td>0.049997</td></tr>\n",
       "<tr><td>WISEAJ113538.25+315012.5</td><td>173.9094019222</td><td>31.836811624</td><td>0.45649</td><td>9876543.0</td><td>Unknown</td><td>J113538.25+315012.5</td><td>173.9094028</td><td>31.8368255</td><td>0.0865</td><td>0.0832</td><td>15.6</td><td>14.964</td><td>14.744</td><td>12.322</td><td>9.066</td><td>--</td><td>--</td><td>--</td><td>0.035</td><td>0.065</td><td>--</td><td>--</td><td>--</td><td>--</td><td>--</td><td>1747131801351038143</td><td>0000</td><td>0</td><td>11nn</td><td>AAUU</td><td>-348</td><td>220</td><td>-167</td><td>237</td><td>--</td><td>0.049998</td></tr>\n",
       "<tr><td>WISEAJ115816.26+302142.1</td><td>179.5678</td><td>30.36171</td><td>0.146</td><td>9876543.0</td><td>Galaxy</td><td>J115816.26+302142.1</td><td>179.5677894</td><td>30.3616995</td><td>0.0475</td><td>0.0465</td><td>153.1</td><td>13.783</td><td>13.064</td><td>10.4</td><td>7.741</td><td>15.904</td><td>15.35</td><td>14.722</td><td>0.025</td><td>0.027</td><td>0.072</td><td>0.143</td><td>0.083</td><td>0.102</td><td>0.09</td><td>1791130201351029659</td><td>0000</td><td>0</td><td>000n</td><td>AAAB</td><td>77</td><td>118</td><td>31</td><td>119</td><td>0.089</td><td>0.049999</td></tr>\n",
       "<tr><td>SDSSJ095103.03+142941.6</td><td>147.76265</td><td>14.49491</td><td>0.233</td><td>-9.0</td><td>QSO</td><td>J095103.03+142941.6</td><td>147.7626379</td><td>14.4949026</td><td>0.0396</td><td>0.0381</td><td>137.0</td><td>13.057</td><td>12.077</td><td>8.594</td><td>6.04</td><td>15.977</td><td>15.02</td><td>14.229</td><td>0.024</td><td>0.022</td><td>0.03</td><td>0.066</td><td>0.083</td><td>0.092</td><td>0.07</td><td>1471115101351000018</td><td>0000</td><td>0</td><td>1100</td><td>AAAA</td><td>96</td><td>53</td><td>98</td><td>56</td><td>0.056</td><td>0.049999</td></tr>\n",
       "<tr><td>SDSSJ150436.89+270600.0</td><td>226.153743</td><td>27.1000244</td><td>0.41787</td><td>9876543.0</td><td>Unknown</td><td>J150436.90+270600.0</td><td>226.1537509</td><td>27.1000124</td><td>0.0643</td><td>0.0619</td><td>179.3</td><td>14.647</td><td>14.393</td><td>12.908</td><td>9.506</td><td>17.011</td><td>15.719</td><td>14.972</td><td>0.029</td><td>0.042</td><td>--</td><td>--</td><td>0.211</td><td>--</td><td>0.169</td><td>2264127201351015796</td><td>h000</td><td>0</td><td>01nn</td><td>AAUU</td><td>-31</td><td>86</td><td>-134</td><td>95</td><td>0.277</td><td>0.049999</td></tr>\n",
       "<tr><td>LAMOST504013208</td><td>170.00596</td><td>48.08189</td><td>0.12572007</td><td>9876543.0</td><td>Galaxy</td><td>J112001.42+480454.7</td><td>170.0059408</td><td>48.0818847</td><td>0.0553</td><td>0.053</td><td>4.8</td><td>14.014</td><td>13.852</td><td>12.403</td><td>9.121</td><td>15.576</td><td>14.948</td><td>14.399</td><td>0.026</td><td>0.034</td><td>--</td><td>--</td><td>0.08</td><td>0.083</td><td>0.075</td><td>1709148401351013591</td><td>0000</td><td>0</td><td>11nn</td><td>AAUU</td><td>94</td><td>96</td><td>-102</td><td>105</td><td>0.109</td><td>0.049999</td></tr>\n",
       "</table></div>"
      ],
      "text/plain": [
       "<Table length=200>\n",
       "         ONAME                 RA            DEC      ...   d2M   angDist \n",
       "        bytes107            float64        float64    ... float32 float64 \n",
       "------------------------ -------------- ------------- ... ------- --------\n",
       " SDSSJ162732.95+085725.6    246.8873205     8.9571112 ...      --  0.04993\n",
       "WISEAJ131331.03+201323.4 198.3793197144 20.2231776229 ...      --  0.04993\n",
       " SDSSJ232347.79+074436.7    350.9491635     7.7435403 ...      -- 0.049931\n",
       "WISEAJ095953.65+401220.3 149.9735959257 40.2056440259 ...      -- 0.049932\n",
       "  SDSS104621.95+031709.3      161.59146       3.28591 ...   0.382 0.049932\n",
       " SDSSJ150121.42+535853.1    225.3392595    53.9814252 ...      -- 0.049932\n",
       " SDSSJ150141.12+381853.0     225.421344    38.3147337 ...   0.253 0.049933\n",
       "  2MASXJ01574690+2033305     29.4453795    20.5585269 ...   0.045 0.049933\n",
       " SDSS2288957592585660416      208.65942      35.51349 ...   0.162 0.049933\n",
       " SDSSJ082526.30+332623.5     126.359607    33.4398782 ...      -- 0.049933\n",
       "                     ...            ...           ... ...     ...      ...\n",
       "         LAMOST399605218      131.95832      51.15924 ...   0.347 0.049997\n",
       " SDSSJ115205.18+382928.0     178.021614    38.4911345 ...      -- 0.049997\n",
       " SDSS1504239155469641728      243.77024      39.31195 ...   0.164 0.049997\n",
       "  SDSS994312869900216320      183.59372      53.64215 ...    0.06 0.049997\n",
       " SDSSJ145532.69+580519.7    223.8862155    58.0888205 ...      -- 0.049997\n",
       "WISEAJ113538.25+315012.5 173.9094019222  31.836811624 ...      -- 0.049998\n",
       "WISEAJ115816.26+302142.1       179.5678      30.36171 ...   0.089 0.049999\n",
       " SDSSJ095103.03+142941.6      147.76265      14.49491 ...   0.056 0.049999\n",
       " SDSSJ150436.89+270600.0     226.153743    27.1000244 ...   0.277 0.049999\n",
       "         LAMOST504013208      170.00596      48.08189 ...   0.109 0.049999"
      ]
     },
     "execution_count": 2,
     "metadata": {},
     "output_type": "execute_result"
    }
   ],
   "source": [
    "test_complete = Table.read('../samples/AllWISE_sample.fits')\n",
    "test_complete = test_complete[np.arange(77512,77712)]\n",
    "test_complete"
   ]
  },
  {
   "cell_type": "markdown",
   "metadata": {},
   "source": [
    "This sample is completely formated from preivous iteration, but from this we will extract just the ONAME, RA and DEC columns to regenerate it completely"
   ]
  },
  {
   "cell_type": "code",
   "execution_count": 3,
   "metadata": {},
   "outputs": [
    {
     "data": {
      "text/html": [
       "<div><i>Table length=200</i>\n",
       "<table id=\"table139874709992544\" class=\"table-striped table-bordered table-condensed\">\n",
       "<thead><tr><th>ONAME</th><th>RA</th><th>DEC</th></tr></thead>\n",
       "<thead><tr><th>bytes107</th><th>float64</th><th>float64</th></tr></thead>\n",
       "<tr><td>SDSSJ162732.95+085725.6</td><td>246.8873205</td><td>8.9571112</td></tr>\n",
       "<tr><td>WISEAJ131331.03+201323.4</td><td>198.3793197144</td><td>20.2231776229</td></tr>\n",
       "<tr><td>SDSSJ232347.79+074436.7</td><td>350.9491635</td><td>7.7435403</td></tr>\n",
       "<tr><td>WISEAJ095953.65+401220.3</td><td>149.9735959257</td><td>40.2056440259</td></tr>\n",
       "<tr><td>SDSS104621.95+031709.3</td><td>161.59146</td><td>3.28591</td></tr>\n",
       "<tr><td>SDSSJ150121.42+535853.1</td><td>225.3392595</td><td>53.9814252</td></tr>\n",
       "<tr><td>SDSSJ150141.12+381853.0</td><td>225.421344</td><td>38.3147337</td></tr>\n",
       "<tr><td>2MASXJ01574690+2033305</td><td>29.4453795</td><td>20.5585269</td></tr>\n",
       "<tr><td>SDSS2288957592585660416</td><td>208.65942</td><td>35.51349</td></tr>\n",
       "<tr><td>SDSSJ082526.30+332623.5</td><td>126.359607</td><td>33.4398782</td></tr>\n",
       "<tr><td>...</td><td>...</td><td>...</td></tr>\n",
       "<tr><td>LAMOST399605218</td><td>131.95832</td><td>51.15924</td></tr>\n",
       "<tr><td>SDSSJ115205.18+382928.0</td><td>178.021614</td><td>38.4911345</td></tr>\n",
       "<tr><td>SDSS1504239155469641728</td><td>243.77024</td><td>39.31195</td></tr>\n",
       "<tr><td>SDSS994312869900216320</td><td>183.59372</td><td>53.64215</td></tr>\n",
       "<tr><td>SDSSJ145532.69+580519.7</td><td>223.8862155</td><td>58.0888205</td></tr>\n",
       "<tr><td>WISEAJ113538.25+315012.5</td><td>173.9094019222</td><td>31.836811624</td></tr>\n",
       "<tr><td>WISEAJ115816.26+302142.1</td><td>179.5678</td><td>30.36171</td></tr>\n",
       "<tr><td>SDSSJ095103.03+142941.6</td><td>147.76265</td><td>14.49491</td></tr>\n",
       "<tr><td>SDSSJ150436.89+270600.0</td><td>226.153743</td><td>27.1000244</td></tr>\n",
       "<tr><td>LAMOST504013208</td><td>170.00596</td><td>48.08189</td></tr>\n",
       "</table></div>"
      ],
      "text/plain": [
       "<Table length=200>\n",
       "         ONAME                 RA            DEC     \n",
       "        bytes107            float64        float64   \n",
       "------------------------ -------------- -------------\n",
       " SDSSJ162732.95+085725.6    246.8873205     8.9571112\n",
       "WISEAJ131331.03+201323.4 198.3793197144 20.2231776229\n",
       " SDSSJ232347.79+074436.7    350.9491635     7.7435403\n",
       "WISEAJ095953.65+401220.3 149.9735959257 40.2056440259\n",
       "  SDSS104621.95+031709.3      161.59146       3.28591\n",
       " SDSSJ150121.42+535853.1    225.3392595    53.9814252\n",
       " SDSSJ150141.12+381853.0     225.421344    38.3147337\n",
       "  2MASXJ01574690+2033305     29.4453795    20.5585269\n",
       " SDSS2288957592585660416      208.65942      35.51349\n",
       " SDSSJ082526.30+332623.5     126.359607    33.4398782\n",
       "                     ...            ...           ...\n",
       "         LAMOST399605218      131.95832      51.15924\n",
       " SDSSJ115205.18+382928.0     178.021614    38.4911345\n",
       " SDSS1504239155469641728      243.77024      39.31195\n",
       "  SDSS994312869900216320      183.59372      53.64215\n",
       " SDSSJ145532.69+580519.7    223.8862155    58.0888205\n",
       "WISEAJ113538.25+315012.5 173.9094019222  31.836811624\n",
       "WISEAJ115816.26+302142.1       179.5678      30.36171\n",
       " SDSSJ095103.03+142941.6      147.76265      14.49491\n",
       " SDSSJ150436.89+270600.0     226.153743    27.1000244\n",
       "         LAMOST504013208      170.00596      48.08189"
      ]
     },
     "execution_count": 3,
     "metadata": {},
     "output_type": "execute_result"
    }
   ],
   "source": [
    "test_to_use = test_complete[['ONAME','RA','DEC']]\n",
    "test_to_use"
   ]
  },
  {
   "cell_type": "markdown",
   "metadata": {},
   "source": [
    "I provide you with two simple functions to query all necessary data and correctly format your tables. The **query_ned()** function works both with **NAMES and COORDINATES**, but be aware of the use of incorrect names, since bad formating will raise to no matchs at all, so always prefer to use coordinates for better query!"
   ]
  },
  {
   "cell_type": "code",
   "execution_count": 4,
   "metadata": {},
   "outputs": [
    {
     "data": {
      "text/html": [
       "<div><i>Table length=200</i>\n",
       "<table id=\"table139874709992544\" class=\"table-striped table-bordered table-condensed\">\n",
       "<thead><tr><th>ONAME</th><th>RA</th><th>DEC</th><th>Z</th><th>NED_TYPE</th></tr></thead>\n",
       "<thead><tr><th>bytes107</th><th>float64</th><th>float64</th><th>float64</th><th>str7</th></tr></thead>\n",
       "<tr><td>SDSSJ162732.95+085725.6</td><td>246.8873205</td><td>8.9571112</td><td>0.461249</td><td>G</td></tr>\n",
       "<tr><td>WISEAJ131331.03+201323.4</td><td>198.3793197144</td><td>20.2231776229</td><td>0.120121</td><td>G</td></tr>\n",
       "<tr><td>SDSSJ232347.79+074436.7</td><td>350.9491635</td><td>7.7435403</td><td>0.4243</td><td>Unknown</td></tr>\n",
       "<tr><td>WISEAJ095953.65+401220.3</td><td>149.9735959257</td><td>40.2056440259</td><td>0.368614</td><td>G</td></tr>\n",
       "<tr><td>SDSS104621.95+031709.3</td><td>161.59146</td><td>3.28591</td><td>0.284721</td><td>QSO</td></tr>\n",
       "<tr><td>SDSSJ150121.42+535853.1</td><td>225.3392595</td><td>53.9814252</td><td>0.347433</td><td>G</td></tr>\n",
       "<tr><td>SDSSJ150141.12+381853.0</td><td>225.421344</td><td>38.3147337</td><td>0.369435</td><td>G</td></tr>\n",
       "<tr><td>2MASXJ01574690+2033305</td><td>29.4453795</td><td>20.5585269</td><td>0.16513</td><td>G</td></tr>\n",
       "<tr><td>SDSS2288957592585660416</td><td>208.65942</td><td>35.51349</td><td>0.142532</td><td>G</td></tr>\n",
       "<tr><td>SDSSJ082526.30+332623.5</td><td>126.359607</td><td>33.4398782</td><td>0.494023</td><td>G</td></tr>\n",
       "<tr><td>...</td><td>...</td><td>...</td><td>...</td><td>...</td></tr>\n",
       "<tr><td>LAMOST399605218</td><td>131.95832</td><td>51.15924</td><td>0.138037</td><td>G</td></tr>\n",
       "<tr><td>SDSSJ115205.18+382928.0</td><td>178.021614</td><td>38.4911345</td><td>0.405063</td><td>G</td></tr>\n",
       "<tr><td>SDSS1504239155469641728</td><td>243.77024</td><td>39.31195</td><td>0.140511</td><td>G</td></tr>\n",
       "<tr><td>SDSS994312869900216320</td><td>183.59372</td><td>53.64215</td><td>0.175627</td><td>G</td></tr>\n",
       "<tr><td>SDSSJ145532.69+580519.7</td><td>223.8862155</td><td>58.0888205</td><td>0.354408</td><td>G</td></tr>\n",
       "<tr><td>WISEAJ113538.25+315012.5</td><td>173.9094019222</td><td>31.836811624</td><td>0.456804</td><td>G</td></tr>\n",
       "<tr><td>WISEAJ115816.26+302142.1</td><td>179.5678</td><td>30.36171</td><td>0.145553</td><td>G</td></tr>\n",
       "<tr><td>SDSSJ095103.03+142941.6</td><td>147.76265</td><td>14.49491</td><td>0.23332</td><td>QSO</td></tr>\n",
       "<tr><td>SDSSJ150436.89+270600.0</td><td>226.153743</td><td>27.1000244</td><td>0.418135</td><td>G</td></tr>\n",
       "<tr><td>LAMOST504013208</td><td>170.00596</td><td>48.08189</td><td>0.12572</td><td>G</td></tr>\n",
       "</table></div>"
      ],
      "text/plain": [
       "<Table length=200>\n",
       "         ONAME                 RA            DEC         Z     NED_TYPE\n",
       "        bytes107            float64        float64    float64    str7  \n",
       "------------------------ -------------- ------------- -------- --------\n",
       " SDSSJ162732.95+085725.6    246.8873205     8.9571112 0.461249        G\n",
       "WISEAJ131331.03+201323.4 198.3793197144 20.2231776229 0.120121        G\n",
       " SDSSJ232347.79+074436.7    350.9491635     7.7435403   0.4243  Unknown\n",
       "WISEAJ095953.65+401220.3 149.9735959257 40.2056440259 0.368614        G\n",
       "  SDSS104621.95+031709.3      161.59146       3.28591 0.284721      QSO\n",
       " SDSSJ150121.42+535853.1    225.3392595    53.9814252 0.347433        G\n",
       " SDSSJ150141.12+381853.0     225.421344    38.3147337 0.369435        G\n",
       "  2MASXJ01574690+2033305     29.4453795    20.5585269  0.16513        G\n",
       " SDSS2288957592585660416      208.65942      35.51349 0.142532        G\n",
       " SDSSJ082526.30+332623.5     126.359607    33.4398782 0.494023        G\n",
       "                     ...            ...           ...      ...      ...\n",
       "         LAMOST399605218      131.95832      51.15924 0.138037        G\n",
       " SDSSJ115205.18+382928.0     178.021614    38.4911345 0.405063        G\n",
       " SDSS1504239155469641728      243.77024      39.31195 0.140511        G\n",
       "  SDSS994312869900216320      183.59372      53.64215 0.175627        G\n",
       " SDSSJ145532.69+580519.7    223.8862155    58.0888205 0.354408        G\n",
       "WISEAJ113538.25+315012.5 173.9094019222  31.836811624 0.456804        G\n",
       "WISEAJ115816.26+302142.1       179.5678      30.36171 0.145553        G\n",
       " SDSSJ095103.03+142941.6      147.76265      14.49491  0.23332      QSO\n",
       " SDSSJ150436.89+270600.0     226.153743    27.1000244 0.418135        G\n",
       "         LAMOST504013208      170.00596      48.08189  0.12572        G"
      ]
     },
     "execution_count": 4,
     "metadata": {},
     "output_type": "execute_result"
    }
   ],
   "source": [
    "test_ned = wm.query_ned(test_to_use, coords=True, radius=3)"
   ]
  },
  {
   "cell_type": "markdown",
   "metadata": {},
   "source": [
    "After the query of redshift and object type, one can use the **xmatch_allwise()** function to obtain available AllWISE data for your sources,now this xmatch creates a copy of your table for final format."
   ]
  },
  {
   "cell_type": "code",
   "execution_count": 5,
   "metadata": {},
   "outputs": [],
   "source": [
    "test_complete = wm.xmatch_allwise(test_ned, radius=3)"
   ]
  },
  {
   "cell_type": "code",
   "execution_count": 6,
   "metadata": {},
   "outputs": [
    {
     "data": {
      "text/html": [
       "<div><i>Table length=200</i>\n",
       "<table id=\"table139874674225648\" class=\"table-striped table-bordered table-condensed\">\n",
       "<thead><tr><th>angDist</th><th>ONAME</th><th>RA</th><th>DEC</th><th>Z</th><th>NED_TYPE</th><th>AllWISE</th><th>RAJ2000</th><th>DEJ2000</th><th>eeMaj</th><th>eeMin</th><th>eePA</th><th>W1mag</th><th>W2mag</th><th>W3mag</th><th>W4mag</th><th>Jmag</th><th>Hmag</th><th>Kmag</th><th>e_W1mag</th><th>e_W2mag</th><th>e_W3mag</th><th>e_W4mag</th><th>e_Jmag</th><th>e_Hmag</th><th>e_Kmag</th><th>ID</th><th>ccf</th><th>ex</th><th>var</th><th>qph</th><th>pmRA</th><th>e_pmRA</th><th>pmDE</th><th>e_pmDE</th><th>d2M</th></tr></thead>\n",
       "<thead><tr><th>float64</th><th>str24</th><th>float64</th><th>float64</th><th>float64</th><th>str7</th><th>str19</th><th>float64</th><th>float64</th><th>float64</th><th>float64</th><th>float64</th><th>float64</th><th>float64</th><th>float64</th><th>float64</th><th>float64</th><th>float64</th><th>float64</th><th>float64</th><th>float64</th><th>float64</th><th>float64</th><th>float64</th><th>float64</th><th>float64</th><th>int64</th><th>str4</th><th>int64</th><th>str4</th><th>str4</th><th>int64</th><th>int64</th><th>int64</th><th>int64</th><th>float64</th></tr></thead>\n",
       "<tr><td>0.04993</td><td>SDSSJ162732.95+085725.6</td><td>246.8873205</td><td>8.9571112</td><td>0.461249</td><td>G</td><td>J162732.95+085725.5</td><td>246.887315</td><td>8.9570984</td><td>0.1331</td><td>0.1227</td><td>170.1</td><td>15.753</td><td>15.614</td><td>11.881</td><td>8.984</td><td>--</td><td>--</td><td>--</td><td>0.047</td><td>0.121</td><td>--</td><td>--</td><td>--</td><td>--</td><td>--</td><td>2466109001351029128</td><td>0000</td><td>0</td><td>0nnn</td><td>ABUU</td><td>-218</td><td>439</td><td>319</td><td>482</td><td>--</td></tr>\n",
       "<tr><td>0.04993</td><td>WISEAJ131331.03+201323.4</td><td>198.3793197144</td><td>20.2231776229</td><td>0.120121</td><td>G</td><td>J131331.03+201323.4</td><td>198.379305</td><td>20.223179</td><td>0.0824</td><td>0.079</td><td>176.4</td><td>14.875</td><td>14.807</td><td>10.922</td><td>8.639</td><td>--</td><td>--</td><td>--</td><td>0.033</td><td>0.067</td><td>0.126</td><td>--</td><td>--</td><td>--</td><td>--</td><td>1984119601351059792</td><td>0000</td><td>0</td><td>000n</td><td>AABU</td><td>-359</td><td>257</td><td>-7</td><td>268</td><td>--</td></tr>\n",
       "<tr><td>0.049931</td><td>SDSSJ232347.79+074436.7</td><td>350.9491635</td><td>7.7435403</td><td>0.4243</td><td>Unknown</td><td>J232347.80+074436.7</td><td>350.9491773</td><td>7.7435378</td><td>0.0836</td><td>0.0788</td><td>139.8</td><td>14.77</td><td>14.582</td><td>12.386</td><td>9.038</td><td>--</td><td>--</td><td>--</td><td>0.034</td><td>0.061</td><td>--</td><td>--</td><td>--</td><td>--</td><td>--</td><td>3508107501351042130</td><td>0000</td><td>0</td><td>11nn</td><td>AAUU</td><td>54</td><td>219</td><td>186</td><td>227</td><td>--</td></tr>\n",
       "<tr><td>0.049932</td><td>WISEAJ095953.65+401220.3</td><td>149.9735959257</td><td>40.2056440259</td><td>0.368614</td><td>G</td><td>J095953.65+401220.3</td><td>149.973581</td><td>40.2056519</td><td>0.0804</td><td>0.0764</td><td>176.0</td><td>14.755</td><td>14.538</td><td>12.289</td><td>8.952</td><td>--</td><td>--</td><td>--</td><td>0.033</td><td>0.057</td><td>--</td><td>--</td><td>--</td><td>--</td><td>--</td><td>1503140801351008102</td><td>0000</td><td>0</td><td>00nn</td><td>AAUU</td><td>272</td><td>192</td><td>-48</td><td>210</td><td>--</td></tr>\n",
       "<tr><td>0.049932</td><td>SDSS104621.95+031709.3</td><td>161.59146</td><td>3.28591</td><td>0.284721</td><td>QSO</td><td>J104621.95+031709.2</td><td>161.5914692</td><td>3.2858996</td><td>0.0632</td><td>0.0608</td><td>5.5</td><td>14.325</td><td>13.586</td><td>10.435</td><td>7.78</td><td>16.929</td><td>16.06</td><td>15.494</td><td>0.03</td><td>0.036</td><td>0.081</td><td>0.214</td><td>0.2</td><td>0.2</td><td>0.223</td><td>1618103001351041085</td><td>0000</td><td>0</td><td>000n</td><td>AAAB</td><td>60</td><td>188</td><td>93</td><td>185</td><td>0.382</td></tr>\n",
       "<tr><td>0.049932</td><td>SDSSJ150121.42+535853.1</td><td>225.3392595</td><td>53.9814252</td><td>0.347433</td><td>G</td><td>J150121.42+535853.1</td><td>225.3392829</td><td>53.9814271</td><td>0.0672</td><td>0.0656</td><td>21.8</td><td>14.853</td><td>14.633</td><td>13.138</td><td>9.016</td><td>--</td><td>--</td><td>--</td><td>0.03</td><td>0.044</td><td>--</td><td>--</td><td>--</td><td>--</td><td>--</td><td>2246154501351002720</td><td>0000</td><td>0</td><td>00nn</td><td>AAUU</td><td>-137</td><td>135</td><td>15</td><td>141</td><td>--</td></tr>\n",
       "<tr><td>0.049933</td><td>SDSSJ150141.12+381853.0</td><td>225.421344</td><td>38.3147337</td><td>0.369435</td><td>G</td><td>J150141.12+381853.0</td><td>225.421358</td><td>38.3147252</td><td>0.0775</td><td>0.0734</td><td>179.9</td><td>15.21</td><td>15.057</td><td>13.049</td><td>9.427</td><td>17.017</td><td>16.476</td><td>15.578</td><td>0.032</td><td>0.057</td><td>--</td><td>--</td><td>0.207</td><td>0.274</td><td>0.201</td><td>2254137801351045986</td><td>0000</td><td>0</td><td>01nn</td><td>AAUU</td><td>249</td><td>125</td><td>1</td><td>139</td><td>0.253</td></tr>\n",
       "<tr><td>0.049933</td><td>2MASXJ01574690+2033305</td><td>29.4453795</td><td>20.5585269</td><td>0.16513</td><td>G</td><td>J015746.88+203330.7</td><td>29.4453677</td><td>20.5585353</td><td>0.0534</td><td>0.0517</td><td>104.1</td><td>13.804</td><td>13.58</td><td>12.283</td><td>8.823</td><td>15.583</td><td>14.982</td><td>14.178</td><td>0.026</td><td>0.033</td><td>--</td><td>--</td><td>0.07</td><td>0.088</td><td>0.064</td><td>290121201351002638</td><td>0000</td><td>0</td><td>11nn</td><td>AAUU</td><td>57</td><td>59</td><td>-94</td><td>61</td><td>0.045</td></tr>\n",
       "<tr><td>0.049933</td><td>SDSS2288957592585660416</td><td>208.65942</td><td>35.51349</td><td>0.142532</td><td>G</td><td>J135438.26+353048.6</td><td>208.6594248</td><td>35.5135033</td><td>0.0561</td><td>0.0552</td><td>5.1</td><td>14.067</td><td>13.894</td><td>11.952</td><td>8.984</td><td>15.889</td><td>15.053</td><td>14.63</td><td>0.027</td><td>0.035</td><td>0.215</td><td>--</td><td>0.093</td><td>0.108</td><td>0.108</td><td>2083134801351056241</td><td>0000</td><td>0</td><td>00nn</td><td>AABU</td><td>131</td><td>91</td><td>142</td><td>98</td><td>0.162</td></tr>\n",
       "<tr><td>0.049933</td><td>SDSSJ082526.30+332623.5</td><td>126.359607</td><td>33.4398782</td><td>0.494023</td><td>G</td><td>J082526.30+332623.6</td><td>126.3596157</td><td>33.43989</td><td>0.1044</td><td>0.0977</td><td>3.3</td><td>15.288</td><td>15.168</td><td>12.548</td><td>8.634</td><td>--</td><td>--</td><td>--</td><td>0.039</td><td>0.09</td><td>--</td><td>--</td><td>--</td><td>--</td><td>--</td><td>1259133301351028306</td><td>0000</td><td>0</td><td>00nn</td><td>AAUU</td><td>151</td><td>286</td><td>294</td><td>317</td><td>--</td></tr>\n",
       "<tr><td>...</td><td>...</td><td>...</td><td>...</td><td>...</td><td>...</td><td>...</td><td>...</td><td>...</td><td>...</td><td>...</td><td>...</td><td>...</td><td>...</td><td>...</td><td>...</td><td>...</td><td>...</td><td>...</td><td>...</td><td>...</td><td>...</td><td>...</td><td>...</td><td>...</td><td>...</td><td>...</td><td>...</td><td>...</td><td>...</td><td>...</td><td>...</td><td>...</td><td>...</td><td>...</td><td>...</td></tr>\n",
       "<tr><td>0.049997</td><td>LAMOST399605218</td><td>131.95832</td><td>51.15924</td><td>0.138037</td><td>G</td><td>J084750.00+510933.2</td><td>131.9583412</td><td>51.1592361</td><td>0.0542</td><td>0.0525</td><td>143.4</td><td>14.025</td><td>13.764</td><td>11.113</td><td>9.1</td><td>15.964</td><td>15.274</td><td>14.563</td><td>0.025</td><td>0.034</td><td>0.153</td><td>--</td><td>0.087</td><td>0.094</td><td>0.085</td><td>1311151401351023860</td><td>0000</td><td>0</td><td>01nn</td><td>AABU</td><td>-22</td><td>141</td><td>50</td><td>143</td><td>0.347</td></tr>\n",
       "<tr><td>0.049997</td><td>SDSSJ115205.18+382928.0</td><td>178.021614</td><td>38.4911345</td><td>0.405063</td><td>G</td><td>J115205.18+382928.0</td><td>178.0215991</td><td>38.491127</td><td>0.0979</td><td>0.0928</td><td>17.3</td><td>15.365</td><td>15.172</td><td>12.824</td><td>8.849</td><td>--</td><td>--</td><td>--</td><td>0.038</td><td>0.078</td><td>--</td><td>--</td><td>--</td><td>--</td><td>--</td><td>1781137801351058128</td><td>0000</td><td>0</td><td>00nn</td><td>AAUU</td><td>62</td><td>270</td><td>-54</td><td>290</td><td>--</td></tr>\n",
       "<tr><td>0.049997</td><td>SDSS1504239155469641728</td><td>243.77024</td><td>39.31195</td><td>0.140511</td><td>G</td><td>J161504.85+391843.0</td><td>243.770246</td><td>39.3119631</td><td>0.0486</td><td>0.048</td><td>135.0</td><td>13.708</td><td>13.451</td><td>12.888</td><td>9.59</td><td>15.632</td><td>14.88</td><td>14.284</td><td>0.025</td><td>0.029</td><td>0.407</td><td>--</td><td>0.08</td><td>0.083</td><td>0.073</td><td>2438139301351031839</td><td>0000</td><td>0</td><td>00nn</td><td>AACU</td><td>0</td><td>71</td><td>0</td><td>76</td><td>0.164</td></tr>\n",
       "<tr><td>0.049997</td><td>SDSS994312869900216320</td><td>183.59372</td><td>53.64215</td><td>0.175627</td><td>G</td><td>J121422.48+533831.7</td><td>183.593698</td><td>53.6421548</td><td>0.0541</td><td>0.053</td><td>175.1</td><td>14.199</td><td>13.949</td><td>12.669</td><td>8.811</td><td>16.142</td><td>15.352</td><td>14.873</td><td>0.026</td><td>0.033</td><td>0.429</td><td>--</td><td>0.094</td><td>0.107</td><td>0.106</td><td>1824153001351053170</td><td>0000</td><td>0</td><td>00nn</td><td>AACU</td><td>-13</td><td>99</td><td>24</td><td>105</td><td>0.06</td></tr>\n",
       "<tr><td>0.049997</td><td>SDSSJ145532.69+580519.7</td><td>223.8862155</td><td>58.0888205</td><td>0.354408</td><td>G</td><td>J145532.69+580519.7</td><td>223.8862407</td><td>58.0888244</td><td>0.0742</td><td>0.0712</td><td>11.5</td><td>15.261</td><td>15.077</td><td>12.889</td><td>9.481</td><td>--</td><td>--</td><td>--</td><td>0.031</td><td>0.054</td><td>--</td><td>--</td><td>--</td><td>--</td><td>--</td><td>2243157501351060214</td><td>0000</td><td>0</td><td>00nn</td><td>AAUU</td><td>415</td><td>181</td><td>220</td><td>188</td><td>--</td></tr>\n",
       "<tr><td>0.049998</td><td>WISEAJ113538.25+315012.5</td><td>173.9094019222</td><td>31.836811624</td><td>0.456804</td><td>G</td><td>J113538.25+315012.5</td><td>173.9094028</td><td>31.8368255</td><td>0.0865</td><td>0.0832</td><td>15.6</td><td>14.964</td><td>14.744</td><td>12.322</td><td>9.066</td><td>--</td><td>--</td><td>--</td><td>0.035</td><td>0.065</td><td>--</td><td>--</td><td>--</td><td>--</td><td>--</td><td>1747131801351038143</td><td>0000</td><td>0</td><td>11nn</td><td>AAUU</td><td>-348</td><td>220</td><td>-167</td><td>237</td><td>--</td></tr>\n",
       "<tr><td>0.049999</td><td>WISEAJ115816.26+302142.1</td><td>179.5678</td><td>30.36171</td><td>0.145553</td><td>G</td><td>J115816.26+302142.1</td><td>179.5677894</td><td>30.3616995</td><td>0.0475</td><td>0.0465</td><td>153.1</td><td>13.783</td><td>13.064</td><td>10.4</td><td>7.741</td><td>15.904</td><td>15.35</td><td>14.722</td><td>0.025</td><td>0.027</td><td>0.072</td><td>0.143</td><td>0.083</td><td>0.102</td><td>0.09</td><td>1791130201351029659</td><td>0000</td><td>0</td><td>000n</td><td>AAAB</td><td>77</td><td>118</td><td>31</td><td>119</td><td>0.089</td></tr>\n",
       "<tr><td>0.049999</td><td>SDSSJ095103.03+142941.6</td><td>147.76265</td><td>14.49491</td><td>0.23332</td><td>QSO</td><td>J095103.03+142941.6</td><td>147.7626379</td><td>14.4949026</td><td>0.0396</td><td>0.0381</td><td>137.0</td><td>13.057</td><td>12.077</td><td>8.594</td><td>6.04</td><td>15.977</td><td>15.02</td><td>14.229</td><td>0.024</td><td>0.022</td><td>0.03</td><td>0.066</td><td>0.083</td><td>0.092</td><td>0.07</td><td>1471115101351000018</td><td>0000</td><td>0</td><td>1100</td><td>AAAA</td><td>96</td><td>53</td><td>98</td><td>56</td><td>0.056</td></tr>\n",
       "<tr><td>0.049999</td><td>SDSSJ150436.89+270600.0</td><td>226.153743</td><td>27.1000244</td><td>0.418135</td><td>G</td><td>J150436.90+270600.0</td><td>226.1537509</td><td>27.1000124</td><td>0.0643</td><td>0.0619</td><td>179.3</td><td>14.647</td><td>14.393</td><td>12.908</td><td>9.506</td><td>17.011</td><td>15.719</td><td>14.972</td><td>0.029</td><td>0.042</td><td>--</td><td>--</td><td>0.211</td><td>--</td><td>0.169</td><td>2264127201351015796</td><td>h000</td><td>0</td><td>01nn</td><td>AAUU</td><td>-31</td><td>86</td><td>-134</td><td>95</td><td>0.277</td></tr>\n",
       "<tr><td>0.049999</td><td>LAMOST504013208</td><td>170.00596</td><td>48.08189</td><td>0.12572</td><td>G</td><td>J112001.42+480454.7</td><td>170.0059408</td><td>48.0818847</td><td>0.0553</td><td>0.053</td><td>4.8</td><td>14.014</td><td>13.852</td><td>12.403</td><td>9.121</td><td>15.576</td><td>14.948</td><td>14.399</td><td>0.026</td><td>0.034</td><td>--</td><td>--</td><td>0.08</td><td>0.083</td><td>0.075</td><td>1709148401351013591</td><td>0000</td><td>0</td><td>11nn</td><td>AAUU</td><td>94</td><td>96</td><td>-102</td><td>105</td><td>0.109</td></tr>\n",
       "</table></div>"
      ],
      "text/plain": [
       "<Table length=200>\n",
       "angDist           ONAME                 RA       ...  pmDE e_pmDE   d2M  \n",
       "float64           str24              float64     ... int64 int64  float64\n",
       "-------- ------------------------ -------------- ... ----- ------ -------\n",
       " 0.04993  SDSSJ162732.95+085725.6    246.8873205 ...   319    482      --\n",
       " 0.04993 WISEAJ131331.03+201323.4 198.3793197144 ...    -7    268      --\n",
       "0.049931  SDSSJ232347.79+074436.7    350.9491635 ...   186    227      --\n",
       "0.049932 WISEAJ095953.65+401220.3 149.9735959257 ...   -48    210      --\n",
       "0.049932   SDSS104621.95+031709.3      161.59146 ...    93    185   0.382\n",
       "0.049932  SDSSJ150121.42+535853.1    225.3392595 ...    15    141      --\n",
       "0.049933  SDSSJ150141.12+381853.0     225.421344 ...     1    139   0.253\n",
       "0.049933   2MASXJ01574690+2033305     29.4453795 ...   -94     61   0.045\n",
       "0.049933  SDSS2288957592585660416      208.65942 ...   142     98   0.162\n",
       "0.049933  SDSSJ082526.30+332623.5     126.359607 ...   294    317      --\n",
       "     ...                      ...            ... ...   ...    ...     ...\n",
       "0.049997          LAMOST399605218      131.95832 ...    50    143   0.347\n",
       "0.049997  SDSSJ115205.18+382928.0     178.021614 ...   -54    290      --\n",
       "0.049997  SDSS1504239155469641728      243.77024 ...     0     76   0.164\n",
       "0.049997   SDSS994312869900216320      183.59372 ...    24    105    0.06\n",
       "0.049997  SDSSJ145532.69+580519.7    223.8862155 ...   220    188      --\n",
       "0.049998 WISEAJ113538.25+315012.5 173.9094019222 ...  -167    237      --\n",
       "0.049999 WISEAJ115816.26+302142.1       179.5678 ...    31    119   0.089\n",
       "0.049999  SDSSJ095103.03+142941.6      147.76265 ...    98     56   0.056\n",
       "0.049999  SDSSJ150436.89+270600.0     226.153743 ...  -134     95   0.277\n",
       "0.049999          LAMOST504013208      170.00596 ...  -102    105   0.109"
      ]
     },
     "execution_count": 6,
     "metadata": {},
     "output_type": "execute_result"
    }
   ],
   "source": [
    "test_complete"
   ]
  },
  {
   "cell_type": "markdown",
   "metadata": {},
   "source": [
    "**Now your sample is ready to use as input to the WISE2MBH algorithm!**"
   ]
  },
  {
   "cell_type": "code",
   "execution_count": null,
   "metadata": {},
   "outputs": [],
   "source": [
    "#test_complete.write('enter_your_route_here.fits')"
   ]
  }
 ],
 "metadata": {
  "kernelspec": {
   "display_name": "base",
   "language": "python",
   "name": "python3"
  },
  "language_info": {
   "codemirror_mode": {
    "name": "ipython",
    "version": 3
   },
   "file_extension": ".py",
   "mimetype": "text/x-python",
   "name": "python",
   "nbconvert_exporter": "python",
   "pygments_lexer": "ipython3",
   "version": "3.10.8"
  },
  "orig_nbformat": 4
 },
 "nbformat": 4,
 "nbformat_minor": 2
}
