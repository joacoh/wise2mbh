{
 "cells": [
  {
   "cell_type": "markdown",
   "metadata": {},
   "source": [
    "# WISE2MBH Tutorial: WXSC\n",
    "\n",
    "This sample contain WISE data from the WXSC catalog. Distances, morphologies and photometric/physical quantities are provided. At the moment of calculating W1 absolute magnitude, the distance modulus is calculated from the provided distance."
   ]
  },
  {
   "cell_type": "code",
   "execution_count": 1,
   "metadata": {},
   "outputs": [
    {
     "name": "stdout",
     "output_type": "stream",
     "text": [
      "Could not import regions, which is required for some of the functionalities of this module.\n"
     ]
    }
   ],
   "source": [
    "import wise2mbh as wm\n",
    "from astropy.table import Table\n",
    "import numpy as np\n",
    "import matplotlib.pyplot as plt\n",
    "import random\n",
    "no_data = 9876543"
   ]
  },
  {
   "cell_type": "code",
   "execution_count": 18,
   "metadata": {},
   "outputs": [
    {
     "data": {
      "text/html": [
       "<div><i>Table length=104</i>\n",
       "<table id=\"table140540844544336\" class=\"table-striped table-bordered table-condensed\">\n",
       "<thead><tr><th>Name</th><th>RAJ2000</th><th>DEJ2000</th><th>Morph</th><th>b_a</th><th>PA</th><th>R1</th><th>W1mag</th><th>R2</th><th>W2mag</th><th>R3</th><th>W3mag</th><th>R4</th><th>W4mag</th><th>Dist</th><th>Beam</th><th>W1-W2</th><th>W2-W3</th><th>LogLw1</th><th>LogMs</th><th>LognuL3</th><th>LognuL4</th><th>SFR12</th><th>SFR23</th><th>sSFR12</th><th>RW1</th><th>AW1mag</th><th>e_AW1mag</th><th>RW2</th><th>AW2mag</th><th>e_AW2mag</th><th>RW3</th><th>AW3mag</th><th>e_AW3mag</th><th>RW4</th><th>AW4mag</th><th>e_AW4mag</th><th>TW1mag</th><th>e_TW1mag</th><th>TW2mag</th><th>e_TW2mag</th><th>TW3mag</th><th>e_TW3mag</th><th>TW4mag</th><th>e_TW4mag</th><th>SimbadName</th><th>NED</th><th>recno</th></tr></thead>\n",
       "<thead><tr><th></th><th>deg</th><th>deg</th><th></th><th></th><th>deg</th><th>arcmin</th><th>mag</th><th>arcmin</th><th>mag</th><th>arcmin</th><th>mag</th><th>arcmin</th><th>mag</th><th>Mpc</th><th>pc</th><th>mag</th><th>mag</th><th>log(solLum)</th><th>log(solMass)</th><th>log(solLum)</th><th>log(solLum)</th><th>solMass / yr</th><th>solMass / yr</th><th>1 / yr</th><th>arcmin</th><th>mag</th><th>mag</th><th>arcmin</th><th>mag</th><th>mag</th><th>arcmin</th><th>mag</th><th>mag</th><th>arcmin</th><th>mag</th><th>mag</th><th>mag</th><th>mag</th><th>mag</th><th>mag</th><th>mag</th><th>mag</th><th>mag</th><th>mag</th><th></th><th></th><th></th></tr></thead>\n",
       "<thead><tr><th>bytes11</th><th>float64</th><th>float64</th><th>bytes7</th><th>float64</th><th>float64</th><th>float64</th><th>float64</th><th>float64</th><th>float64</th><th>float64</th><th>float64</th><th>float64</th><th>float64</th><th>float64</th><th>int16</th><th>float64</th><th>float64</th><th>float64</th><th>float64</th><th>float64</th><th>float64</th><th>float64</th><th>float64</th><th>float64</th><th>float64</th><th>float64</th><th>float64</th><th>float64</th><th>float64</th><th>float64</th><th>float64</th><th>float64</th><th>float64</th><th>float64</th><th>float64</th><th>float64</th><th>float64</th><th>float64</th><th>float64</th><th>float64</th><th>float64</th><th>float64</th><th>float64</th><th>float64</th><th>bytes20</th><th>bytes3</th><th>int32</th></tr></thead>\n",
       "<tr><td>LMC</td><td>79.64101</td><td>-68.81836</td><td>SBm</td><td>1.0</td><td>0.0</td><td>300.0</td><td>-1.93</td><td>300.0</td><td>-1.99</td><td>300.0</td><td>-4.78</td><td>300.0</td><td>-7.15</td><td>0.05</td><td>1</td><td>0.06</td><td>2.79</td><td>9.47</td><td>9.15</td><td>7.62</td><td>7.76</td><td>0.12</td><td>0.03</td><td>-10.07</td><td>0.0</td><td>0.0</td><td>0.0</td><td>0.0</td><td>0.0</td><td>0.0</td><td>0.0</td><td>0.0</td><td>0.0</td><td>0.0</td><td>0.0</td><td>0.0</td><td>0.0</td><td>0.0</td><td>0.0</td><td>0.0</td><td>0.0</td><td>0.0</td><td>0.0</td><td>0.0</td><td>LMC</td><td>NED</td><td>1</td></tr>\n",
       "<tr><td>SMC</td><td>13.1866</td><td>-72.8286</td><td>SBm-pec</td><td>1.0</td><td>0.0</td><td>166.67</td><td>0.56</td><td>166.67</td><td>0.62</td><td>166.67</td><td>-0.93</td><td>166.67</td><td>-3.48</td><td>0.06</td><td>2</td><td>-0.05</td><td>1.55</td><td>8.63</td><td>8.59</td><td>6.06</td><td>6.43</td><td>0.01</td><td>0.01</td><td>-10.59</td><td>0.0</td><td>0.0</td><td>0.0</td><td>0.0</td><td>0.0</td><td>0.0</td><td>0.0</td><td>0.0</td><td>0.0</td><td>0.0</td><td>0.0</td><td>0.0</td><td>0.0</td><td>0.0</td><td>0.0</td><td>0.0</td><td>0.0</td><td>0.0</td><td>0.0</td><td>0.0</td><td>SMC</td><td>NED</td><td>2</td></tr>\n",
       "<tr><td>MESSIER31</td><td>10.68479</td><td>41.26907</td><td>Sb</td><td>0.35</td><td>37.3</td><td>111.44</td><td>0.08</td><td>111.44</td><td>0.13</td><td>111.44</td><td>-1.95</td><td>111.44</td><td>-3.09</td><td>0.77</td><td>22</td><td>-0.03</td><td>2.09</td><td>11.04</td><td>10.95</td><td>8.82</td><td>8.48</td><td>1.2</td><td>0.58</td><td>-10.88</td><td>149.39</td><td>0.08</td><td>0.01</td><td>132.78</td><td>0.13</td><td>0.01</td><td>148.8</td><td>-1.95</td><td>0.01</td><td>99.38</td><td>-3.11</td><td>0.01</td><td>0.06</td><td>0.01</td><td>0.1</td><td>0.01</td><td>-2.0</td><td>0.01</td><td>-3.13</td><td>0.01</td><td>MESSIER31</td><td>NED</td><td>3</td></tr>\n",
       "<tr><td>MESSIER33</td><td>23.46204</td><td>30.66022</td><td>Sc</td><td>0.59</td><td>18.9</td><td>31.64</td><td>3.09</td><td>31.64</td><td>3.02</td><td>31.64</td><td>-0.17</td><td>31.64</td><td>-1.94</td><td>0.86</td><td>25</td><td>0.07</td><td>3.18</td><td>9.97</td><td>9.61</td><td>8.33</td><td>8.22</td><td>0.45</td><td>0.33</td><td>-9.96</td><td>65.32</td><td>3.03</td><td>0.01</td><td>38.83</td><td>3.0</td><td>0.01</td><td>37.28</td><td>-0.17</td><td>0.01</td><td>30.55</td><td>-1.94</td><td>0.01</td><td>3.08</td><td>0.01</td><td>3.02</td><td>0.01</td><td>-0.22</td><td>0.01</td><td>-2.02</td><td>0.01</td><td>MESSIER33</td><td>NED</td><td>4</td></tr>\n",
       "<tr><td>NGC0253</td><td>11.88844</td><td>-25.28827</td><td>SABc</td><td>0.28</td><td>53.0</td><td>21.13</td><td>3.46</td><td>21.13</td><td>3.27</td><td>21.13</td><td>-0.54</td><td>21.13</td><td>-2.94</td><td>3.01</td><td>88</td><td>0.19</td><td>3.83</td><td>10.88</td><td>10.24</td><td>9.54</td><td>9.64</td><td>5.36</td><td>6.52</td><td>-9.51</td><td>25.27</td><td>3.46</td><td>0.01</td><td>24.39</td><td>3.26</td><td>0.01</td><td>25.13</td><td>-0.55</td><td>0.03</td><td>25.33</td><td>-2.94</td><td>0.03</td><td>3.46</td><td>0.01</td><td>3.25</td><td>0.01</td><td>-0.56</td><td>0.03</td><td>-2.95</td><td>0.03</td><td>NGC0253</td><td>NED</td><td>5</td></tr>\n",
       "<tr><td>NGC5128</td><td>201.36481</td><td>-43.01954</td><td>S0</td><td>0.77</td><td>33.8</td><td>19.64</td><td>3.01</td><td>19.64</td><td>2.98</td><td>19.64</td><td>0.45</td><td>19.64</td><td>-1.25</td><td>3.65</td><td>106</td><td>0.01</td><td>2.55</td><td>11.23</td><td>11.02</td><td>9.25</td><td>9.12</td><td>2.98</td><td>2.16</td><td>-10.55</td><td>23.45</td><td>2.99</td><td>0.01</td><td>23.36</td><td>2.98</td><td>0.01</td><td>9.08</td><td>0.41</td><td>0.01</td><td>8.32</td><td>-1.29</td><td>0.01</td><td>2.98</td><td>0.01</td><td>2.97</td><td>0.01</td><td>0.44</td><td>0.01</td><td>-1.26</td><td>0.01</td><td>NGC5128</td><td>NED</td><td>6</td></tr>\n",
       "<tr><td>NGC0055</td><td>3.72192</td><td>-39.19775</td><td>SBm</td><td>0.19</td><td>108.9</td><td>19.49</td><td>5.45</td><td>19.49</td><td>5.36</td><td>19.49</td><td>2.8</td><td>19.49</td><td>0.29</td><td>2.1</td><td>61</td><td>0.09</td><td>2.66</td><td>9.77</td><td>9.39</td><td>7.88</td><td>8.06</td><td>0.19</td><td>0.23</td><td>-10.11</td><td>23.36</td><td>5.42</td><td>0.01</td><td>23.31</td><td>5.33</td><td>0.01</td><td>18.76</td><td>2.8</td><td>0.01</td><td>18.66</td><td>0.29</td><td>0.01</td><td>5.43</td><td>0.01</td><td>5.3</td><td>0.02</td><td>2.7</td><td>0.03</td><td>0.22</td><td>0.02</td><td>NGC0055</td><td>NED</td><td>7</td></tr>\n",
       "<tr><td>MESSIER81</td><td>148.88837</td><td>69.06528</td><td>Sab</td><td>0.56</td><td>156.7</td><td>14.67</td><td>3.6</td><td>14.67</td><td>3.61</td><td>14.67</td><td>1.84</td><td>14.67</td><td>0.45</td><td>3.65</td><td>106</td><td>-0.01</td><td>1.81</td><td>10.99</td><td>10.85</td><td>8.62</td><td>8.44</td><td>0.82</td><td>0.52</td><td>-10.94</td><td>16.57</td><td>3.6</td><td>0.01</td><td>16.97</td><td>3.6</td><td>0.01</td><td>10.34</td><td>1.82</td><td>0.03</td><td>10.61</td><td>0.44</td><td>0.03</td><td>3.6</td><td>0.01</td><td>3.59</td><td>0.01</td><td>1.79</td><td>0.03</td><td>0.35</td><td>0.03</td><td>MESSIER81</td><td>NED</td><td>8</td></tr>\n",
       "<tr><td>MESSIER101</td><td>210.80225</td><td>54.34893</td><td>SABc</td><td>0.92</td><td>33.3</td><td>14.5</td><td>5.22</td><td>14.5</td><td>5.1</td><td>14.5</td><td>1.62</td><td>14.5</td><td>-0.28</td><td>7.22</td><td>210</td><td>0.12</td><td>3.54</td><td>10.91</td><td>10.45</td><td>9.43</td><td>9.36</td><td>4.22</td><td>3.61</td><td>-9.82</td><td>13.01</td><td>5.22</td><td>0.01</td><td>13.62</td><td>5.1</td><td>0.01</td><td>10.38</td><td>1.61</td><td>0.01</td><td>10.28</td><td>-0.3</td><td>0.01</td><td>5.19</td><td>0.01</td><td>5.03</td><td>0.02</td><td>1.56</td><td>0.02</td><td>-0.38</td><td>0.02</td><td>MESSIER101</td><td>NED</td><td>9</td></tr>\n",
       "<tr><td>...</td><td>...</td><td>...</td><td>...</td><td>...</td><td>...</td><td>...</td><td>...</td><td>...</td><td>...</td><td>...</td><td>...</td><td>...</td><td>...</td><td>...</td><td>...</td><td>...</td><td>...</td><td>...</td><td>...</td><td>...</td><td>...</td><td>...</td><td>...</td><td>...</td><td>...</td><td>...</td><td>...</td><td>...</td><td>...</td><td>...</td><td>...</td><td>...</td><td>...</td><td>...</td><td>...</td><td>...</td><td>...</td><td>...</td><td>...</td><td>...</td><td>...</td><td>...</td><td>...</td><td>...</td><td>...</td><td>...</td><td>...</td></tr>\n",
       "<tr><td>MESSIER98</td><td>183.45123</td><td>14.90056</td><td>SABb</td><td>0.28</td><td>155.7</td><td>5.64</td><td>6.71</td><td>5.64</td><td>6.67</td><td>5.64</td><td>3.83</td><td>5.64</td><td>2.21</td><td>15.98</td><td>465</td><td>0.03</td><td>2.91</td><td>11.01</td><td>10.77</td><td>9.2</td><td>9.03</td><td>2.7</td><td>1.82</td><td>-10.34</td><td>6.62</td><td>6.7</td><td>0.01</td><td>6.69</td><td>6.66</td><td>0.01</td><td>6.77</td><td>3.81</td><td>0.01</td><td>6.73</td><td>2.19</td><td>0.02</td><td>6.7</td><td>0.01</td><td>6.64</td><td>0.01</td><td>3.77</td><td>0.02</td><td>2.11</td><td>0.03</td><td>MESSIER98</td><td>NED</td><td>95</td></tr>\n",
       "<tr><td>NGC2997</td><td>146.41144</td><td>-31.19094</td><td>SABc</td><td>0.78</td><td>99.2</td><td>5.62</td><td>6.15</td><td>5.62</td><td>6.03</td><td>5.62</td><td>2.35</td><td>5.62</td><td>0.54</td><td>11.32</td><td>329</td><td>0.11</td><td>3.73</td><td>10.93</td><td>10.49</td><td>9.52</td><td>9.4</td><td>5.08</td><td>3.88</td><td>-9.79</td><td>6.73</td><td>6.13</td><td>0.01</td><td>6.54</td><td>6.02</td><td>0.01</td><td>6.57</td><td>2.34</td><td>0.01</td><td>6.74</td><td>0.53</td><td>0.01</td><td>6.13</td><td>0.01</td><td>6.0</td><td>0.01</td><td>2.3</td><td>0.01</td><td>0.48</td><td>0.02</td><td>NGC2997</td><td>NED</td><td>96</td></tr>\n",
       "<tr><td>NGC4125</td><td>182.02449</td><td>65.17439</td><td>E</td><td>0.71</td><td>83.9</td><td>5.61</td><td>6.5</td><td>4.03</td><td>6.59</td><td>1.44</td><td>6.27</td><td>1.44</td><td>5.2</td><td>21.99</td><td>640</td><td>-0.04</td><td>0.44</td><td>11.35</td><td>11.28</td><td>4.59</td><td>7.79</td><td>0.01</td><td>0.13</td><td>-12.18</td><td>6.68</td><td>6.48</td><td>0.01</td><td>5.62</td><td>6.55</td><td>0.01</td><td>3.89</td><td>5.98</td><td>0.02</td><td>1.42</td><td>5.2</td><td>0.04</td><td>6.48</td><td>0.01</td><td>6.54</td><td>0.01</td><td>6.1</td><td>0.05</td><td>5.0</td><td>0.07</td><td>NGC4125</td><td>NED</td><td>97</td></tr>\n",
       "<tr><td>NGC7793</td><td>359.45728</td><td>-32.59102</td><td>Scd</td><td>0.62</td><td>97.9</td><td>5.6</td><td>6.52</td><td>5.6</td><td>6.43</td><td>5.6</td><td>3.21</td><td>5.6</td><td>1.55</td><td>3.95</td><td>115</td><td>0.08</td><td>3.27</td><td>9.88</td><td>9.51</td><td>8.26</td><td>8.09</td><td>0.4</td><td>0.25</td><td>-9.91</td><td>6.72</td><td>6.5</td><td>0.01</td><td>6.62</td><td>6.41</td><td>0.01</td><td>5.99</td><td>3.21</td><td>0.01</td><td>4.68</td><td>1.54</td><td>0.01</td><td>6.5</td><td>0.01</td><td>6.38</td><td>0.01</td><td>3.16</td><td>0.01</td><td>1.47</td><td>0.02</td><td>NGC7793</td><td>NED</td><td>98</td></tr>\n",
       "<tr><td>NGC5363</td><td>209.03012</td><td>5.2549</td><td>S0-a</td><td>0.68</td><td>124.6</td><td>5.6</td><td>6.57</td><td>4.06</td><td>6.63</td><td>1.49</td><td>5.69</td><td>1.49</td><td>4.36</td><td>20.3</td><td>591</td><td>-0.02</td><td>1.02</td><td>11.29</td><td>11.16</td><td>8.28</td><td>8.29</td><td>0.42</td><td>0.38</td><td>-11.54</td><td>6.65</td><td>6.55</td><td>0.01</td><td>5.6</td><td>6.58</td><td>0.01</td><td>3.55</td><td>5.46</td><td>0.01</td><td>1.79</td><td>4.3</td><td>0.03</td><td>6.54</td><td>0.01</td><td>6.56</td><td>0.02</td><td>5.57</td><td>0.03</td><td>4.23</td><td>0.07</td><td>NGC5363</td><td>NED</td><td>99</td></tr>\n",
       "<tr><td>NGC4217</td><td>183.96248</td><td>47.09152</td><td>ZZZ</td><td>0.17</td><td>49.3</td><td>5.59</td><td>7.23</td><td>4.2</td><td>7.09</td><td>4.2</td><td>3.74</td><td>4.2</td><td>2.07</td><td>18.57</td><td>540</td><td>0.16</td><td>3.34</td><td>10.93</td><td>10.35</td><td>9.38</td><td>9.2</td><td>3.85</td><td>2.59</td><td>-9.76</td><td>6.69</td><td>7.21</td><td>0.01</td><td>5.6</td><td>7.05</td><td>0.01</td><td>5.01</td><td>3.72</td><td>0.01</td><td>5.02</td><td>2.05</td><td>0.01</td><td>7.2</td><td>0.01</td><td>7.05</td><td>0.01</td><td>3.71</td><td>0.01</td><td>2.04</td><td>0.02</td><td>NGC4217</td><td>NED</td><td>100</td></tr>\n",
       "<tr><td>IC1613</td><td>16.20089</td><td>2.11914</td><td>IBm</td><td>0.9</td><td>135.4</td><td>4.69</td><td>8.49</td><td>4.69</td><td>8.69</td><td>0.0</td><td>0.0</td><td>0.0</td><td>0.0</td><td>0.73</td><td>21</td><td>-0.19</td><td>3.3</td><td>7.63</td><td>7.58</td><td>1.63</td><td>1.34</td><td>0.01</td><td>0.01</td><td>-8.58</td><td>5.62</td><td>8.35</td><td>0.01</td><td>5.56</td><td>8.59</td><td>0.02</td><td>2.53</td><td>8.31</td><td>0.12</td><td>0.0</td><td>0.0</td><td>0.0</td><td>8.26</td><td>0.06</td><td>8.41</td><td>0.09</td><td>0.0</td><td>0.0</td><td>0.0</td><td>0.0</td><td>IC1613</td><td>NED</td><td>101</td></tr>\n",
       "<tr><td>MESSIER32</td><td>10.67439</td><td>40.86511</td><td>E</td><td>0.86</td><td>165.8</td><td>3.62</td><td>5.02</td><td>2.95</td><td>5.07</td><td>2.95</td><td>4.42</td><td>2.95</td><td>3.61</td><td>0.82</td><td>24</td><td>-0.05</td><td>0.69</td><td>9.12</td><td>9.07</td><td>5.27</td><td>5.55</td><td>0.01</td><td>0.01</td><td>-11.07</td><td>4.32</td><td>5.01</td><td>0.01</td><td>3.56</td><td>5.07</td><td>0.01</td><td>3.49</td><td>4.42</td><td>0.01</td><td>1.9</td><td>3.57</td><td>0.03</td><td>5.01</td><td>0.01</td><td>5.06</td><td>0.01</td><td>4.37</td><td>0.02</td><td>3.49</td><td>0.04</td><td>MESSIER32</td><td>NED</td><td>102</td></tr>\n",
       "<tr><td>UGC05373</td><td>149.99974</td><td>5.33153</td><td>IB</td><td>0.75</td><td>97.0</td><td>2.89</td><td>9.76</td><td>1.76</td><td>10.04</td><td>0.0</td><td>0.0</td><td>1.76</td><td>6.69</td><td>1.42</td><td>41</td><td>0.11</td><td>2.79</td><td>7.7</td><td>7.25</td><td>2.21</td><td>5.07</td><td>0.01</td><td>0.01</td><td>-6.91</td><td>3.46</td><td>9.65</td><td>0.01</td><td>2.92</td><td>9.66</td><td>0.02</td><td>0.0</td><td>0.0</td><td>0.0</td><td>2.11</td><td>6.39</td><td>0.33</td><td>9.57</td><td>0.04</td><td>9.56</td><td>0.09</td><td>0.0</td><td>0.0</td><td>0.0</td><td>0.0</td><td>UGC05373</td><td>NED</td><td>103</td></tr>\n",
       "<tr><td>ESO245-007</td><td>27.77698</td><td>-44.44341</td><td>Sm</td><td>0.81</td><td>11.2</td><td>2.18</td><td>11.06</td><td>2.18</td><td>11.28</td><td>0.0</td><td>0.0</td><td>0.0</td><td>0.0</td><td>0.43</td><td>13</td><td>-0.22</td><td>1.39</td><td>6.14</td><td>6.1</td><td>1.17</td><td>2.58</td><td>0.01</td><td>0.01</td><td>-6.95</td><td>2.61</td><td>10.88</td><td>0.02</td><td>2.61</td><td>11.12</td><td>0.04</td><td>0.0</td><td>0.0</td><td>0.0</td><td>0.0</td><td>0.0</td><td>0.0</td><td>10.53</td><td>0.1</td><td>0.0</td><td>0.0</td><td>0.0</td><td>0.0</td><td>0.0</td><td>0.0</td><td>ESO245-007</td><td>NED</td><td>104</td></tr>\n",
       "</table></div>"
      ],
      "text/plain": [
       "<Table length=104>\n",
       "    Name     RAJ2000   DEJ2000   Morph  ...      SimbadName       NED   recno\n",
       "               deg       deg            ...                                  \n",
       "  bytes11    float64   float64   bytes7 ...       bytes20        bytes3 int32\n",
       "----------- --------- --------- ------- ... -------------------- ------ -----\n",
       "LMC          79.64101 -68.81836 SBm     ... LMC                     NED     1\n",
       "SMC           13.1866  -72.8286 SBm-pec ... SMC                     NED     2\n",
       "MESSIER31    10.68479  41.26907 Sb      ... MESSIER31               NED     3\n",
       "MESSIER33    23.46204  30.66022 Sc      ... MESSIER33               NED     4\n",
       "NGC0253      11.88844 -25.28827 SABc    ... NGC0253                 NED     5\n",
       "NGC5128     201.36481 -43.01954 S0      ... NGC5128                 NED     6\n",
       "NGC0055       3.72192 -39.19775 SBm     ... NGC0055                 NED     7\n",
       "MESSIER81   148.88837  69.06528 Sab     ... MESSIER81               NED     8\n",
       "MESSIER101  210.80225  54.34893 SABc    ... MESSIER101              NED     9\n",
       "        ...       ...       ...     ... ...                  ...    ...   ...\n",
       "MESSIER98   183.45123  14.90056 SABb    ... MESSIER98               NED    95\n",
       "NGC2997     146.41144 -31.19094 SABc    ... NGC2997                 NED    96\n",
       "NGC4125     182.02449  65.17439 E       ... NGC4125                 NED    97\n",
       "NGC7793     359.45728 -32.59102 Scd     ... NGC7793                 NED    98\n",
       "NGC5363     209.03012    5.2549 S0-a    ... NGC5363                 NED    99\n",
       "NGC4217     183.96248  47.09152 ZZZ     ... NGC4217                 NED   100\n",
       "IC1613       16.20089   2.11914 IBm     ... IC1613                  NED   101\n",
       "MESSIER32    10.67439  40.86511 E       ... MESSIER32               NED   102\n",
       "UGC05373    149.99974   5.33153 IB      ... UGC05373                NED   103\n",
       "ESO245-007   27.77698 -44.44341 Sm      ... ESO245-007              NED   104"
      ]
     },
     "execution_count": 18,
     "metadata": {},
     "output_type": "execute_result"
    }
   ],
   "source": [
    "wxsc = Table.read('../samples/WXSC_sample.fit')\n",
    "wxsc"
   ]
  },
  {
   "cell_type": "markdown",
   "metadata": {},
   "source": [
    "# Morphology cleaning process\n",
    "\n",
    "For this sample, LMC & SMC, irregulars (IB, IBm) and very-late type (Sm) must be dropped due to possible miscalculation in bulge fraction from their morphology. For that we defineed the function drop_irregular() to "
   ]
  },
  {
   "cell_type": "code",
   "execution_count": 3,
   "metadata": {},
   "outputs": [],
   "source": [
    "def drop_irregulars(strings):\n",
    "    def criteria(string):\n",
    "        for i in range(len(string)-1):\n",
    "            if ((string[i].isupper()) and (string[i + 1] == 'm')) | (string[0]=='I'):\n",
    "                return False\n",
    "        return True\n",
    "    boolean_array = [criteria(string) for string in strings]\n",
    "    return boolean_array"
   ]
  },
  {
   "cell_type": "code",
   "execution_count": 4,
   "metadata": {},
   "outputs": [],
   "source": [
    "drop_boolean = drop_irregulars(wxsc['Morph'])\n",
    "wxsc_no_irr = wxsc[drop_boolean]"
   ]
  },
  {
   "cell_type": "code",
   "execution_count": 5,
   "metadata": {},
   "outputs": [
    {
     "data": {
      "text/html": [
       "&lt;Column name=&apos;Morph&apos; dtype=&apos;bytes7&apos; length=22&gt;\n",
       "<table>\n",
       "<tr><td>E</td></tr>\n",
       "<tr><td>E-S0</td></tr>\n",
       "<tr><td>E1pec</td></tr>\n",
       "<tr><td>S0</td></tr>\n",
       "<tr><td>S0-a</td></tr>\n",
       "<tr><td>S?</td></tr>\n",
       "<tr><td>SABa</td></tr>\n",
       "<tr><td>SABb</td></tr>\n",
       "<tr><td>SABc</td></tr>\n",
       "<tr><td>SABcd</td></tr>\n",
       "<tr><td>SAd</td></tr>\n",
       "<tr><td>SBb</td></tr>\n",
       "<tr><td>SBc</td></tr>\n",
       "<tr><td>SBcd</td></tr>\n",
       "<tr><td>SBdm</td></tr>\n",
       "<tr><td>Sa</td></tr>\n",
       "<tr><td>Sab</td></tr>\n",
       "<tr><td>Sb</td></tr>\n",
       "<tr><td>Sbc</td></tr>\n",
       "<tr><td>Sc</td></tr>\n",
       "<tr><td>Scd</td></tr>\n",
       "<tr><td>ZZZ</td></tr>\n",
       "</table>"
      ],
      "text/plain": [
       "<Column name='Morph' dtype='bytes7' length=22>\n",
       "E      \n",
       "E-S0   \n",
       "E1pec  \n",
       "S0     \n",
       "S0-a   \n",
       "S?     \n",
       "SABa   \n",
       "SABb   \n",
       "SABc   \n",
       "SABcd  \n",
       "SAd    \n",
       "SBb    \n",
       "SBc    \n",
       "SBcd   \n",
       "SBdm   \n",
       "Sa     \n",
       "Sab    \n",
       "Sb     \n",
       "Sbc    \n",
       "Sc     \n",
       "Scd    \n",
       "ZZZ    "
      ]
     },
     "execution_count": 5,
     "metadata": {},
     "output_type": "execute_result"
    }
   ],
   "source": [
    "np.unique(wxsc_no_irr['Morph'])"
   ]
  },
  {
   "cell_type": "code",
   "execution_count": 10,
   "metadata": {},
   "outputs": [
    {
     "data": {
      "text/plain": [
       "array(['E', 'E-0', 'E1pec', 'S0', 'S0-a', 'S?', 'Sa', 'Sab', 'Sb', 'Sbc',\n",
       "       'Sc', 'Scd', 'Sd', 'Sdm', 'Z'], dtype='<U5')"
      ]
     },
     "execution_count": 10,
     "metadata": {},
     "output_type": "execute_result"
    }
   ],
   "source": [
    "def keep_first_and_non_capitals(strings):\n",
    "    def criteria(string):\n",
    "        result = string[0]  # Initialize the result with the first letter\n",
    "\n",
    "        # Iterate through the remaining characters in the string\n",
    "        for char in string[1:]:\n",
    "            if char.islower() or not char.isalpha():\n",
    "                result += char\n",
    "\n",
    "        return result.strip()\n",
    "    output = [criteria(s) for s in input_strings]\n",
    "    return output\n",
    "\n",
    "# Test the function with a list of strings\n",
    "input_strings = wxsc_no_irr['Morph']\n",
    "output = keep_first_and_non_capitals(input_strings)\n",
    "np.unique(output)\n"
   ]
  },
  {
   "cell_type": "markdown",
   "metadata": {},
   "source": [
    "For sources with E1pec, we will assume an E morphology. For both S? and Z, the morphology will be estimated using the color of presented in WXSC. K-corrections will be applied based on NED redshift."
   ]
  },
  {
   "cell_type": "code",
   "execution_count": 15,
   "metadata": {},
   "outputs": [
    {
     "ename": "UnitTypeError",
     "evalue": "Longitude instances require units equivalent to 'rad', so cannot set it to 'deg2'.",
     "output_type": "error",
     "traceback": [
      "\u001b[0;31m---------------------------------------------------------------------------\u001b[0m",
      "\u001b[0;31mUnitTypeError\u001b[0m                             Traceback (most recent call last)",
      "\u001b[1;32m/home/joacoh/OneDrive/wise2mbh/notebooks/wxsc_test.ipynb Cell 10\u001b[0m line \u001b[0;36m1\n\u001b[0;32m----> <a href='vscode-notebook-cell:/home/joacoh/OneDrive/wise2mbh/notebooks/wxsc_test.ipynb#X25sZmlsZQ%3D%3D?line=0'>1</a>\u001b[0m wm\u001b[39m.\u001b[39;49mquery_ned(wxsc, ra_column\u001b[39m=\u001b[39;49m\u001b[39m'\u001b[39;49m\u001b[39mRAJ2000\u001b[39;49m\u001b[39m'\u001b[39;49m, dec_column\u001b[39m=\u001b[39;49m\u001b[39m'\u001b[39;49m\u001b[39mDEJ2000\u001b[39;49m\u001b[39m'\u001b[39;49m)\n",
      "File \u001b[0;32m~/miniconda3/lib/python3.10/site-packages/wise2mbh/query/__init__.py:38\u001b[0m, in \u001b[0;36mquery_ned\u001b[0;34m(table, ra_column, dec_column, radius, equinox, coords, name_column, verbose)\u001b[0m\n\u001b[1;32m     35\u001b[0m table[\u001b[39m'\u001b[39m\u001b[39mNED_TYPE\u001b[39m\u001b[39m'\u001b[39m] \u001b[39m=\u001b[39m \u001b[39m'\u001b[39m\u001b[39mUnknown\u001b[39m\u001b[39m'\u001b[39m\n\u001b[1;32m     37\u001b[0m \u001b[39mif\u001b[39;00m coords:\n\u001b[0;32m---> 38\u001b[0m     coordinates \u001b[39m=\u001b[39m SkyCoord(table[ra_column]\u001b[39m*\u001b[39;49mu\u001b[39m.\u001b[39;49mdeg, table[dec_column]\u001b[39m*\u001b[39;49mu\u001b[39m.\u001b[39;49mdeg, equinox\u001b[39m=\u001b[39;49mequinox)\n\u001b[1;32m     40\u001b[0m     \u001b[39mfor\u001b[39;00m i, coord \u001b[39min\u001b[39;00m \u001b[39menumerate\u001b[39m(coordinates):\n\u001b[1;32m     41\u001b[0m         ned_results \u001b[39m=\u001b[39m Ned\u001b[39m.\u001b[39mquery_region(coord, radius\u001b[39m=\u001b[39mradius\u001b[39m*\u001b[39mu\u001b[39m.\u001b[39marcsec)\n",
      "File \u001b[0;32m~/.local/lib/python3.10/site-packages/astropy/coordinates/sky_coordinate.py:331\u001b[0m, in \u001b[0;36mSkyCoord.__init__\u001b[0;34m(self, copy, *args, **kwargs)\u001b[0m\n\u001b[1;32m    327\u001b[0m \u001b[39m# Parse the args and kwargs to assemble a sanitized and validated\u001b[39;00m\n\u001b[1;32m    328\u001b[0m \u001b[39m# kwargs dict for initializing attributes for this object and for\u001b[39;00m\n\u001b[1;32m    329\u001b[0m \u001b[39m# creating the internal self._sky_coord_frame object\u001b[39;00m\n\u001b[1;32m    330\u001b[0m args \u001b[39m=\u001b[39m \u001b[39mlist\u001b[39m(args)  \u001b[39m# Make it mutable\u001b[39;00m\n\u001b[0;32m--> 331\u001b[0m skycoord_kwargs, components, info \u001b[39m=\u001b[39m _parse_coordinate_data(\n\u001b[1;32m    332\u001b[0m     frame_cls(\u001b[39m*\u001b[39;49m\u001b[39m*\u001b[39;49mframe_kwargs), args, kwargs)\n\u001b[1;32m    334\u001b[0m \u001b[39m# In the above two parsing functions, these kwargs were identified\u001b[39;00m\n\u001b[1;32m    335\u001b[0m \u001b[39m# as valid frame attributes for *some* frame, but not the frame that\u001b[39;00m\n\u001b[1;32m    336\u001b[0m \u001b[39m# this SkyCoord will have. We keep these attributes as special\u001b[39;00m\n\u001b[1;32m    337\u001b[0m \u001b[39m# skycoord frame attributes:\u001b[39;00m\n\u001b[1;32m    338\u001b[0m \u001b[39mfor\u001b[39;00m attr \u001b[39min\u001b[39;00m skycoord_kwargs:\n\u001b[1;32m    339\u001b[0m     \u001b[39m# Setting it will also validate it.\u001b[39;00m\n",
      "File \u001b[0;32m~/.local/lib/python3.10/site-packages/astropy/coordinates/sky_coordinate_parsers.py:296\u001b[0m, in \u001b[0;36m_parse_coordinate_data\u001b[0;34m(frame, args, kwargs)\u001b[0m\n\u001b[1;32m    293\u001b[0m     \u001b[39mfor\u001b[39;00m arg, frame_attr_name, repr_attr_name, unit \u001b[39min\u001b[39;00m \u001b[39mzip\u001b[39m(args, frame_attr_names,\n\u001b[1;32m    294\u001b[0m                                                           repr_attr_names, units):\n\u001b[1;32m    295\u001b[0m         attr_class \u001b[39m=\u001b[39m frame\u001b[39m.\u001b[39mrepresentation_type\u001b[39m.\u001b[39mattr_classes[repr_attr_name]\n\u001b[0;32m--> 296\u001b[0m         _components[frame_attr_name] \u001b[39m=\u001b[39m attr_class(arg, unit\u001b[39m=\u001b[39;49munit)\n\u001b[1;32m    298\u001b[0m \u001b[39melse\u001b[39;00m:\n\u001b[1;32m    299\u001b[0m     \u001b[39mraise\u001b[39;00m \u001b[39mValueError\u001b[39;00m(\u001b[39m'\u001b[39m\u001b[39mMust supply no more than three positional arguments, got \u001b[39m\u001b[39m{}\u001b[39;00m\u001b[39m'\u001b[39m\n\u001b[1;32m    300\u001b[0m                      \u001b[39m.\u001b[39mformat(\u001b[39mlen\u001b[39m(args)))\n",
      "File \u001b[0;32m~/.local/lib/python3.10/site-packages/astropy/coordinates/angles.py:679\u001b[0m, in \u001b[0;36mLongitude.__new__\u001b[0;34m(cls, angle, unit, wrap_angle, **kwargs)\u001b[0m\n\u001b[1;32m    676\u001b[0m \u001b[39mif\u001b[39;00m \u001b[39misinstance\u001b[39m(angle, Latitude):\n\u001b[1;32m    677\u001b[0m     \u001b[39mraise\u001b[39;00m \u001b[39mTypeError\u001b[39;00m(\u001b[39m\"\u001b[39m\u001b[39mA Longitude angle cannot be created from \u001b[39m\u001b[39m\"\u001b[39m\n\u001b[1;32m    678\u001b[0m                     \u001b[39m\"\u001b[39m\u001b[39ma Latitude angle.\u001b[39m\u001b[39m\"\u001b[39m)\n\u001b[0;32m--> 679\u001b[0m \u001b[39mself\u001b[39m \u001b[39m=\u001b[39m \u001b[39msuper\u001b[39;49m()\u001b[39m.\u001b[39;49m\u001b[39m__new__\u001b[39;49m(\u001b[39mcls\u001b[39;49m, angle, unit\u001b[39m=\u001b[39;49munit, \u001b[39m*\u001b[39;49m\u001b[39m*\u001b[39;49mkwargs)\n\u001b[1;32m    680\u001b[0m \u001b[39mif\u001b[39;00m wrap_angle \u001b[39mis\u001b[39;00m \u001b[39mNone\u001b[39;00m:\n\u001b[1;32m    681\u001b[0m     wrap_angle \u001b[39m=\u001b[39m \u001b[39mgetattr\u001b[39m(angle, \u001b[39m'\u001b[39m\u001b[39mwrap_angle\u001b[39m\u001b[39m'\u001b[39m, \u001b[39mself\u001b[39m\u001b[39m.\u001b[39m_default_wrap_angle)\n",
      "File \u001b[0;32m~/.local/lib/python3.10/site-packages/astropy/coordinates/angles.py:142\u001b[0m, in \u001b[0;36mAngle.__new__\u001b[0;34m(cls, angle, unit, dtype, copy, **kwargs)\u001b[0m\n\u001b[1;32m    137\u001b[0m     \u001b[39melif\u001b[39;00m (isiterable(angle) \u001b[39mand\u001b[39;00m\n\u001b[1;32m    138\u001b[0m           \u001b[39mnot\u001b[39;00m (\u001b[39misinstance\u001b[39m(angle, np\u001b[39m.\u001b[39mndarray) \u001b[39mand\u001b[39;00m\n\u001b[1;32m    139\u001b[0m                angle\u001b[39m.\u001b[39mdtype\u001b[39m.\u001b[39mkind \u001b[39mnot\u001b[39;00m \u001b[39min\u001b[39;00m \u001b[39m'\u001b[39m\u001b[39mSUVO\u001b[39m\u001b[39m'\u001b[39m)):\n\u001b[1;32m    140\u001b[0m         angle \u001b[39m=\u001b[39m [Angle(x, unit, copy\u001b[39m=\u001b[39m\u001b[39mFalse\u001b[39;00m) \u001b[39mfor\u001b[39;00m x \u001b[39min\u001b[39;00m angle]\n\u001b[0;32m--> 142\u001b[0m \u001b[39mreturn\u001b[39;00m \u001b[39msuper\u001b[39;49m()\u001b[39m.\u001b[39;49m\u001b[39m__new__\u001b[39;49m(\u001b[39mcls\u001b[39;49m, angle, unit, dtype\u001b[39m=\u001b[39;49mdtype, copy\u001b[39m=\u001b[39;49mcopy,\n\u001b[1;32m    143\u001b[0m                        \u001b[39m*\u001b[39;49m\u001b[39m*\u001b[39;49mkwargs)\n",
      "File \u001b[0;32m~/.local/lib/python3.10/site-packages/astropy/units/quantity.py:422\u001b[0m, in \u001b[0;36mQuantity.__new__\u001b[0;34m(cls, value, unit, dtype, copy, order, subok, ndmin)\u001b[0m\n\u001b[1;32m    418\u001b[0m     copy \u001b[39m=\u001b[39m \u001b[39mFalse\u001b[39;00m\n\u001b[1;32m    420\u001b[0m \u001b[39mif\u001b[39;00m \u001b[39mtype\u001b[39m(value) \u001b[39mis\u001b[39;00m \u001b[39mnot\u001b[39;00m \u001b[39mcls\u001b[39m \u001b[39mand\u001b[39;00m \u001b[39mnot\u001b[39;00m (subok \u001b[39mand\u001b[39;00m\n\u001b[1;32m    421\u001b[0m                                    \u001b[39misinstance\u001b[39m(value, \u001b[39mcls\u001b[39m)):\n\u001b[0;32m--> 422\u001b[0m     value \u001b[39m=\u001b[39m value\u001b[39m.\u001b[39;49mview(\u001b[39mcls\u001b[39;49m)\n\u001b[1;32m    424\u001b[0m \u001b[39mif\u001b[39;00m dtype \u001b[39mis\u001b[39;00m \u001b[39mNone\u001b[39;00m \u001b[39mand\u001b[39;00m value\u001b[39m.\u001b[39mdtype\u001b[39m.\u001b[39mkind \u001b[39min\u001b[39;00m \u001b[39m'\u001b[39m\u001b[39miu\u001b[39m\u001b[39m'\u001b[39m:\n\u001b[1;32m    425\u001b[0m     dtype \u001b[39m=\u001b[39m \u001b[39mfloat\u001b[39m\n",
      "File \u001b[0;32m~/.local/lib/python3.10/site-packages/astropy/coordinates/angles.py:702\u001b[0m, in \u001b[0;36mLongitude.__array_finalize__\u001b[0;34m(self, obj)\u001b[0m\n\u001b[1;32m    701\u001b[0m \u001b[39mdef\u001b[39;00m \u001b[39m__array_finalize__\u001b[39m(\u001b[39mself\u001b[39m, obj):\n\u001b[0;32m--> 702\u001b[0m     \u001b[39msuper\u001b[39;49m()\u001b[39m.\u001b[39;49m__array_finalize__(obj)\n\u001b[1;32m    703\u001b[0m     \u001b[39mself\u001b[39m\u001b[39m.\u001b[39m_wrap_angle \u001b[39m=\u001b[39m \u001b[39mgetattr\u001b[39m(obj, \u001b[39m'\u001b[39m\u001b[39m_wrap_angle\u001b[39m\u001b[39m'\u001b[39m,\n\u001b[1;32m    704\u001b[0m                                \u001b[39mself\u001b[39m\u001b[39m.\u001b[39m_default_wrap_angle)\n",
      "File \u001b[0;32m~/.local/lib/python3.10/site-packages/astropy/units/quantity.py:547\u001b[0m, in \u001b[0;36mQuantity.__array_finalize__\u001b[0;34m(self, obj)\u001b[0m\n\u001b[1;32m    545\u001b[0m     unit \u001b[39m=\u001b[39m \u001b[39mgetattr\u001b[39m(obj, \u001b[39m'\u001b[39m\u001b[39m_unit\u001b[39m\u001b[39m'\u001b[39m, \u001b[39mNone\u001b[39;00m)\n\u001b[1;32m    546\u001b[0m     \u001b[39mif\u001b[39;00m unit \u001b[39mis\u001b[39;00m \u001b[39mnot\u001b[39;00m \u001b[39mNone\u001b[39;00m:\n\u001b[0;32m--> 547\u001b[0m         \u001b[39mself\u001b[39;49m\u001b[39m.\u001b[39;49m_set_unit(unit)\n\u001b[1;32m    549\u001b[0m \u001b[39m# Copy info if the original had `info` defined.  Because of the way the\u001b[39;00m\n\u001b[1;32m    550\u001b[0m \u001b[39m# DataInfo works, `'info' in obj.__dict__` is False until the\u001b[39;00m\n\u001b[1;32m    551\u001b[0m \u001b[39m# `info` attribute is accessed or set.\u001b[39;00m\n\u001b[1;32m    552\u001b[0m \u001b[39mif\u001b[39;00m \u001b[39m'\u001b[39m\u001b[39minfo\u001b[39m\u001b[39m'\u001b[39m \u001b[39min\u001b[39;00m obj\u001b[39m.\u001b[39m\u001b[39m__dict__\u001b[39m:\n",
      "File \u001b[0;32m~/.local/lib/python3.10/site-packages/astropy/coordinates/angles.py:164\u001b[0m, in \u001b[0;36mAngle._set_unit\u001b[0;34m(self, unit)\u001b[0m\n\u001b[1;32m    163\u001b[0m \u001b[39mdef\u001b[39;00m \u001b[39m_set_unit\u001b[39m(\u001b[39mself\u001b[39m, unit):\n\u001b[0;32m--> 164\u001b[0m     \u001b[39msuper\u001b[39;49m()\u001b[39m.\u001b[39;49m_set_unit(\u001b[39mself\u001b[39;49m\u001b[39m.\u001b[39;49m_convert_unit_to_angle_unit(unit))\n",
      "File \u001b[0;32m~/.local/lib/python3.10/site-packages/astropy/units/quantity.py:1974\u001b[0m, in \u001b[0;36mSpecificTypeQuantity._set_unit\u001b[0;34m(self, unit)\u001b[0m\n\u001b[1;32m   1972\u001b[0m \u001b[39mdef\u001b[39;00m \u001b[39m_set_unit\u001b[39m(\u001b[39mself\u001b[39m, unit):\n\u001b[1;32m   1973\u001b[0m     \u001b[39mif\u001b[39;00m unit \u001b[39mis\u001b[39;00m \u001b[39mNone\u001b[39;00m \u001b[39mor\u001b[39;00m \u001b[39mnot\u001b[39;00m unit\u001b[39m.\u001b[39mis_equivalent(\u001b[39mself\u001b[39m\u001b[39m.\u001b[39m_equivalent_unit):\n\u001b[0;32m-> 1974\u001b[0m         \u001b[39mraise\u001b[39;00m UnitTypeError(\n\u001b[1;32m   1975\u001b[0m             \u001b[39m\"\u001b[39m\u001b[39m{}\u001b[39;00m\u001b[39m instances require units equivalent to \u001b[39m\u001b[39m'\u001b[39m\u001b[39m{}\u001b[39;00m\u001b[39m'\u001b[39m\u001b[39m\"\u001b[39m\n\u001b[1;32m   1976\u001b[0m             \u001b[39m.\u001b[39mformat(\u001b[39mtype\u001b[39m(\u001b[39mself\u001b[39m)\u001b[39m.\u001b[39m\u001b[39m__name__\u001b[39m, \u001b[39mself\u001b[39m\u001b[39m.\u001b[39m_equivalent_unit) \u001b[39m+\u001b[39m\n\u001b[1;32m   1977\u001b[0m             (\u001b[39m\"\u001b[39m\u001b[39m, but no unit was given.\u001b[39m\u001b[39m\"\u001b[39m \u001b[39mif\u001b[39;00m unit \u001b[39mis\u001b[39;00m \u001b[39mNone\u001b[39;00m \u001b[39melse\u001b[39;00m\n\u001b[1;32m   1978\u001b[0m              \u001b[39mf\u001b[39m\u001b[39m\"\u001b[39m\u001b[39m, so cannot set it to \u001b[39m\u001b[39m'\u001b[39m\u001b[39m{\u001b[39;00munit\u001b[39m}\u001b[39;00m\u001b[39m'\u001b[39m\u001b[39m.\u001b[39m\u001b[39m\"\u001b[39m))\n\u001b[1;32m   1980\u001b[0m     \u001b[39msuper\u001b[39m()\u001b[39m.\u001b[39m_set_unit(unit)\n",
      "\u001b[0;31mUnitTypeError\u001b[0m: Longitude instances require units equivalent to 'rad', so cannot set it to 'deg2'."
     ]
    }
   ],
   "source": [
    "wm.query_ned(wxsc, ra_column='RAJ2000', dec_column='DEJ2000')"
   ]
  },
  {
   "cell_type": "code",
   "execution_count": null,
   "metadata": {},
   "outputs": [],
   "source": []
  }
 ],
 "metadata": {
  "kernelspec": {
   "display_name": "base",
   "language": "python",
   "name": "python3"
  },
  "language_info": {
   "codemirror_mode": {
    "name": "ipython",
    "version": 3
   },
   "file_extension": ".py",
   "mimetype": "text/x-python",
   "name": "python",
   "nbconvert_exporter": "python",
   "pygments_lexer": "ipython3",
   "version": "3.10.8"
  },
  "orig_nbformat": 4
 },
 "nbformat": 4,
 "nbformat_minor": 2
}
