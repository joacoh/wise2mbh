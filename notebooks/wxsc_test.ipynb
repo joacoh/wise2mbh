{
 "cells": [
  {
   "cell_type": "markdown",
   "metadata": {},
   "source": [
    "# WISE2MBH Tutorial: WXSC\n",
    "\n",
    "This sample contain WISE data from the WXSC catalog. Distances, morphologies and photometric/physical quantities are provided. At the moment of calculating W1 absolute magnitude, the distance modulus is calculated from the provided distance."
   ]
  },
  {
   "cell_type": "code",
   "execution_count": 18,
   "metadata": {},
   "outputs": [],
   "source": [
    "import wise2mbh as wm\n",
    "from astropy.table import Table\n",
    "import numpy as np\n",
    "import matplotlib.pyplot as plt\n",
    "import random\n",
    "no_data = 9876543"
   ]
  },
  {
   "cell_type": "code",
   "execution_count": 19,
   "metadata": {},
   "outputs": [
    {
     "name": "stderr",
     "output_type": "stream",
     "text": [
      "WARNING: UnitsWarning: 'log(solLum)' did not parse as fits unit: 'log' is not a recognized function If this is meant to be a custom unit, define it with 'u.def_unit'. To have it recognized inside a file reader or other code, enable it with 'u.add_enabled_units'. For details, see https://docs.astropy.org/en/latest/units/combining_and_defining.html [astropy.units.core]\n",
      "WARNING: UnitsWarning: 'log(solMass)' did not parse as fits unit: 'log' is not a recognized function If this is meant to be a custom unit, define it with 'u.def_unit'. To have it recognized inside a file reader or other code, enable it with 'u.add_enabled_units'. For details, see https://docs.astropy.org/en/latest/units/combining_and_defining.html [astropy.units.core]\n"
     ]
    },
    {
     "data": {
      "text/html": [
       "<div><i>Table length=104</i>\n",
       "<table id=\"table140616562788432\" class=\"table-striped table-bordered table-condensed\">\n",
       "<thead><tr><th>Name</th><th>RAJ2000</th><th>DEJ2000</th><th>Morph</th><th>b_a</th><th>PA</th><th>R1</th><th>W1mag</th><th>R2</th><th>W2mag</th><th>R3</th><th>W3mag</th><th>R4</th><th>W4mag</th><th>Dist</th><th>Beam</th><th>W1-W2</th><th>W2-W3</th><th>LogLw1</th><th>LogMs</th><th>LognuL3</th><th>LognuL4</th><th>SFR12</th><th>SFR23</th><th>sSFR12</th><th>RW1</th><th>AW1mag</th><th>e_AW1mag</th><th>RW2</th><th>AW2mag</th><th>e_AW2mag</th><th>RW3</th><th>AW3mag</th><th>e_AW3mag</th><th>RW4</th><th>AW4mag</th><th>e_AW4mag</th><th>TW1mag</th><th>e_TW1mag</th><th>TW2mag</th><th>e_TW2mag</th><th>TW3mag</th><th>e_TW3mag</th><th>TW4mag</th><th>e_TW4mag</th><th>SimbadName</th><th>NED</th><th>recno</th></tr></thead>\n",
       "<thead><tr><th></th><th>deg</th><th>deg</th><th></th><th></th><th>deg</th><th>arcmin</th><th>mag</th><th>arcmin</th><th>mag</th><th>arcmin</th><th>mag</th><th>arcmin</th><th>mag</th><th>Mpc</th><th>pc</th><th>mag</th><th>mag</th><th>log(solLum)</th><th>log(solMass)</th><th>log(solLum)</th><th>log(solLum)</th><th>solMass / yr</th><th>solMass / yr</th><th>1 / yr</th><th>arcmin</th><th>mag</th><th>mag</th><th>arcmin</th><th>mag</th><th>mag</th><th>arcmin</th><th>mag</th><th>mag</th><th>arcmin</th><th>mag</th><th>mag</th><th>mag</th><th>mag</th><th>mag</th><th>mag</th><th>mag</th><th>mag</th><th>mag</th><th>mag</th><th></th><th></th><th></th></tr></thead>\n",
       "<thead><tr><th>bytes11</th><th>float64</th><th>float64</th><th>bytes7</th><th>float64</th><th>float64</th><th>float64</th><th>float64</th><th>float64</th><th>float64</th><th>float64</th><th>float64</th><th>float64</th><th>float64</th><th>float64</th><th>int16</th><th>float64</th><th>float64</th><th>float64</th><th>float64</th><th>float64</th><th>float64</th><th>float64</th><th>float64</th><th>float64</th><th>float64</th><th>float64</th><th>float64</th><th>float64</th><th>float64</th><th>float64</th><th>float64</th><th>float64</th><th>float64</th><th>float64</th><th>float64</th><th>float64</th><th>float64</th><th>float64</th><th>float64</th><th>float64</th><th>float64</th><th>float64</th><th>float64</th><th>float64</th><th>bytes20</th><th>bytes3</th><th>int32</th></tr></thead>\n",
       "<tr><td>LMC</td><td>79.64101</td><td>-68.81836</td><td>SBm</td><td>1.0</td><td>0.0</td><td>300.0</td><td>-1.93</td><td>300.0</td><td>-1.99</td><td>300.0</td><td>-4.78</td><td>300.0</td><td>-7.15</td><td>0.05</td><td>1</td><td>0.06</td><td>2.79</td><td>9.47</td><td>9.15</td><td>7.62</td><td>7.76</td><td>0.12</td><td>0.03</td><td>-10.07</td><td>0.0</td><td>0.0</td><td>0.0</td><td>0.0</td><td>0.0</td><td>0.0</td><td>0.0</td><td>0.0</td><td>0.0</td><td>0.0</td><td>0.0</td><td>0.0</td><td>0.0</td><td>0.0</td><td>0.0</td><td>0.0</td><td>0.0</td><td>0.0</td><td>0.0</td><td>0.0</td><td>LMC</td><td>NED</td><td>1</td></tr>\n",
       "<tr><td>SMC</td><td>13.1866</td><td>-72.8286</td><td>SBm-pec</td><td>1.0</td><td>0.0</td><td>166.67</td><td>0.56</td><td>166.67</td><td>0.62</td><td>166.67</td><td>-0.93</td><td>166.67</td><td>-3.48</td><td>0.06</td><td>2</td><td>-0.05</td><td>1.55</td><td>8.63</td><td>8.59</td><td>6.06</td><td>6.43</td><td>0.01</td><td>0.01</td><td>-10.59</td><td>0.0</td><td>0.0</td><td>0.0</td><td>0.0</td><td>0.0</td><td>0.0</td><td>0.0</td><td>0.0</td><td>0.0</td><td>0.0</td><td>0.0</td><td>0.0</td><td>0.0</td><td>0.0</td><td>0.0</td><td>0.0</td><td>0.0</td><td>0.0</td><td>0.0</td><td>0.0</td><td>SMC</td><td>NED</td><td>2</td></tr>\n",
       "<tr><td>MESSIER31</td><td>10.68479</td><td>41.26907</td><td>Sb</td><td>0.35</td><td>37.3</td><td>111.44</td><td>0.08</td><td>111.44</td><td>0.13</td><td>111.44</td><td>-1.95</td><td>111.44</td><td>-3.09</td><td>0.77</td><td>22</td><td>-0.03</td><td>2.09</td><td>11.04</td><td>10.95</td><td>8.82</td><td>8.48</td><td>1.2</td><td>0.58</td><td>-10.88</td><td>149.39</td><td>0.08</td><td>0.01</td><td>132.78</td><td>0.13</td><td>0.01</td><td>148.8</td><td>-1.95</td><td>0.01</td><td>99.38</td><td>-3.11</td><td>0.01</td><td>0.06</td><td>0.01</td><td>0.1</td><td>0.01</td><td>-2.0</td><td>0.01</td><td>-3.13</td><td>0.01</td><td>MESSIER31</td><td>NED</td><td>3</td></tr>\n",
       "<tr><td>MESSIER33</td><td>23.46204</td><td>30.66022</td><td>Sc</td><td>0.59</td><td>18.9</td><td>31.64</td><td>3.09</td><td>31.64</td><td>3.02</td><td>31.64</td><td>-0.17</td><td>31.64</td><td>-1.94</td><td>0.86</td><td>25</td><td>0.07</td><td>3.18</td><td>9.97</td><td>9.61</td><td>8.33</td><td>8.22</td><td>0.45</td><td>0.33</td><td>-9.96</td><td>65.32</td><td>3.03</td><td>0.01</td><td>38.83</td><td>3.0</td><td>0.01</td><td>37.28</td><td>-0.17</td><td>0.01</td><td>30.55</td><td>-1.94</td><td>0.01</td><td>3.08</td><td>0.01</td><td>3.02</td><td>0.01</td><td>-0.22</td><td>0.01</td><td>-2.02</td><td>0.01</td><td>MESSIER33</td><td>NED</td><td>4</td></tr>\n",
       "<tr><td>NGC0253</td><td>11.88844</td><td>-25.28827</td><td>SABc</td><td>0.28</td><td>53.0</td><td>21.13</td><td>3.46</td><td>21.13</td><td>3.27</td><td>21.13</td><td>-0.54</td><td>21.13</td><td>-2.94</td><td>3.01</td><td>88</td><td>0.19</td><td>3.83</td><td>10.88</td><td>10.24</td><td>9.54</td><td>9.64</td><td>5.36</td><td>6.52</td><td>-9.51</td><td>25.27</td><td>3.46</td><td>0.01</td><td>24.39</td><td>3.26</td><td>0.01</td><td>25.13</td><td>-0.55</td><td>0.03</td><td>25.33</td><td>-2.94</td><td>0.03</td><td>3.46</td><td>0.01</td><td>3.25</td><td>0.01</td><td>-0.56</td><td>0.03</td><td>-2.95</td><td>0.03</td><td>NGC0253</td><td>NED</td><td>5</td></tr>\n",
       "<tr><td>NGC5128</td><td>201.36481</td><td>-43.01954</td><td>S0</td><td>0.77</td><td>33.8</td><td>19.64</td><td>3.01</td><td>19.64</td><td>2.98</td><td>19.64</td><td>0.45</td><td>19.64</td><td>-1.25</td><td>3.65</td><td>106</td><td>0.01</td><td>2.55</td><td>11.23</td><td>11.02</td><td>9.25</td><td>9.12</td><td>2.98</td><td>2.16</td><td>-10.55</td><td>23.45</td><td>2.99</td><td>0.01</td><td>23.36</td><td>2.98</td><td>0.01</td><td>9.08</td><td>0.41</td><td>0.01</td><td>8.32</td><td>-1.29</td><td>0.01</td><td>2.98</td><td>0.01</td><td>2.97</td><td>0.01</td><td>0.44</td><td>0.01</td><td>-1.26</td><td>0.01</td><td>NGC5128</td><td>NED</td><td>6</td></tr>\n",
       "<tr><td>NGC0055</td><td>3.72192</td><td>-39.19775</td><td>SBm</td><td>0.19</td><td>108.9</td><td>19.49</td><td>5.45</td><td>19.49</td><td>5.36</td><td>19.49</td><td>2.8</td><td>19.49</td><td>0.29</td><td>2.1</td><td>61</td><td>0.09</td><td>2.66</td><td>9.77</td><td>9.39</td><td>7.88</td><td>8.06</td><td>0.19</td><td>0.23</td><td>-10.11</td><td>23.36</td><td>5.42</td><td>0.01</td><td>23.31</td><td>5.33</td><td>0.01</td><td>18.76</td><td>2.8</td><td>0.01</td><td>18.66</td><td>0.29</td><td>0.01</td><td>5.43</td><td>0.01</td><td>5.3</td><td>0.02</td><td>2.7</td><td>0.03</td><td>0.22</td><td>0.02</td><td>NGC0055</td><td>NED</td><td>7</td></tr>\n",
       "<tr><td>MESSIER81</td><td>148.88837</td><td>69.06528</td><td>Sab</td><td>0.56</td><td>156.7</td><td>14.67</td><td>3.6</td><td>14.67</td><td>3.61</td><td>14.67</td><td>1.84</td><td>14.67</td><td>0.45</td><td>3.65</td><td>106</td><td>-0.01</td><td>1.81</td><td>10.99</td><td>10.85</td><td>8.62</td><td>8.44</td><td>0.82</td><td>0.52</td><td>-10.94</td><td>16.57</td><td>3.6</td><td>0.01</td><td>16.97</td><td>3.6</td><td>0.01</td><td>10.34</td><td>1.82</td><td>0.03</td><td>10.61</td><td>0.44</td><td>0.03</td><td>3.6</td><td>0.01</td><td>3.59</td><td>0.01</td><td>1.79</td><td>0.03</td><td>0.35</td><td>0.03</td><td>MESSIER81</td><td>NED</td><td>8</td></tr>\n",
       "<tr><td>MESSIER101</td><td>210.80225</td><td>54.34893</td><td>SABc</td><td>0.92</td><td>33.3</td><td>14.5</td><td>5.22</td><td>14.5</td><td>5.1</td><td>14.5</td><td>1.62</td><td>14.5</td><td>-0.28</td><td>7.22</td><td>210</td><td>0.12</td><td>3.54</td><td>10.91</td><td>10.45</td><td>9.43</td><td>9.36</td><td>4.22</td><td>3.61</td><td>-9.82</td><td>13.01</td><td>5.22</td><td>0.01</td><td>13.62</td><td>5.1</td><td>0.01</td><td>10.38</td><td>1.61</td><td>0.01</td><td>10.28</td><td>-0.3</td><td>0.01</td><td>5.19</td><td>0.01</td><td>5.03</td><td>0.02</td><td>1.56</td><td>0.02</td><td>-0.38</td><td>0.02</td><td>MESSIER101</td><td>NED</td><td>9</td></tr>\n",
       "<tr><td>...</td><td>...</td><td>...</td><td>...</td><td>...</td><td>...</td><td>...</td><td>...</td><td>...</td><td>...</td><td>...</td><td>...</td><td>...</td><td>...</td><td>...</td><td>...</td><td>...</td><td>...</td><td>...</td><td>...</td><td>...</td><td>...</td><td>...</td><td>...</td><td>...</td><td>...</td><td>...</td><td>...</td><td>...</td><td>...</td><td>...</td><td>...</td><td>...</td><td>...</td><td>...</td><td>...</td><td>...</td><td>...</td><td>...</td><td>...</td><td>...</td><td>...</td><td>...</td><td>...</td><td>...</td><td>...</td><td>...</td><td>...</td></tr>\n",
       "<tr><td>MESSIER98</td><td>183.45123</td><td>14.90056</td><td>SABb</td><td>0.28</td><td>155.7</td><td>5.64</td><td>6.71</td><td>5.64</td><td>6.67</td><td>5.64</td><td>3.83</td><td>5.64</td><td>2.21</td><td>15.98</td><td>465</td><td>0.03</td><td>2.91</td><td>11.01</td><td>10.77</td><td>9.2</td><td>9.03</td><td>2.7</td><td>1.82</td><td>-10.34</td><td>6.62</td><td>6.7</td><td>0.01</td><td>6.69</td><td>6.66</td><td>0.01</td><td>6.77</td><td>3.81</td><td>0.01</td><td>6.73</td><td>2.19</td><td>0.02</td><td>6.7</td><td>0.01</td><td>6.64</td><td>0.01</td><td>3.77</td><td>0.02</td><td>2.11</td><td>0.03</td><td>MESSIER98</td><td>NED</td><td>95</td></tr>\n",
       "<tr><td>NGC2997</td><td>146.41144</td><td>-31.19094</td><td>SABc</td><td>0.78</td><td>99.2</td><td>5.62</td><td>6.15</td><td>5.62</td><td>6.03</td><td>5.62</td><td>2.35</td><td>5.62</td><td>0.54</td><td>11.32</td><td>329</td><td>0.11</td><td>3.73</td><td>10.93</td><td>10.49</td><td>9.52</td><td>9.4</td><td>5.08</td><td>3.88</td><td>-9.79</td><td>6.73</td><td>6.13</td><td>0.01</td><td>6.54</td><td>6.02</td><td>0.01</td><td>6.57</td><td>2.34</td><td>0.01</td><td>6.74</td><td>0.53</td><td>0.01</td><td>6.13</td><td>0.01</td><td>6.0</td><td>0.01</td><td>2.3</td><td>0.01</td><td>0.48</td><td>0.02</td><td>NGC2997</td><td>NED</td><td>96</td></tr>\n",
       "<tr><td>NGC4125</td><td>182.02449</td><td>65.17439</td><td>E</td><td>0.71</td><td>83.9</td><td>5.61</td><td>6.5</td><td>4.03</td><td>6.59</td><td>1.44</td><td>6.27</td><td>1.44</td><td>5.2</td><td>21.99</td><td>640</td><td>-0.04</td><td>0.44</td><td>11.35</td><td>11.28</td><td>4.59</td><td>7.79</td><td>0.01</td><td>0.13</td><td>-12.18</td><td>6.68</td><td>6.48</td><td>0.01</td><td>5.62</td><td>6.55</td><td>0.01</td><td>3.89</td><td>5.98</td><td>0.02</td><td>1.42</td><td>5.2</td><td>0.04</td><td>6.48</td><td>0.01</td><td>6.54</td><td>0.01</td><td>6.1</td><td>0.05</td><td>5.0</td><td>0.07</td><td>NGC4125</td><td>NED</td><td>97</td></tr>\n",
       "<tr><td>NGC7793</td><td>359.45728</td><td>-32.59102</td><td>Scd</td><td>0.62</td><td>97.9</td><td>5.6</td><td>6.52</td><td>5.6</td><td>6.43</td><td>5.6</td><td>3.21</td><td>5.6</td><td>1.55</td><td>3.95</td><td>115</td><td>0.08</td><td>3.27</td><td>9.88</td><td>9.51</td><td>8.26</td><td>8.09</td><td>0.4</td><td>0.25</td><td>-9.91</td><td>6.72</td><td>6.5</td><td>0.01</td><td>6.62</td><td>6.41</td><td>0.01</td><td>5.99</td><td>3.21</td><td>0.01</td><td>4.68</td><td>1.54</td><td>0.01</td><td>6.5</td><td>0.01</td><td>6.38</td><td>0.01</td><td>3.16</td><td>0.01</td><td>1.47</td><td>0.02</td><td>NGC7793</td><td>NED</td><td>98</td></tr>\n",
       "<tr><td>NGC5363</td><td>209.03012</td><td>5.2549</td><td>S0-a</td><td>0.68</td><td>124.6</td><td>5.6</td><td>6.57</td><td>4.06</td><td>6.63</td><td>1.49</td><td>5.69</td><td>1.49</td><td>4.36</td><td>20.3</td><td>591</td><td>-0.02</td><td>1.02</td><td>11.29</td><td>11.16</td><td>8.28</td><td>8.29</td><td>0.42</td><td>0.38</td><td>-11.54</td><td>6.65</td><td>6.55</td><td>0.01</td><td>5.6</td><td>6.58</td><td>0.01</td><td>3.55</td><td>5.46</td><td>0.01</td><td>1.79</td><td>4.3</td><td>0.03</td><td>6.54</td><td>0.01</td><td>6.56</td><td>0.02</td><td>5.57</td><td>0.03</td><td>4.23</td><td>0.07</td><td>NGC5363</td><td>NED</td><td>99</td></tr>\n",
       "<tr><td>NGC4217</td><td>183.96248</td><td>47.09152</td><td>ZZZ</td><td>0.17</td><td>49.3</td><td>5.59</td><td>7.23</td><td>4.2</td><td>7.09</td><td>4.2</td><td>3.74</td><td>4.2</td><td>2.07</td><td>18.57</td><td>540</td><td>0.16</td><td>3.34</td><td>10.93</td><td>10.35</td><td>9.38</td><td>9.2</td><td>3.85</td><td>2.59</td><td>-9.76</td><td>6.69</td><td>7.21</td><td>0.01</td><td>5.6</td><td>7.05</td><td>0.01</td><td>5.01</td><td>3.72</td><td>0.01</td><td>5.02</td><td>2.05</td><td>0.01</td><td>7.2</td><td>0.01</td><td>7.05</td><td>0.01</td><td>3.71</td><td>0.01</td><td>2.04</td><td>0.02</td><td>NGC4217</td><td>NED</td><td>100</td></tr>\n",
       "<tr><td>IC1613</td><td>16.20089</td><td>2.11914</td><td>IBm</td><td>0.9</td><td>135.4</td><td>4.69</td><td>8.49</td><td>4.69</td><td>8.69</td><td>0.0</td><td>0.0</td><td>0.0</td><td>0.0</td><td>0.73</td><td>21</td><td>-0.19</td><td>3.3</td><td>7.63</td><td>7.58</td><td>1.63</td><td>1.34</td><td>0.01</td><td>0.01</td><td>-8.58</td><td>5.62</td><td>8.35</td><td>0.01</td><td>5.56</td><td>8.59</td><td>0.02</td><td>2.53</td><td>8.31</td><td>0.12</td><td>0.0</td><td>0.0</td><td>0.0</td><td>8.26</td><td>0.06</td><td>8.41</td><td>0.09</td><td>0.0</td><td>0.0</td><td>0.0</td><td>0.0</td><td>IC1613</td><td>NED</td><td>101</td></tr>\n",
       "<tr><td>MESSIER32</td><td>10.67439</td><td>40.86511</td><td>E</td><td>0.86</td><td>165.8</td><td>3.62</td><td>5.02</td><td>2.95</td><td>5.07</td><td>2.95</td><td>4.42</td><td>2.95</td><td>3.61</td><td>0.82</td><td>24</td><td>-0.05</td><td>0.69</td><td>9.12</td><td>9.07</td><td>5.27</td><td>5.55</td><td>0.01</td><td>0.01</td><td>-11.07</td><td>4.32</td><td>5.01</td><td>0.01</td><td>3.56</td><td>5.07</td><td>0.01</td><td>3.49</td><td>4.42</td><td>0.01</td><td>1.9</td><td>3.57</td><td>0.03</td><td>5.01</td><td>0.01</td><td>5.06</td><td>0.01</td><td>4.37</td><td>0.02</td><td>3.49</td><td>0.04</td><td>MESSIER32</td><td>NED</td><td>102</td></tr>\n",
       "<tr><td>UGC05373</td><td>149.99974</td><td>5.33153</td><td>IB</td><td>0.75</td><td>97.0</td><td>2.89</td><td>9.76</td><td>1.76</td><td>10.04</td><td>0.0</td><td>0.0</td><td>1.76</td><td>6.69</td><td>1.42</td><td>41</td><td>0.11</td><td>2.79</td><td>7.7</td><td>7.25</td><td>2.21</td><td>5.07</td><td>0.01</td><td>0.01</td><td>-6.91</td><td>3.46</td><td>9.65</td><td>0.01</td><td>2.92</td><td>9.66</td><td>0.02</td><td>0.0</td><td>0.0</td><td>0.0</td><td>2.11</td><td>6.39</td><td>0.33</td><td>9.57</td><td>0.04</td><td>9.56</td><td>0.09</td><td>0.0</td><td>0.0</td><td>0.0</td><td>0.0</td><td>UGC05373</td><td>NED</td><td>103</td></tr>\n",
       "<tr><td>ESO245-007</td><td>27.77698</td><td>-44.44341</td><td>Sm</td><td>0.81</td><td>11.2</td><td>2.18</td><td>11.06</td><td>2.18</td><td>11.28</td><td>0.0</td><td>0.0</td><td>0.0</td><td>0.0</td><td>0.43</td><td>13</td><td>-0.22</td><td>1.39</td><td>6.14</td><td>6.1</td><td>1.17</td><td>2.58</td><td>0.01</td><td>0.01</td><td>-6.95</td><td>2.61</td><td>10.88</td><td>0.02</td><td>2.61</td><td>11.12</td><td>0.04</td><td>0.0</td><td>0.0</td><td>0.0</td><td>0.0</td><td>0.0</td><td>0.0</td><td>10.53</td><td>0.1</td><td>0.0</td><td>0.0</td><td>0.0</td><td>0.0</td><td>0.0</td><td>0.0</td><td>ESO245-007</td><td>NED</td><td>104</td></tr>\n",
       "</table></div>"
      ],
      "text/plain": [
       "<Table length=104>\n",
       "    Name     RAJ2000   DEJ2000   Morph  ...      SimbadName       NED   recno\n",
       "               deg       deg            ...                                  \n",
       "  bytes11    float64   float64   bytes7 ...       bytes20        bytes3 int32\n",
       "----------- --------- --------- ------- ... -------------------- ------ -----\n",
       "LMC          79.64101 -68.81836 SBm     ... LMC                     NED     1\n",
       "SMC           13.1866  -72.8286 SBm-pec ... SMC                     NED     2\n",
       "MESSIER31    10.68479  41.26907 Sb      ... MESSIER31               NED     3\n",
       "MESSIER33    23.46204  30.66022 Sc      ... MESSIER33               NED     4\n",
       "NGC0253      11.88844 -25.28827 SABc    ... NGC0253                 NED     5\n",
       "NGC5128     201.36481 -43.01954 S0      ... NGC5128                 NED     6\n",
       "NGC0055       3.72192 -39.19775 SBm     ... NGC0055                 NED     7\n",
       "MESSIER81   148.88837  69.06528 Sab     ... MESSIER81               NED     8\n",
       "MESSIER101  210.80225  54.34893 SABc    ... MESSIER101              NED     9\n",
       "        ...       ...       ...     ... ...                  ...    ...   ...\n",
       "MESSIER98   183.45123  14.90056 SABb    ... MESSIER98               NED    95\n",
       "NGC2997     146.41144 -31.19094 SABc    ... NGC2997                 NED    96\n",
       "NGC4125     182.02449  65.17439 E       ... NGC4125                 NED    97\n",
       "NGC7793     359.45728 -32.59102 Scd     ... NGC7793                 NED    98\n",
       "NGC5363     209.03012    5.2549 S0-a    ... NGC5363                 NED    99\n",
       "NGC4217     183.96248  47.09152 ZZZ     ... NGC4217                 NED   100\n",
       "IC1613       16.20089   2.11914 IBm     ... IC1613                  NED   101\n",
       "MESSIER32    10.67439  40.86511 E       ... MESSIER32               NED   102\n",
       "UGC05373    149.99974   5.33153 IB      ... UGC05373                NED   103\n",
       "ESO245-007   27.77698 -44.44341 Sm      ... ESO245-007              NED   104"
      ]
     },
     "execution_count": 19,
     "metadata": {},
     "output_type": "execute_result"
    }
   ],
   "source": [
    "wxsc = Table.read('../samples/WXSC_sample.fit')\n",
    "wxsc"
   ]
  },
  {
   "cell_type": "markdown",
   "metadata": {},
   "source": [
    "# Morphology cleaning process\n",
    "\n",
    "WXSC include both SMC and LMC. For this cases, we do not recommend the use of this algorithm, is better to drop them."
   ]
  },
  {
   "cell_type": "markdown",
   "metadata": {},
   "source": [
    "For this sample, irregulars (IB, IBm) and very-late type (Sm) must be dropped due to possible miscalculation in bulge fraction from their morphology."
   ]
  },
  {
   "cell_type": "code",
   "execution_count": 31,
   "metadata": {},
   "outputs": [],
   "source": [
    "def drop_irregular(string, invert=False):\n",
    "    for i in range(len(string) - 1):\n",
    "        if (string[i].isupper() and string[i + 1] == 'm') | (string[0]=='I'):\n",
    "            if invert:\n",
    "                return False\n",
    "            else:\n",
    "                return True\n",
    "    if invert:\n",
    "        return True\n",
    "    else:\n",
    "        return False"
   ]
  },
  {
   "cell_type": "code",
   "execution_count": 34,
   "metadata": {},
   "outputs": [],
   "source": [
    "drop_boolean = [drop_irregular(st, True) for st in wxsc['Morph']]\n",
    "wxsc_no_irr = wxsc[drop_boolean]"
   ]
  },
  {
   "cell_type": "code",
   "execution_count": 37,
   "metadata": {},
   "outputs": [
    {
     "data": {
      "text/html": [
       "&lt;Column name=&apos;Morph&apos; dtype=&apos;bytes7&apos; length=22&gt;\n",
       "<table>\n",
       "<tr><td>E</td></tr>\n",
       "<tr><td>E-S0</td></tr>\n",
       "<tr><td>E1pec</td></tr>\n",
       "<tr><td>S0</td></tr>\n",
       "<tr><td>S0-a</td></tr>\n",
       "<tr><td>S?</td></tr>\n",
       "<tr><td>SABa</td></tr>\n",
       "<tr><td>SABb</td></tr>\n",
       "<tr><td>SABc</td></tr>\n",
       "<tr><td>SABcd</td></tr>\n",
       "<tr><td>SAd</td></tr>\n",
       "<tr><td>SBb</td></tr>\n",
       "<tr><td>SBc</td></tr>\n",
       "<tr><td>SBcd</td></tr>\n",
       "<tr><td>SBdm</td></tr>\n",
       "<tr><td>Sa</td></tr>\n",
       "<tr><td>Sab</td></tr>\n",
       "<tr><td>Sb</td></tr>\n",
       "<tr><td>Sbc</td></tr>\n",
       "<tr><td>Sc</td></tr>\n",
       "<tr><td>Scd</td></tr>\n",
       "<tr><td>ZZZ</td></tr>\n",
       "</table>"
      ],
      "text/plain": [
       "<Column name='Morph' dtype='bytes7' length=22>\n",
       "E      \n",
       "E-S0   \n",
       "E1pec  \n",
       "S0     \n",
       "S0-a   \n",
       "S?     \n",
       "SABa   \n",
       "SABb   \n",
       "SABc   \n",
       "SABcd  \n",
       "SAd    \n",
       "SBb    \n",
       "SBc    \n",
       "SBcd   \n",
       "SBdm   \n",
       "Sa     \n",
       "Sab    \n",
       "Sb     \n",
       "Sbc    \n",
       "Sc     \n",
       "Scd    \n",
       "ZZZ    "
      ]
     },
     "execution_count": 37,
     "metadata": {},
     "output_type": "execute_result"
    }
   ],
   "source": [
    "np.unique(wxsc_no_irr['Morph'])"
   ]
  }
 ],
 "metadata": {
  "kernelspec": {
   "display_name": "base",
   "language": "python",
   "name": "python3"
  },
  "language_info": {
   "codemirror_mode": {
    "name": "ipython",
    "version": 3
   },
   "file_extension": ".py",
   "mimetype": "text/x-python",
   "name": "python",
   "nbconvert_exporter": "python",
   "pygments_lexer": "ipython3",
   "version": "3.10.8"
  },
  "orig_nbformat": 4
 },
 "nbformat": 4,
 "nbformat_minor": 2
}
